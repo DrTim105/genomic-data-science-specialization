{
 "cells": [
  {
   "cell_type": "markdown",
   "id": "6b86071a",
   "metadata": {
    "papermill": {
     "duration": 0.017532,
     "end_time": "2025-03-19T22:50:11.861037",
     "exception": false,
     "start_time": "2025-03-19T22:50:11.843505",
     "status": "completed"
    },
    "tags": []
   },
   "source": [
    "# Module 1"
   ]
  },
  {
   "cell_type": "code",
   "execution_count": 1,
   "id": "3bc6a7fc",
   "metadata": {
    "execution": {
     "iopub.execute_input": "2025-03-19T22:50:11.898045Z",
     "iopub.status.busy": "2025-03-19T22:50:11.897607Z",
     "iopub.status.idle": "2025-03-19T22:50:11.912881Z",
     "shell.execute_reply": "2025-03-19T22:50:11.911658Z"
    },
    "papermill": {
     "duration": 0.037348,
     "end_time": "2025-03-19T22:50:11.915230",
     "exception": false,
     "start_time": "2025-03-19T22:50:11.877882",
     "status": "completed"
    },
    "tags": []
   },
   "outputs": [
    {
     "data": {
      "text/plain": [
       "['genome7',\n",
       " 'lambda-virus',\n",
       " 'genome6',\n",
       " 'genome3',\n",
       " 'genome5',\n",
       " 'chromosome1',\n",
       " 'genome1',\n",
       " 'genome2']"
      ]
     },
     "execution_count": 1,
     "metadata": {},
     "output_type": "execute_result"
    }
   ],
   "source": [
    "import os\n",
    "os.listdir('/kaggle/input/')"
   ]
  },
  {
   "cell_type": "code",
   "execution_count": 2,
   "id": "1e373840",
   "metadata": {
    "execution": {
     "iopub.execute_input": "2025-03-19T22:50:11.951090Z",
     "iopub.status.busy": "2025-03-19T22:50:11.950713Z",
     "iopub.status.idle": "2025-03-19T22:50:11.967357Z",
     "shell.execute_reply": "2025-03-19T22:50:11.966111Z"
    },
    "papermill": {
     "duration": 0.037254,
     "end_time": "2025-03-19T22:50:11.969877",
     "exception": false,
     "start_time": "2025-03-19T22:50:11.932623",
     "status": "completed"
    },
    "tags": []
   },
   "outputs": [
    {
     "data": {
      "text/plain": [
       "'GGGCGGCGACCTCGCGGGTTTTCGCTATTTATGAAAATTTTCCGGTTTAAGGCGTTTCCGTTCTTCTTCGTCATAACTTAATGTTTTTATTTAAAATACC'"
      ]
     },
     "execution_count": 2,
     "metadata": {},
     "output_type": "execute_result"
    }
   ],
   "source": [
    "# Function for reading the genome from a fasta file\n",
    "\n",
    "def readGenome(filename):\n",
    "    genome = ''\n",
    "    with open(filename, 'r') as f:\n",
    "        for line in f:\n",
    "            if not line[0] == '>':\n",
    "                genome += line.rstrip()\n",
    "    return genome\n",
    "\n",
    "genome = readGenome('/kaggle/input/lambda-virus/lambda_virus.fa')\n",
    "genome[:100]"
   ]
  },
  {
   "cell_type": "code",
   "execution_count": 3,
   "id": "1b3a59f6",
   "metadata": {
    "execution": {
     "iopub.execute_input": "2025-03-19T22:50:12.006220Z",
     "iopub.status.busy": "2025-03-19T22:50:12.005765Z",
     "iopub.status.idle": "2025-03-19T22:50:12.025901Z",
     "shell.execute_reply": "2025-03-19T22:50:12.024672Z"
    },
    "papermill": {
     "duration": 0.041692,
     "end_time": "2025-03-19T22:50:12.028574",
     "exception": false,
     "start_time": "2025-03-19T22:50:11.986882",
     "status": "completed"
    },
    "tags": []
   },
   "outputs": [
    {
     "name": "stdout",
     "output_type": "stream",
     "text": [
      "100\n",
      "['???B1ADDD8??BB+C?B+:AA883CEE8?C3@DDD3)?D2;DC?8?=BAD=@C@(.6.6=A?=?@##################################', 'CCCFFFFFGHHGHJJJJJIJGIIJJJJJJJIJIJJJJJFJJFGIIIIH=CBFCF=CCEG)=>EHB2@@DEC>;;?=;(=?BBD?59?BA###########', '@@<DD?DDHHH<CBHII:CFGIGAGHIIG?CCGGE0BDHIIHIGICH8=FHGI=@EHGGGEEHH>);?CC@.;(=;?59,5<A599?CB>ABBCB><88A', '@CCFFDDFHHHDFHIJJCGGIJJHIIHJC?DHHIJ0?DGHI9BBFHICGGIGI=CDEGI=?AAEF7@?################################', '@<@FDFDDBBFHH@EBGGGEH@FFHE;EHIEGGBHG?)9?8BDGGBGGBCDGI=93=C6==C;CCD(?@>@#############################']\n"
     ]
    }
   ],
   "source": [
    "def readFastq(filename):\n",
    "    sequences = []\n",
    "    qualities = []\n",
    "    with open (filename) as fh:\n",
    "        while True:\n",
    "            fh.readline()\n",
    "            seq = fh.readline().rstrip()\n",
    "            fh.readline()\n",
    "            qual = fh.readline().rstrip()\n",
    "            if len(seq) == 0:\n",
    "                break\n",
    "            sequences.append(seq)\n",
    "            qualities.append(qual)\n",
    "    return sequences, qualities\n",
    "\n",
    "seqs, quals = readFastq('/kaggle/input/genome1/SRR835775_1.first1000.fastq')\n",
    "\n",
    "print(len(quals[0]))\n",
    "\n",
    "print(quals[:5])"
   ]
  },
  {
   "cell_type": "code",
   "execution_count": 4,
   "id": "64a49f24",
   "metadata": {
    "execution": {
     "iopub.execute_input": "2025-03-19T22:50:12.066939Z",
     "iopub.status.busy": "2025-03-19T22:50:12.066550Z",
     "iopub.status.idle": "2025-03-19T22:50:12.076579Z",
     "shell.execute_reply": "2025-03-19T22:50:12.075468Z"
    },
    "papermill": {
     "duration": 0.031619,
     "end_time": "2025-03-19T22:50:12.078992",
     "exception": false,
     "start_time": "2025-03-19T22:50:12.047373",
     "status": "completed"
    },
    "tags": []
   },
   "outputs": [
    {
     "data": {
      "text/plain": [
       "'GAGTTTTATCGCTTCCATGACGCAGAAGTTAACACTTTCGGATATTTCTGATGAGTCGAAAAATTATCTTGATAAAGCAGGAATTACTACTGCTTGTTTA'"
      ]
     },
     "execution_count": 4,
     "metadata": {},
     "output_type": "execute_result"
    }
   ],
   "source": [
    "\n",
    "genome = readGenome('/kaggle/input/genome2/phix.fa')\n",
    "genome[:100]"
   ]
  },
  {
   "cell_type": "code",
   "execution_count": 5,
   "id": "c5921a9d",
   "metadata": {
    "execution": {
     "iopub.execute_input": "2025-03-19T22:50:12.185341Z",
     "iopub.status.busy": "2025-03-19T22:50:12.184949Z",
     "iopub.status.idle": "2025-03-19T22:50:12.199093Z",
     "shell.execute_reply": "2025-03-19T22:50:12.197691Z"
    },
    "papermill": {
     "duration": 0.035362,
     "end_time": "2025-03-19T22:50:12.201814",
     "exception": false,
     "start_time": "2025-03-19T22:50:12.166452",
     "status": "completed"
    },
    "tags": []
   },
   "outputs": [],
   "source": [
    "phix_reads, _ = readFastq('/kaggle/input/genome3/ERR266411_1.first1000_2.fastq')\n",
    "# print(phix_reads)"
   ]
  },
  {
   "cell_type": "code",
   "execution_count": 6,
   "id": "a267007c",
   "metadata": {
    "execution": {
     "iopub.execute_input": "2025-03-19T22:50:12.240476Z",
     "iopub.status.busy": "2025-03-19T22:50:12.240107Z",
     "iopub.status.idle": "2025-03-19T22:50:12.248238Z",
     "shell.execute_reply": "2025-03-19T22:50:12.247013Z"
    },
    "papermill": {
     "duration": 0.030055,
     "end_time": "2025-03-19T22:50:12.250388",
     "exception": false,
     "start_time": "2025-03-19T22:50:12.220333",
     "status": "completed"
    },
    "tags": []
   },
   "outputs": [
    {
     "data": {
      "text/plain": [
       "'AAGCT'"
      ]
     },
     "execution_count": 6,
     "metadata": {},
     "output_type": "execute_result"
    }
   ],
   "source": [
    "def reverseComplement(a):\n",
    "    complement = {'A':'T', 'C':'G', 'G':'C', 'T':'A', 'N':'N'}\n",
    "    t = ''\n",
    "    for base in a:\n",
    "        t = complement[base] + t\n",
    "    return t\n",
    "\n",
    "reverseComplement('AGCTT')"
   ]
  },
  {
   "cell_type": "markdown",
   "id": "f78c2a15",
   "metadata": {
    "papermill": {
     "duration": 0.017114,
     "end_time": "2025-03-19T22:50:12.284847",
     "exception": false,
     "start_time": "2025-03-19T22:50:12.267733",
     "status": "completed"
    },
    "tags": []
   },
   "source": [
    "**Homework**\n",
    "\n",
    "Implement a version of the naive exact matching algorithm that is strand-aware. That is, instead of looking only for occurrences of P in T, additionally look for occurrences of the reverse complement of P in T. If P is ACT, your function should find occurrences of both ACTand its reverse complement AGT in T.\n",
    "\n",
    "If P and its reverse complement are identical (e.g. AACGTT), then a given match offset should be reported only once. So if your new function is called naive_with_rc, then the old naivefunction and your new naive_with_rc function should return the same results when P equals its reverse complement."
   ]
  },
  {
   "cell_type": "code",
   "execution_count": 7,
   "id": "cea566cb",
   "metadata": {
    "execution": {
     "iopub.execute_input": "2025-03-19T22:50:12.322105Z",
     "iopub.status.busy": "2025-03-19T22:50:12.321666Z",
     "iopub.status.idle": "2025-03-19T22:50:12.329356Z",
     "shell.execute_reply": "2025-03-19T22:50:12.327881Z"
    },
    "papermill": {
     "duration": 0.030706,
     "end_time": "2025-03-19T22:50:12.333055",
     "exception": false,
     "start_time": "2025-03-19T22:50:12.302349",
     "status": "completed"
    },
    "tags": []
   },
   "outputs": [],
   "source": [
    "def naive_with_rc(p, t):\n",
    "    occurences = []\n",
    "    q =  reverseComplement(p)\n",
    "    for i in range(len(t) - len(p) + 1):\n",
    "        match1 = True\n",
    "        match2 = True\n",
    "        for j in range(len(p)):\n",
    "            if not t[i+j] == p[j]:\n",
    "                match1 = False\n",
    "            if not t[i+j] == q[j]:\n",
    "                match2 = False\n",
    "            if not match1 | match2:\n",
    "                break\n",
    "        if match1 | match2:\n",
    "            occurences.append(i)\n",
    "    return occurences"
   ]
  },
  {
   "cell_type": "markdown",
   "id": "32db509e",
   "metadata": {
    "papermill": {
     "duration": 0.02684,
     "end_time": "2025-03-19T22:50:12.388485",
     "exception": false,
     "start_time": "2025-03-19T22:50:12.361645",
     "status": "completed"
    },
    "tags": []
   },
   "source": [
    "**Tests for Homework**"
   ]
  },
  {
   "cell_type": "code",
   "execution_count": 8,
   "id": "e000e0b2",
   "metadata": {
    "execution": {
     "iopub.execute_input": "2025-03-19T22:50:12.431856Z",
     "iopub.status.busy": "2025-03-19T22:50:12.431501Z",
     "iopub.status.idle": "2025-03-19T22:50:16.127520Z",
     "shell.execute_reply": "2025-03-19T22:50:16.125980Z"
    },
    "papermill": {
     "duration": 3.718556,
     "end_time": "2025-03-19T22:50:16.130284",
     "exception": false,
     "start_time": "2025-03-19T22:50:12.411728",
     "status": "completed"
    },
    "tags": []
   },
   "outputs": [
    {
     "name": "stdout",
     "output_type": "stream",
     "text": [
      "932 / 1000 reads matched\n"
     ]
    }
   ],
   "source": [
    "# Matching the sequenced reads to the reference genome\n",
    "numMatched = 0\n",
    "n= 0\n",
    "for r in phix_reads:\n",
    "    r = r[:30] # taking only the first part of the reads to get more values\n",
    "    matches = naive_with_rc(r, genome)\n",
    "    n += 1\n",
    "    if len(matches) > 0:\n",
    "        numMatched += 1\n",
    "        \n",
    "print ('%d / %d reads matched' % (numMatched, n))"
   ]
  },
  {
   "cell_type": "code",
   "execution_count": 9,
   "id": "30411378",
   "metadata": {
    "execution": {
     "iopub.execute_input": "2025-03-19T22:50:16.168426Z",
     "iopub.status.busy": "2025-03-19T22:50:16.168001Z",
     "iopub.status.idle": "2025-03-19T22:50:16.174245Z",
     "shell.execute_reply": "2025-03-19T22:50:16.173097Z"
    },
    "papermill": {
     "duration": 0.028385,
     "end_time": "2025-03-19T22:50:16.176788",
     "exception": false,
     "start_time": "2025-03-19T22:50:16.148403",
     "status": "completed"
    },
    "tags": []
   },
   "outputs": [
    {
     "name": "stdout",
     "output_type": "stream",
     "text": [
      "[10, 23]\n"
     ]
    }
   ],
   "source": [
    "p = 'CCC'\n",
    "ten_as = 'AAAAAAAAAA'\n",
    "t = ten_as + 'CCC' + ten_as + 'GGG' + ten_as\n",
    "occurrences = naive_with_rc(p, t)\n",
    "print(occurrences)"
   ]
  },
  {
   "cell_type": "code",
   "execution_count": 10,
   "id": "53fd5d65",
   "metadata": {
    "execution": {
     "iopub.execute_input": "2025-03-19T22:50:16.215047Z",
     "iopub.status.busy": "2025-03-19T22:50:16.214632Z",
     "iopub.status.idle": "2025-03-19T22:50:16.221491Z",
     "shell.execute_reply": "2025-03-19T22:50:16.220131Z"
    },
    "papermill": {
     "duration": 0.029005,
     "end_time": "2025-03-19T22:50:16.223761",
     "exception": false,
     "start_time": "2025-03-19T22:50:16.194756",
     "status": "completed"
    },
    "tags": []
   },
   "outputs": [
    {
     "name": "stdout",
     "output_type": "stream",
     "text": [
      "[10, 24]\n"
     ]
    }
   ],
   "source": [
    "p = 'CGCG'\n",
    "t = ten_as + 'CGCG' + ten_as + 'CGCG' + ten_as\n",
    "occurrences = naive_with_rc(p, t)\n",
    "print(occurrences)"
   ]
  },
  {
   "cell_type": "code",
   "execution_count": 11,
   "id": "34e755a3",
   "metadata": {
    "execution": {
     "iopub.execute_input": "2025-03-19T22:50:16.262518Z",
     "iopub.status.busy": "2025-03-19T22:50:16.262034Z",
     "iopub.status.idle": "2025-03-19T22:50:16.271728Z",
     "shell.execute_reply": "2025-03-19T22:50:16.270684Z"
    },
    "papermill": {
     "duration": 0.031657,
     "end_time": "2025-03-19T22:50:16.273857",
     "exception": false,
     "start_time": "2025-03-19T22:50:16.242200",
     "status": "completed"
    },
    "tags": []
   },
   "outputs": [
    {
     "name": "stdout",
     "output_type": "stream",
     "text": [
      "35\n"
     ]
    }
   ],
   "source": [
    "p = 'TTAA'\n",
    "occurrences = naive_with_rc(p, genome)\n",
    "print(len(occurrences))"
   ]
  },
  {
   "cell_type": "code",
   "execution_count": 12,
   "id": "d6610276",
   "metadata": {
    "execution": {
     "iopub.execute_input": "2025-03-19T22:50:16.311863Z",
     "iopub.status.busy": "2025-03-19T22:50:16.311434Z",
     "iopub.status.idle": "2025-03-19T22:50:16.322679Z",
     "shell.execute_reply": "2025-03-19T22:50:16.321097Z"
    },
    "papermill": {
     "duration": 0.033256,
     "end_time": "2025-03-19T22:50:16.325227",
     "exception": false,
     "start_time": "2025-03-19T22:50:16.291971",
     "status": "completed"
    },
    "tags": []
   },
   "outputs": [
    {
     "name": "stdout",
     "output_type": "stream",
     "text": [
      "offset of leftmost occurrence: 62\n",
      "# occurrences: 60\n"
     ]
    }
   ],
   "source": [
    "phix_genome = readGenome('/kaggle/input/genome2/phix.fa')\n",
    "occurrences = naive_with_rc('ATTA', phix_genome)\n",
    "print('offset of leftmost occurrence: %d' % min(occurrences))\n",
    "print('# occurrences: %d' % len(occurrences))"
   ]
  },
  {
   "cell_type": "code",
   "execution_count": 13,
   "id": "b58b828b",
   "metadata": {
    "execution": {
     "iopub.execute_input": "2025-03-19T22:50:16.365330Z",
     "iopub.status.busy": "2025-03-19T22:50:16.364193Z",
     "iopub.status.idle": "2025-03-19T22:50:16.375286Z",
     "shell.execute_reply": "2025-03-19T22:50:16.374001Z"
    },
    "papermill": {
     "duration": 0.034228,
     "end_time": "2025-03-19T22:50:16.378223",
     "exception": false,
     "start_time": "2025-03-19T22:50:16.343995",
     "status": "completed"
    },
    "tags": []
   },
   "outputs": [
    {
     "name": "stdout",
     "output_type": "stream",
     "text": [
      "offset of leftmost occurrence: 53\n",
      "# occurrences: 1\n"
     ]
    }
   ],
   "source": [
    "#Tests for Lambda virus genome\n",
    "\n",
    "occurrences = naive_with_rc('AGTCGA', genome)\n",
    "print('offset of leftmost occurrence: %d' % min(occurrences))\n",
    "print('# occurrences: %d' % len(occurrences))\n"
   ]
  },
  {
   "cell_type": "markdown",
   "id": "235d33c6",
   "metadata": {
    "papermill": {
     "duration": 0.018308,
     "end_time": "2025-03-19T22:50:16.416961",
     "exception": false,
     "start_time": "2025-03-19T22:50:16.398653",
     "status": "completed"
    },
    "tags": []
   },
   "source": [
    "**Homework**\n",
    "\n",
    "Implement a version of the naive exact matching algorithm that is strand-aware. That is, instead of looking only for occurrences of P in T, additionally look for occurrences of the reverse complement of P in T. If P is ACT, your function should find occurrences of both ACTand its reverse complement AGT in T.\n",
    "\n",
    "If P and its reverse complement are identical (e.g. AACGTT), then a given match offset should be reported only once. So if your new function is called naive_with_rc, then the old naivefunction and your new naive_with_rc function should return the same results when P equals its reverse complement."
   ]
  },
  {
   "cell_type": "code",
   "execution_count": 14,
   "id": "e333b23d",
   "metadata": {
    "execution": {
     "iopub.execute_input": "2025-03-19T22:50:16.456596Z",
     "iopub.status.busy": "2025-03-19T22:50:16.455379Z",
     "iopub.status.idle": "2025-03-19T22:50:16.462331Z",
     "shell.execute_reply": "2025-03-19T22:50:16.461127Z"
    },
    "papermill": {
     "duration": 0.029385,
     "end_time": "2025-03-19T22:50:16.464948",
     "exception": false,
     "start_time": "2025-03-19T22:50:16.435563",
     "status": "completed"
    },
    "tags": []
   },
   "outputs": [],
   "source": [
    "def naive_2mm(p, t):\n",
    "    occurences = []\n",
    "    for i in range(len(t) - len(p) + 1):\n",
    "        match = True\n",
    "        mismatch = 0\n",
    "        for j in range(len(p)):\n",
    "            if not t[i+j] == p[j]:\n",
    "                mismatch += 1\n",
    "                if mismatch > 2:\n",
    "                    match = False\n",
    "                    break\n",
    "        if match:\n",
    "            occurences.append(i)\n",
    "    return occurences"
   ]
  },
  {
   "cell_type": "markdown",
   "id": "75ca8a6e",
   "metadata": {
    "papermill": {
     "duration": 0.018763,
     "end_time": "2025-03-19T22:50:16.503169",
     "exception": false,
     "start_time": "2025-03-19T22:50:16.484406",
     "status": "completed"
    },
    "tags": []
   },
   "source": [
    "**Tests**"
   ]
  },
  {
   "cell_type": "code",
   "execution_count": 15,
   "id": "83d5958c",
   "metadata": {
    "execution": {
     "iopub.execute_input": "2025-03-19T22:50:16.542953Z",
     "iopub.status.busy": "2025-03-19T22:50:16.542604Z",
     "iopub.status.idle": "2025-03-19T22:50:16.548964Z",
     "shell.execute_reply": "2025-03-19T22:50:16.547556Z"
    },
    "papermill": {
     "duration": 0.02955,
     "end_time": "2025-03-19T22:50:16.551492",
     "exception": false,
     "start_time": "2025-03-19T22:50:16.521942",
     "status": "completed"
    },
    "tags": []
   },
   "outputs": [
    {
     "name": "stdout",
     "output_type": "stream",
     "text": [
      "[10, 24, 38]\n"
     ]
    }
   ],
   "source": [
    "p = 'CTGT'\n",
    "ten_as = 'AAAAAAAAAA'\n",
    "t = ten_as + 'CTGT' + ten_as + 'CTTT' + ten_as + 'CGGG' + ten_as\n",
    "occurrences = naive_2mm(p, t)\n",
    "print(occurrences)"
   ]
  },
  {
   "cell_type": "code",
   "execution_count": 16,
   "id": "727b737b",
   "metadata": {
    "execution": {
     "iopub.execute_input": "2025-03-19T22:50:16.590994Z",
     "iopub.status.busy": "2025-03-19T22:50:16.590656Z",
     "iopub.status.idle": "2025-03-19T22:50:16.602755Z",
     "shell.execute_reply": "2025-03-19T22:50:16.601469Z"
    },
    "papermill": {
     "duration": 0.035716,
     "end_time": "2025-03-19T22:50:16.605328",
     "exception": false,
     "start_time": "2025-03-19T22:50:16.569612",
     "status": "completed"
    },
    "tags": []
   },
   "outputs": [
    {
     "name": "stdout",
     "output_type": "stream",
     "text": [
      "offset of leftmost occurrence: 10\n",
      "# occurrences: 79\n"
     ]
    }
   ],
   "source": [
    "phix_genome = readGenome('/kaggle/input/genome2/phix.fa')\n",
    "occurrences = naive_2mm('GATTACA', phix_genome)\n",
    "print('offset of leftmost occurrence: %d' % min(occurrences))\n",
    "print('# occurrences: %d' % len(occurrences))"
   ]
  },
  {
   "cell_type": "code",
   "execution_count": 17,
   "id": "46534226",
   "metadata": {
    "execution": {
     "iopub.execute_input": "2025-03-19T22:50:16.645464Z",
     "iopub.status.busy": "2025-03-19T22:50:16.645114Z",
     "iopub.status.idle": "2025-03-19T22:50:16.656412Z",
     "shell.execute_reply": "2025-03-19T22:50:16.655239Z"
    },
    "papermill": {
     "duration": 0.034048,
     "end_time": "2025-03-19T22:50:16.658940",
     "exception": false,
     "start_time": "2025-03-19T22:50:16.624892",
     "status": "completed"
    },
    "tags": []
   },
   "outputs": [
    {
     "name": "stdout",
     "output_type": "stream",
     "text": [
      "offset of leftmost occurrence: 945\n",
      "# occurrences: 42\n"
     ]
    }
   ],
   "source": [
    "# Tests for Lambda virus genome\n",
    "\n",
    "occurrences = naive_2mm('AGGAGGTT', genome)\n",
    "print('offset of leftmost occurrence: %d' % min(occurrences))\n",
    "print('# occurrences: %d' % len(occurrences))"
   ]
  },
  {
   "cell_type": "markdown",
   "id": "75191ad8",
   "metadata": {
    "papermill": {
     "duration": 0.018576,
     "end_time": "2025-03-19T22:50:16.695883",
     "exception": false,
     "start_time": "2025-03-19T22:50:16.677307",
     "status": "completed"
    },
    "tags": []
   },
   "source": [
    "**Homework**\n",
    "\n",
    "Finally, download and parse the provided FASTQ file containing real DNA sequencing reads derived from a human:\n",
    "\n",
    " https://d28rh4a8wq0iu5.cloudfront.net/ads1/data/ERR037900_1.first1000.fastq\n",
    "\n",
    "Note that the file has many reads in it and you should examine all of them together when answering this question.  The reads are taken from this study:\n",
    "\n",
    "Ajay, S. S., Parker, S. C., Abaan, H. O., Fajardo, K. V. F., & Margulies, E. H. (2011). Accurate\n",
    "\n",
    "and comprehensive sequencing of personal genomes. Genome research, 21(9), 1498-1505. \n",
    "\n",
    "This dataset has something wrong with it; one of the sequencing cycles is poor quality.\n",
    "\n",
    "Report which sequencing cycle has the problem.  Remember that a sequencing cycle corresponds to a particular offset in all the reads. For example, if the leftmost read position seems to have a problem consistently across reads, report 0. If the fourth position from the left has the problem, report 3. Do whatever analysis you think is needed to identify the bad cycle."
   ]
  },
  {
   "cell_type": "code",
   "execution_count": 18,
   "id": "01dbb646",
   "metadata": {
    "execution": {
     "iopub.execute_input": "2025-03-19T22:50:16.733529Z",
     "iopub.status.busy": "2025-03-19T22:50:16.733159Z",
     "iopub.status.idle": "2025-03-19T22:50:16.749126Z",
     "shell.execute_reply": "2025-03-19T22:50:16.748000Z"
    },
    "papermill": {
     "duration": 0.037915,
     "end_time": "2025-03-19T22:50:16.751539",
     "exception": false,
     "start_time": "2025-03-19T22:50:16.713624",
     "status": "completed"
    },
    "tags": []
   },
   "outputs": [
    {
     "name": "stdout",
     "output_type": "stream",
     "text": [
      "['HHHHHHHHHHHHHHHHHHHHHHHHHHHHHHHHHHHHHHHHHHHGFHHHFHFFHHHHHGHHFHEH@4#55554455HGFBF<@C>7EEF@FBEDDD<=C<E', 'HHHHHHHHHHHHHHHHHHHHHHHHHHHHHHHHHHHHHHHHHHHHHHHHHHHHHHHHCHHHHEHHBA#C>@54455C/7=CGHEGEB;C############', 'HHHHHHHHHHHHHHHHHHHHHHHHHHHHHHGHHHHHHHHHHHHHDHHHDEHHHHFGIHEHEGGGF4#45655366GIGEHAGBG################', 'HHHHHHHHHHHHHHHHHHHHHHHHHIHHHHHHHHHHHHHHHHHHHHHHIHHHHHIHFHHHIHHHHD#ECA54655GGIBH?BD@+BCBF?5A=::>8?##', 'HHHHHHHHHHHHHHHHHHHHHHHHHHHHHHHHHHHHHHHHHHHHHHHIHIHEHHIGHIFFHIIGF6#555:2=7=CB;?3CAACBAC2B###########']\n"
     ]
    }
   ],
   "source": [
    "mSeqs, mQuals = readFastq('/kaggle/input/genome5/ERR037900_1.first1000.fastq')\n",
    "\n",
    "print(mQuals[:5])\n",
    "# print(mSeqs[:10])"
   ]
  },
  {
   "cell_type": "code",
   "execution_count": 19,
   "id": "158b1cec",
   "metadata": {
    "execution": {
     "iopub.execute_input": "2025-03-19T22:50:16.792327Z",
     "iopub.status.busy": "2025-03-19T22:50:16.791850Z",
     "iopub.status.idle": "2025-03-19T22:50:16.798168Z",
     "shell.execute_reply": "2025-03-19T22:50:16.796592Z"
    },
    "papermill": {
     "duration": 0.0298,
     "end_time": "2025-03-19T22:50:16.800796",
     "exception": false,
     "start_time": "2025-03-19T22:50:16.770996",
     "status": "completed"
    },
    "tags": []
   },
   "outputs": [],
   "source": [
    "# Function to convert ASCII symbols to quality value for the reads\n",
    "def phred33ToQ(qual):\n",
    "    return ord(qual) - 33"
   ]
  },
  {
   "cell_type": "code",
   "execution_count": 20,
   "id": "1b53e713",
   "metadata": {
    "execution": {
     "iopub.execute_input": "2025-03-19T22:50:16.843980Z",
     "iopub.status.busy": "2025-03-19T22:50:16.843133Z",
     "iopub.status.idle": "2025-03-19T22:50:16.849512Z",
     "shell.execute_reply": "2025-03-19T22:50:16.848185Z"
    },
    "papermill": {
     "duration": 0.031379,
     "end_time": "2025-03-19T22:50:16.852053",
     "exception": false,
     "start_time": "2025-03-19T22:50:16.820674",
     "status": "completed"
    },
    "tags": []
   },
   "outputs": [],
   "source": [
    "def createHist(qualities):\n",
    "    hist = [0] * 50\n",
    "    for qual in qualities:\n",
    "        for phred in qual:\n",
    "            q = phred33ToQ(phred)\n",
    "            hist[q] += 1\n",
    "    return hist"
   ]
  },
  {
   "cell_type": "code",
   "execution_count": 21,
   "id": "03aa6ebf",
   "metadata": {
    "execution": {
     "iopub.execute_input": "2025-03-19T22:50:16.891004Z",
     "iopub.status.busy": "2025-03-19T22:50:16.890504Z",
     "iopub.status.idle": "2025-03-19T22:50:17.234609Z",
     "shell.execute_reply": "2025-03-19T22:50:17.233278Z"
    },
    "papermill": {
     "duration": 0.366763,
     "end_time": "2025-03-19T22:50:17.237428",
     "exception": false,
     "start_time": "2025-03-19T22:50:16.870665",
     "status": "completed"
    },
    "tags": []
   },
   "outputs": [
    {
     "data": {
      "image/png": "[encoded data removed]",
      "text/plain": [
       "<Figure size 640x480 with 1 Axes>"
      ]
     },
     "metadata": {},
     "output_type": "display_data"
    }
   ],
   "source": [
    "%matplotlib inline\n",
    "import matplotlib.pyplot as plt\n",
    "h = createHist(mQuals)\n",
    "plt.bar(range(len(h)), h)\n",
    "plt.show()"
   ]
  },
  {
   "cell_type": "code",
   "execution_count": 22,
   "id": "242b3667",
   "metadata": {
    "execution": {
     "iopub.execute_input": "2025-03-19T22:50:17.278581Z",
     "iopub.status.busy": "2025-03-19T22:50:17.278198Z",
     "iopub.status.idle": "2025-03-19T22:50:17.294097Z",
     "shell.execute_reply": "2025-03-19T22:50:17.292678Z"
    },
    "papermill": {
     "duration": 0.039352,
     "end_time": "2025-03-19T22:50:17.296375",
     "exception": false,
     "start_time": "2025-03-19T22:50:17.257023",
     "status": "completed"
    },
    "tags": []
   },
   "outputs": [
    {
     "name": "stdout",
     "output_type": "stream",
     "text": [
      "[0, 0, 0, 0, 0, 0, 0, 0, 0, 0, 0, 0, 0, 0, 0, 0, 0, 0, 0, 0, 0, 0, 0, 0, 0, 0, 0, 0, 0, 0, 0, 0, 0, 1, 2, 5, 5, 5, 6, 10, 13, 13, 13, 14, 19, 23, 25, 28, 29, 34, 49, 50, 60, 56, 64, 86, 90, 93, 97, 106, 142, 144, 152, 156, 184, 284, 919, 287, 290, 293, 303, 303, 303, 305, 309, 313, 314, 318, 329, 346, 390, 392, 398, 409, 431, 473, 484, 497, 512, 534, 572, 576, 583, 591, 613, 644, 649, 654, 661, 670]\n",
      "cycle with poorest quality: 66\n"
     ]
    }
   ],
   "source": [
    "def findSeqCycle(quals):\n",
    "    cycle = [0] * 100\n",
    "\n",
    "    for qual in quals:\n",
    "        for i in range(len(qual)):\n",
    "            if qual[i] == '#':\n",
    "                cycle[i] += 1\n",
    "    return cycle\n",
    "\n",
    "cycle = findSeqCycle(mQuals)\n",
    "print(cycle)\n",
    "print('cycle with poorest quality: %d' % cycle.index(max(cycle)))"
   ]
  },
  {
   "cell_type": "markdown",
   "id": "320d802e",
   "metadata": {
    "papermill": {
     "duration": 0.019252,
     "end_time": "2025-03-19T22:50:17.335349",
     "exception": false,
     "start_time": "2025-03-19T22:50:17.316097",
     "status": "completed"
    },
    "tags": []
   },
   "source": [
    "# Module 2"
   ]
  },
  {
   "cell_type": "code",
   "execution_count": 23,
   "id": "b3566610",
   "metadata": {
    "execution": {
     "iopub.execute_input": "2025-03-19T22:50:17.376640Z",
     "iopub.status.busy": "2025-03-19T22:50:17.376306Z",
     "iopub.status.idle": "2025-03-19T22:50:17.399605Z",
     "shell.execute_reply": "2025-03-19T22:50:17.398383Z"
    },
    "papermill": {
     "duration": 0.047501,
     "end_time": "2025-03-19T22:50:17.401916",
     "exception": false,
     "start_time": "2025-03-19T22:50:17.354415",
     "status": "completed"
    },
    "tags": []
   },
   "outputs": [],
   "source": [
    "import string\n",
    "\n",
    "def z_array(s):\n",
    "    \"\"\" Use Z algorithm (Gusfield theorem 1.4.1) to preprocess s \"\"\"\n",
    "    assert len(s) > 1\n",
    "    z = [len(s)] + [0] * (len(s)-1)\n",
    "    # Initial comparison of s[1:] with prefix\n",
    "    for i in range(1, len(s)):\n",
    "        if s[i] == s[i-1]:\n",
    "            z[1] += 1\n",
    "        else:\n",
    "            break\n",
    "    r, l = 0, 0\n",
    "    if z[1] > 0:\n",
    "        r, l = z[1], 1\n",
    "    for k in range(2, len(s)):\n",
    "        assert z[k] == 0\n",
    "        if k > r:\n",
    "            # Case 1\n",
    "            for i in range(k, len(s)):\n",
    "                if s[i] == s[i-k]:\n",
    "                    z[k] += 1\n",
    "                else:\n",
    "                    break\n",
    "            r, l = k + z[k] - 1, k\n",
    "        else:\n",
    "            # Case 2\n",
    "            # Calculate length of beta\n",
    "            nbeta = r - k + 1\n",
    "            zkp = z[k - l]\n",
    "            if nbeta > zkp:\n",
    "                # Case 2a: Zkp wins\n",
    "                z[k] = zkp\n",
    "            else:\n",
    "                # Case 2b: Compare characters just past r\n",
    "                nmatch = 0\n",
    "                for i in range(r+1, len(s)):\n",
    "                    if s[i] == s[i - k]:\n",
    "                        nmatch += 1\n",
    "                    else:\n",
    "                        break\n",
    "                l, r = k, r + nmatch\n",
    "                z[k] = r - k + 1\n",
    "    return z\n",
    "\n",
    "\n",
    "def n_array(s):\n",
    "    \"\"\" Compile the N array (Gusfield theorem 2.2.2) from the Z array \"\"\"\n",
    "    return z_array(s[::-1])[::-1]\n",
    "\n",
    "\n",
    "def big_l_prime_array(p, n):\n",
    "    \"\"\" Compile L' array (Gusfield theorem 2.2.2) using p and N array.\n",
    "        L'[i] = largest index j less than n such that N[j] = |P[i:]| \"\"\"\n",
    "    lp = [0] * len(p)\n",
    "    for j in range(len(p)-1):\n",
    "        i = len(p) - n[j]\n",
    "        if i < len(p):\n",
    "            lp[i] = j + 1\n",
    "    return lp\n",
    "\n",
    "\n",
    "def big_l_array(p, lp):\n",
    "    \"\"\" Compile L array (Gusfield theorem 2.2.2) using p and L' array.\n",
    "        L[i] = largest index j less than n such that N[j] >= |P[i:]| \"\"\"\n",
    "    l = [0] * len(p)\n",
    "    l[1] = lp[1]\n",
    "    for i in range(2, len(p)):\n",
    "        l[i] = max(l[i-1], lp[i])\n",
    "    return l\n",
    "\n",
    "\n",
    "def small_l_prime_array(n):\n",
    "    \"\"\" Compile lp' array (Gusfield theorem 2.2.4) using N array. \"\"\"\n",
    "    small_lp = [0] * len(n)\n",
    "    for i in range(len(n)):\n",
    "        if n[i] == i+1:  # prefix matching a suffix\n",
    "            small_lp[len(n)-i-1] = i+1\n",
    "    for i in range(len(n)-2, -1, -1):  # \"smear\" them out to the left\n",
    "        if small_lp[i] == 0:\n",
    "            small_lp[i] = small_lp[i+1]\n",
    "    return small_lp\n",
    "\n",
    "\n",
    "def good_suffix_table(p):\n",
    "    \"\"\" Return tables needed to apply good suffix rule. \"\"\"\n",
    "    n = n_array(p)\n",
    "    lp = big_l_prime_array(p, n)\n",
    "    return lp, big_l_array(p, lp), small_l_prime_array(n)\n",
    "\n",
    "\n",
    "def good_suffix_mismatch(i, big_l_prime, small_l_prime):\n",
    "    \"\"\" Given a mismatch at offset i, and given L/L' and l' arrays,\n",
    "        return amount to shift as determined by good suffix rule. \"\"\"\n",
    "    length = len(big_l_prime)\n",
    "    assert i < length\n",
    "    if i == length - 1:\n",
    "        return 0\n",
    "    i += 1  # i points to leftmost matching position of P\n",
    "    if big_l_prime[i] > 0:\n",
    "        return length - big_l_prime[i]\n",
    "    return length - small_l_prime[i]\n",
    "\n",
    "\n",
    "def good_suffix_match(small_l_prime):\n",
    "    \"\"\" Given a full match of P to T, return amount to shift as\n",
    "        determined by good suffix rule. \"\"\"\n",
    "    return len(small_l_prime) - small_l_prime[1]\n",
    "\n",
    "\n",
    "def dense_bad_char_tab(p, amap):\n",
    "    \"\"\" Given pattern string and list with ordered alphabet characters, create\n",
    "        and return a dense bad character table.  Table is indexed by offset\n",
    "        then by character. \"\"\"\n",
    "    tab = []\n",
    "    nxt = [0] * len(amap)\n",
    "    for i in range(0, len(p)):\n",
    "        c = p[i]\n",
    "        assert c in amap\n",
    "        tab.append(nxt[:])\n",
    "        nxt[amap[c]] = i+1\n",
    "    return tab\n",
    "\n",
    "\n",
    "class BoyerMoore(object):\n",
    "    \"\"\" Encapsulates pattern and associated Boyer-Moore preprocessing. \"\"\"\n",
    "    \n",
    "    def __init__(self, p, alphabet='ACGT'):\n",
    "        self.p = p\n",
    "        self.alphabet = alphabet\n",
    "        # Create map from alphabet characters to integers\n",
    "        self.amap = {}\n",
    "        for i in range(len(self.alphabet)):\n",
    "            self.amap[self.alphabet[i]] = i\n",
    "        # Make bad character rule table\n",
    "        self.bad_char = dense_bad_char_tab(p, self.amap)\n",
    "        # Create good suffix rule table\n",
    "        _, self.big_l, self.small_l_prime = good_suffix_table(p)\n",
    "    \n",
    "    def bad_character_rule(self, i, c):\n",
    "        \"\"\" Return # skips given by bad character rule at offset i \"\"\"\n",
    "        assert c in self.amap\n",
    "        ci = self.amap[c]\n",
    "        assert i > (self.bad_char[i][ci]-1)\n",
    "        return i - (self.bad_char[i][ci]-1)\n",
    "    \n",
    "    def good_suffix_rule(self, i):\n",
    "        \"\"\" Given a mismatch at offset i, return amount to shift\n",
    "            as determined by (weak) good suffix rule. \"\"\"\n",
    "        length = len(self.big_l)\n",
    "        assert i < length\n",
    "        if i == length - 1:\n",
    "            return 0\n",
    "        i += 1  # i points to leftmost matching position of P\n",
    "        if self.big_l[i] > 0:\n",
    "            return length - self.big_l[i]\n",
    "        return length - self.small_l_prime[i]\n",
    "    \n",
    "    def match_skip(self):\n",
    "        \"\"\" Return amount to shift in case where P matches T \"\"\"\n",
    "        return len(self.small_l_prime) - self.small_l_prime[1]"
   ]
  },
  {
   "cell_type": "code",
   "execution_count": 24,
   "id": "fce72bcd",
   "metadata": {
    "execution": {
     "iopub.execute_input": "2025-03-19T22:50:17.441389Z",
     "iopub.status.busy": "2025-03-19T22:50:17.440894Z",
     "iopub.status.idle": "2025-03-19T22:50:17.448681Z",
     "shell.execute_reply": "2025-03-19T22:50:17.447456Z"
    },
    "papermill": {
     "duration": 0.030394,
     "end_time": "2025-03-19T22:50:17.451279",
     "exception": false,
     "start_time": "2025-03-19T22:50:17.420885",
     "status": "completed"
    },
    "tags": []
   },
   "outputs": [],
   "source": [
    "def boyer_moore(p, p_bm, t):\n",
    "    i = 0\n",
    "    occurences = []\n",
    "    while i < len(t) - len(p) + 1:\n",
    "        shift = 1\n",
    "        mismatched = False\n",
    "        for j in range(len(p)-1, -1,-1):\n",
    "            if not p[j] == t[i+j]:\n",
    "                skip_bc = p_bm.bad_character_rule(j, t[i+j])\n",
    "                skip_gs = p_bm.good_suffix_rule(j)\n",
    "                shift = max(shift, skip_bc, skip_gs)\n",
    "                mismatched = True\n",
    "                break\n",
    "        if not mismatched:\n",
    "            occurences.append(i)\n",
    "            skip_gs = p_bm.match_skip()\n",
    "            shift = max(shift, skip_gs)\n",
    "        i += shift\n",
    "        \n",
    "    return occurences\n",
    "                "
   ]
  },
  {
   "cell_type": "code",
   "execution_count": 25,
   "id": "d0b0e504",
   "metadata": {
    "execution": {
     "iopub.execute_input": "2025-03-19T22:50:17.490604Z",
     "iopub.status.busy": "2025-03-19T22:50:17.490182Z",
     "iopub.status.idle": "2025-03-19T22:50:17.498311Z",
     "shell.execute_reply": "2025-03-19T22:50:17.497129Z"
    },
    "papermill": {
     "duration": 0.030629,
     "end_time": "2025-03-19T22:50:17.500474",
     "exception": false,
     "start_time": "2025-03-19T22:50:17.469845",
     "status": "completed"
    },
    "tags": []
   },
   "outputs": [],
   "source": [
    "# Module for building a k-mer index\n",
    "\n",
    "import bisect\n",
    "\n",
    "class Index(object):\n",
    "    def __init__(self, t, k):\n",
    "        self.k = k\n",
    "        self.index = []\n",
    "        for i in range(len(t) - k + 1):\n",
    "            self.index.append((t[i:i+k], i))\n",
    "        self.index.sort()\n",
    "        \n",
    "    def query(self, p):\n",
    "        kmer = p[:self.k]\n",
    "        i = bisect.bisect_left(self.index, (kmer, -1))\n",
    "        hits = []\n",
    "        while   i < len(self.index):\n",
    "            if self.index[i][0] != kmer:\n",
    "                break\n",
    "            hits.append(self.index[i][1])\n",
    "            i += 1\n",
    "        return hits"
   ]
  },
  {
   "cell_type": "code",
   "execution_count": 26,
   "id": "a79bf357",
   "metadata": {
    "execution": {
     "iopub.execute_input": "2025-03-19T22:50:17.540786Z",
     "iopub.status.busy": "2025-03-19T22:50:17.540400Z",
     "iopub.status.idle": "2025-03-19T22:50:17.546686Z",
     "shell.execute_reply": "2025-03-19T22:50:17.545421Z"
    },
    "papermill": {
     "duration": 0.028939,
     "end_time": "2025-03-19T22:50:17.548915",
     "exception": false,
     "start_time": "2025-03-19T22:50:17.519976",
     "status": "completed"
    },
    "tags": []
   },
   "outputs": [],
   "source": [
    "def queryIndex(p, t, index):\n",
    "    k = index.k\n",
    "    offsets = []\n",
    "    for i in index.query(p):\n",
    "        if p[k:] == t[i+k: i+len(p)]:\n",
    "            offsets.append(i)\n",
    "    return offsets"
   ]
  },
  {
   "cell_type": "code",
   "execution_count": 27,
   "id": "075e5742",
   "metadata": {
    "execution": {
     "iopub.execute_input": "2025-03-19T22:50:17.588405Z",
     "iopub.status.busy": "2025-03-19T22:50:17.586945Z",
     "iopub.status.idle": "2025-03-19T22:50:17.596618Z",
     "shell.execute_reply": "2025-03-19T22:50:17.595377Z"
    },
    "papermill": {
     "duration": 0.03178,
     "end_time": "2025-03-19T22:50:17.598969",
     "exception": false,
     "start_time": "2025-03-19T22:50:17.567189",
     "status": "completed"
    },
    "tags": []
   },
   "outputs": [],
   "source": [
    "#PigeonHole Principle\n",
    "\n",
    "def approximate_match(p, t, n):\n",
    "    \n",
    "    segment_length = round(len(p) / (n+1))\n",
    "    all_matches = set()\n",
    "    for i in range(n+1):\n",
    "        start = i*segment_length\n",
    "        end = min((i+1)*segment_length, len(p))\n",
    "        p_bm = BoyerMoore(p[start:end], alphabet='ACGT')\n",
    "        matches = boyer_moore(p[start:end], p_bm, t)\n",
    "        \n",
    "        for m in matches:\n",
    "            if m < start or m-start+len(p) > len(t):\n",
    "                continue\n",
    "                \n",
    "            mismatches = 0\n",
    "            for j in range(0, start):\n",
    "                if not p[j] == t[m-start+j]:\n",
    "                    mismatches +=1\n",
    "                    if mismatches > n:\n",
    "                        break\n",
    "            \n",
    "            for j in range(end, len(p)):\n",
    "                if not p[j] == t[m-start+j]:\n",
    "                    mismatches += 1\n",
    "                    if mismatches > n:\n",
    "                        break\n",
    "                        \n",
    "            if mismatches <= n:\n",
    "                all_matches.add(m-start)\n",
    "    return list(all_matches)"
   ]
  },
  {
   "cell_type": "markdown",
   "id": "7c77cefd",
   "metadata": {
    "papermill": {
     "duration": 0.018339,
     "end_time": "2025-03-19T22:50:17.635790",
     "exception": false,
     "start_time": "2025-03-19T22:50:17.617451",
     "status": "completed"
    },
    "tags": []
   },
   "source": [
    "**Project**\n",
    "\n",
    "\n",
    "Implement versions of the naive exact matching and Boyer-Moore algorithms that additionally count and return (a) the number of character comparisons performed and (b) the number of alignments tried. Roughly speaking, these measure how much work the two different algorithms are doing."
   ]
  },
  {
   "cell_type": "code",
   "execution_count": 28,
   "id": "f4e0f49e",
   "metadata": {
    "execution": {
     "iopub.execute_input": "2025-03-19T22:50:17.675185Z",
     "iopub.status.busy": "2025-03-19T22:50:17.674791Z",
     "iopub.status.idle": "2025-03-19T22:50:17.681848Z",
     "shell.execute_reply": "2025-03-19T22:50:17.680591Z"
    },
    "papermill": {
     "duration": 0.02893,
     "end_time": "2025-03-19T22:50:17.684168",
     "exception": false,
     "start_time": "2025-03-19T22:50:17.655238",
     "status": "completed"
    },
    "tags": []
   },
   "outputs": [],
   "source": [
    "def naive_count(p, t):\n",
    "    occurences = []\n",
    "    num_alignments = 0\n",
    "    num_character_comparisons = 0\n",
    "    for i in range(len(t) - len(p) + 1):\n",
    "        num_alignments += 1\n",
    "        match = True\n",
    "        for j in range(len(p)):\n",
    "            num_character_comparisons +=1\n",
    "            if not t[i+j] == p[j]:\n",
    "                match = False\n",
    "                break\n",
    "        if match:\n",
    "            occurences.append(i)\n",
    "    return occurences, num_alignments, num_character_comparisons"
   ]
  },
  {
   "cell_type": "markdown",
   "id": "9e5c6b48",
   "metadata": {
    "papermill": {
     "duration": 0.018169,
     "end_time": "2025-03-19T22:50:17.722178",
     "exception": false,
     "start_time": "2025-03-19T22:50:17.704009",
     "status": "completed"
    },
    "tags": []
   },
   "source": [
    "**Test**"
   ]
  },
  {
   "cell_type": "code",
   "execution_count": 29,
   "id": "c8b6de7e",
   "metadata": {
    "execution": {
     "iopub.execute_input": "2025-03-19T22:50:17.761158Z",
     "iopub.status.busy": "2025-03-19T22:50:17.760790Z",
     "iopub.status.idle": "2025-03-19T22:50:17.767019Z",
     "shell.execute_reply": "2025-03-19T22:50:17.765796Z"
    },
    "papermill": {
     "duration": 0.029488,
     "end_time": "2025-03-19T22:50:17.769889",
     "exception": false,
     "start_time": "2025-03-19T22:50:17.740401",
     "status": "completed"
    },
    "tags": []
   },
   "outputs": [
    {
     "name": "stdout",
     "output_type": "stream",
     "text": [
      "[40] 41 46\n"
     ]
    }
   ],
   "source": [
    "p = 'word'\n",
    "t = 'there would have been a time for such a word'\n",
    "occurrences, num_alignments, num_character_comparisons = naive_count(p, t)\n",
    "print(occurrences, num_alignments, num_character_comparisons)"
   ]
  },
  {
   "cell_type": "code",
   "execution_count": 30,
   "id": "a90614d2",
   "metadata": {
    "execution": {
     "iopub.execute_input": "2025-03-19T22:50:17.810873Z",
     "iopub.status.busy": "2025-03-19T22:50:17.810488Z",
     "iopub.status.idle": "2025-03-19T22:50:17.815352Z",
     "shell.execute_reply": "2025-03-19T22:50:17.814246Z"
    },
    "papermill": {
     "duration": 0.029239,
     "end_time": "2025-03-19T22:50:17.818215",
     "exception": false,
     "start_time": "2025-03-19T22:50:17.788976",
     "status": "completed"
    },
    "tags": []
   },
   "outputs": [],
   "source": [
    "# p = 'GGCGCGGTGGCTCACGCCTGTAAT'\n",
    "# t = chromosome\n",
    "# occurrences, num_alignments, num_character_comparisons = naive_count(p, t)\n",
    "# print(occurrences, num_alignments, num_character_comparisons)"
   ]
  },
  {
   "cell_type": "code",
   "execution_count": 31,
   "id": "63b8279c",
   "metadata": {
    "execution": {
     "iopub.execute_input": "2025-03-19T22:50:17.859190Z",
     "iopub.status.busy": "2025-03-19T22:50:17.858755Z",
     "iopub.status.idle": "2025-03-19T22:50:17.865114Z",
     "shell.execute_reply": "2025-03-19T22:50:17.863946Z"
    },
    "papermill": {
     "duration": 0.030097,
     "end_time": "2025-03-19T22:50:17.867819",
     "exception": false,
     "start_time": "2025-03-19T22:50:17.837722",
     "status": "completed"
    },
    "tags": []
   },
   "outputs": [
    {
     "name": "stdout",
     "output_type": "stream",
     "text": [
      "[0, 19] 20 35\n"
     ]
    }
   ],
   "source": [
    "p = 'needle'\n",
    "t = 'needle need noodle needle'\n",
    "occurrences, num_alignments, num_character_comparisons = naive_count(p, t)\n",
    "print(occurrences, num_alignments, num_character_comparisons)"
   ]
  },
  {
   "cell_type": "code",
   "execution_count": 32,
   "id": "9c386132",
   "metadata": {
    "execution": {
     "iopub.execute_input": "2025-03-19T22:50:17.908672Z",
     "iopub.status.busy": "2025-03-19T22:50:17.908259Z",
     "iopub.status.idle": "2025-03-19T22:50:17.916044Z",
     "shell.execute_reply": "2025-03-19T22:50:17.914947Z"
    },
    "papermill": {
     "duration": 0.031208,
     "end_time": "2025-03-19T22:50:17.918319",
     "exception": false,
     "start_time": "2025-03-19T22:50:17.887111",
     "status": "completed"
    },
    "tags": []
   },
   "outputs": [],
   "source": [
    "def boyer_moore_count(p, p_bm, t):\n",
    "    i = 0\n",
    "    occurences = []\n",
    "    num_alignments = 0\n",
    "    num_character_comparisons = 0\n",
    "    \n",
    "    while i < len(t) - len(p) + 1:\n",
    "        shift = 1\n",
    "        mismatched = False\n",
    "        num_alignments += 1\n",
    "        for j in range(len(p)-1, -1,-1):\n",
    "            num_character_comparisons +=1\n",
    "            if not p[j] == t[i+j]:\n",
    "                skip_bc = p_bm.bad_character_rule(j, t[i+j])\n",
    "                skip_gs = p_bm.good_suffix_rule(j)\n",
    "                shift = max(shift, skip_bc, skip_gs)\n",
    "                mismatched = True\n",
    "                break\n",
    "        if not mismatched:\n",
    "            occurences.append(i)\n",
    "            skip_gs = p_bm.match_skip()\n",
    "            shift = max(shift, skip_gs)\n",
    "        i += shift\n",
    "        \n",
    "    return occurences, num_alignments, num_character_comparisons"
   ]
  },
  {
   "cell_type": "code",
   "execution_count": 33,
   "id": "2da7b582",
   "metadata": {
    "execution": {
     "iopub.execute_input": "2025-03-19T22:50:17.958663Z",
     "iopub.status.busy": "2025-03-19T22:50:17.958271Z",
     "iopub.status.idle": "2025-03-19T22:50:17.964541Z",
     "shell.execute_reply": "2025-03-19T22:50:17.963343Z"
    },
    "papermill": {
     "duration": 0.029578,
     "end_time": "2025-03-19T22:50:17.967305",
     "exception": false,
     "start_time": "2025-03-19T22:50:17.937727",
     "status": "completed"
    },
    "tags": []
   },
   "outputs": [
    {
     "name": "stdout",
     "output_type": "stream",
     "text": [
      "[40] 12 15\n"
     ]
    }
   ],
   "source": [
    "p = 'word'\n",
    "t = 'there would have been a time for such a word'\n",
    "lowercase_alphabet = 'abcdefghijklmnopqrstuvwxyz '\n",
    "p_bm = BoyerMoore(p, lowercase_alphabet)\n",
    "occurrences, num_alignments, num_character_comparisons = boyer_moore_count(p, p_bm, t)\n",
    "print(occurrences, num_alignments, num_character_comparisons)"
   ]
  },
  {
   "cell_type": "code",
   "execution_count": 34,
   "id": "aff4db65",
   "metadata": {
    "execution": {
     "iopub.execute_input": "2025-03-19T22:50:18.007191Z",
     "iopub.status.busy": "2025-03-19T22:50:18.005970Z",
     "iopub.status.idle": "2025-03-19T22:50:18.014360Z",
     "shell.execute_reply": "2025-03-19T22:50:18.012829Z"
    },
    "papermill": {
     "duration": 0.030995,
     "end_time": "2025-03-19T22:50:18.016865",
     "exception": false,
     "start_time": "2025-03-19T22:50:17.985870",
     "status": "completed"
    },
    "tags": []
   },
   "outputs": [
    {
     "name": "stdout",
     "output_type": "stream",
     "text": [
      "[0, 19] 5 18\n"
     ]
    }
   ],
   "source": [
    "\n",
    "p = 'needle'\n",
    "t = 'needle need noodle needle'\n",
    "p_bm = BoyerMoore(p, lowercase_alphabet)\n",
    "occurrences, num_alignments, num_character_comparisons = boyer_moore_count(p, p_bm, t)\n",
    "print(occurrences, num_alignments, num_character_comparisons)"
   ]
  },
  {
   "cell_type": "code",
   "execution_count": 35,
   "id": "ed12acc8",
   "metadata": {
    "execution": {
     "iopub.execute_input": "2025-03-19T22:50:18.057706Z",
     "iopub.status.busy": "2025-03-19T22:50:18.057307Z",
     "iopub.status.idle": "2025-03-19T22:50:18.301863Z",
     "shell.execute_reply": "2025-03-19T22:50:18.300480Z"
    },
    "papermill": {
     "duration": 0.267921,
     "end_time": "2025-03-19T22:50:18.304335",
     "exception": false,
     "start_time": "2025-03-19T22:50:18.036414",
     "status": "completed"
    },
    "tags": []
   },
   "outputs": [
    {
     "name": "stdout",
     "output_type": "stream",
     "text": [
      "[56922] 127974 165191\n"
     ]
    }
   ],
   "source": [
    "chromosome = readGenome('/kaggle/input/chromosome1/chr1.GRCh38.excerpt.fasta')\n",
    "\n",
    "p = 'GGCGCGGTGGCTCACGCCTGTAATCCCAGCACTTTGGGAGGCCGAGG'\n",
    "t = chromosome\n",
    "p_bm = BoyerMoore(p, alphabet='ACGT')\n",
    "occurrences, num_alignments, num_character_comparisons = boyer_moore_count(p, p_bm, t)\n",
    "print(occurrences, num_alignments, num_character_comparisons)"
   ]
  },
  {
   "cell_type": "code",
   "execution_count": 36,
   "id": "0c60aafb",
   "metadata": {
    "execution": {
     "iopub.execute_input": "2025-03-19T22:50:18.345643Z",
     "iopub.status.busy": "2025-03-19T22:50:18.345227Z",
     "iopub.status.idle": "2025-03-19T22:50:18.733593Z",
     "shell.execute_reply": "2025-03-19T22:50:18.732182Z"
    },
    "papermill": {
     "duration": 0.412731,
     "end_time": "2025-03-19T22:50:18.736529",
     "exception": false,
     "start_time": "2025-03-19T22:50:18.323798",
     "status": "completed"
    },
    "tags": []
   },
   "outputs": [
    {
     "name": "stdout",
     "output_type": "stream",
     "text": [
      "[56922] 799954 984143\n"
     ]
    }
   ],
   "source": [
    "p = 'GGCGCGGTGGCTCACGCCTGTAATCCCAGCACTTTGGGAGGCCGAGG'\n",
    "t = chromosome\n",
    "occurrences, num_alignments, num_character_comparisons = naive_count(p, t)\n",
    "print(occurrences, num_alignments, num_character_comparisons)"
   ]
  },
  {
   "cell_type": "markdown",
   "id": "bb167cf5",
   "metadata": {
    "papermill": {
     "duration": 0.020452,
     "end_time": "2025-03-19T22:50:18.776601",
     "exception": false,
     "start_time": "2025-03-19T22:50:18.756149",
     "status": "completed"
    },
    "tags": []
   },
   "source": [
    "**Project:**\n",
    "\n",
    "Implement the pigeonhole principle using Index to find exact matches for the partitions. Assume P always has length 24, and that we are looking for approximate matches with up to 2 mismatches (substitutions). We will use an 8-mer index.\n",
    "\n",
    "Write a function that, given a length-24 pattern P and given an Index object built on 8-mers, finds all approximate occurrences of P within T with up to 2 mismatches. Insertions and deletions are not allowed. Don't consider any reverse complements.\n",
    "\n",
    "How many times does the string  GGCGCGGTGGCTCACGCCTGTAAT, which is derived from a human Alu sequence, occur with up to 2 substitutions in the excerpt of human chromosome 1?  (Don't consider reverse complements here.)\n",
    "\n",
    "Hint 1: Multiple index hits might direct you to the same match multiple times, but be careful not to count a match more than once.\n",
    "\n",
    "Hint 2: You can check your work by comparing the output of your new function to that of the naive_2mm function implemented in the previous module."
   ]
  },
  {
   "cell_type": "code",
   "execution_count": 37,
   "id": "ab6b59a8",
   "metadata": {
    "execution": {
     "iopub.execute_input": "2025-03-19T22:50:18.816392Z",
     "iopub.status.busy": "2025-03-19T22:50:18.815930Z",
     "iopub.status.idle": "2025-03-19T22:50:21.326148Z",
     "shell.execute_reply": "2025-03-19T22:50:21.324780Z"
    },
    "papermill": {
     "duration": 2.533294,
     "end_time": "2025-03-19T22:50:21.328853",
     "exception": false,
     "start_time": "2025-03-19T22:50:18.795559",
     "status": "completed"
    },
    "tags": []
   },
   "outputs": [
    {
     "name": "stdout",
     "output_type": "stream",
     "text": [
      "([273669, 681737, 717706, 262042, 635931, 84641, 160162, 724927, 657496, 160729, 56922, 191452, 551134, 747359, 421221, 147558, 364263, 465647, 429299], 90)\n"
     ]
    }
   ],
   "source": [
    "\n",
    "def approximate_match_index(p, t, index):\n",
    "    segment_length = round(len(p) / 3)\n",
    "    all_matches = set()\n",
    "    total_index_hits = 0 \n",
    "    for i in range(3):\n",
    "        start = i * segment_length\n",
    "        end = min((i + 1) * segment_length, len(p))\n",
    "        matches = index.query(p[start:end])\n",
    "        total_index_hits += len(matches)\n",
    "#         print (matches)\n",
    "        for m in matches:\n",
    "            if m < start or m - start + len(p) > len(t):\n",
    "                continue\n",
    "            mismatches = 0\n",
    "            for j in range(start):\n",
    "                if not p[j] == t[m - start + j]:\n",
    "                    mismatches += 1\n",
    "                    if mismatches > 2:\n",
    "                        break\n",
    "            for j in range(end, len(p)):\n",
    "                if not p[j] == t[m - start + j]:\n",
    "                    mismatches += 1\n",
    "                    if mismatches > 2:\n",
    "                        break\n",
    "            if mismatches <= 2:\n",
    "                all_matches.add(m - start)\n",
    "    return list(all_matches), total_index_hits\n",
    "\n",
    "# index = Index(t, 2)\n",
    "# print(queryIndex(p, t, index))\n",
    "\n",
    "p = 'GGCGCGGTGGCTCACGCCTGTAAT'\n",
    "t = chromosome\n",
    "index = Index(t, 8)\n",
    "\n",
    "# p = 'GGCGCGGTGGCTCACGCCTGTAAT'\n",
    "# t = 'GGCGCGGTGGCTCACGCCTGTAAGGCGCGGTGGCTCACGCCTGTAATCCCAGCACTTTGGGAGGCCGGGAGGTGGCGCGGTGGCTGGCACGCCGGTGTAATGGCGCGGTGGCTCACGCCTGTAATGGCGCGGTGGGGCTCACGCCTGTAATGGCGCGGTGGCTCACGCCTGTAGGATGGCGCGGTGGCTCACGCCTGTAATGGGGCGCGGTGGCTCACGCCTGTAATGGCGCGGTGGCTCACGCCTGTAATGGCGCGGTGGCTCACGCCTGTAGGCGCGGTGGCTCACGCCTGTAATCCCAGCACTTTGGGAGGCCGAGGAT'\n",
    "\n",
    "print(approximate_match_index(p, t, index))\n",
    "# print(len(approximate_match_index(p, t, index)))"
   ]
  },
  {
   "cell_type": "code",
   "execution_count": 38,
   "id": "096b7768",
   "metadata": {
    "execution": {
     "iopub.execute_input": "2025-03-19T22:50:21.374121Z",
     "iopub.status.busy": "2025-03-19T22:50:21.373629Z",
     "iopub.status.idle": "2025-03-19T22:50:22.026224Z",
     "shell.execute_reply": "2025-03-19T22:50:22.024898Z"
    },
    "papermill": {
     "duration": 0.680001,
     "end_time": "2025-03-19T22:50:22.028880",
     "exception": false,
     "start_time": "2025-03-19T22:50:21.348879",
     "status": "completed"
    },
    "tags": []
   },
   "outputs": [
    {
     "name": "stdout",
     "output_type": "stream",
     "text": [
      "19\n",
      "<__main__.Index object at 0x794de07b2c20>\n"
     ]
    }
   ],
   "source": [
    "def naive_2mm(p, t):\n",
    "    occurences = []\n",
    "    for i in range(len(t) - len(p) + 1):\n",
    "        match = True\n",
    "        mismatch = 0\n",
    "        for j in range(len(p)):\n",
    "            if not t[i+j] == p[j]:\n",
    "                mismatch += 1\n",
    "                if mismatch > 2:\n",
    "                    match = False\n",
    "                    break\n",
    "        if match:\n",
    "            occurences.append(i)\n",
    "    return occurences\n",
    "\n",
    "def naive(p, t):\n",
    "    total_index_hits = 0  # Initialize total index hits counter\n",
    "    occurrences = []\n",
    "    for i in range(len(t) - len(p) + 1):\n",
    "        match = True\n",
    "        for j in range(len(p)):\n",
    "            if not t[i+j] == p[j]:\n",
    "                match = False\n",
    "                break\n",
    "        if match:\n",
    "            occurrences.append(i)\n",
    "        total_index_hits += 1  # Increment total index hits for each iteration\n",
    "    return occurrences, total_index_hits\n",
    "\n",
    "occurrences = naive_2mm(p, t)\n",
    "print(len(occurrences))\n",
    "print(index)"
   ]
  },
  {
   "cell_type": "code",
   "execution_count": 39,
   "id": "6d118891",
   "metadata": {
    "execution": {
     "iopub.execute_input": "2025-03-19T22:50:22.069991Z",
     "iopub.status.busy": "2025-03-19T22:50:22.069588Z",
     "iopub.status.idle": "2025-03-19T22:50:22.077952Z",
     "shell.execute_reply": "2025-03-19T22:50:22.076829Z"
    },
    "papermill": {
     "duration": 0.031247,
     "end_time": "2025-03-19T22:50:22.080164",
     "exception": false,
     "start_time": "2025-03-19T22:50:22.048917",
     "status": "completed"
    },
    "tags": []
   },
   "outputs": [],
   "source": [
    "import bisect\n",
    "   \n",
    "class SubseqIndex(object):\n",
    "    \"\"\" Holds a subsequence index for a text T \"\"\"\n",
    "    \n",
    "    def __init__(self, t, k, ival):\n",
    "        \"\"\" Create index from all subsequences consisting of k characters\n",
    "            spaced ival positions apart.  E.g., SubseqIndex(\"ATAT\", 2, 2)\n",
    "            extracts (\"AA\", 0) and (\"TT\", 1). \"\"\"\n",
    "        self.k = k  # num characters per subsequence extracted\n",
    "        self.ival = ival  # space between them; 1=adjacent, 2=every other, etc\n",
    "        self.index = []\n",
    "        self.span = 1 + ival * (k - 1)\n",
    "        for i in range(len(t) - self.span + 1):  # for each subseq\n",
    "            self.index.append((t[i:i+self.span:ival], i))  # add (subseq, offset)\n",
    "        self.index.sort()  # alphabetize by subseq\n",
    "    \n",
    "    def query(self, p):\n",
    "        \"\"\" Return index hits for first subseq of p \"\"\"\n",
    "        subseq = p[:self.span:self.ival]  # query with first subseq\n",
    "        i = bisect.bisect_left(self.index, (subseq, -1))  # binary search\n",
    "        hits = []\n",
    "        while i < len(self.index):  # collect matching index entries\n",
    "            if self.index[i][0] != subseq:\n",
    "                break\n",
    "            hits.append(self.index[i][1])\n",
    "            i += 1\n",
    "        return hits\n"
   ]
  },
  {
   "cell_type": "code",
   "execution_count": 40,
   "id": "b6c3e3f5",
   "metadata": {
    "execution": {
     "iopub.execute_input": "2025-03-19T22:50:22.120877Z",
     "iopub.status.busy": "2025-03-19T22:50:22.119806Z",
     "iopub.status.idle": "2025-03-19T22:50:22.128895Z",
     "shell.execute_reply": "2025-03-19T22:50:22.127704Z"
    },
    "papermill": {
     "duration": 0.03235,
     "end_time": "2025-03-19T22:50:22.131579",
     "exception": false,
     "start_time": "2025-03-19T22:50:22.099229",
     "status": "completed"
    },
    "tags": []
   },
   "outputs": [],
   "source": [
    "def approximate_match_subseq_index(p, t, index):\n",
    "    all_matches = set()\n",
    "    total_index_hits = 0\n",
    "    \n",
    "    # For each of the possible offsets (0, 1, 2), query using the subsequence starting at that offset.\n",
    "    for i in range(3):\n",
    "        # Query the index with the subsequence extracted from p starting at offset i.\n",
    "        subseq_matches = index.query(p[i:])\n",
    "        total_index_hits += len(subseq_matches)\n",
    "        \n",
    "        for m in subseq_matches:\n",
    "            start = m - i\n",
    "            # Check that the full pattern can be aligned within t.\n",
    "            if start < 0 or start + len(p) > len(t):\n",
    "                continue\n",
    "            \n",
    "            # Count mismatches for the full alignment of p with t starting at 'start'.\n",
    "            mismatches = 0\n",
    "            for j in range(len(p)):\n",
    "                if p[j] != t[start + j]:\n",
    "                    mismatches += 1\n",
    "                    if mismatches > n:\n",
    "                        break\n",
    "            \n",
    "            # If within allowed mismatches, record the alignment start.\n",
    "            if mismatches <= n:\n",
    "                all_matches.add(start)\n",
    "    \n",
    "    return list(all_matches), total_index_hits\n",
    "\n",
    "\n",
    "\n",
    "# def approximate_match_subseq_index(p, t, index):\n",
    "#     all_matches = set()\n",
    "#     for i in range(3):\n",
    "#         subseq_matches = index.query(p[i:])\n",
    "#         # print('hello')\n",
    "#         # print(subseq_matches)\n",
    "        \n",
    "#         for m in subseq_matches:\n",
    "#             if m < i or m - i + len(p) > len(t):\n",
    "#                 continue\n",
    "#             mismatches = 0\n",
    "#             for j in range(0, i):\n",
    "#                 if not p[j] == t[m-i+j]:\n",
    "#                     mismatches +=1\n",
    "#                     if mismatches > n:\n",
    "#                         break\n",
    "            \n",
    "#             for j in range(len(p)):\n",
    "#                 if not p[j] == t[m-i+j]:\n",
    "#                     mismatches += 1\n",
    "#                     if mismatches > n:\n",
    "#                         break\n",
    "                        \n",
    "#             if mismatches <= n:\n",
    "#                 all_matches.add(m-i)\n",
    "#     return list(all_matches)\n"
   ]
  },
  {
   "cell_type": "code",
   "execution_count": null,
   "id": "59c964d0",
   "metadata": {
    "papermill": {
     "duration": 0.019665,
     "end_time": "2025-03-19T22:50:22.171138",
     "exception": false,
     "start_time": "2025-03-19T22:50:22.151473",
     "status": "completed"
    },
    "tags": []
   },
   "outputs": [],
   "source": []
  },
  {
   "cell_type": "code",
   "execution_count": 41,
   "id": "02c1f2b9",
   "metadata": {
    "execution": {
     "iopub.execute_input": "2025-03-19T22:50:22.213567Z",
     "iopub.status.busy": "2025-03-19T22:50:22.213170Z",
     "iopub.status.idle": "2025-03-19T22:50:22.219629Z",
     "shell.execute_reply": "2025-03-19T22:50:22.218538Z"
    },
    "papermill": {
     "duration": 0.030052,
     "end_time": "2025-03-19T22:50:22.221889",
     "exception": false,
     "start_time": "2025-03-19T22:50:22.191837",
     "status": "completed"
    },
    "tags": []
   },
   "outputs": [
    {
     "name": "stdout",
     "output_type": "stream",
     "text": [
      "[0, 14]\n",
      "6\n"
     ]
    }
   ],
   "source": [
    "t = 'to-morrow and to-morrow and to-morrow creeps in this petty pace'\n",
    "p = 'to-morrow and to-morrow '\n",
    "\n",
    "subseq_ind = SubseqIndex(t, 8, 3)\n",
    "occurrences, num_index_hits = approximate_match_subseq_index(p, t, subseq_ind)\n",
    "print(occurrences)\n",
    "print(num_index_hits)"
   ]
  },
  {
   "cell_type": "code",
   "execution_count": 42,
   "id": "0ba40e4d",
   "metadata": {
    "execution": {
     "iopub.execute_input": "2025-03-19T22:50:22.264965Z",
     "iopub.status.busy": "2025-03-19T22:50:22.264588Z",
     "iopub.status.idle": "2025-03-19T22:50:24.833713Z",
     "shell.execute_reply": "2025-03-19T22:50:24.832105Z"
    },
    "papermill": {
     "duration": 2.594401,
     "end_time": "2025-03-19T22:50:24.836410",
     "exception": false,
     "start_time": "2025-03-19T22:50:22.242009",
     "status": "completed"
    },
    "tags": []
   },
   "outputs": [
    {
     "name": "stdout",
     "output_type": "stream",
     "text": [
      "[712449, 651523, 558456, 273669, 349189, 681737, 717706, 658702, 794642, 551827, 83863, 579737, 262042, 635931, 471966, 262174, 67486, 84641, 596898, 160162, 151718, 84775, 745640, 100011, 322735, 479030, 199607, 472634, 489019, 454332, 719418, 724927, 719557, 108110, 707151, 766419, 657496, 160729, 56922, 23003, 191452, 704731, 551134, 747359, 366818, 421221, 147558, 364263, 137574, 421354, 465647, 783346, 429299, 141046, 124024, 746620, 22397, 32639]\n",
      "79\n"
     ]
    }
   ],
   "source": [
    "p = 'GGCGCGGTGGCTCACGCCTGTAAT'\n",
    "t = chromosome\n",
    "\n",
    "subseq_ind = SubseqIndex(t, 8, 3)\n",
    "occurrences, num_index_hits = approximate_match_subseq_index(p, t, subseq_ind)\n",
    "print(occurrences)\n",
    "print(num_index_hits)"
   ]
  },
  {
   "cell_type": "code",
   "execution_count": 43,
   "id": "f5014bae",
   "metadata": {
    "execution": {
     "iopub.execute_input": "2025-03-19T22:50:24.878214Z",
     "iopub.status.busy": "2025-03-19T22:50:24.877798Z",
     "iopub.status.idle": "2025-03-19T22:50:27.287850Z",
     "shell.execute_reply": "2025-03-19T22:50:27.286136Z"
    },
    "papermill": {
     "duration": 2.433987,
     "end_time": "2025-03-19T22:50:27.290582",
     "exception": false,
     "start_time": "2025-03-19T22:50:24.856595",
     "status": "completed"
    },
    "tags": []
   },
   "outputs": [
    {
     "name": "stdout",
     "output_type": "stream",
     "text": [
      "--2025-03-19 22:50:26--  http://www.gutenberg.org/ebooks/1110.txt.utf-8\r\n",
      "Resolving www.gutenberg.org (www.gutenberg.org)... 152.19.134.47, 2610:28:3090:3000:0:bad:cafe:47\r\n",
      "Connecting to www.gutenberg.org (www.gutenberg.org)|152.19.134.47|:80... connected.\r\n",
      "HTTP request sent, awaiting response... 302 Found\r\n",
      "Location: https://www.gutenberg.org/ebooks/1110.txt.utf-8 [following]\r\n",
      "--2025-03-19 22:50:26--  https://www.gutenberg.org/ebooks/1110.txt.utf-8\r\n",
      "Connecting to www.gutenberg.org (www.gutenberg.org)|152.19.134.47|:443... connected.\r\n",
      "HTTP request sent, awaiting response... 302 Found\r\n",
      "Location: http://www.gutenberg.org/cache/epub/1110/pg1110.txt [following]\r\n",
      "--2025-03-19 22:50:26--  http://www.gutenberg.org/cache/epub/1110/pg1110.txt\r\n",
      "Connecting to www.gutenberg.org (www.gutenberg.org)|152.19.134.47|:80... connected.\r\n",
      "HTTP request sent, awaiting response... 302 Found\r\n",
      "Location: https://www.gutenberg.org/cache/epub/1110/pg1110.txt [following]\r\n",
      "--2025-03-19 22:50:26--  https://www.gutenberg.org/cache/epub/1110/pg1110.txt\r\n",
      "Connecting to www.gutenberg.org (www.gutenberg.org)|152.19.134.47|:443... connected.\r\n",
      "HTTP request sent, awaiting response... 200 OK\r\n",
      "Length: 141149 (138K) [text/plain]\r\n",
      "Saving to: '1110.txt.utf-8'\r\n",
      "\r\n",
      "1110.txt.utf-8      100%[===================>] 137.84K   748KB/s    in 0.2s    \r\n",
      "\r\n",
      "2025-03-19 22:50:27 (748 KB/s) - '1110.txt.utf-8' saved [141149/141149]\r\n",
      "\r\n"
     ]
    }
   ],
   "source": [
    "!wget http://www.gutenberg.org/ebooks/1110.txt.utf-8\n"
   ]
  },
  {
   "cell_type": "code",
   "execution_count": 44,
   "id": "cd23553d",
   "metadata": {
    "execution": {
     "iopub.execute_input": "2025-03-19T22:50:27.333906Z",
     "iopub.status.busy": "2025-03-19T22:50:27.333510Z",
     "iopub.status.idle": "2025-03-19T22:50:28.022092Z",
     "shell.execute_reply": "2025-03-19T22:50:28.020671Z"
    },
    "papermill": {
     "duration": 0.713314,
     "end_time": "2025-03-19T22:50:28.024944",
     "exception": false,
     "start_time": "2025-03-19T22:50:27.311630",
     "status": "completed"
    },
    "tags": []
   },
   "outputs": [
    {
     "name": "stdout",
     "output_type": "stream",
     "text": [
      "[110320]\n",
      "3\n"
     ]
    }
   ],
   "source": [
    "t = open('1110.txt.utf-8').read()\n",
    "p = 'English measure backward'\n",
    "subseq_ind = SubseqIndex(t, 8, 3)\n",
    "occurrences, num_index_hits = approximate_match_subseq_index(p, t, subseq_ind)\n",
    "print(occurrences)\n",
    "print(num_index_hits)"
   ]
  },
  {
   "cell_type": "code",
   "execution_count": 45,
   "id": "b0cfb1da",
   "metadata": {
    "execution": {
     "iopub.execute_input": "2025-03-19T22:50:28.069764Z",
     "iopub.status.busy": "2025-03-19T22:50:28.069369Z",
     "iopub.status.idle": "2025-03-19T22:50:28.077332Z",
     "shell.execute_reply": "2025-03-19T22:50:28.075992Z"
    },
    "papermill": {
     "duration": 0.032833,
     "end_time": "2025-03-19T22:50:28.080151",
     "exception": false,
     "start_time": "2025-03-19T22:50:28.047318",
     "status": "completed"
    },
    "tags": []
   },
   "outputs": [
    {
     "data": {
      "text/plain": [
       "3"
      ]
     },
     "execution_count": 45,
     "metadata": {},
     "output_type": "execute_result"
    }
   ],
   "source": [
    "[110320]\n",
    "3\n"
   ]
  },
  {
   "cell_type": "markdown",
   "id": "c4b00128",
   "metadata": {
    "papermill": {
     "duration": 0.019544,
     "end_time": "2025-03-19T22:50:28.121051",
     "exception": false,
     "start_time": "2025-03-19T22:50:28.101507",
     "status": "completed"
    },
    "tags": []
   },
   "source": [
    "# Week 3"
   ]
  },
  {
   "cell_type": "code",
   "execution_count": 46,
   "id": "11439e5e",
   "metadata": {
    "execution": {
     "iopub.execute_input": "2025-03-19T22:50:28.163433Z",
     "iopub.status.busy": "2025-03-19T22:50:28.162178Z",
     "iopub.status.idle": "2025-03-19T22:50:28.170537Z",
     "shell.execute_reply": "2025-03-19T22:50:28.168750Z"
    },
    "papermill": {
     "duration": 0.032839,
     "end_time": "2025-03-19T22:50:28.173419",
     "exception": false,
     "start_time": "2025-03-19T22:50:28.140580",
     "status": "completed"
    },
    "tags": []
   },
   "outputs": [],
   "source": [
    "def editDistRecursive(x,y):\n",
    "    # This implementation is very slow\n",
    "    if len(x) == 0:\n",
    "        return len(y)\n",
    "    elif len(y) == 0:\n",
    "        return len(x)\n",
    "    else:\n",
    "        distHor = editDistRecursive(x[:-1], y) + 1\n",
    "        distVer = editDistRecursive(x, y[:-1]) + 1\n",
    "        if x[-1] == y[-1]:\n",
    "            distDiag = editDistRecursive(x[:-1], y[:-1])\n",
    "        else:\n",
    "            distDiag = editDistRecursive(x[:-1], y[:-1]) + 1\n",
    "\n",
    "        return min(distHor, distVer, distDiag)"
   ]
  },
  {
   "cell_type": "code",
   "execution_count": 47,
   "id": "8bd61b1c",
   "metadata": {
    "execution": {
     "iopub.execute_input": "2025-03-19T22:50:28.215959Z",
     "iopub.status.busy": "2025-03-19T22:50:28.215509Z",
     "iopub.status.idle": "2025-03-19T22:50:28.224446Z",
     "shell.execute_reply": "2025-03-19T22:50:28.223259Z"
    },
    "papermill": {
     "duration": 0.033355,
     "end_time": "2025-03-19T22:50:28.226775",
     "exception": false,
     "start_time": "2025-03-19T22:50:28.193420",
     "status": "completed"
    },
    "tags": []
   },
   "outputs": [],
   "source": [
    "def editDistance(x,y):\n",
    "    D = []\n",
    "    for i in range (len(x)+1):\n",
    "        D.append([0] * (len(y)+1))\n",
    "\n",
    "    for i in range(len(x)+1):\n",
    "        D[i][0] = i\n",
    "    for i in range(len(y)+1):\n",
    "        D[0][i] = i\n",
    "\n",
    "    for i in range(1, len(x)+1):\n",
    "        for j in range(1, len(y)+1):\n",
    "            distHor = D[i][j-1] + 1\n",
    "            distVer = D[i-1][j] + 1\n",
    "            if x[i-1] == y[j-1]:\n",
    "                distDiag = D[i-1][j-1]\n",
    "            else:\n",
    "                distDiag = D[i-1][j-1] + 1\n",
    "\n",
    "            D[i][j] = min(distHor, distVer, distDiag)\n",
    "\n",
    "    return D[-1][-1]\n",
    "    "
   ]
  },
  {
   "cell_type": "code",
   "execution_count": 48,
   "id": "f3c8b905",
   "metadata": {
    "execution": {
     "iopub.execute_input": "2025-03-19T22:50:28.269302Z",
     "iopub.status.busy": "2025-03-19T22:50:28.268829Z",
     "iopub.status.idle": "2025-03-19T22:50:32.794910Z",
     "shell.execute_reply": "2025-03-19T22:50:32.793153Z"
    },
    "papermill": {
     "duration": 4.550513,
     "end_time": "2025-03-19T22:50:32.797732",
     "exception": false,
     "start_time": "2025-03-19T22:50:28.247219",
     "status": "completed"
    },
    "tags": []
   },
   "outputs": [
    {
     "name": "stdout",
     "output_type": "stream",
     "text": [
      "3\n",
      "CPU times: user 4.51 s, sys: 3.61 ms, total: 4.52 s\n",
      "Wall time: 4.52 s\n"
     ]
    }
   ],
   "source": [
    "%%time\n",
    "x = 'shake spea'\n",
    "y = 'Shakespear'\n",
    "\n",
    "print(editDistRecursive(x,y))"
   ]
  },
  {
   "cell_type": "code",
   "execution_count": 49,
   "id": "854418f8",
   "metadata": {
    "execution": {
     "iopub.execute_input": "2025-03-19T22:50:32.842561Z",
     "iopub.status.busy": "2025-03-19T22:50:32.842159Z",
     "iopub.status.idle": "2025-03-19T22:50:32.849106Z",
     "shell.execute_reply": "2025-03-19T22:50:32.847831Z"
    },
    "papermill": {
     "duration": 0.032015,
     "end_time": "2025-03-19T22:50:32.851351",
     "exception": false,
     "start_time": "2025-03-19T22:50:32.819336",
     "status": "completed"
    },
    "tags": []
   },
   "outputs": [
    {
     "name": "stdout",
     "output_type": "stream",
     "text": [
      "3\n",
      "CPU times: user 159 µs, sys: 0 ns, total: 159 µs\n",
      "Wall time: 165 µs\n"
     ]
    }
   ],
   "source": [
    "%%time\n",
    "x = 'shake spea'\n",
    "y = 'Shakespear'\n",
    "\n",
    "print(editDistance(x,y))"
   ]
  },
  {
   "cell_type": "code",
   "execution_count": 50,
   "id": "0009b3b5",
   "metadata": {
    "execution": {
     "iopub.execute_input": "2025-03-19T22:50:32.894213Z",
     "iopub.status.busy": "2025-03-19T22:50:32.892972Z",
     "iopub.status.idle": "2025-03-19T22:50:32.899382Z",
     "shell.execute_reply": "2025-03-19T22:50:32.898261Z"
    },
    "papermill": {
     "duration": 0.030002,
     "end_time": "2025-03-19T22:50:32.901594",
     "exception": false,
     "start_time": "2025-03-19T22:50:32.871592",
     "status": "completed"
    },
    "tags": []
   },
   "outputs": [],
   "source": [
    "alphabet = ['A', 'C', 'G', 'T']\n",
    "score = [[0, 4, 2, 4, 8],\n",
    "        [4, 0, 4, 2, 8],\n",
    "        [2, 4, 0, 4, 8],\n",
    "        [4, 2, 4, 0, 8],\n",
    "        [8, 8, 8, 8, 8]]"
   ]
  },
  {
   "cell_type": "code",
   "execution_count": 51,
   "id": "0caec67d",
   "metadata": {
    "execution": {
     "iopub.execute_input": "2025-03-19T22:50:32.944743Z",
     "iopub.status.busy": "2025-03-19T22:50:32.944327Z",
     "iopub.status.idle": "2025-03-19T22:50:32.954569Z",
     "shell.execute_reply": "2025-03-19T22:50:32.953406Z"
    },
    "papermill": {
     "duration": 0.034539,
     "end_time": "2025-03-19T22:50:32.956905",
     "exception": false,
     "start_time": "2025-03-19T22:50:32.922366",
     "status": "completed"
    },
    "tags": []
   },
   "outputs": [],
   "source": [
    "def globalAlignment(x,y):\n",
    "    D = []\n",
    "    for i in range (len(x)+1):\n",
    "        D.append([0] * (len(y)+1))\n",
    "\n",
    "    for i in range(1, len(x)+1):\n",
    "        D[i][0] = D[i-1][0] + score[alphabet.index(x[i-1])][-1]\n",
    "    for i in range(1, len(y)+1):\n",
    "        D[0][i] = D[0][i-1] + score[-1][alphabet.index(y[i-1])]\n",
    "\n",
    "    for i in range(1, len(x)+1):\n",
    "        for j in range(1, len(y)+1):\n",
    "            distHor = D[i][j-1] + score[-1][alphabet.index(y[j-1])]\n",
    "            distVer = D[i-1][j] + score[alphabet.index(x[i-1])][-1]\n",
    "            if x[i-1] == y[j-1]:\n",
    "                distDiag = D[i-1][j-1] \n",
    "            else:\n",
    "                distDiag = D[i-1][j-1] + score[alphabet.index(x[i-1])][alphabet.index(y[j-1])]                       \n",
    "                                                                                                                                                                                 \n",
    "            D[i][j] = min(distHor, distVer, distDiag)\n",
    "\n",
    "    return D[-1][-1]\n",
    "    "
   ]
  },
  {
   "cell_type": "code",
   "execution_count": 52,
   "id": "ba48f001",
   "metadata": {
    "execution": {
     "iopub.execute_input": "2025-03-19T22:50:32.999348Z",
     "iopub.status.busy": "2025-03-19T22:50:32.998861Z",
     "iopub.status.idle": "2025-03-19T22:50:33.007292Z",
     "shell.execute_reply": "2025-03-19T22:50:33.006081Z"
    },
    "papermill": {
     "duration": 0.032837,
     "end_time": "2025-03-19T22:50:33.009816",
     "exception": false,
     "start_time": "2025-03-19T22:50:32.976979",
     "status": "completed"
    },
    "tags": []
   },
   "outputs": [
    {
     "data": {
      "text/plain": [
       "10"
      ]
     },
     "execution_count": 52,
     "metadata": {},
     "output_type": "execute_result"
    }
   ],
   "source": [
    "x = 'TACCAGATTCGA'\n",
    "y = 'TACCAAATTGA'\n",
    "globalAlignment(x,y)"
   ]
  },
  {
   "cell_type": "code",
   "execution_count": 53,
   "id": "07bda91c",
   "metadata": {
    "execution": {
     "iopub.execute_input": "2025-03-19T22:50:33.054124Z",
     "iopub.status.busy": "2025-03-19T22:50:33.053141Z",
     "iopub.status.idle": "2025-03-19T22:50:33.059722Z",
     "shell.execute_reply": "2025-03-19T22:50:33.058583Z"
    },
    "papermill": {
     "duration": 0.031282,
     "end_time": "2025-03-19T22:50:33.062153",
     "exception": false,
     "start_time": "2025-03-19T22:50:33.030871",
     "status": "completed"
    },
    "tags": []
   },
   "outputs": [],
   "source": [
    "def overlap(a, b, min_length=3):\n",
    "    start = 0 # start all the way at the left\n",
    "\n",
    "    while True:\n",
    "        start = a.find(b[:min_length], start) # look for b's suffix in a\n",
    "        if start == -1: # no more occurences to right\n",
    "            return 0\n",
    "        # found occurence; check for full suffix/prefix match\n",
    "        if b.startswith(a[start:]):\n",
    "            return len(a) - start\n",
    "        start += 1 # move just past the previous match\n",
    "        "
   ]
  },
  {
   "cell_type": "code",
   "execution_count": 54,
   "id": "dc4c0eb1",
   "metadata": {
    "execution": {
     "iopub.execute_input": "2025-03-19T22:50:33.105882Z",
     "iopub.status.busy": "2025-03-19T22:50:33.104891Z",
     "iopub.status.idle": "2025-03-19T22:50:33.112666Z",
     "shell.execute_reply": "2025-03-19T22:50:33.111446Z"
    },
    "papermill": {
     "duration": 0.032242,
     "end_time": "2025-03-19T22:50:33.114986",
     "exception": false,
     "start_time": "2025-03-19T22:50:33.082744",
     "status": "completed"
    },
    "tags": []
   },
   "outputs": [
    {
     "data": {
      "text/plain": [
       "0"
      ]
     },
     "execution_count": 54,
     "metadata": {},
     "output_type": "execute_result"
    }
   ],
   "source": [
    "overlap('TTACGTA', 'CTACCGTA')"
   ]
  },
  {
   "cell_type": "code",
   "execution_count": 55,
   "id": "f0102ffe",
   "metadata": {
    "execution": {
     "iopub.execute_input": "2025-03-19T22:50:33.157671Z",
     "iopub.status.busy": "2025-03-19T22:50:33.157293Z",
     "iopub.status.idle": "2025-03-19T22:50:33.163686Z",
     "shell.execute_reply": "2025-03-19T22:50:33.162382Z"
    },
    "papermill": {
     "duration": 0.030008,
     "end_time": "2025-03-19T22:50:33.165782",
     "exception": false,
     "start_time": "2025-03-19T22:50:33.135774",
     "status": "completed"
    },
    "tags": []
   },
   "outputs": [],
   "source": [
    "from itertools import permutations\n",
    "\n",
    "def naive_overlap_map(reads, k):\n",
    "    olaps = {}\n",
    "    for a,b  in permutations(reads, 2):\n",
    "        olen = overlap(a, b, min_length = k)\n",
    "        if olen > 0:\n",
    "            olaps[(a,b)] = olen\n",
    "    return olaps"
   ]
  },
  {
   "cell_type": "code",
   "execution_count": 56,
   "id": "0d9ea7db",
   "metadata": {
    "execution": {
     "iopub.execute_input": "2025-03-19T22:50:33.208367Z",
     "iopub.status.busy": "2025-03-19T22:50:33.207970Z",
     "iopub.status.idle": "2025-03-19T22:50:33.214158Z",
     "shell.execute_reply": "2025-03-19T22:50:33.213133Z"
    },
    "papermill": {
     "duration": 0.030681,
     "end_time": "2025-03-19T22:50:33.216415",
     "exception": false,
     "start_time": "2025-03-19T22:50:33.185734",
     "status": "completed"
    },
    "tags": []
   },
   "outputs": [
    {
     "name": "stdout",
     "output_type": "stream",
     "text": [
      "{('ACGGATGATC', 'GATCAAGT'): 4, ('TTCACGGA', 'ACGGATGATC'): 5}\n"
     ]
    }
   ],
   "source": [
    "reads = ['ACGGATGATC', 'GATCAAGT', 'TTCACGGA']\n",
    "print(naive_overlap_map(reads, 3))"
   ]
  },
  {
   "cell_type": "markdown",
   "id": "34d9bdab",
   "metadata": {
    "papermill": {
     "duration": 0.020025,
     "end_time": "2025-03-19T22:50:33.256820",
     "exception": false,
     "start_time": "2025-03-19T22:50:33.236795",
     "status": "completed"
    },
    "tags": []
   },
   "source": [
    "**Project:**\n",
    "\n",
    "Adapt the editDistance function we saw in practical to answer questions 1 and 2 below. Your function should take arguments p (pattern), t (text) and should return the edit distance of the match between P and T with the fewest edits.\n",
    "\n",
    "Hint: In the \"A new solution to approximate matching\" video we saw that the best approximate match of P = GCGTATGC within T = TATTGGCTATACGGTT had 2 edits. You can use this and other small examples to double-check that your function is working.\n",
    "\n"
   ]
  },
  {
   "cell_type": "code",
   "execution_count": 57,
   "id": "50aeb7a7",
   "metadata": {
    "execution": {
     "iopub.execute_input": "2025-03-19T22:50:33.299407Z",
     "iopub.status.busy": "2025-03-19T22:50:33.298991Z",
     "iopub.status.idle": "2025-03-19T22:50:33.307525Z",
     "shell.execute_reply": "2025-03-19T22:50:33.306160Z"
    },
    "papermill": {
     "duration": 0.032952,
     "end_time": "2025-03-19T22:50:33.309729",
     "exception": false,
     "start_time": "2025-03-19T22:50:33.276777",
     "status": "completed"
    },
    "tags": []
   },
   "outputs": [],
   "source": [
    "def editDistance(p, t):\n",
    "    # Create distance matrix\n",
    "    D = []\n",
    "    for i in range(len(x)+1):\n",
    "        D.append([0]*(len(y)+1))\n",
    "    # Initialize first row and column of matrix\n",
    "    for i in range(len(x)+1):\n",
    "        D[i][0] = i\n",
    "    for i in range(len(y)+1):\n",
    "        D[0][i] = 0 # initialize all the first row as zeros\n",
    "    # Fill in the rest of the matrix\n",
    "    for i in range(1, len(x)+1):\n",
    "        for j in range(1, len(y)+1):\n",
    "            distHor = D[i][j-1] + 1\n",
    "            distVer = D[i-1][j] + 1\n",
    "            if x[i-1] == y[j-1]:\n",
    "                distDiag = D[i-1][j-1]\n",
    "            else:\n",
    "                distDiag = D[i-1][j-1] + 1\n",
    "            D[i][j] = min(distHor, distVer, distDiag)\n",
    "    # Get the edit distance with the best match\n",
    "    return min(D[-1])\n"
   ]
  },
  {
   "cell_type": "code",
   "execution_count": 58,
   "id": "993585f1",
   "metadata": {
    "execution": {
     "iopub.execute_input": "2025-03-19T22:50:33.352443Z",
     "iopub.status.busy": "2025-03-19T22:50:33.352032Z",
     "iopub.status.idle": "2025-03-19T22:50:42.350850Z",
     "shell.execute_reply": "2025-03-19T22:50:42.349551Z"
    },
    "papermill": {
     "duration": 9.02344,
     "end_time": "2025-03-19T22:50:42.353492",
     "exception": false,
     "start_time": "2025-03-19T22:50:33.330052",
     "status": "completed"
    },
    "tags": []
   },
   "outputs": [
    {
     "name": "stdout",
     "output_type": "stream",
     "text": [
      "2\n"
     ]
    }
   ],
   "source": [
    "# x = 'GCTGATCGATCGTACG'\n",
    "# y = chromosome\n",
    "\n",
    "x = 'GATTTACCAGATTGAG'\n",
    "y = chromosome\n",
    "\n",
    "# x = 'shake spea'\n",
    "# y = 'Shakespear'\n",
    "\n",
    "\n",
    "\n",
    "print(editDistance(x,y))"
   ]
  },
  {
   "cell_type": "markdown",
   "id": "64ff002b",
   "metadata": {
    "papermill": {
     "duration": 0.020023,
     "end_time": "2025-03-19T22:50:42.394176",
     "exception": false,
     "start_time": "2025-03-19T22:50:42.374153",
     "status": "completed"
    },
    "tags": []
   },
   "source": [
    "**Project2** \n",
    "\n",
    "Say we are concerned only with overlaps that (a) are exact matches (no differences allowed), and (b) are at least k bases long. To make an overlap graph, we could call overlap(a, b, min_length=k) on every possible pair of reads from the dataset. Unfortunately, that will be very slow!\n",
    "\n",
    "Consider this: Say we are using k=6, and we have a read a whose length-6 suffix is GTCCTA. Say GTCCTA does not occur in any other read in the dataset. In other words, the 6-mer GTCCTA occurs at the end of read a and nowhere else. It follows that a's suffix cannot possibly overlap the prefix of any other read by 6 or more characters.\n",
    "\n",
    "Put another way, if we want to find the overlaps involving a suffix of read a and a prefix of some other read, we can ignore any reads that don't contain the length-k suffix of a. This is good news because it can save us a lot of work!\n",
    "\n",
    "Here is a suggestion for how to implement this idea. You don't have to do it this way, but this might help you. Let every k-mer in the dataset have an associated Python set object, which starts out empty. We use a Python dictionary to associate each k-mer with its corresponding set. (1) For every k-mer in a read, we add the read to the set object corresponding to that k-mer. If our read is GATTA and k=3, we would add GATTA to the set objects for GAT, ATT, and TTA. We do this for every read so that, at the end, each set contains all reads containing the corresponding k-mer. (2) Now, for each read a, we find all overlaps involving a suffix of a. To do this, we take a's length-k suffix, find all reads containing that k-mer (obtained from the corresponding set) and call overlap(a, b, min_length=k) for each.\n",
    "\n",
    "The most important point is that we do not call overlap(a, b, min_length=k) if b does not contain the length-k suffix of a.\n",
    "\n",
    "Download and parse the read sequences from the provided Phi-X FASTQ file. We'll just use their base sequences, so you can ignore read names and base qualities. Also, no two reads in the FASTQ have the same sequence of bases. This makes things simpler.\n",
    "\n",
    "https://d28rh4a8wq0iu5.cloudfront.net/ads1/data/ERR266411_1.for_asm.fastq\n",
    "\n",
    "Next, find all pairs of reads with an exact suffix/prefix match of length at least 30. Don't overlap a read with itself; if a read has a suffix/prefix match to itself, ignore that match. Ignore reverse complements.\n",
    "\n",
    "Hint 1: Your function should not take much more than 15 seconds to run on this 10,000-read dataset, and maybe much less than that. (Our solution takes about 3 seconds.) If your function is much slower, there is a problem somewhere.\n",
    "\n",
    "Hint 2: Remember not to overlap a read with itself. If you do, your answers will be too high.\n",
    "\n",
    "Hint 3: You can test your implementation by making up small examples, then checking that (a) your implementation runs quickly, and (b) you get the same answer as if you had simply called overlap(a, b, min_length=k) on every pair of reads. We also have provided a couple of examples you can check against.\n",
    "\n",
    "Picture the overlap graph corresponding to the overlaps just calculated. How many edges are in the graph? In other words, how many distinct pairs of reads overlap?\n",
    "\n"
   ]
  },
  {
   "cell_type": "code",
   "execution_count": 59,
   "id": "5f35f391",
   "metadata": {
    "execution": {
     "iopub.execute_input": "2025-03-19T22:50:42.437204Z",
     "iopub.status.busy": "2025-03-19T22:50:42.436358Z",
     "iopub.status.idle": "2025-03-19T22:50:42.443118Z",
     "shell.execute_reply": "2025-03-19T22:50:42.441961Z"
    },
    "papermill": {
     "duration": 0.031096,
     "end_time": "2025-03-19T22:50:42.445655",
     "exception": false,
     "start_time": "2025-03-19T22:50:42.414559",
     "status": "completed"
    },
    "tags": []
   },
   "outputs": [],
   "source": [
    "def overlap(a, b, min_length=3):\n",
    "    start = 0 # start all the way at the left\n",
    "\n",
    "    while True:\n",
    "        start = a.find(b[:min_length], start) # look for b's suffix in a\n",
    "        if start == -1: # no more occurences to right\n",
    "            return 0\n",
    "        # found occurence; check for full suffix/prefix match\n",
    "        if b.startswith(a[start:]):\n",
    "            return len(a) - start\n",
    "        start += 1 # move just past the previous match"
   ]
  },
  {
   "cell_type": "code",
   "execution_count": 60,
   "id": "33079999",
   "metadata": {
    "execution": {
     "iopub.execute_input": "2025-03-19T22:50:42.492795Z",
     "iopub.status.busy": "2025-03-19T22:50:42.492368Z",
     "iopub.status.idle": "2025-03-19T22:50:42.500269Z",
     "shell.execute_reply": "2025-03-19T22:50:42.499119Z"
    },
    "papermill": {
     "duration": 0.036049,
     "end_time": "2025-03-19T22:50:42.502896",
     "exception": false,
     "start_time": "2025-03-19T22:50:42.466847",
     "status": "completed"
    },
    "tags": []
   },
   "outputs": [],
   "source": [
    "from collections import defaultdict\n",
    "\n",
    "def overlap_all_pairs(reads, k):\n",
    "    olaps = {}\n",
    "    kdict = defaultdict(set)\n",
    "    nodes = set()\n",
    "    for r in reads:\n",
    "        for i in range(len(r) - k + 1):\n",
    "            kdict[(r[i:i+k])].add(r)\n",
    "\n",
    "    for a in reads:\n",
    "        bset = kdict[a[-k:]]\n",
    "        bset.discard(a)\n",
    "        for b in bset:\n",
    "            olen = overlap(a, b, min_length=k)\n",
    "            if olen > 0:\n",
    "                olaps[(a,b)] = olen\n",
    "                nodes.add(a)\n",
    "    return len(olaps), len(nodes)\n",
    "    "
   ]
  },
  {
   "cell_type": "code",
   "execution_count": 61,
   "id": "3d0b9a1c",
   "metadata": {
    "execution": {
     "iopub.execute_input": "2025-03-19T22:50:42.565397Z",
     "iopub.status.busy": "2025-03-19T22:50:42.564342Z",
     "iopub.status.idle": "2025-03-19T22:50:42.648690Z",
     "shell.execute_reply": "2025-03-19T22:50:42.647601Z"
    },
    "papermill": {
     "duration": 0.122944,
     "end_time": "2025-03-19T22:50:42.651381",
     "exception": false,
     "start_time": "2025-03-19T22:50:42.528437",
     "status": "completed"
    },
    "tags": []
   },
   "outputs": [],
   "source": [
    "reads, _ = readFastq('/kaggle/input/genome6/ERR266411_1.for_asm.fastq')"
   ]
  },
  {
   "cell_type": "code",
   "execution_count": 62,
   "id": "3c4ad374",
   "metadata": {
    "execution": {
     "iopub.execute_input": "2025-03-19T22:50:42.698563Z",
     "iopub.status.busy": "2025-03-19T22:50:42.698178Z",
     "iopub.status.idle": "2025-03-19T22:50:45.867427Z",
     "shell.execute_reply": "2025-03-19T22:50:45.866165Z"
    },
    "papermill": {
     "duration": 3.195986,
     "end_time": "2025-03-19T22:50:45.870115",
     "exception": false,
     "start_time": "2025-03-19T22:50:42.674129",
     "status": "completed"
    },
    "tags": []
   },
   "outputs": [
    {
     "name": "stdout",
     "output_type": "stream",
     "text": [
      "(904746, 7161)\n",
      "CPU times: user 2.96 s, sys: 198 ms, total: 3.16 s\n",
      "Wall time: 3.16 s\n"
     ]
    }
   ],
   "source": [
    "%%time\n",
    "reads1 = ['CGTACG', 'TACGTA', 'GTACGT', 'ACGTAC', 'GTACGA', 'TACGAT']\n",
    "reads2 = ['ABCDEFG', 'EFGHIJ', 'HIJABC']\n",
    "\n",
    "print(overlap_all_pairs(reads, 30))"
   ]
  },
  {
   "cell_type": "markdown",
   "id": "48a206ce",
   "metadata": {
    "papermill": {
     "duration": 0.020653,
     "end_time": "2025-03-19T22:50:45.911787",
     "exception": false,
     "start_time": "2025-03-19T22:50:45.891134",
     "status": "completed"
    },
    "tags": []
   },
   "source": [
    "# Week 4"
   ]
  },
  {
   "cell_type": "code",
   "execution_count": 63,
   "id": "ce1f4cb3",
   "metadata": {
    "execution": {
     "iopub.execute_input": "2025-03-19T22:50:45.955012Z",
     "iopub.status.busy": "2025-03-19T22:50:45.954616Z",
     "iopub.status.idle": "2025-03-19T22:50:45.963675Z",
     "shell.execute_reply": "2025-03-19T22:50:45.962515Z"
    },
    "papermill": {
     "duration": 0.03304,
     "end_time": "2025-03-19T22:50:45.965801",
     "exception": false,
     "start_time": "2025-03-19T22:50:45.932761",
     "status": "completed"
    },
    "tags": []
   },
   "outputs": [],
   "source": [
    "import itertools\n",
    "\n",
    "def scs(ss):\n",
    "    shortest_sup = None\n",
    "    for ssperm in itertools.permutations(ss):\n",
    "        sup = ssperm[0]\n",
    "        for i in range(len(ss)-1):\n",
    "            olen = overlap(ssperm[i], ssperm[i+1], min_length=1)\n",
    "            sup += ssperm[i+1][olen:]\n",
    "        if shortest_sup is None or len(sup) < len(shortest_sup):\n",
    "            shortest_sup = sup\n",
    "    return shortest_sup\n",
    "\n",
    "def scs_list(ss):\n",
    "    shortest_sup = None\n",
    "    shortest_sup_list = []\n",
    "    mini_len = 0\n",
    "    for ssperm in itertools.permutations(ss):\n",
    "        sup = ssperm[0]\n",
    "        for i in range(len(ss)-1):\n",
    "            olen = overlap(ssperm[i], ssperm[i+1], min_length=1)\n",
    "            sup += ssperm[i+1][olen:]\n",
    "        if shortest_sup is None or len(sup) <= len(shortest_sup):\n",
    "            shortest_sup = sup\n",
    "            mini_len = len(shortest_sup)\n",
    "            shortest_sup_list.append(shortest_sup)\n",
    "    \n",
    "    return [str for str in shortest_sup_list if len(str) == mini_len]"
   ]
  },
  {
   "cell_type": "code",
   "execution_count": 64,
   "id": "2c656bdb",
   "metadata": {
    "execution": {
     "iopub.execute_input": "2025-03-19T22:50:46.014824Z",
     "iopub.status.busy": "2025-03-19T22:50:46.014445Z",
     "iopub.status.idle": "2025-03-19T22:50:46.020981Z",
     "shell.execute_reply": "2025-03-19T22:50:46.019761Z"
    },
    "papermill": {
     "duration": 0.036236,
     "end_time": "2025-03-19T22:50:46.023824",
     "exception": false,
     "start_time": "2025-03-19T22:50:45.987588",
     "status": "completed"
    },
    "tags": []
   },
   "outputs": [
    {
     "name": "stdout",
     "output_type": "stream",
     "text": [
      "appleeeesherry\n"
     ]
    }
   ],
   "source": [
    "samp = [\"apple\", \"pleeees\", \"sherry\"]\n",
    "print(scs(samp))"
   ]
  },
  {
   "cell_type": "code",
   "execution_count": 65,
   "id": "7f59b2af",
   "metadata": {
    "execution": {
     "iopub.execute_input": "2025-03-19T22:50:46.067914Z",
     "iopub.status.busy": "2025-03-19T22:50:46.067488Z",
     "iopub.status.idle": "2025-03-19T22:50:46.089741Z",
     "shell.execute_reply": "2025-03-19T22:50:46.088187Z"
    },
    "papermill": {
     "duration": 0.047608,
     "end_time": "2025-03-19T22:50:46.092343",
     "exception": false,
     "start_time": "2025-03-19T22:50:46.044735",
     "status": "completed"
    },
    "tags": []
   },
   "outputs": [
    {
     "name": "stdout",
     "output_type": "stream",
     "text": [
      "CCTTGGATTGC\n",
      "11\n",
      "['CCTTGGATTGC', 'TGCCTTGGATT', 'TGGATTGCCTT', 'GATTGCCTTGG']\n",
      "4\n"
     ]
    }
   ],
   "source": [
    "samp1 = ['ABC', 'BCA', 'CAB']\n",
    "samp2 = ['GAT', 'TAG', 'TCG', 'TGC', 'AAT', 'ATA']\n",
    "samp3 = ['CCT', 'CTT', 'TGC', 'TGG', 'GAT', 'ATT']\n",
    "\n",
    "print(scs(samp3))\n",
    "print(len(scs(samp3)))\n",
    "print(scs_list(samp3))\n",
    "print(len(scs_list(samp3)))"
   ]
  },
  {
   "cell_type": "code",
   "execution_count": 66,
   "id": "6b0b1681",
   "metadata": {
    "execution": {
     "iopub.execute_input": "2025-03-19T22:50:46.136878Z",
     "iopub.status.busy": "2025-03-19T22:50:46.136450Z",
     "iopub.status.idle": "2025-03-19T22:50:46.144473Z",
     "shell.execute_reply": "2025-03-19T22:50:46.143215Z"
    },
    "papermill": {
     "duration": 0.03284,
     "end_time": "2025-03-19T22:50:46.146720",
     "exception": false,
     "start_time": "2025-03-19T22:50:46.113880",
     "status": "completed"
    },
    "tags": []
   },
   "outputs": [],
   "source": [
    "def pick_maximal_overlap(reads, k):\n",
    "    reada, readb = None, None\n",
    "    best_olen = 0\n",
    "    for a,b in itertools.permutations(reads, 2):\n",
    "        olen = overlap(a, b, min_length=k)\n",
    "        if olen > best_olen:\n",
    "            reada, readb = a, b\n",
    "            best_olen = olen\n",
    "    return reada, readb, best_olen\n",
    "\n",
    "\n",
    "def greedy_scs(reads, k):\n",
    "    read_a, read_b, olen = pick_maximal_overlap(reads, k)\n",
    "    while olen > 0:\n",
    "        reads.remove(read_a)\n",
    "        reads.remove(read_b)\n",
    "        reads.append(read_a + read_b[olen:])\n",
    "        read_a, read_b, olen = pick_maximal_overlap(reads, k)\n",
    "    return ''.join(reads)"
   ]
  },
  {
   "cell_type": "code",
   "execution_count": 67,
   "id": "8e361e3b",
   "metadata": {
    "execution": {
     "iopub.execute_input": "2025-03-19T22:50:46.189459Z",
     "iopub.status.busy": "2025-03-19T22:50:46.188985Z",
     "iopub.status.idle": "2025-03-19T22:50:46.195234Z",
     "shell.execute_reply": "2025-03-19T22:50:46.194048Z"
    },
    "papermill": {
     "duration": 0.030715,
     "end_time": "2025-03-19T22:50:46.197844",
     "exception": false,
     "start_time": "2025-03-19T22:50:46.167129",
     "status": "completed"
    },
    "tags": []
   },
   "outputs": [],
   "source": [
    "def generate_kmer(st, k):\n",
    "    kmers = set()\n",
    "    for i in range(len(st) - k + 1):\n",
    "        kmer = st[i:i+k]\n",
    "        kmers.add(kmer)\n",
    "    return kmers"
   ]
  },
  {
   "cell_type": "code",
   "execution_count": 68,
   "id": "14797eb2",
   "metadata": {
    "execution": {
     "iopub.execute_input": "2025-03-19T22:50:46.242854Z",
     "iopub.status.busy": "2025-03-19T22:50:46.242458Z",
     "iopub.status.idle": "2025-03-19T22:50:46.248599Z",
     "shell.execute_reply": "2025-03-19T22:50:46.247268Z"
    },
    "papermill": {
     "duration": 0.031461,
     "end_time": "2025-03-19T22:50:46.251052",
     "exception": false,
     "start_time": "2025-03-19T22:50:46.219591",
     "status": "completed"
    },
    "tags": []
   },
   "outputs": [
    {
     "name": "stdout",
     "output_type": "stream",
     "text": [
      "{'GATC', 'TCGA', 'CGTA', 'GCTG', 'GTAC', 'TACG', 'TGAT', 'ATCG', 'CGAT', 'CTGA', 'TCGT'}\n"
     ]
    }
   ],
   "source": [
    "print(generate_kmer('GCTGATCGATCGTACG', 4))"
   ]
  },
  {
   "cell_type": "code",
   "execution_count": 69,
   "id": "47b9a465",
   "metadata": {
    "execution": {
     "iopub.execute_input": "2025-03-19T22:50:46.294954Z",
     "iopub.status.busy": "2025-03-19T22:50:46.294522Z",
     "iopub.status.idle": "2025-03-19T22:50:46.301203Z",
     "shell.execute_reply": "2025-03-19T22:50:46.299879Z"
    },
    "papermill": {
     "duration": 0.031653,
     "end_time": "2025-03-19T22:50:46.303359",
     "exception": false,
     "start_time": "2025-03-19T22:50:46.271706",
     "status": "completed"
    },
    "tags": []
   },
   "outputs": [
    {
     "name": "stdout",
     "output_type": "stream",
     "text": [
      "CCTCTTTGCTGGGATATT\n"
     ]
    }
   ],
   "source": [
    "sample = generate_kmer('a_long_long_long_time', 11)\n",
    "print(greedy_scs(samp3, 30))\n",
    "\n",
    "# print(scs(sample))\n",
    "# experiment failed\n"
   ]
  },
  {
   "cell_type": "code",
   "execution_count": 70,
   "id": "0dc227d1",
   "metadata": {
    "execution": {
     "iopub.execute_input": "2025-03-19T22:50:46.347979Z",
     "iopub.status.busy": "2025-03-19T22:50:46.347612Z",
     "iopub.status.idle": "2025-03-19T22:50:46.354504Z",
     "shell.execute_reply": "2025-03-19T22:50:46.353314Z"
    },
    "papermill": {
     "duration": 0.031781,
     "end_time": "2025-03-19T22:50:46.356758",
     "exception": false,
     "start_time": "2025-03-19T22:50:46.324977",
     "status": "completed"
    },
    "tags": []
   },
   "outputs": [],
   "source": [
    "def de_bruijn_ize(st, k):\n",
    "    my_edges = []\n",
    "    my_nodes = set()\n",
    "    for i in range(len(st) - k + 1):\n",
    "        my_edges.append((st[i:i+k-1], st[i+1:i+k]))\n",
    "        my_nodes.add(st[i:i+k-1])\n",
    "        my_nodes.add(st[i+1:i+k])\n",
    "    return my_nodes, my_edges"
   ]
  },
  {
   "cell_type": "code",
   "execution_count": 71,
   "id": "2e893c61",
   "metadata": {
    "execution": {
     "iopub.execute_input": "2025-03-19T22:50:46.402533Z",
     "iopub.status.busy": "2025-03-19T22:50:46.401336Z",
     "iopub.status.idle": "2025-03-19T22:50:46.407883Z",
     "shell.execute_reply": "2025-03-19T22:50:46.406682Z"
    },
    "papermill": {
     "duration": 0.032267,
     "end_time": "2025-03-19T22:50:46.410236",
     "exception": false,
     "start_time": "2025-03-19T22:50:46.377969",
     "status": "completed"
    },
    "tags": []
   },
   "outputs": [
    {
     "name": "stdout",
     "output_type": "stream",
     "text": [
      "{'TC', 'GC', 'GT', 'CG', 'AC'}\n",
      "[('AC', 'CG'), ('CG', 'GC'), ('GC', 'CG'), ('CG', 'GT'), ('GT', 'TC'), ('TC', 'CG')]\n"
     ]
    }
   ],
   "source": [
    "nodes, edges = de_bruijn_ize ('ACGCGTCG', 3)\n",
    "print(nodes)\n",
    "print(edges)"
   ]
  },
  {
   "cell_type": "code",
   "execution_count": 72,
   "id": "343c2e47",
   "metadata": {
    "execution": {
     "iopub.execute_input": "2025-03-19T22:50:46.455951Z",
     "iopub.status.busy": "2025-03-19T22:50:46.454979Z",
     "iopub.status.idle": "2025-03-19T22:50:46.461615Z",
     "shell.execute_reply": "2025-03-19T22:50:46.460157Z"
    },
    "papermill": {
     "duration": 0.032492,
     "end_time": "2025-03-19T22:50:46.464207",
     "exception": false,
     "start_time": "2025-03-19T22:50:46.431715",
     "status": "completed"
    },
    "tags": []
   },
   "outputs": [],
   "source": [
    "def visualize_de_bruijn(st, k):\n",
    "    \"\"\" Visualize a directed multigraph using graphviz \"\"\"\n",
    "    nodes, edges = de_bruijn_ize(st, k)\n",
    "    dot_str = 'digraph \"DeBruijn graph\" {\\n'\n",
    "    for node in nodes:\n",
    "        dot_str += '  %s [label=\"%s\"] ;\\n' % (node, node)\n",
    "    for src, dst in edges:\n",
    "        dot_str += '  %s -> %s ;\\n' % (src, dst)\n",
    "    return dot_str + '}\\n'"
   ]
  },
  {
   "cell_type": "code",
   "execution_count": 73,
   "id": "e0c85e1e",
   "metadata": {
    "execution": {
     "iopub.execute_input": "2025-03-19T22:50:46.510428Z",
     "iopub.status.busy": "2025-03-19T22:50:46.509954Z",
     "iopub.status.idle": "2025-03-19T22:50:46.965629Z",
     "shell.execute_reply": "2025-03-19T22:50:46.964408Z"
    },
    "papermill": {
     "duration": 0.482622,
     "end_time": "2025-03-19T22:50:46.967895",
     "exception": false,
     "start_time": "2025-03-19T22:50:46.485273",
     "status": "completed"
    },
    "tags": []
   },
   "outputs": [
    {
     "data": {
      "image/svg+xml": [
       "<?xml version=\"1.0\" encoding=\"UTF-8\" standalone=\"no\"?>\n",
       "<!DOCTYPE svg PUBLIC \"-//W3C//DTD SVG 1.1//EN\"\n",
       " \"http://www.w3.org/Graphics/SVG/1.1/DTD/svg11.dtd\">\n",
       "<!-- Generated by graphviz version 9.0.0 (20231125.0833)\n",
       " -->\n",
       "<!-- Title: DeBruijn graph Pages: 1 -->\n",
       "<svg width=\"311pt\" height=\"404pt\"\n",
       " viewBox=\"0.00 0.00 310.54 404.00\" xmlns=\"http://www.w3.org/2000/svg\" xmlns:xlink=\"http://www.w3.org/1999/xlink\">\n",
       "<g id=\"graph0\" class=\"graph\" transform=\"scale(1 1) rotate(0) translate(4 400)\">\n",
       "<title>DeBruijn graph</title>\n",
       "<polygon fill=\"white\" stroke=\"none\" points=\"-4,4 -4,-400 306.54,-400 306.54,4 -4,4\"/>\n",
       "<!-- long -->\n",
       "<g id=\"node1\" class=\"node\">\n",
       "<title>long</title>\n",
       "<ellipse fill=\"none\" stroke=\"black\" cx=\"154.85\" cy=\"-378\" rx=\"32.79\" ry=\"18\"/>\n",
       "<text text-anchor=\"middle\" x=\"154.85\" y=\"-373.32\" font-family=\"Times,serif\" font-size=\"14.00\">long</text>\n",
       "</g>\n",
       "<!-- ong_ -->\n",
       "<g id=\"node4\" class=\"node\">\n",
       "<title>ong_</title>\n",
       "<ellipse fill=\"none\" stroke=\"black\" cx=\"114.85\" cy=\"-306\" rx=\"34.37\" ry=\"18\"/>\n",
       "<text text-anchor=\"middle\" x=\"114.85\" y=\"-301.32\" font-family=\"Times,serif\" font-size=\"14.00\">ong_</text>\n",
       "</g>\n",
       "<!-- long&#45;&gt;ong_ -->\n",
       "<g id=\"edge3\" class=\"edge\">\n",
       "<title>long&#45;&gt;ong_</title>\n",
       "<path fill=\"none\" stroke=\"black\" d=\"M135.94,-363.17C129.11,-355.06 122.34,-344.53 117.48,-334.78\"/>\n",
       "<polygon fill=\"black\" stroke=\"black\" points=\"120.71,-333.43 113.5,-325.66 114.29,-336.23 120.71,-333.43\"/>\n",
       "</g>\n",
       "<!-- long&#45;&gt;ong_ -->\n",
       "<g id=\"edge8\" class=\"edge\">\n",
       "<title>long&#45;&gt;ong_</title>\n",
       "<path fill=\"none\" stroke=\"black\" d=\"M145.37,-360.41C140.73,-352.3 135.05,-342.35 129.85,-333.25\"/>\n",
       "<polygon fill=\"black\" stroke=\"black\" points=\"133.01,-331.73 125.01,-324.78 126.93,-335.2 133.01,-331.73\"/>\n",
       "</g>\n",
       "<!-- long&#45;&gt;ong_ -->\n",
       "<g id=\"edge13\" class=\"edge\">\n",
       "<title>long&#45;&gt;ong_</title>\n",
       "<path fill=\"none\" stroke=\"black\" d=\"M156.79,-359.7C153.55,-350.83 147.64,-339.91 140.97,-330.31\"/>\n",
       "<polygon fill=\"black\" stroke=\"black\" points=\"143.87,-328.34 135.05,-322.49 138.29,-332.57 143.87,-328.34\"/>\n",
       "</g>\n",
       "<!-- ng_t -->\n",
       "<g id=\"node2\" class=\"node\">\n",
       "<title>ng_t</title>\n",
       "<ellipse fill=\"none\" stroke=\"black\" cx=\"33.85\" cy=\"-234\" rx=\"32.79\" ry=\"18\"/>\n",
       "<text text-anchor=\"middle\" x=\"33.85\" y=\"-229.32\" font-family=\"Times,serif\" font-size=\"14.00\">ng_t</text>\n",
       "</g>\n",
       "<!-- g_ti -->\n",
       "<g id=\"node8\" class=\"node\">\n",
       "<title>g_ti</title>\n",
       "<ellipse fill=\"none\" stroke=\"black\" cx=\"33.85\" cy=\"-162\" rx=\"29.64\" ry=\"18\"/>\n",
       "<text text-anchor=\"middle\" x=\"33.85\" y=\"-157.32\" font-family=\"Times,serif\" font-size=\"14.00\">g_ti</text>\n",
       "</g>\n",
       "<!-- ng_t&#45;&gt;g_ti -->\n",
       "<g id=\"edge15\" class=\"edge\">\n",
       "<title>ng_t&#45;&gt;g_ti</title>\n",
       "<path fill=\"none\" stroke=\"black\" d=\"M33.85,-215.7C33.85,-208.41 33.85,-199.73 33.85,-191.54\"/>\n",
       "<polygon fill=\"black\" stroke=\"black\" points=\"37.35,-191.62 33.85,-181.62 30.35,-191.62 37.35,-191.62\"/>\n",
       "</g>\n",
       "<!-- _lon -->\n",
       "<g id=\"node3\" class=\"node\">\n",
       "<title>_lon</title>\n",
       "<ellipse fill=\"none\" stroke=\"black\" cx=\"194.85\" cy=\"-90\" rx=\"31.22\" ry=\"18\"/>\n",
       "<text text-anchor=\"middle\" x=\"194.85\" y=\"-85.33\" font-family=\"Times,serif\" font-size=\"14.00\">_lon</text>\n",
       "</g>\n",
       "<!-- _lon&#45;&gt;long -->\n",
       "<g id=\"edge2\" class=\"edge\">\n",
       "<title>_lon&#45;&gt;long</title>\n",
       "<path fill=\"none\" stroke=\"black\" d=\"M185.78,-107.59C170.82,-154.64 151.39,-289.37 150.34,-348.54\"/>\n",
       "<polygon fill=\"black\" stroke=\"black\" points=\"146.84,-348.47 150.39,-358.45 153.84,-348.43 146.84,-348.47\"/>\n",
       "</g>\n",
       "<!-- _lon&#45;&gt;long -->\n",
       "<g id=\"edge7\" class=\"edge\">\n",
       "<title>_lon&#45;&gt;long</title>\n",
       "<path fill=\"none\" stroke=\"black\" d=\"M192.43,-108.31C185.75,-156.01 167.05,-289.76 158.82,-348.6\"/>\n",
       "<polygon fill=\"black\" stroke=\"black\" points=\"155.36,-348.08 157.44,-358.47 162.29,-349.05 155.36,-348.08\"/>\n",
       "</g>\n",
       "<!-- _lon&#45;&gt;long -->\n",
       "<g id=\"edge12\" class=\"edge\">\n",
       "<title>_lon&#45;&gt;long</title>\n",
       "<path fill=\"none\" stroke=\"black\" d=\"M199.29,-108.02C200.97,-155.7 182.58,-290.91 167.08,-349.44\"/>\n",
       "<polygon fill=\"black\" stroke=\"black\" points=\"163.75,-348.35 164.34,-358.93 170.47,-350.29 163.75,-348.35\"/>\n",
       "</g>\n",
       "<!-- ong_&#45;&gt;ng_t -->\n",
       "<g id=\"edge14\" class=\"edge\">\n",
       "<title>ong_&#45;&gt;ng_t</title>\n",
       "<path fill=\"none\" stroke=\"black\" d=\"M97.67,-290.15C86.61,-280.6 72.03,-267.99 59.59,-257.25\"/>\n",
       "<polygon fill=\"black\" stroke=\"black\" points=\"62,-254.7 52.14,-250.81 57.42,-260 62,-254.7\"/>\n",
       "</g>\n",
       "<!-- ng_l -->\n",
       "<g id=\"node5\" class=\"node\">\n",
       "<title>ng_l</title>\n",
       "<ellipse fill=\"none\" stroke=\"black\" cx=\"116.85\" cy=\"-234\" rx=\"31.74\" ry=\"18\"/>\n",
       "<text text-anchor=\"middle\" x=\"116.85\" y=\"-229.32\" font-family=\"Times,serif\" font-size=\"14.00\">ng_l</text>\n",
       "</g>\n",
       "<!-- ong_&#45;&gt;ng_l -->\n",
       "<g id=\"edge4\" class=\"edge\">\n",
       "<title>ong_&#45;&gt;ng_l</title>\n",
       "<path fill=\"none\" stroke=\"black\" d=\"M109.45,-288.05C108.87,-280.57 108.88,-271.58 109.41,-263.14\"/>\n",
       "<polygon fill=\"black\" stroke=\"black\" points=\"112.88,-263.59 110.36,-253.3 105.91,-262.91 112.88,-263.59\"/>\n",
       "</g>\n",
       "<!-- ong_&#45;&gt;ng_l -->\n",
       "<g id=\"edge9\" class=\"edge\">\n",
       "<title>ong_&#45;&gt;ng_l</title>\n",
       "<path fill=\"none\" stroke=\"black\" d=\"M121.21,-288.05C122.22,-280.57 122.73,-271.58 122.68,-263.14\"/>\n",
       "<polygon fill=\"black\" stroke=\"black\" points=\"126.18,-263.16 122.29,-253.3 119.18,-263.43 126.18,-263.16\"/>\n",
       "</g>\n",
       "<!-- g_lo -->\n",
       "<g id=\"node10\" class=\"node\">\n",
       "<title>g_lo</title>\n",
       "<ellipse fill=\"none\" stroke=\"black\" cx=\"117.85\" cy=\"-162\" rx=\"31.22\" ry=\"18\"/>\n",
       "<text text-anchor=\"middle\" x=\"117.85\" y=\"-157.32\" font-family=\"Times,serif\" font-size=\"14.00\">g_lo</text>\n",
       "</g>\n",
       "<!-- ng_l&#45;&gt;g_lo -->\n",
       "<g id=\"edge5\" class=\"edge\">\n",
       "<title>ng_l&#45;&gt;g_lo</title>\n",
       "<path fill=\"none\" stroke=\"black\" d=\"M111.21,-216.05C110.52,-208.57 110.4,-199.58 110.81,-191.14\"/>\n",
       "<polygon fill=\"black\" stroke=\"black\" points=\"114.29,-191.55 111.62,-181.3 107.31,-190.98 114.29,-191.55\"/>\n",
       "</g>\n",
       "<!-- ng_l&#45;&gt;g_lo -->\n",
       "<g id=\"edge10\" class=\"edge\">\n",
       "<title>ng_l&#45;&gt;g_lo</title>\n",
       "<path fill=\"none\" stroke=\"black\" d=\"M122.97,-216.05C123.87,-208.57 124.25,-199.58 124.08,-191.14\"/>\n",
       "<polygon fill=\"black\" stroke=\"black\" points=\"127.58,-191.1 123.55,-181.3 120.59,-191.47 127.58,-191.1\"/>\n",
       "</g>\n",
       "<!-- _tim -->\n",
       "<g id=\"node6\" class=\"node\">\n",
       "<title>_tim</title>\n",
       "<ellipse fill=\"none\" stroke=\"black\" cx=\"33.85\" cy=\"-90\" rx=\"32.79\" ry=\"18\"/>\n",
       "<text text-anchor=\"middle\" x=\"33.85\" y=\"-85.33\" font-family=\"Times,serif\" font-size=\"14.00\">_tim</text>\n",
       "</g>\n",
       "<!-- time -->\n",
       "<g id=\"node7\" class=\"node\">\n",
       "<title>time</title>\n",
       "<ellipse fill=\"none\" stroke=\"black\" cx=\"33.85\" cy=\"-18\" rx=\"33.85\" ry=\"18\"/>\n",
       "<text text-anchor=\"middle\" x=\"33.85\" y=\"-13.32\" font-family=\"Times,serif\" font-size=\"14.00\">time</text>\n",
       "</g>\n",
       "<!-- _tim&#45;&gt;time -->\n",
       "<g id=\"edge17\" class=\"edge\">\n",
       "<title>_tim&#45;&gt;time</title>\n",
       "<path fill=\"none\" stroke=\"black\" d=\"M33.85,-71.7C33.85,-64.41 33.85,-55.73 33.85,-47.54\"/>\n",
       "<polygon fill=\"black\" stroke=\"black\" points=\"37.35,-47.62 33.85,-37.62 30.35,-47.62 37.35,-47.62\"/>\n",
       "</g>\n",
       "<!-- g_ti&#45;&gt;_tim -->\n",
       "<g id=\"edge16\" class=\"edge\">\n",
       "<title>g_ti&#45;&gt;_tim</title>\n",
       "<path fill=\"none\" stroke=\"black\" d=\"M33.85,-143.7C33.85,-136.41 33.85,-127.73 33.85,-119.54\"/>\n",
       "<polygon fill=\"black\" stroke=\"black\" points=\"37.35,-119.62 33.85,-109.62 30.35,-119.62 37.35,-119.62\"/>\n",
       "</g>\n",
       "<!-- a_lo -->\n",
       "<g id=\"node9\" class=\"node\">\n",
       "<title>a_lo</title>\n",
       "<ellipse fill=\"none\" stroke=\"black\" cx=\"271.85\" cy=\"-162\" rx=\"30.69\" ry=\"18\"/>\n",
       "<text text-anchor=\"middle\" x=\"271.85\" y=\"-157.32\" font-family=\"Times,serif\" font-size=\"14.00\">a_lo</text>\n",
       "</g>\n",
       "<!-- a_lo&#45;&gt;_lon -->\n",
       "<g id=\"edge1\" class=\"edge\">\n",
       "<title>a_lo&#45;&gt;_lon</title>\n",
       "<path fill=\"none\" stroke=\"black\" d=\"M255.89,-146.5C245.33,-136.89 231.27,-124.11 219.31,-113.24\"/>\n",
       "<polygon fill=\"black\" stroke=\"black\" points=\"221.92,-110.88 212.17,-106.74 217.21,-116.06 221.92,-110.88\"/>\n",
       "</g>\n",
       "<!-- g_lo&#45;&gt;_lon -->\n",
       "<g id=\"edge6\" class=\"edge\">\n",
       "<title>g_lo&#45;&gt;_lon</title>\n",
       "<path fill=\"none\" stroke=\"black\" d=\"M129.56,-145.12C139.34,-135.18 153.37,-122.29 166,-111.58\"/>\n",
       "<polygon fill=\"black\" stroke=\"black\" points=\"168.23,-114.28 173.7,-105.2 163.76,-108.88 168.23,-114.28\"/>\n",
       "</g>\n",
       "<!-- g_lo&#45;&gt;_lon -->\n",
       "<g id=\"edge11\" class=\"edge\">\n",
       "<title>g_lo&#45;&gt;_lon</title>\n",
       "<path fill=\"none\" stroke=\"black\" d=\"M137.74,-147.83C149.19,-138.62 163.38,-126.04 174.83,-115.06\"/>\n",
       "<polygon fill=\"black\" stroke=\"black\" points=\"177.21,-117.63 181.89,-108.12 172.3,-112.64 177.21,-117.63\"/>\n",
       "</g>\n",
       "</g>\n",
       "</svg>\n"
      ],
      "text/plain": [
       "<graphviz.sources.Source at 0x794de289be20>"
      ]
     },
     "metadata": {},
     "output_type": "display_data"
    }
   ],
   "source": [
    "import graphviz\n",
    "from IPython.display import display\n",
    "\n",
    "display(graphviz.Source(visualize_de_bruijn('a_long_long_long_time', 5)))"
   ]
  },
  {
   "cell_type": "code",
   "execution_count": null,
   "id": "54313c91",
   "metadata": {
    "papermill": {
     "duration": 0.021099,
     "end_time": "2025-03-19T22:50:47.010647",
     "exception": false,
     "start_time": "2025-03-19T22:50:46.989548",
     "status": "completed"
    },
    "tags": []
   },
   "outputs": [],
   "source": []
  },
  {
   "cell_type": "markdown",
   "id": "dc66d476",
   "metadata": {
    "papermill": {
     "duration": 0.021589,
     "end_time": "2025-03-19T22:50:47.053406",
     "exception": false,
     "start_time": "2025-03-19T22:50:47.031817",
     "status": "completed"
    },
    "tags": []
   },
   "source": [
    "**Project:**\n",
    "\n",
    "All the reads are the same length (100 bases) and are exact copies of substrings from the forward strand of the virus genome (genome7 dataset).  You don't have to worry about sequencing errors, ploidy, or reads coming from the reverse strand.\n",
    "\n",
    "Assemble these reads using one of the approaches discussed, such as greedy shortest common superstring.  Since there are many reads, you might consider ways to make the algorithm faster, such as the one discussed in the programming assignment in the previous module.\n",
    "\n",
    "How many As are there in the full, assembled genome?\n",
    "\n",
    "Hint: the virus genome you are assembling is exactly 15,894 bases long\n",
    "\n",
    "How many Ts are there in the full, assembled genome from the previous question?\n",
    "\n",
    "\n"
   ]
  },
  {
   "cell_type": "code",
   "execution_count": 74,
   "id": "93879bea",
   "metadata": {
    "execution": {
     "iopub.execute_input": "2025-03-19T22:50:47.100505Z",
     "iopub.status.busy": "2025-03-19T22:50:47.100123Z",
     "iopub.status.idle": "2025-03-19T22:50:47.119425Z",
     "shell.execute_reply": "2025-03-19T22:50:47.118134Z"
    },
    "papermill": {
     "duration": 0.046445,
     "end_time": "2025-03-19T22:50:47.122288",
     "exception": false,
     "start_time": "2025-03-19T22:50:47.075843",
     "status": "completed"
    },
    "tags": []
   },
   "outputs": [],
   "source": [
    "reads4, _ = readFastq('/kaggle/input/genome7/ads1_week4_reads.fq')"
   ]
  },
  {
   "cell_type": "code",
   "execution_count": 75,
   "id": "102ff1c1",
   "metadata": {
    "execution": {
     "iopub.execute_input": "2025-03-19T22:50:47.169536Z",
     "iopub.status.busy": "2025-03-19T22:50:47.169128Z",
     "iopub.status.idle": "2025-03-19T22:50:47.175137Z",
     "shell.execute_reply": "2025-03-19T22:50:47.173886Z"
    },
    "papermill": {
     "duration": 0.032349,
     "end_time": "2025-03-19T22:50:47.177324",
     "exception": false,
     "start_time": "2025-03-19T22:50:47.144975",
     "status": "completed"
    },
    "tags": []
   },
   "outputs": [
    {
     "name": "stdout",
     "output_type": "stream",
     "text": [
      "10000\n"
     ]
    }
   ],
   "source": [
    "print(len(reads))"
   ]
  },
  {
   "cell_type": "code",
   "execution_count": 76,
   "id": "a75f45e8",
   "metadata": {
    "execution": {
     "iopub.execute_input": "2025-03-19T22:50:47.222748Z",
     "iopub.status.busy": "2025-03-19T22:50:47.222367Z",
     "iopub.status.idle": "2025-03-19T23:17:09.298875Z",
     "shell.execute_reply": "2025-03-19T23:17:09.297582Z"
    },
    "papermill": {
     "duration": 1582.102968,
     "end_time": "2025-03-19T23:17:09.302090",
     "exception": false,
     "start_time": "2025-03-19T22:50:47.199122",
     "status": "completed"
    },
    "tags": []
   },
   "outputs": [],
   "source": [
    "genome = greedy_scs(reads4, 30)"
   ]
  },
  {
   "cell_type": "code",
   "execution_count": 77,
   "id": "1cb3cc42",
   "metadata": {
    "execution": {
     "iopub.execute_input": "2025-03-19T23:17:09.346897Z",
     "iopub.status.busy": "2025-03-19T23:17:09.346243Z",
     "iopub.status.idle": "2025-03-19T23:17:09.352820Z",
     "shell.execute_reply": "2025-03-19T23:17:09.351329Z"
    },
    "papermill": {
     "duration": 0.031208,
     "end_time": "2025-03-19T23:17:09.355026",
     "exception": false,
     "start_time": "2025-03-19T23:17:09.323818",
     "status": "completed"
    },
    "tags": []
   },
   "outputs": [
    {
     "name": "stdout",
     "output_type": "stream",
     "text": [
      "15894\n"
     ]
    }
   ],
   "source": [
    "print(len(genome))"
   ]
  },
  {
   "cell_type": "code",
   "execution_count": 78,
   "id": "30862892",
   "metadata": {
    "execution": {
     "iopub.execute_input": "2025-03-19T23:17:09.401888Z",
     "iopub.status.busy": "2025-03-19T23:17:09.400389Z",
     "iopub.status.idle": "2025-03-19T23:17:09.408053Z",
     "shell.execute_reply": "2025-03-19T23:17:09.406614Z"
    },
    "papermill": {
     "duration": 0.033679,
     "end_time": "2025-03-19T23:17:09.411085",
     "exception": false,
     "start_time": "2025-03-19T23:17:09.377406",
     "status": "completed"
    },
    "tags": []
   },
   "outputs": [
    {
     "name": "stdout",
     "output_type": "stream",
     "text": [
      "4633\n",
      "3723\n"
     ]
    }
   ],
   "source": [
    "counta = genome.count('A')\n",
    "print(counta)\n",
    "countt = genome.count('T')\n",
    "print(countt)"
   ]
  },
  {
   "cell_type": "code",
   "execution_count": 79,
   "id": "6fa230f7",
   "metadata": {
    "execution": {
     "iopub.execute_input": "2025-03-19T23:17:09.456091Z",
     "iopub.status.busy": "2025-03-19T23:17:09.455682Z",
     "iopub.status.idle": "2025-03-19T23:17:09.466128Z",
     "shell.execute_reply": "2025-03-19T23:17:09.464884Z"
    },
    "papermill": {
     "duration": 0.035668,
     "end_time": "2025-03-19T23:17:09.468565",
     "exception": false,
     "start_time": "2025-03-19T23:17:09.432897",
     "status": "completed"
    },
    "tags": []
   },
   "outputs": [],
   "source": [
    "def overlap(a, b, min_length=3):\n",
    "    start = 0 # start all the way at the left\n",
    "\n",
    "    while True:\n",
    "        start = a.find(b[:min_length], start) # look for b's suffix in a\n",
    "        if start == -1: # no more occurences to right\n",
    "            return 0\n",
    "        # found occurence; check for full suffix/prefix match\n",
    "        if b.startswith(a[start:]):\n",
    "            return len(a) - start\n",
    "        start += 1 # move just past the previous match\n",
    "\n",
    "from collections import defaultdict\n",
    "\n",
    "\n",
    "def pick_maximal_overlap_fast(reads, k):\n",
    "    reada, readb = None, None\n",
    "    best_olen = 0\n",
    "    kdict = defaultdict(set)\n",
    "    for r in reads:\n",
    "        for i in range(len(r) - k + 1):\n",
    "            kdict[(r[i:i+k])].add(r)\n",
    "\n",
    "    for a in reads:\n",
    "        bset = kdict[a[-k:]]\n",
    "        bset.discard(a)\n",
    "        for b in bset:\n",
    "            olen = overlap(a, b, min_length=k)\n",
    "            if olen > best_olen:\n",
    "                reada, readb = a, b\n",
    "                best_olen = olen\n",
    "            \n",
    "    return reada, readb, best_olen\n",
    "\n",
    "\n",
    "def greedy_scs_fast(reads, k):\n",
    "    read_a, read_b, olen = pick_maximal_overlap_fast(reads, k)\n",
    "    while olen > 0:\n",
    "        reads.remove(read_a)\n",
    "        reads.remove(read_b)\n",
    "        reads.append(read_a + read_b[olen:])\n",
    "        read_a, read_b, olen = pick_maximal_overlap_fast(reads, k)\n",
    "    return ''.join(reads)"
   ]
  },
  {
   "cell_type": "code",
   "execution_count": 80,
   "id": "48d169bf",
   "metadata": {
    "execution": {
     "iopub.execute_input": "2025-03-19T23:17:09.514463Z",
     "iopub.status.busy": "2025-03-19T23:17:09.514040Z",
     "iopub.status.idle": "2025-03-19T23:20:51.633016Z",
     "shell.execute_reply": "2025-03-19T23:20:51.631585Z"
    },
    "papermill": {
     "duration": 222.166153,
     "end_time": "2025-03-19T23:20:51.656634",
     "exception": false,
     "start_time": "2025-03-19T23:17:09.490481",
     "status": "completed"
    },
    "tags": []
   },
   "outputs": [
    {
     "name": "stdout",
     "output_type": "stream",
     "text": [
      "47157\n",
      "CPU times: user 3min 42s, sys: 43 ms, total: 3min 42s\n",
      "Wall time: 3min 42s\n"
     ]
    }
   ],
   "source": [
    "%%time\n",
    "read_samp = reads[:1000]\n",
    "print(len(greedy_scs(read_samp, 30)))"
   ]
  },
  {
   "cell_type": "code",
   "execution_count": 81,
   "id": "f1db0d98",
   "metadata": {
    "execution": {
     "iopub.execute_input": "2025-03-19T23:20:51.700353Z",
     "iopub.status.busy": "2025-03-19T23:20:51.699949Z",
     "iopub.status.idle": "2025-03-19T23:21:29.114118Z",
     "shell.execute_reply": "2025-03-19T23:21:29.112884Z"
    },
    "papermill": {
     "duration": 37.459707,
     "end_time": "2025-03-19T23:21:29.137527",
     "exception": false,
     "start_time": "2025-03-19T23:20:51.677820",
     "status": "completed"
    },
    "tags": []
   },
   "outputs": [
    {
     "name": "stdout",
     "output_type": "stream",
     "text": [
      "47157\n",
      "CPU times: user 37.4 s, sys: 14 ms, total: 37.4 s\n",
      "Wall time: 37.4 s\n"
     ]
    }
   ],
   "source": [
    "%%time\n",
    "read_samp = reads[:1000]\n",
    "print(len(greedy_scs_fast(read_samp, 30)))\n"
   ]
  },
  {
   "cell_type": "code",
   "execution_count": 82,
   "id": "968c27a3",
   "metadata": {
    "execution": {
     "iopub.execute_input": "2025-03-19T23:21:29.182559Z",
     "iopub.status.busy": "2025-03-19T23:21:29.181553Z",
     "iopub.status.idle": "2025-03-19T23:21:29.199030Z",
     "shell.execute_reply": "2025-03-19T23:21:29.197871Z"
    },
    "papermill": {
     "duration": 0.042672,
     "end_time": "2025-03-19T23:21:29.201500",
     "exception": false,
     "start_time": "2025-03-19T23:21:29.158828",
     "status": "completed"
    },
    "tags": []
   },
   "outputs": [],
   "source": [
    "genome_fast = greedy_scs_fast(reads4, 30)"
   ]
  },
  {
   "cell_type": "code",
   "execution_count": 83,
   "id": "8765311b",
   "metadata": {
    "execution": {
     "iopub.execute_input": "2025-03-19T23:21:29.246080Z",
     "iopub.status.busy": "2025-03-19T23:21:29.245603Z",
     "iopub.status.idle": "2025-03-19T23:21:29.251955Z",
     "shell.execute_reply": "2025-03-19T23:21:29.250680Z"
    },
    "papermill": {
     "duration": 0.031539,
     "end_time": "2025-03-19T23:21:29.254151",
     "exception": false,
     "start_time": "2025-03-19T23:21:29.222612",
     "status": "completed"
    },
    "tags": []
   },
   "outputs": [
    {
     "name": "stdout",
     "output_type": "stream",
     "text": [
      "15894\n"
     ]
    }
   ],
   "source": [
    "print(len(genome_fast))"
   ]
  },
  {
   "cell_type": "code",
   "execution_count": 84,
   "id": "bfa1fa4d",
   "metadata": {
    "execution": {
     "iopub.execute_input": "2025-03-19T23:21:29.301337Z",
     "iopub.status.busy": "2025-03-19T23:21:29.300928Z",
     "iopub.status.idle": "2025-03-19T23:21:29.306860Z",
     "shell.execute_reply": "2025-03-19T23:21:29.305829Z"
    },
    "papermill": {
     "duration": 0.032017,
     "end_time": "2025-03-19T23:21:29.308991",
     "exception": false,
     "start_time": "2025-03-19T23:21:29.276974",
     "status": "completed"
    },
    "tags": []
   },
   "outputs": [
    {
     "name": "stdout",
     "output_type": "stream",
     "text": [
      "4633\n",
      "3723\n"
     ]
    }
   ],
   "source": [
    "counta = genome_fast.count('A')\n",
    "print(counta)\n",
    "countt = genome_fast.count('T')\n",
    "print(countt)"
   ]
  }
 ],
 "metadata": {
  "kaggle": {
   "accelerator": "none",
   "dataSources": [
    {
     "datasetId": 4406207,
     "sourceId": 7568431,
     "sourceType": "datasetVersion"
    },
    {
     "datasetId": 4431818,
     "sourceId": 7610961,
     "sourceType": "datasetVersion"
    },
    {
     "datasetId": 4434458,
     "sourceId": 7614684,
     "sourceType": "datasetVersion"
    },
    {
     "datasetId": 4436499,
     "sourceId": 7617420,
     "sourceType": "datasetVersion"
    },
    {
     "datasetId": 4436865,
     "sourceId": 7617914,
     "sourceType": "datasetVersion"
    },
    {
     "datasetId": 4557619,
     "sourceId": 7786764,
     "sourceType": "datasetVersion"
    },
    {
     "datasetId": 6762201,
     "sourceId": 10882594,
     "sourceType": "datasetVersion"
    },
    {
     "datasetId": 6817695,
     "sourceId": 10958918,
     "sourceType": "datasetVersion"
    }
   ],
   "dockerImageVersionId": 30635,
   "isGpuEnabled": false,
   "isInternetEnabled": true,
   "language": "python",
   "sourceType": "notebook"
  },
  "kernelspec": {
   "display_name": "Python 3",
   "language": "python",
   "name": "python3"
  },
  "language_info": {
   "codemirror_mode": {
    "name": "ipython",
    "version": 3
   },
   "file_extension": ".py",
   "mimetype": "text/x-python",
   "name": "python",
   "nbconvert_exporter": "python",
   "pygments_lexer": "ipython3",
   "version": "3.10.12"
  },
  "papermill": {
   "default_parameters": {},
   "duration": 1882.643621,
   "end_time": "2025-03-19T23:21:30.157813",
   "environment_variables": {},
   "exception": null,
   "input_path": "__notebook__.ipynb",
   "output_path": "__notebook__.ipynb",
   "parameters": {},
   "start_time": "2025-03-19T22:50:07.514192",
   "version": "2.4.0"
  }
 },
 "nbformat": 4,
 "nbformat_minor": 5
}
