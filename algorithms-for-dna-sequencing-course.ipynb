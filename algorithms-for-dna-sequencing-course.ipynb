{
 "cells": [
  {
   "cell_type": "markdown",
   "id": "b421ad9b",
   "metadata": {
    "papermill": {
     "duration": 0.013114,
     "end_time": "2025-03-19T22:59:36.583032",
     "exception": false,
     "start_time": "2025-03-19T22:59:36.569918",
     "status": "completed"
    },
    "tags": []
   },
   "source": [
    "# Algorithm for DNA sequencing Course \n",
    "\n",
    "These are the coding examples and exercises given in the Algorithm for DNA sequencing course in the Genomic Data Science specialization on coursera\n"
   ]
  },
  {
   "cell_type": "markdown",
   "id": "b00e6751",
   "metadata": {
    "papermill": {
     "duration": 0.013325,
     "end_time": "2025-03-19T22:59:36.611738",
     "exception": false,
     "start_time": "2025-03-19T22:59:36.598413",
     "status": "completed"
    },
    "tags": []
   },
   "source": [
    "# Module 1"
   ]
  },
  {
   "cell_type": "code",
   "execution_count": 1,
   "id": "8630aadd",
   "metadata": {
    "execution": {
     "iopub.execute_input": "2025-03-19T22:59:36.650815Z",
     "iopub.status.busy": "2025-03-19T22:59:36.650178Z",
     "iopub.status.idle": "2025-03-19T22:59:36.676311Z",
     "shell.execute_reply": "2025-03-19T22:59:36.674675Z"
    },
    "papermill": {
     "duration": 0.050619,
     "end_time": "2025-03-19T22:59:36.680236",
     "exception": false,
     "start_time": "2025-03-19T22:59:36.629617",
     "status": "completed"
    },
    "tags": []
   },
   "outputs": [
    {
     "data": {
      "text/plain": [
       "'ACCTG'"
      ]
     },
     "execution_count": 1,
     "metadata": {},
     "output_type": "execute_result"
    }
   ],
   "source": [
    "# Function for finding the longest common prefix between two sets of reads\n",
    "\n",
    "def longestCommonPrefix(s1, s2):\n",
    "    i = 0     \n",
    "    while i < len(s1) and i < len(s2) and s1[i] == s2[i]:\n",
    "        i += 1\n",
    "    return s2[:i]\n",
    "\n",
    "longestCommonPrefix('ACCTGOTALKD', 'ACCTGWDHSH')"
   ]
  },
  {
   "cell_type": "code",
   "execution_count": 2,
   "id": "83031866",
   "metadata": {
    "execution": {
     "iopub.execute_input": "2025-03-19T22:59:36.713153Z",
     "iopub.status.busy": "2025-03-19T22:59:36.712656Z",
     "iopub.status.idle": "2025-03-19T22:59:36.722161Z",
     "shell.execute_reply": "2025-03-19T22:59:36.720876Z"
    },
    "papermill": {
     "duration": 0.0287,
     "end_time": "2025-03-19T22:59:36.724639",
     "exception": false,
     "start_time": "2025-03-19T22:59:36.695939",
     "status": "completed"
    },
    "tags": []
   },
   "outputs": [
    {
     "data": {
      "text/plain": [
       "True"
      ]
     },
     "execution_count": 2,
     "metadata": {},
     "output_type": "execute_result"
    }
   ],
   "source": [
    "# Function to determine if 2 sets of reads are the same\n",
    "\n",
    "def match (s1, s2):\n",
    "    if not len(s1) == len(s2):\n",
    "        return False\n",
    "    \n",
    "    for i in range(len(s1)):\n",
    "        if not s1[i] == s2[i]:\n",
    "            return False\n",
    "        \n",
    "    return True\n",
    "\n",
    "match('ACCTGOTALKD', 'ACCTGOTALKD')\n",
    "        "
   ]
  },
  {
   "cell_type": "code",
   "execution_count": 3,
   "id": "ae9b11c7",
   "metadata": {
    "execution": {
     "iopub.execute_input": "2025-03-19T22:59:36.752849Z",
     "iopub.status.busy": "2025-03-19T22:59:36.752394Z",
     "iopub.status.idle": "2025-03-19T22:59:36.760373Z",
     "shell.execute_reply": "2025-03-19T22:59:36.759089Z"
    },
    "papermill": {
     "duration": 0.025308,
     "end_time": "2025-03-19T22:59:36.762803",
     "exception": false,
     "start_time": "2025-03-19T22:59:36.737495",
     "status": "completed"
    },
    "tags": []
   },
   "outputs": [
    {
     "data": {
      "text/plain": [
       "'T'"
      ]
     },
     "execution_count": 3,
     "metadata": {},
     "output_type": "execute_result"
    }
   ],
   "source": [
    "complement = {'A':'T', 'C':'G', 'G':'C', 'T':'A'}\n",
    "complement['A']"
   ]
  },
  {
   "cell_type": "code",
   "execution_count": 4,
   "id": "c83001a8",
   "metadata": {
    "execution": {
     "iopub.execute_input": "2025-03-19T22:59:36.805627Z",
     "iopub.status.busy": "2025-03-19T22:59:36.805030Z",
     "iopub.status.idle": "2025-03-19T22:59:36.816887Z",
     "shell.execute_reply": "2025-03-19T22:59:36.814506Z"
    },
    "papermill": {
     "duration": 0.043957,
     "end_time": "2025-03-19T22:59:36.821260",
     "exception": false,
     "start_time": "2025-03-19T22:59:36.777303",
     "status": "completed"
    },
    "tags": []
   },
   "outputs": [
    {
     "data": {
      "text/plain": [
       "'AAGCT'"
      ]
     },
     "execution_count": 4,
     "metadata": {},
     "output_type": "execute_result"
    }
   ],
   "source": [
    "# Function to get the reverseComplement of a read\n",
    "\n",
    "def reverseComplement(a):\n",
    "    complement = {'A':'T', 'C':'G', 'G':'C', 'T':'A'}\n",
    "    t = ''\n",
    "    for base in a:\n",
    "        t = complement[base] + t\n",
    "    return t\n",
    "\n",
    "reverseComplement('AGCTT')"
   ]
  },
  {
   "cell_type": "code",
   "execution_count": 5,
   "id": "ae8c17c2",
   "metadata": {
    "execution": {
     "iopub.execute_input": "2025-03-19T22:59:36.879142Z",
     "iopub.status.busy": "2025-03-19T22:59:36.877890Z",
     "iopub.status.idle": "2025-03-19T22:59:36.888056Z",
     "shell.execute_reply": "2025-03-19T22:59:36.887069Z"
    },
    "papermill": {
     "duration": 0.048079,
     "end_time": "2025-03-19T22:59:36.896074",
     "exception": false,
     "start_time": "2025-03-19T22:59:36.847995",
     "status": "completed"
    },
    "tags": []
   },
   "outputs": [
    {
     "data": {
      "text/plain": [
       "['genome3',\n",
       " 'genome5',\n",
       " 'genome1',\n",
       " 'genome2',\n",
       " 'genome7',\n",
       " 'lambda-virus',\n",
       " 'genome6',\n",
       " 'chromosome1']"
      ]
     },
     "execution_count": 5,
     "metadata": {},
     "output_type": "execute_result"
    }
   ],
   "source": [
    "import os\n",
    "os.listdir('/kaggle/input/')"
   ]
  },
  {
   "cell_type": "code",
   "execution_count": 6,
   "id": "4c760999",
   "metadata": {
    "execution": {
     "iopub.execute_input": "2025-03-19T22:59:36.945810Z",
     "iopub.status.busy": "2025-03-19T22:59:36.944365Z",
     "iopub.status.idle": "2025-03-19T22:59:36.966208Z",
     "shell.execute_reply": "2025-03-19T22:59:36.964855Z"
    },
    "papermill": {
     "duration": 0.046168,
     "end_time": "2025-03-19T22:59:36.968818",
     "exception": false,
     "start_time": "2025-03-19T22:59:36.922650",
     "status": "completed"
    },
    "tags": []
   },
   "outputs": [
    {
     "data": {
      "text/plain": [
       "'GGGCGGCGACCTCGCGGGTTTTCGCTATTTATGAAAATTTTCCGGTTTAAGGCGTTTCCGTTCTTCTTCGTCATAACTTAATGTTTTTATTTAAAATACC'"
      ]
     },
     "execution_count": 6,
     "metadata": {},
     "output_type": "execute_result"
    }
   ],
   "source": [
    "# Function for reading the genome from a fasta file\n",
    "\n",
    "def readGenome(filename):\n",
    "    genome = ''\n",
    "    with open(filename, 'r') as f:\n",
    "        for line in f:\n",
    "            if not line[0] == '>':\n",
    "                genome += line.rstrip()\n",
    "    return genome\n",
    "\n",
    "genome = readGenome('/kaggle/input/lambda-virus/lambda_virus.fa')\n",
    "genome[:100]"
   ]
  },
  {
   "cell_type": "code",
   "execution_count": 7,
   "id": "ed520801",
   "metadata": {
    "execution": {
     "iopub.execute_input": "2025-03-19T22:59:37.014769Z",
     "iopub.status.busy": "2025-03-19T22:59:37.014305Z",
     "iopub.status.idle": "2025-03-19T22:59:37.022084Z",
     "shell.execute_reply": "2025-03-19T22:59:37.020862Z"
    },
    "papermill": {
     "duration": 0.041928,
     "end_time": "2025-03-19T22:59:37.025678",
     "exception": false,
     "start_time": "2025-03-19T22:59:36.983750",
     "status": "completed"
    },
    "tags": []
   },
   "outputs": [
    {
     "data": {
      "text/plain": [
       "48502"
      ]
     },
     "execution_count": 7,
     "metadata": {},
     "output_type": "execute_result"
    }
   ],
   "source": [
    "len(genome)"
   ]
  },
  {
   "cell_type": "code",
   "execution_count": 8,
   "id": "84e19292",
   "metadata": {
    "execution": {
     "iopub.execute_input": "2025-03-19T22:59:37.077689Z",
     "iopub.status.busy": "2025-03-19T22:59:37.076079Z",
     "iopub.status.idle": "2025-03-19T22:59:37.094412Z",
     "shell.execute_reply": "2025-03-19T22:59:37.092783Z"
    },
    "papermill": {
     "duration": 0.041921,
     "end_time": "2025-03-19T22:59:37.097146",
     "exception": false,
     "start_time": "2025-03-19T22:59:37.055225",
     "status": "completed"
    },
    "tags": []
   },
   "outputs": [
    {
     "name": "stdout",
     "output_type": "stream",
     "text": [
      "{'A': 12334, 'C': 11362, 'G': 12820, 'T': 11986}\n"
     ]
    }
   ],
   "source": [
    "# Function for counting each base in a read\n",
    "\n",
    "counts = {'A':0, 'C':0, 'G':0, 'T':0}\n",
    "\n",
    "for base in genome:\n",
    "    counts[base] += 1\n",
    "print(counts)"
   ]
  },
  {
   "cell_type": "code",
   "execution_count": 9,
   "id": "80f172c6",
   "metadata": {
    "execution": {
     "iopub.execute_input": "2025-03-19T22:59:37.228929Z",
     "iopub.status.busy": "2025-03-19T22:59:37.228489Z",
     "iopub.status.idle": "2025-03-19T22:59:37.239806Z",
     "shell.execute_reply": "2025-03-19T22:59:37.238483Z"
    },
    "papermill": {
     "duration": 0.030943,
     "end_time": "2025-03-19T22:59:37.242562",
     "exception": false,
     "start_time": "2025-03-19T22:59:37.211619",
     "status": "completed"
    },
    "tags": []
   },
   "outputs": [
    {
     "data": {
      "text/plain": [
       "Counter({'G': 12820, 'A': 12334, 'T': 11986, 'C': 11362})"
      ]
     },
     "execution_count": 9,
     "metadata": {},
     "output_type": "execute_result"
    }
   ],
   "source": [
    "import collections\n",
    "collections.Counter(genome)"
   ]
  },
  {
   "cell_type": "code",
   "execution_count": 10,
   "id": "768b4b39",
   "metadata": {
    "execution": {
     "iopub.execute_input": "2025-03-19T22:59:37.284487Z",
     "iopub.status.busy": "2025-03-19T22:59:37.283870Z",
     "iopub.status.idle": "2025-03-19T22:59:37.305745Z",
     "shell.execute_reply": "2025-03-19T22:59:37.304524Z"
    },
    "papermill": {
     "duration": 0.045005,
     "end_time": "2025-03-19T22:59:37.308632",
     "exception": false,
     "start_time": "2025-03-19T22:59:37.263627",
     "status": "completed"
    },
    "tags": []
   },
   "outputs": [
    {
     "name": "stdout",
     "output_type": "stream",
     "text": [
      "100\n",
      "['???B1ADDD8??BB+C?B+:AA883CEE8?C3@DDD3)?D2;DC?8?=BAD=@C@(.6.6=A?=?@##################################', 'CCCFFFFFGHHGHJJJJJIJGIIJJJJJJJIJIJJJJJFJJFGIIIIH=CBFCF=CCEG)=>EHB2@@DEC>;;?=;(=?BBD?59?BA###########', '@@<DD?DDHHH<CBHII:CFGIGAGHIIG?CCGGE0BDHIIHIGICH8=FHGI=@EHGGGEEHH>);?CC@.;(=;?59,5<A599?CB>ABBCB><88A', '@CCFFDDFHHHDFHIJJCGGIJJHIIHJC?DHHIJ0?DGHI9BBFHICGGIGI=CDEGI=?AAEF7@?################################', '@<@FDFDDBBFHH@EBGGGEH@FFHE;EHIEGGBHG?)9?8BDGGBGGBCDGI=93=C6==C;CCD(?@>@#############################']\n"
     ]
    }
   ],
   "source": [
    "def readFastq(filename):\n",
    "    sequences = []\n",
    "    qualities = []\n",
    "    with open (filename) as fh:\n",
    "        while True:\n",
    "            fh.readline()\n",
    "            seq = fh.readline().rstrip()\n",
    "            fh.readline()\n",
    "            qual = fh.readline().rstrip()\n",
    "            if len(seq) == 0:\n",
    "                break\n",
    "            sequences.append(seq)\n",
    "            qualities.append(qual)\n",
    "    return sequences, qualities\n",
    "\n",
    "seqs, quals = readFastq('/kaggle/input/genome1/SRR835775_1.first1000.fastq')\n",
    "\n",
    "print(len(quals[0]))\n",
    "\n",
    "print(quals[:5])"
   ]
  },
  {
   "cell_type": "code",
   "execution_count": 11,
   "id": "9d03f111",
   "metadata": {
    "execution": {
     "iopub.execute_input": "2025-03-19T22:59:37.343299Z",
     "iopub.status.busy": "2025-03-19T22:59:37.342726Z",
     "iopub.status.idle": "2025-03-19T22:59:37.354276Z",
     "shell.execute_reply": "2025-03-19T22:59:37.352718Z"
    },
    "papermill": {
     "duration": 0.034538,
     "end_time": "2025-03-19T22:59:37.358677",
     "exception": false,
     "start_time": "2025-03-19T22:59:37.324139",
     "status": "completed"
    },
    "tags": []
   },
   "outputs": [
    {
     "data": {
      "text/plain": [
       "2"
      ]
     },
     "execution_count": 11,
     "metadata": {},
     "output_type": "execute_result"
    }
   ],
   "source": [
    "# Function to convert ASCII symbols to quality value for the reads\n",
    "def phred33ToQ(qual):\n",
    "    return ord(qual) - 33\n",
    "\n",
    "phred33ToQ('#')\n"
   ]
  },
  {
   "cell_type": "code",
   "execution_count": 12,
   "id": "32b76c2f",
   "metadata": {
    "execution": {
     "iopub.execute_input": "2025-03-19T22:59:37.393613Z",
     "iopub.status.busy": "2025-03-19T22:59:37.392254Z",
     "iopub.status.idle": "2025-03-19T22:59:37.400100Z",
     "shell.execute_reply": "2025-03-19T22:59:37.398662Z"
    },
    "papermill": {
     "duration": 0.028557,
     "end_time": "2025-03-19T22:59:37.402593",
     "exception": false,
     "start_time": "2025-03-19T22:59:37.374036",
     "status": "completed"
    },
    "tags": []
   },
   "outputs": [
    {
     "data": {
      "text/plain": [
       "41"
      ]
     },
     "execution_count": 12,
     "metadata": {},
     "output_type": "execute_result"
    }
   ],
   "source": [
    "phred33ToQ('J')"
   ]
  },
  {
   "cell_type": "code",
   "execution_count": 13,
   "id": "42e92ffc",
   "metadata": {
    "execution": {
     "iopub.execute_input": "2025-03-19T22:59:37.434706Z",
     "iopub.status.busy": "2025-03-19T22:59:37.433297Z",
     "iopub.status.idle": "2025-03-19T22:59:37.462818Z",
     "shell.execute_reply": "2025-03-19T22:59:37.461531Z"
    },
    "papermill": {
     "duration": 0.049035,
     "end_time": "2025-03-19T22:59:37.465674",
     "exception": false,
     "start_time": "2025-03-19T22:59:37.416639",
     "status": "completed"
    },
    "tags": []
   },
   "outputs": [
    {
     "name": "stdout",
     "output_type": "stream",
     "text": [
      "[0, 0, 6178, 0, 0, 54, 108, 574, 345, 83, 193, 124, 79, 165, 49, 236, 184, 327, 514, 238, 531, 254, 313, 798, 992, 888, 1396, 1488, 993, 1752, 3387, 4487, 3248, 5476, 8375, 11814, 4243, 7827, 6579, 8179, 9349, 8180, 0, 0, 0, 0, 0, 0, 0, 0]\n"
     ]
    }
   ],
   "source": [
    "def createHist(qualities):\n",
    "    hist = [0] * 50\n",
    "    for qual in qualities:\n",
    "        for phred in qual:\n",
    "            q = phred33ToQ(phred)\n",
    "            hist[q] += 1\n",
    "    return hist\n",
    "\n",
    "h = createHist(quals)\n",
    "\n",
    "print(h)"
   ]
  },
  {
   "cell_type": "code",
   "execution_count": 14,
   "id": "b5006da8",
   "metadata": {
    "execution": {
     "iopub.execute_input": "2025-03-19T22:59:37.495907Z",
     "iopub.status.busy": "2025-03-19T22:59:37.495429Z",
     "iopub.status.idle": "2025-03-19T22:59:37.821259Z",
     "shell.execute_reply": "2025-03-19T22:59:37.820067Z"
    },
    "papermill": {
     "duration": 0.344241,
     "end_time": "2025-03-19T22:59:37.824076",
     "exception": false,
     "start_time": "2025-03-19T22:59:37.479835",
     "status": "completed"
    },
    "tags": []
   },
   "outputs": [
    {
     "data": {
      "image/png": "[encoded data removed]",
      "text/plain": [
       "<Figure size 640x480 with 1 Axes>"
      ]
     },
     "metadata": {},
     "output_type": "display_data"
    }
   ],
   "source": [
    "%matplotlib inline\n",
    "import matplotlib.pyplot as plt\n",
    "plt.bar(range(len(h)), h)\n",
    "plt.show()"
   ]
  },
  {
   "cell_type": "code",
   "execution_count": 15,
   "id": "c8bc435c",
   "metadata": {
    "execution": {
     "iopub.execute_input": "2025-03-19T22:59:37.856587Z",
     "iopub.status.busy": "2025-03-19T22:59:37.856025Z",
     "iopub.status.idle": "2025-03-19T22:59:38.124452Z",
     "shell.execute_reply": "2025-03-19T22:59:38.123074Z"
    },
    "papermill": {
     "duration": 0.287686,
     "end_time": "2025-03-19T22:59:38.127348",
     "exception": false,
     "start_time": "2025-03-19T22:59:37.839662",
     "status": "completed"
    },
    "tags": []
   },
   "outputs": [
    {
     "data": {
      "image/png": "[encoded data removed]",
      "text/plain": [
       "<Figure size 640x480 with 1 Axes>"
      ]
     },
     "metadata": {},
     "output_type": "display_data"
    }
   ],
   "source": [
    "# Function to map the GC content in a collection of reads\n",
    "def findGCByPos(reads):\n",
    "    gc = [0] * 100\n",
    "    totals = [0] * 100\n",
    "\n",
    "    for read in reads:\n",
    "        for i in range(len(read)):\n",
    "            if read[i] == 'C' or read[i] == 'G':\n",
    "                gc[i] += 1\n",
    "            totals[i] += 1\n",
    "\n",
    "    for i in range(len(gc)):\n",
    "        if totals[i] > 0:\n",
    "            gc[i] /= float(totals[i])\n",
    "\n",
    "    return gc\n",
    "\n",
    "gc = findGCByPos(seqs)\n",
    "plt.plot(range(len(gc)), gc)\n",
    "plt.show()"
   ]
  },
  {
   "cell_type": "code",
   "execution_count": 16,
   "id": "e3a69549",
   "metadata": {
    "execution": {
     "iopub.execute_input": "2025-03-19T22:59:38.160937Z",
     "iopub.status.busy": "2025-03-19T22:59:38.160480Z",
     "iopub.status.idle": "2025-03-19T22:59:38.175677Z",
     "shell.execute_reply": "2025-03-19T22:59:38.174489Z"
    },
    "papermill": {
     "duration": 0.035844,
     "end_time": "2025-03-19T22:59:38.178509",
     "exception": false,
     "start_time": "2025-03-19T22:59:38.142665",
     "status": "completed"
    },
    "tags": []
   },
   "outputs": [
    {
     "name": "stdout",
     "output_type": "stream",
     "text": [
      "Counter({'G': 28742, 'C': 28272, 'T': 21836, 'A': 21132, 'N': 18})\n"
     ]
    }
   ],
   "source": [
    "# Counting the freq of each base in the read (N is for no-confidence-bases)\n",
    "import collections\n",
    "count = collections.Counter()\n",
    "for seq in seqs:\n",
    "    count.update(seq)\n",
    "print(count)"
   ]
  },
  {
   "cell_type": "code",
   "execution_count": 17,
   "id": "8dcefa6d",
   "metadata": {
    "execution": {
     "iopub.execute_input": "2025-03-19T22:59:38.221599Z",
     "iopub.status.busy": "2025-03-19T22:59:38.220390Z",
     "iopub.status.idle": "2025-03-19T22:59:38.237748Z",
     "shell.execute_reply": "2025-03-19T22:59:38.236332Z"
    },
    "papermill": {
     "duration": 0.040465,
     "end_time": "2025-03-19T22:59:38.240547",
     "exception": false,
     "start_time": "2025-03-19T22:59:38.200082",
     "status": "completed"
    },
    "tags": []
   },
   "outputs": [
    {
     "data": {
      "text/plain": [
       "'GAGTTTTATCGCTTCCATGACGCAGAAGTTAACACTTTCGGATATTTCTGATGAGTCGAAAAATTATCTTGATAAAGCAGGAATTACTACTGCTTGTTTA'"
      ]
     },
     "execution_count": 17,
     "metadata": {},
     "output_type": "execute_result"
    }
   ],
   "source": [
    "# Reading genome from new read\n",
    "\n",
    "def readGenome(filename):\n",
    "    genome = ''\n",
    "    with open(filename, 'r') as f:\n",
    "        for line in f:\n",
    "            if not line[0] == '>':\n",
    "                genome += line.rstrip()\n",
    "    return genome\n",
    "\n",
    "genome = readGenome('/kaggle/input/genome2/phix.fa')\n",
    "genome[:100]"
   ]
  },
  {
   "cell_type": "code",
   "execution_count": 18,
   "id": "e41c0626",
   "metadata": {
    "execution": {
     "iopub.execute_input": "2025-03-19T22:59:38.275175Z",
     "iopub.status.busy": "2025-03-19T22:59:38.274553Z",
     "iopub.status.idle": "2025-03-19T22:59:38.283538Z",
     "shell.execute_reply": "2025-03-19T22:59:38.282139Z"
    },
    "papermill": {
     "duration": 0.029524,
     "end_time": "2025-03-19T22:59:38.286319",
     "exception": false,
     "start_time": "2025-03-19T22:59:38.256795",
     "status": "completed"
    },
    "tags": []
   },
   "outputs": [],
   "source": [
    "# Function to implement naive exact matching algorithm of a pattern p on  text t                        \n",
    "\n",
    "def naive(p, t):\n",
    "    occurences = []\n",
    "    for i in range(len(t) - len(p) + 1):\n",
    "        match = True\n",
    "        for j in range(len(p)):\n",
    "            if not t[i+j] == p[j]:\n",
    "                match = False\n",
    "                break\n",
    "        if match:\n",
    "            occurences.append(i)\n",
    "    return occurences\n"
   ]
  },
  {
   "cell_type": "code",
   "execution_count": 19,
   "id": "7caa6da4",
   "metadata": {
    "execution": {
     "iopub.execute_input": "2025-03-19T22:59:38.324850Z",
     "iopub.status.busy": "2025-03-19T22:59:38.323904Z",
     "iopub.status.idle": "2025-03-19T22:59:38.331119Z",
     "shell.execute_reply": "2025-03-19T22:59:38.330038Z"
    },
    "papermill": {
     "duration": 0.031674,
     "end_time": "2025-03-19T22:59:38.333998",
     "exception": false,
     "start_time": "2025-03-19T22:59:38.302324",
     "status": "completed"
    },
    "tags": []
   },
   "outputs": [
    {
     "data": {
      "text/plain": [
       "[0, 5, 7]"
      ]
     },
     "execution_count": 19,
     "metadata": {},
     "output_type": "execute_result"
    }
   ],
   "source": [
    "t = 'AGCTTAGAGC'\n",
    "p = 'AG'\n",
    "\n",
    "naive(p,t)"
   ]
  },
  {
   "cell_type": "code",
   "execution_count": 20,
   "id": "20497d0b",
   "metadata": {
    "execution": {
     "iopub.execute_input": "2025-03-19T22:59:38.368807Z",
     "iopub.status.busy": "2025-03-19T22:59:38.367655Z",
     "iopub.status.idle": "2025-03-19T22:59:38.375929Z",
     "shell.execute_reply": "2025-03-19T22:59:38.374342Z"
    },
    "papermill": {
     "duration": 0.028249,
     "end_time": "2025-03-19T22:59:38.378731",
     "exception": false,
     "start_time": "2025-03-19T22:59:38.350482",
     "status": "completed"
    },
    "tags": []
   },
   "outputs": [],
   "source": [
    "# Function to \n",
    "import random\n",
    "def generateReads(genome, numReads, readLen):\n",
    "    ''' Generate reads from random positions in the given genome. '''\n",
    "    reads = []\n",
    "    for _ in range(numReads):\n",
    "        start = random.randint(0, len(genome)-readLen) - 1\n",
    "        reads.append(genome[start : start+readLen])\n",
    "    return reads"
   ]
  },
  {
   "cell_type": "code",
   "execution_count": 21,
   "id": "196275e2",
   "metadata": {
    "execution": {
     "iopub.execute_input": "2025-03-19T22:59:38.413303Z",
     "iopub.status.busy": "2025-03-19T22:59:38.412643Z",
     "iopub.status.idle": "2025-03-19T22:59:38.661690Z",
     "shell.execute_reply": "2025-03-19T22:59:38.660479Z"
    },
    "papermill": {
     "duration": 0.27024,
     "end_time": "2025-03-19T22:59:38.665041",
     "exception": false,
     "start_time": "2025-03-19T22:59:38.394801",
     "status": "completed"
    },
    "tags": []
   },
   "outputs": [
    {
     "name": "stdout",
     "output_type": "stream",
     "text": [
      "100 / 100 reads matched\n"
     ]
    }
   ],
   "source": [
    "reads = generateReads(genome, 100, 100)\n",
    "\n",
    "numMatched = 0\n",
    "\n",
    "for r in reads:\n",
    "    matches = naive(r, genome)\n",
    "    if len(matches) > 0:\n",
    "        numMatched += 1\n",
    "print ('%d / %d reads matched' % (numMatched, len(reads)))\n",
    "        "
   ]
  },
  {
   "cell_type": "code",
   "execution_count": 22,
   "id": "4f141664",
   "metadata": {
    "execution": {
     "iopub.execute_input": "2025-03-19T22:59:38.713115Z",
     "iopub.status.busy": "2025-03-19T22:59:38.712582Z",
     "iopub.status.idle": "2025-03-19T22:59:38.738622Z",
     "shell.execute_reply": "2025-03-19T22:59:38.737176Z"
    },
    "papermill": {
     "duration": 0.047574,
     "end_time": "2025-03-19T22:59:38.741583",
     "exception": false,
     "start_time": "2025-03-19T22:59:38.694009",
     "status": "completed"
    },
    "tags": []
   },
   "outputs": [],
   "source": [
    "phix_reads, _ = readFastq('/kaggle/input/genome3/ERR266411_1.first1000_2.fastq')\n",
    "# print(phix_reads)"
   ]
  },
  {
   "cell_type": "code",
   "execution_count": 23,
   "id": "62562fc4",
   "metadata": {
    "execution": {
     "iopub.execute_input": "2025-03-19T22:59:38.789179Z",
     "iopub.status.busy": "2025-03-19T22:59:38.788574Z",
     "iopub.status.idle": "2025-03-19T22:59:38.797845Z",
     "shell.execute_reply": "2025-03-19T22:59:38.796638Z"
    },
    "papermill": {
     "duration": 0.037716,
     "end_time": "2025-03-19T22:59:38.800887",
     "exception": false,
     "start_time": "2025-03-19T22:59:38.763171",
     "status": "completed"
    },
    "tags": []
   },
   "outputs": [
    {
     "data": {
      "text/plain": [
       "'AAGCT'"
      ]
     },
     "execution_count": 23,
     "metadata": {},
     "output_type": "execute_result"
    }
   ],
   "source": [
    "def reverseComplement(a):\n",
    "    complement = {'A':'T', 'C':'G', 'G':'C', 'T':'A', 'N':'N'}\n",
    "    t = ''\n",
    "    for base in a:\n",
    "        t = complement[base] + t\n",
    "    return t\n",
    "\n",
    "reverseComplement('AGCTT')"
   ]
  },
  {
   "cell_type": "code",
   "execution_count": 24,
   "id": "04df77a7",
   "metadata": {
    "execution": {
     "iopub.execute_input": "2025-03-19T22:59:38.846318Z",
     "iopub.status.busy": "2025-03-19T22:59:38.845254Z",
     "iopub.status.idle": "2025-03-19T22:59:42.913454Z",
     "shell.execute_reply": "2025-03-19T22:59:42.912095Z"
    },
    "papermill": {
     "duration": 4.088287,
     "end_time": "2025-03-19T22:59:42.916306",
     "exception": false,
     "start_time": "2025-03-19T22:59:38.828019",
     "status": "completed"
    },
    "tags": []
   },
   "outputs": [
    {
     "name": "stdout",
     "output_type": "stream",
     "text": [
      "932 / 1000 reads matched\n"
     ]
    }
   ],
   "source": [
    "# Matching the sequenced reads to the reference genome\n",
    "numMatched = 0\n",
    "n= 0\n",
    "for r in phix_reads:\n",
    "    r = r[:30] # taking only the first part of the reads to get more values\n",
    "    matches = naive(r, genome)\n",
    "    matches.extend(naive(reverseComplement(r), genome))\n",
    "    n += 1\n",
    "    if len(matches) > 0:\n",
    "        numMatched += 1\n",
    "        \n",
    "print ('%d / %d reads matched' % (numMatched, n))"
   ]
  },
  {
   "cell_type": "markdown",
   "id": "a7487e22",
   "metadata": {
    "papermill": {
     "duration": 0.015498,
     "end_time": "2025-03-19T22:59:42.948349",
     "exception": false,
     "start_time": "2025-03-19T22:59:42.932851",
     "status": "completed"
    },
    "tags": []
   },
   "source": [
    "# Module 2"
   ]
  },
  {
   "cell_type": "code",
   "execution_count": 25,
   "id": "abd8450e",
   "metadata": {
    "execution": {
     "iopub.execute_input": "2025-03-19T22:59:42.982625Z",
     "iopub.status.busy": "2025-03-19T22:59:42.982196Z",
     "iopub.status.idle": "2025-03-19T22:59:43.012504Z",
     "shell.execute_reply": "2025-03-19T22:59:43.011460Z"
    },
    "papermill": {
     "duration": 0.050551,
     "end_time": "2025-03-19T22:59:43.015351",
     "exception": false,
     "start_time": "2025-03-19T22:59:42.964800",
     "status": "completed"
    },
    "tags": []
   },
   "outputs": [],
   "source": [
    "import string\n",
    "\n",
    "def z_array(s):\n",
    "    \"\"\" Use Z algorithm (Gusfield theorem 1.4.1) to preprocess s \"\"\"\n",
    "    assert len(s) > 1\n",
    "    z = [len(s)] + [0] * (len(s)-1)\n",
    "    # Initial comparison of s[1:] with prefix\n",
    "    for i in range(1, len(s)):\n",
    "        if s[i] == s[i-1]:\n",
    "            z[1] += 1\n",
    "        else:\n",
    "            break\n",
    "    r, l = 0, 0\n",
    "    if z[1] > 0:\n",
    "        r, l = z[1], 1\n",
    "    for k in range(2, len(s)):\n",
    "        assert z[k] == 0\n",
    "        if k > r:\n",
    "            # Case 1\n",
    "            for i in range(k, len(s)):\n",
    "                if s[i] == s[i-k]:\n",
    "                    z[k] += 1\n",
    "                else:\n",
    "                    break\n",
    "            r, l = k + z[k] - 1, k\n",
    "        else:\n",
    "            # Case 2\n",
    "            # Calculate length of beta\n",
    "            nbeta = r - k + 1\n",
    "            zkp = z[k - l]\n",
    "            if nbeta > zkp:\n",
    "                # Case 2a: Zkp wins\n",
    "                z[k] = zkp\n",
    "            else:\n",
    "                # Case 2b: Compare characters just past r\n",
    "                nmatch = 0\n",
    "                for i in range(r+1, len(s)):\n",
    "                    if s[i] == s[i - k]:\n",
    "                        nmatch += 1\n",
    "                    else:\n",
    "                        break\n",
    "                l, r = k, r + nmatch\n",
    "                z[k] = r - k + 1\n",
    "    return z\n",
    "\n",
    "\n",
    "def n_array(s):\n",
    "    \"\"\" Compile the N array (Gusfield theorem 2.2.2) from the Z array \"\"\"\n",
    "    return z_array(s[::-1])[::-1]\n",
    "\n",
    "\n",
    "def big_l_prime_array(p, n):\n",
    "    \"\"\" Compile L' array (Gusfield theorem 2.2.2) using p and N array.\n",
    "        L'[i] = largest index j less than n such that N[j] = |P[i:]| \"\"\"\n",
    "    lp = [0] * len(p)\n",
    "    for j in range(len(p)-1):\n",
    "        i = len(p) - n[j]\n",
    "        if i < len(p):\n",
    "            lp[i] = j + 1\n",
    "    return lp\n",
    "\n",
    "\n",
    "def big_l_array(p, lp):\n",
    "    \"\"\" Compile L array (Gusfield theorem 2.2.2) using p and L' array.\n",
    "        L[i] = largest index j less than n such that N[j] >= |P[i:]| \"\"\"\n",
    "    l = [0] * len(p)\n",
    "    l[1] = lp[1]\n",
    "    for i in range(2, len(p)):\n",
    "        l[i] = max(l[i-1], lp[i])\n",
    "    return l\n",
    "\n",
    "\n",
    "def small_l_prime_array(n):\n",
    "    \"\"\" Compile lp' array (Gusfield theorem 2.2.4) using N array. \"\"\"\n",
    "    small_lp = [0] * len(n)\n",
    "    for i in range(len(n)):\n",
    "        if n[i] == i+1:  # prefix matching a suffix\n",
    "            small_lp[len(n)-i-1] = i+1\n",
    "    for i in range(len(n)-2, -1, -1):  # \"smear\" them out to the left\n",
    "        if small_lp[i] == 0:\n",
    "            small_lp[i] = small_lp[i+1]\n",
    "    return small_lp\n",
    "\n",
    "\n",
    "def good_suffix_table(p):\n",
    "    \"\"\" Return tables needed to apply good suffix rule. \"\"\"\n",
    "    n = n_array(p)\n",
    "    lp = big_l_prime_array(p, n)\n",
    "    return lp, big_l_array(p, lp), small_l_prime_array(n)\n",
    "\n",
    "\n",
    "def good_suffix_mismatch(i, big_l_prime, small_l_prime):\n",
    "    \"\"\" Given a mismatch at offset i, and given L/L' and l' arrays,\n",
    "        return amount to shift as determined by good suffix rule. \"\"\"\n",
    "    length = len(big_l_prime)\n",
    "    assert i < length\n",
    "    if i == length - 1:\n",
    "        return 0\n",
    "    i += 1  # i points to leftmost matching position of P\n",
    "    if big_l_prime[i] > 0:\n",
    "        return length - big_l_prime[i]\n",
    "    return length - small_l_prime[i]\n",
    "\n",
    "\n",
    "def good_suffix_match(small_l_prime):\n",
    "    \"\"\" Given a full match of P to T, return amount to shift as\n",
    "        determined by good suffix rule. \"\"\"\n",
    "    return len(small_l_prime) - small_l_prime[1]\n",
    "\n",
    "\n",
    "def dense_bad_char_tab(p, amap):\n",
    "    \"\"\" Given pattern string and list with ordered alphabet characters, create\n",
    "        and return a dense bad character table.  Table is indexed by offset\n",
    "        then by character. \"\"\"\n",
    "    tab = []\n",
    "    nxt = [0] * len(amap)\n",
    "    for i in range(0, len(p)):\n",
    "        c = p[i]\n",
    "        assert c in amap\n",
    "        tab.append(nxt[:])\n",
    "        nxt[amap[c]] = i+1\n",
    "    return tab\n",
    "\n",
    "\n",
    "class BoyerMoore(object):\n",
    "    \"\"\" Encapsulates pattern and associated Boyer-Moore preprocessing. \"\"\"\n",
    "    \n",
    "    def __init__(self, p, alphabet='ACGT'):\n",
    "        self.p = p\n",
    "        self.alphabet = alphabet\n",
    "        # Create map from alphabet characters to integers\n",
    "        self.amap = {}\n",
    "        for i in range(len(self.alphabet)):\n",
    "            self.amap[self.alphabet[i]] = i\n",
    "        # Make bad character rule table\n",
    "        self.bad_char = dense_bad_char_tab(p, self.amap)\n",
    "        # Create good suffix rule table\n",
    "        _, self.big_l, self.small_l_prime = good_suffix_table(p)\n",
    "    \n",
    "    def bad_character_rule(self, i, c):\n",
    "        \"\"\" Return # skips given by bad character rule at offset i \"\"\"\n",
    "        assert c in self.amap\n",
    "        ci = self.amap[c]\n",
    "        assert i > (self.bad_char[i][ci]-1)\n",
    "        return i - (self.bad_char[i][ci]-1)\n",
    "    \n",
    "    def good_suffix_rule(self, i):\n",
    "        \"\"\" Given a mismatch at offset i, return amount to shift\n",
    "            as determined by (weak) good suffix rule. \"\"\"\n",
    "        length = len(self.big_l)\n",
    "        assert i < length\n",
    "        if i == length - 1:\n",
    "            return 0\n",
    "        i += 1  # i points to leftmost matching position of P\n",
    "        if self.big_l[i] > 0:\n",
    "            return length - self.big_l[i]\n",
    "        return length - self.small_l_prime[i]\n",
    "    \n",
    "    def match_skip(self):\n",
    "        \"\"\" Return amount to shift in case where P matches T \"\"\"\n",
    "        return len(self.small_l_prime) - self.small_l_prime[1]"
   ]
  },
  {
   "cell_type": "code",
   "execution_count": 26,
   "id": "361af003",
   "metadata": {
    "execution": {
     "iopub.execute_input": "2025-03-19T22:59:43.049031Z",
     "iopub.status.busy": "2025-03-19T22:59:43.048546Z",
     "iopub.status.idle": "2025-03-19T22:59:43.056243Z",
     "shell.execute_reply": "2025-03-19T22:59:43.055039Z"
    },
    "papermill": {
     "duration": 0.027235,
     "end_time": "2025-03-19T22:59:43.058524",
     "exception": false,
     "start_time": "2025-03-19T22:59:43.031289",
     "status": "completed"
    },
    "tags": []
   },
   "outputs": [
    {
     "data": {
      "text/plain": [
       "2"
      ]
     },
     "execution_count": 26,
     "metadata": {},
     "output_type": "execute_result"
    }
   ],
   "source": [
    "# GCTAGGCTC\n",
    "# TCAA\n",
    "\n",
    "p = 'TCAA'\n",
    "p_bm = BoyerMoore(p)\n",
    "p_bm.bad_character_rule(2, 'T')"
   ]
  },
  {
   "cell_type": "code",
   "execution_count": 27,
   "id": "7bf647b3",
   "metadata": {
    "execution": {
     "iopub.execute_input": "2025-03-19T22:59:43.092769Z",
     "iopub.status.busy": "2025-03-19T22:59:43.092360Z",
     "iopub.status.idle": "2025-03-19T22:59:43.099697Z",
     "shell.execute_reply": "2025-03-19T22:59:43.098610Z"
    },
    "papermill": {
     "duration": 0.027915,
     "end_time": "2025-03-19T22:59:43.102157",
     "exception": false,
     "start_time": "2025-03-19T22:59:43.074242",
     "status": "completed"
    },
    "tags": []
   },
   "outputs": [
    {
     "data": {
      "text/plain": [
       "3"
      ]
     },
     "execution_count": 27,
     "metadata": {},
     "output_type": "execute_result"
    }
   ],
   "source": [
    "# GCTAGGCTC\n",
    "# ACTA\n",
    "p = 'ACTA'\n",
    "p_bm = BoyerMoore(p)\n",
    "p_bm.good_suffix_rule(0)"
   ]
  },
  {
   "cell_type": "code",
   "execution_count": 28,
   "id": "7c210a9d",
   "metadata": {
    "execution": {
     "iopub.execute_input": "2025-03-19T22:59:43.135339Z",
     "iopub.status.busy": "2025-03-19T22:59:43.134859Z",
     "iopub.status.idle": "2025-03-19T22:59:43.142568Z",
     "shell.execute_reply": "2025-03-19T22:59:43.141264Z"
    },
    "papermill": {
     "duration": 0.027124,
     "end_time": "2025-03-19T22:59:43.144994",
     "exception": false,
     "start_time": "2025-03-19T22:59:43.117870",
     "status": "completed"
    },
    "tags": []
   },
   "outputs": [
    {
     "data": {
      "text/plain": [
       "3"
      ]
     },
     "execution_count": 28,
     "metadata": {},
     "output_type": "execute_result"
    }
   ],
   "source": [
    "# ACACGCTC\n",
    "# ACAC\n",
    "p = 'ACAC'\n",
    "# p_bm = BoyerMoore(p)\n",
    "p_bm.match_skip()"
   ]
  },
  {
   "cell_type": "code",
   "execution_count": 29,
   "id": "b8f77a08",
   "metadata": {
    "execution": {
     "iopub.execute_input": "2025-03-19T22:59:43.179669Z",
     "iopub.status.busy": "2025-03-19T22:59:43.178791Z",
     "iopub.status.idle": "2025-03-19T22:59:43.186502Z",
     "shell.execute_reply": "2025-03-19T22:59:43.185275Z"
    },
    "papermill": {
     "duration": 0.027741,
     "end_time": "2025-03-19T22:59:43.188937",
     "exception": false,
     "start_time": "2025-03-19T22:59:43.161196",
     "status": "completed"
    },
    "tags": []
   },
   "outputs": [],
   "source": [
    "def boyer_moore(p, p_bm, t):\n",
    "    i = 0\n",
    "    occurences = []\n",
    "    while i < len(t) - len(p) + 1:\n",
    "        shift = 1\n",
    "        mismatched = False\n",
    "        for j in range(len(p)-1, -1,-1):\n",
    "            if not p[j] == t[i+j]:\n",
    "                skip_bc = p_bm.bad_character_rule(j, t[i+j])\n",
    "                skip_gs = p_bm.good_suffix_rule(j)\n",
    "                shift = max(shift, skip_bc, skip_gs)\n",
    "                mismatched = True\n",
    "                break\n",
    "        if not mismatched:\n",
    "            occurences.append(i)\n",
    "            skip_gs = p_bm.match_skip()\n",
    "            shift = max(shift, skip_gs)\n",
    "        i += shift\n",
    "        \n",
    "    return occurences\n",
    "                "
   ]
  },
  {
   "cell_type": "code",
   "execution_count": 30,
   "id": "bd471b99",
   "metadata": {
    "execution": {
     "iopub.execute_input": "2025-03-19T22:59:43.223638Z",
     "iopub.status.busy": "2025-03-19T22:59:43.222484Z",
     "iopub.status.idle": "2025-03-19T22:59:43.231268Z",
     "shell.execute_reply": "2025-03-19T22:59:43.229855Z"
    },
    "papermill": {
     "duration": 0.029131,
     "end_time": "2025-03-19T22:59:43.233947",
     "exception": false,
     "start_time": "2025-03-19T22:59:43.204816",
     "status": "completed"
    },
    "tags": []
   },
   "outputs": [
    {
     "data": {
      "text/plain": [
       "[6, 14]"
      ]
     },
     "execution_count": 30,
     "metadata": {},
     "output_type": "execute_result"
    }
   ],
   "source": [
    "t = 'GCTAGCTCTACGAGTCTA'\n",
    "p = 'TCTA'\n",
    "p_bm = BoyerMoore(p, alphabet='ACGT')\n",
    "boyer_moore(p, p_bm, t)"
   ]
  },
  {
   "cell_type": "code",
   "execution_count": 31,
   "id": "ec35cec9",
   "metadata": {
    "execution": {
     "iopub.execute_input": "2025-03-19T22:59:43.268609Z",
     "iopub.status.busy": "2025-03-19T22:59:43.268100Z",
     "iopub.status.idle": "2025-03-19T22:59:43.275719Z",
     "shell.execute_reply": "2025-03-19T22:59:43.274544Z"
    },
    "papermill": {
     "duration": 0.028053,
     "end_time": "2025-03-19T22:59:43.278329",
     "exception": false,
     "start_time": "2025-03-19T22:59:43.250276",
     "status": "completed"
    },
    "tags": []
   },
   "outputs": [
    {
     "data": {
      "text/plain": [
       "'TCTA'"
      ]
     },
     "execution_count": 31,
     "metadata": {},
     "output_type": "execute_result"
    }
   ],
   "source": [
    "t[6:10]\n",
    "t[14:18]"
   ]
  },
  {
   "cell_type": "code",
   "execution_count": 32,
   "id": "3b455942",
   "metadata": {
    "execution": {
     "iopub.execute_input": "2025-03-19T22:59:43.312937Z",
     "iopub.status.busy": "2025-03-19T22:59:43.312524Z",
     "iopub.status.idle": "2025-03-19T22:59:43.320598Z",
     "shell.execute_reply": "2025-03-19T22:59:43.319356Z"
    },
    "papermill": {
     "duration": 0.02841,
     "end_time": "2025-03-19T22:59:43.322848",
     "exception": false,
     "start_time": "2025-03-19T22:59:43.294438",
     "status": "completed"
    },
    "tags": []
   },
   "outputs": [],
   "source": [
    "# Module for building a k-mer index\n",
    "\n",
    "import bisect\n",
    "\n",
    "class Index(object):\n",
    "    def __init__(self, t, k):\n",
    "        self.k = k\n",
    "        self.index = []\n",
    "        for i in range(len(t) - k + 1):\n",
    "            self.index.append((t[i:i+k], i))\n",
    "        self.index.sort()\n",
    "        \n",
    "    def query(self, p):\n",
    "        kmer = p[:self.k]\n",
    "        i = bisect.bisect_left(self.index, (kmer, -1))\n",
    "        hits = []\n",
    "        while   i < len(self.index):\n",
    "            if self.index[i][0] != kmer:\n",
    "                break\n",
    "            hits.append(self.index[i][1])\n",
    "            i += 1\n",
    "        return hits"
   ]
  },
  {
   "cell_type": "code",
   "execution_count": 33,
   "id": "2d5c5d59",
   "metadata": {
    "execution": {
     "iopub.execute_input": "2025-03-19T22:59:43.357186Z",
     "iopub.status.busy": "2025-03-19T22:59:43.356735Z",
     "iopub.status.idle": "2025-03-19T22:59:43.362720Z",
     "shell.execute_reply": "2025-03-19T22:59:43.361603Z"
    },
    "papermill": {
     "duration": 0.026236,
     "end_time": "2025-03-19T22:59:43.365236",
     "exception": false,
     "start_time": "2025-03-19T22:59:43.339000",
     "status": "completed"
    },
    "tags": []
   },
   "outputs": [],
   "source": [
    "def queryIndex(p, t, index):\n",
    "    k = index.k\n",
    "    offsets = []\n",
    "    for i in index.query(p):\n",
    "        if p[k:] == t[i+k: i+len(p)]:\n",
    "            offsets.append(i)\n",
    "    return offsets"
   ]
  },
  {
   "cell_type": "code",
   "execution_count": 34,
   "id": "e28cbb4b",
   "metadata": {
    "execution": {
     "iopub.execute_input": "2025-03-19T22:59:43.400607Z",
     "iopub.status.busy": "2025-03-19T22:59:43.399441Z",
     "iopub.status.idle": "2025-03-19T22:59:43.406010Z",
     "shell.execute_reply": "2025-03-19T22:59:43.404919Z"
    },
    "papermill": {
     "duration": 0.026666,
     "end_time": "2025-03-19T22:59:43.408182",
     "exception": false,
     "start_time": "2025-03-19T22:59:43.381516",
     "status": "completed"
    },
    "tags": []
   },
   "outputs": [
    {
     "name": "stdout",
     "output_type": "stream",
     "text": [
      "<__main__.Index object at 0x7f6e2d6f9990>\n"
     ]
    }
   ],
   "source": [
    "t = 'ACTTGGAGATCTTTGAGGCTAGGTATTCGGGATCGAAGCTCATTTCGGGGATCGATTACGATATGGTGGGTATTCGGGA'\n",
    "p = 'GGTATTCGGGA'\n",
    "\n",
    "index = Index(t, 2)\n",
    "# print(queryIndex(p, t, index))\n",
    "print(index)"
   ]
  },
  {
   "cell_type": "code",
   "execution_count": 35,
   "id": "bc011a42",
   "metadata": {
    "execution": {
     "iopub.execute_input": "2025-03-19T22:59:43.442221Z",
     "iopub.status.busy": "2025-03-19T22:59:43.441767Z",
     "iopub.status.idle": "2025-03-19T22:59:43.449635Z",
     "shell.execute_reply": "2025-03-19T22:59:43.448074Z"
    },
    "papermill": {
     "duration": 0.028068,
     "end_time": "2025-03-19T22:59:43.452329",
     "exception": false,
     "start_time": "2025-03-19T22:59:43.424261",
     "status": "completed"
    },
    "tags": []
   },
   "outputs": [
    {
     "data": {
      "text/plain": [
       "'GGTATTCGGGA'"
      ]
     },
     "execution_count": 35,
     "metadata": {},
     "output_type": "execute_result"
    }
   ],
   "source": [
    "\n",
    "t[21:32]\n"
   ]
  },
  {
   "cell_type": "code",
   "execution_count": 36,
   "id": "1ffff131",
   "metadata": {
    "execution": {
     "iopub.execute_input": "2025-03-19T22:59:43.486524Z",
     "iopub.status.busy": "2025-03-19T22:59:43.486119Z",
     "iopub.status.idle": "2025-03-19T22:59:43.494931Z",
     "shell.execute_reply": "2025-03-19T22:59:43.493819Z"
    },
    "papermill": {
     "duration": 0.028912,
     "end_time": "2025-03-19T22:59:43.497448",
     "exception": false,
     "start_time": "2025-03-19T22:59:43.468536",
     "status": "completed"
    },
    "tags": []
   },
   "outputs": [],
   "source": [
    "#PigeonHole Principle\n",
    "\n",
    "def approximate_match(p, t, n):\n",
    "    \n",
    "    segment_length = round(len(p) / (n+1))\n",
    "    all_matches = set()\n",
    "    for i in range(n+1):\n",
    "        start = i*segment_length\n",
    "        end = min((i+1)*segment_length, len(p))\n",
    "        p_bm = BoyerMoore(p[start:end], alphabet='ACGT')\n",
    "        matches = boyer_moore(p[start:end], p_bm, t)\n",
    "        \n",
    "        for m in matches:\n",
    "            if m < start or m-start+len(p) > len(t):\n",
    "                continue\n",
    "                \n",
    "            mismatches = 0\n",
    "            for j in range(0, start):\n",
    "                if not p[j] == t[m-start+j]:\n",
    "                    mismatches +=1\n",
    "                    if mismatches > n:\n",
    "                        break\n",
    "            \n",
    "            for j in range(end, len(p)):\n",
    "                if not p[j] == t[m-start+j]:\n",
    "                    mismatches += 1\n",
    "                    if mismatches > n:\n",
    "                        break\n",
    "                        \n",
    "            if mismatches <= n:\n",
    "                all_matches.add(m-start)\n",
    "    return list(all_matches)"
   ]
  },
  {
   "cell_type": "code",
   "execution_count": 37,
   "id": "aeb24501",
   "metadata": {
    "execution": {
     "iopub.execute_input": "2025-03-19T22:59:43.532337Z",
     "iopub.status.busy": "2025-03-19T22:59:43.531911Z",
     "iopub.status.idle": "2025-03-19T22:59:43.538333Z",
     "shell.execute_reply": "2025-03-19T22:59:43.537136Z"
    },
    "papermill": {
     "duration": 0.026563,
     "end_time": "2025-03-19T22:59:43.540691",
     "exception": false,
     "start_time": "2025-03-19T22:59:43.514128",
     "status": "completed"
    },
    "tags": []
   },
   "outputs": [
    {
     "name": "stdout",
     "output_type": "stream",
     "text": [
      "[0, 5]\n"
     ]
    }
   ],
   "source": [
    "p = 'AACTTG'\n",
    "t = 'CACTTAATTTG'\n",
    "\n",
    "print(approximate_match(p, t, 2))"
   ]
  },
  {
   "cell_type": "code",
   "execution_count": 38,
   "id": "83e65ccf",
   "metadata": {
    "execution": {
     "iopub.execute_input": "2025-03-19T22:59:43.575510Z",
     "iopub.status.busy": "2025-03-19T22:59:43.574648Z",
     "iopub.status.idle": "2025-03-19T22:59:43.579595Z",
     "shell.execute_reply": "2025-03-19T22:59:43.578477Z"
    },
    "papermill": {
     "duration": 0.024659,
     "end_time": "2025-03-19T22:59:43.581835",
     "exception": false,
     "start_time": "2025-03-19T22:59:43.557176",
     "status": "completed"
    },
    "tags": []
   },
   "outputs": [],
   "source": [
    "# p = 'GGCGCGGTGGCTCACGCCTGTAAT'\n",
    "# t = chromosome\n",
    "\n",
    "# print(approximate_match(p, t, 2))\n",
    "# print(len(approximate_match(p, t, 2)))\n"
   ]
  },
  {
   "cell_type": "code",
   "execution_count": 39,
   "id": "69af4a0c",
   "metadata": {
    "execution": {
     "iopub.execute_input": "2025-03-19T22:59:43.617567Z",
     "iopub.status.busy": "2025-03-19T22:59:43.616638Z",
     "iopub.status.idle": "2025-03-19T22:59:43.622684Z",
     "shell.execute_reply": "2025-03-19T22:59:43.621514Z"
    },
    "papermill": {
     "duration": 0.026847,
     "end_time": "2025-03-19T22:59:43.625381",
     "exception": false,
     "start_time": "2025-03-19T22:59:43.598534",
     "status": "completed"
    },
    "tags": []
   },
   "outputs": [
    {
     "name": "stdout",
     "output_type": "stream",
     "text": [
      "G\n"
     ]
    }
   ],
   "source": [
    "print(t[10:])"
   ]
  },
  {
   "cell_type": "markdown",
   "id": "ddf8099d",
   "metadata": {
    "papermill": {
     "duration": 0.015702,
     "end_time": "2025-03-19T22:59:43.657286",
     "exception": false,
     "start_time": "2025-03-19T22:59:43.641584",
     "status": "completed"
    },
    "tags": []
   },
   "source": [
    "# Module 3"
   ]
  },
  {
   "cell_type": "code",
   "execution_count": 40,
   "id": "0febd0b3",
   "metadata": {
    "execution": {
     "iopub.execute_input": "2025-03-19T22:59:43.694481Z",
     "iopub.status.busy": "2025-03-19T22:59:43.693568Z",
     "iopub.status.idle": "2025-03-19T22:59:43.700362Z",
     "shell.execute_reply": "2025-03-19T22:59:43.699220Z"
    },
    "papermill": {
     "duration": 0.027165,
     "end_time": "2025-03-19T22:59:43.702649",
     "exception": false,
     "start_time": "2025-03-19T22:59:43.675484",
     "status": "completed"
    },
    "tags": []
   },
   "outputs": [],
   "source": [
    "def editDistRecursive(x,y):\n",
    "    # This implementation is very slow\n",
    "    if len(x) == 0:\n",
    "        return len(y)\n",
    "    elif len(y) == 0:\n",
    "        return len(x)\n",
    "    else:\n",
    "        distHor = editDistRecursive(x[:-1], y) + 1\n",
    "        distVer = editDistRecursive(x, y[:-1]) + 1\n",
    "        if x[-1] == y[-1]:\n",
    "            distDiag = editDistRecursive(x[:-1], y[:-1])\n",
    "        else:\n",
    "            distDiag = editDistRecursive(x[:-1], y[:-1]) + 1\n",
    "\n",
    "        return min(distHor, distVer, distDiag)"
   ]
  },
  {
   "cell_type": "code",
   "execution_count": 41,
   "id": "b65e2899",
   "metadata": {
    "execution": {
     "iopub.execute_input": "2025-03-19T22:59:43.737028Z",
     "iopub.status.busy": "2025-03-19T22:59:43.736540Z",
     "iopub.status.idle": "2025-03-19T22:59:43.744676Z",
     "shell.execute_reply": "2025-03-19T22:59:43.743539Z"
    },
    "papermill": {
     "duration": 0.028209,
     "end_time": "2025-03-19T22:59:43.746967",
     "exception": false,
     "start_time": "2025-03-19T22:59:43.718758",
     "status": "completed"
    },
    "tags": []
   },
   "outputs": [],
   "source": [
    "def editDistance(x,y):\n",
    "    D = []\n",
    "    for i in range (len(x)+1):\n",
    "        D.append([0] * (len(y)+1))\n",
    "\n",
    "    for i in range(len(x)+1):\n",
    "        D[i][0] = i\n",
    "    for i in range(len(y)+1):\n",
    "        D[0][i] = i\n",
    "\n",
    "    for i in range(1, len(x)+1):\n",
    "        for j in range(1, len(y)+1):\n",
    "            distHor = D[i][j-1] + 1\n",
    "            distVer = D[i-1][j] + 1\n",
    "            if x[i-1] == y[j-1]:\n",
    "                distDiag = D[i-1][j-1]\n",
    "            else:\n",
    "                distDiag = D[i-1][j-1] + 1\n",
    "\n",
    "            D[i][j] = min(distHor, distVer, distDiag)\n",
    "\n",
    "    return D[-1][-1]\n",
    "    "
   ]
  },
  {
   "cell_type": "code",
   "execution_count": 42,
   "id": "f2f07a68",
   "metadata": {
    "execution": {
     "iopub.execute_input": "2025-03-19T22:59:43.782002Z",
     "iopub.status.busy": "2025-03-19T22:59:43.781089Z",
     "iopub.status.idle": "2025-03-19T22:59:48.224674Z",
     "shell.execute_reply": "2025-03-19T22:59:48.223384Z"
    },
    "papermill": {
     "duration": 4.464309,
     "end_time": "2025-03-19T22:59:48.227647",
     "exception": false,
     "start_time": "2025-03-19T22:59:43.763338",
     "status": "completed"
    },
    "tags": []
   },
   "outputs": [
    {
     "name": "stdout",
     "output_type": "stream",
     "text": [
      "3\n",
      "CPU times: user 4.43 s, sys: 1.28 ms, total: 4.43 s\n",
      "Wall time: 4.44 s\n"
     ]
    }
   ],
   "source": [
    "%%time\n",
    "x = 'shake spea'\n",
    "y = 'Shakespear'\n",
    "\n",
    "print(editDistRecursive(x,y))"
   ]
  },
  {
   "cell_type": "code",
   "execution_count": 43,
   "id": "ab0b289c",
   "metadata": {
    "execution": {
     "iopub.execute_input": "2025-03-19T22:59:48.267208Z",
     "iopub.status.busy": "2025-03-19T22:59:48.266592Z",
     "iopub.status.idle": "2025-03-19T22:59:48.274236Z",
     "shell.execute_reply": "2025-03-19T22:59:48.273052Z"
    },
    "papermill": {
     "duration": 0.030655,
     "end_time": "2025-03-19T22:59:48.276567",
     "exception": false,
     "start_time": "2025-03-19T22:59:48.245912",
     "status": "completed"
    },
    "tags": []
   },
   "outputs": [
    {
     "name": "stdout",
     "output_type": "stream",
     "text": [
      "3\n",
      "CPU times: user 154 µs, sys: 14 µs, total: 168 µs\n",
      "Wall time: 172 µs\n"
     ]
    }
   ],
   "source": [
    "%%time\n",
    "x = 'shake spea'\n",
    "y = 'Shakespear'\n",
    "\n",
    "print(editDistance(x,y))"
   ]
  },
  {
   "cell_type": "code",
   "execution_count": 44,
   "id": "c4bdc8fa",
   "metadata": {
    "execution": {
     "iopub.execute_input": "2025-03-19T22:59:48.311438Z",
     "iopub.status.busy": "2025-03-19T22:59:48.311030Z",
     "iopub.status.idle": "2025-03-19T22:59:48.317053Z",
     "shell.execute_reply": "2025-03-19T22:59:48.315910Z"
    },
    "papermill": {
     "duration": 0.026439,
     "end_time": "2025-03-19T22:59:48.319470",
     "exception": false,
     "start_time": "2025-03-19T22:59:48.293031",
     "status": "completed"
    },
    "tags": []
   },
   "outputs": [],
   "source": [
    "alphabet = ['A', 'C', 'G', 'T']\n",
    "score = [[0, 4, 2, 4, 8],\n",
    "        [4, 0, 4, 2, 8],\n",
    "        [2, 4, 0, 4, 8],\n",
    "        [4, 2, 4, 0, 8],\n",
    "        [8, 8, 8, 8, 8]]"
   ]
  },
  {
   "cell_type": "code",
   "execution_count": 45,
   "id": "6c3576da",
   "metadata": {
    "execution": {
     "iopub.execute_input": "2025-03-19T22:59:48.355208Z",
     "iopub.status.busy": "2025-03-19T22:59:48.354736Z",
     "iopub.status.idle": "2025-03-19T22:59:48.364788Z",
     "shell.execute_reply": "2025-03-19T22:59:48.363394Z"
    },
    "papermill": {
     "duration": 0.030888,
     "end_time": "2025-03-19T22:59:48.367236",
     "exception": false,
     "start_time": "2025-03-19T22:59:48.336348",
     "status": "completed"
    },
    "tags": []
   },
   "outputs": [],
   "source": [
    "def globalAlignment(x,y):\n",
    "    D = []\n",
    "    for i in range (len(x)+1):\n",
    "        D.append([0] * (len(y)+1))\n",
    "\n",
    "    for i in range(1, len(x)+1):\n",
    "        D[i][0] = D[i-1][0] + score[alphabet.index(x[i-1])][-1]\n",
    "    for i in range(1, len(y)+1):\n",
    "        D[0][i] = D[0][i-1] + score[-1][alphabet.index(y[i-1])]\n",
    "\n",
    "    for i in range(1, len(x)+1):\n",
    "        for j in range(1, len(y)+1):\n",
    "            distHor = D[i][j-1] + score[-1][alphabet.index(y[j-1])]\n",
    "            distVer = D[i-1][j] + score[alphabet.index(x[i-1])][-1]\n",
    "            if x[i-1] == y[j-1]:\n",
    "                distDiag = D[i-1][j-1] \n",
    "            else:\n",
    "                distDiag = D[i-1][j-1] + score[alphabet.index(x[i-1])][alphabet.index(y[j-1])]                       \n",
    "                                                                                                                                                                                 \n",
    "            D[i][j] = min(distHor, distVer, distDiag)\n",
    "\n",
    "    return D[-1][-1]\n",
    "    "
   ]
  },
  {
   "cell_type": "code",
   "execution_count": 46,
   "id": "5158ca41",
   "metadata": {
    "execution": {
     "iopub.execute_input": "2025-03-19T22:59:48.402885Z",
     "iopub.status.busy": "2025-03-19T22:59:48.401810Z",
     "iopub.status.idle": "2025-03-19T22:59:48.409334Z",
     "shell.execute_reply": "2025-03-19T22:59:48.408192Z"
    },
    "papermill": {
     "duration": 0.027718,
     "end_time": "2025-03-19T22:59:48.411485",
     "exception": false,
     "start_time": "2025-03-19T22:59:48.383767",
     "status": "completed"
    },
    "tags": []
   },
   "outputs": [
    {
     "data": {
      "text/plain": [
       "10"
      ]
     },
     "execution_count": 46,
     "metadata": {},
     "output_type": "execute_result"
    }
   ],
   "source": [
    "x = 'TACCAGATTCGA'\n",
    "y = 'TACCAAATTGA'\n",
    "globalAlignment(x,y)"
   ]
  },
  {
   "cell_type": "code",
   "execution_count": 47,
   "id": "3ae3ac33",
   "metadata": {
    "execution": {
     "iopub.execute_input": "2025-03-19T22:59:48.446931Z",
     "iopub.status.busy": "2025-03-19T22:59:48.446487Z",
     "iopub.status.idle": "2025-03-19T22:59:48.453206Z",
     "shell.execute_reply": "2025-03-19T22:59:48.452039Z"
    },
    "papermill": {
     "duration": 0.027478,
     "end_time": "2025-03-19T22:59:48.455627",
     "exception": false,
     "start_time": "2025-03-19T22:59:48.428149",
     "status": "completed"
    },
    "tags": []
   },
   "outputs": [],
   "source": [
    "def overlap(a, b, min_length=3):\n",
    "    start = 0 # start all the way at the left\n",
    "\n",
    "    while True:\n",
    "        start = a.find(b[:min_length], start) # look for b's suffix in a\n",
    "        if start == -1: # no more occurences to right\n",
    "            return 0\n",
    "        # found occurence; check for full suffix/prefix match\n",
    "        if b.startswith(a[start:]):\n",
    "            return len(a) - start\n",
    "        start += 1 # move just past the previous match\n",
    "        "
   ]
  },
  {
   "cell_type": "code",
   "execution_count": 48,
   "id": "645b1f18",
   "metadata": {
    "execution": {
     "iopub.execute_input": "2025-03-19T22:59:48.491243Z",
     "iopub.status.busy": "2025-03-19T22:59:48.490753Z",
     "iopub.status.idle": "2025-03-19T22:59:48.498349Z",
     "shell.execute_reply": "2025-03-19T22:59:48.497158Z"
    },
    "papermill": {
     "duration": 0.028155,
     "end_time": "2025-03-19T22:59:48.500676",
     "exception": false,
     "start_time": "2025-03-19T22:59:48.472521",
     "status": "completed"
    },
    "tags": []
   },
   "outputs": [
    {
     "data": {
      "text/plain": [
       "0"
      ]
     },
     "execution_count": 48,
     "metadata": {},
     "output_type": "execute_result"
    }
   ],
   "source": [
    "overlap('TTACGTA', 'CTACCGTA')"
   ]
  },
  {
   "cell_type": "code",
   "execution_count": 49,
   "id": "6b9e740c",
   "metadata": {
    "execution": {
     "iopub.execute_input": "2025-03-19T22:59:48.537095Z",
     "iopub.status.busy": "2025-03-19T22:59:48.535888Z",
     "iopub.status.idle": "2025-03-19T22:59:48.542165Z",
     "shell.execute_reply": "2025-03-19T22:59:48.541208Z"
    },
    "papermill": {
     "duration": 0.027139,
     "end_time": "2025-03-19T22:59:48.544642",
     "exception": false,
     "start_time": "2025-03-19T22:59:48.517503",
     "status": "completed"
    },
    "tags": []
   },
   "outputs": [],
   "source": [
    "from itertools import permutations\n",
    "\n",
    "def naive_overlap_map(reads, k):\n",
    "    olaps = {}\n",
    "    for a,b  in permutations(reads, 2):\n",
    "        olen = overlap(a, b, min_length = k)\n",
    "        if olen > 0:\n",
    "            olaps[(a,b)] = olen\n",
    "    return olaps"
   ]
  },
  {
   "cell_type": "code",
   "execution_count": 50,
   "id": "35fd0f1e",
   "metadata": {
    "execution": {
     "iopub.execute_input": "2025-03-19T22:59:48.580902Z",
     "iopub.status.busy": "2025-03-19T22:59:48.580435Z",
     "iopub.status.idle": "2025-03-19T22:59:48.587140Z",
     "shell.execute_reply": "2025-03-19T22:59:48.585927Z"
    },
    "papermill": {
     "duration": 0.02815,
     "end_time": "2025-03-19T22:59:48.589937",
     "exception": false,
     "start_time": "2025-03-19T22:59:48.561787",
     "status": "completed"
    },
    "tags": []
   },
   "outputs": [
    {
     "name": "stdout",
     "output_type": "stream",
     "text": [
      "{('ACGGATGATC', 'GATCAAGT'): 4, ('TTCACGGA', 'ACGGATGATC'): 5}\n"
     ]
    }
   ],
   "source": [
    "reads = ['ACGGATGATC', 'GATCAAGT', 'TTCACGGA']\n",
    "print(naive_overlap_map(reads, 3))"
   ]
  },
  {
   "cell_type": "markdown",
   "id": "15319f28",
   "metadata": {
    "papermill": {
     "duration": 0.017431,
     "end_time": "2025-03-19T22:59:48.624568",
     "exception": false,
     "start_time": "2025-03-19T22:59:48.607137",
     "status": "completed"
    },
    "tags": []
   },
   "source": [
    "# Module 4"
   ]
  },
  {
   "cell_type": "code",
   "execution_count": 51,
   "id": "4f8fb995",
   "metadata": {
    "execution": {
     "iopub.execute_input": "2025-03-19T22:59:48.662266Z",
     "iopub.status.busy": "2025-03-19T22:59:48.661116Z",
     "iopub.status.idle": "2025-03-19T22:59:48.670191Z",
     "shell.execute_reply": "2025-03-19T22:59:48.669194Z"
    },
    "papermill": {
     "duration": 0.030603,
     "end_time": "2025-03-19T22:59:48.672866",
     "exception": false,
     "start_time": "2025-03-19T22:59:48.642263",
     "status": "completed"
    },
    "tags": []
   },
   "outputs": [],
   "source": [
    "import itertools\n",
    "\n",
    "def scs(ss):\n",
    "    shortest_sup = None\n",
    "    for ssperm in itertools.permutations(ss):\n",
    "        sup = ssperm[0]\n",
    "        for i in range(len(ss)-1):\n",
    "            olen = overlap(ssperm[i], ssperm[i+1], min_length=1)\n",
    "            sup += ssperm[i+1][olen:]\n",
    "        if shortest_sup is None or len(sup) < len(shortest_sup):\n",
    "            shortest_sup = sup\n",
    "    return shortest_sup\n",
    "\n",
    "def scs_list(ss):\n",
    "    shortest_sup = None\n",
    "    shortest_sup_list = []\n",
    "    mini_len = 0\n",
    "    for ssperm in itertools.permutations(ss):\n",
    "        sup = ssperm[0]\n",
    "        for i in range(len(ss)-1):\n",
    "            olen = overlap(ssperm[i], ssperm[i+1], min_length=1)\n",
    "            sup += ssperm[i+1][olen:]\n",
    "        if shortest_sup is None or len(sup) <= len(shortest_sup):\n",
    "            shortest_sup = sup\n",
    "            mini_len = len(shortest_sup)\n",
    "            shortest_sup_list.append(shortest_sup)\n",
    "    \n",
    "    return [str for str in shortest_sup_list if len(str) == mini_len]"
   ]
  },
  {
   "cell_type": "code",
   "execution_count": 52,
   "id": "75a972aa",
   "metadata": {
    "execution": {
     "iopub.execute_input": "2025-03-19T22:59:48.711671Z",
     "iopub.status.busy": "2025-03-19T22:59:48.710616Z",
     "iopub.status.idle": "2025-03-19T22:59:48.717045Z",
     "shell.execute_reply": "2025-03-19T22:59:48.715925Z"
    },
    "papermill": {
     "duration": 0.027103,
     "end_time": "2025-03-19T22:59:48.719281",
     "exception": false,
     "start_time": "2025-03-19T22:59:48.692178",
     "status": "completed"
    },
    "tags": []
   },
   "outputs": [
    {
     "name": "stdout",
     "output_type": "stream",
     "text": [
      "appleeeesherry\n"
     ]
    }
   ],
   "source": [
    "samp = [\"apple\", \"pleeees\", \"sherry\"]\n",
    "print(scs(samp))"
   ]
  },
  {
   "cell_type": "code",
   "execution_count": 53,
   "id": "8ed6eb14",
   "metadata": {
    "execution": {
     "iopub.execute_input": "2025-03-19T22:59:48.754810Z",
     "iopub.status.busy": "2025-03-19T22:59:48.754376Z",
     "iopub.status.idle": "2025-03-19T22:59:48.775866Z",
     "shell.execute_reply": "2025-03-19T22:59:48.774491Z"
    },
    "papermill": {
     "duration": 0.042648,
     "end_time": "2025-03-19T22:59:48.778676",
     "exception": false,
     "start_time": "2025-03-19T22:59:48.736028",
     "status": "completed"
    },
    "tags": []
   },
   "outputs": [
    {
     "name": "stdout",
     "output_type": "stream",
     "text": [
      "CCTTGGATTGC\n",
      "11\n",
      "['CCTTGGATTGC', 'TGCCTTGGATT', 'TGGATTGCCTT', 'GATTGCCTTGG']\n",
      "4\n"
     ]
    }
   ],
   "source": [
    "samp1 = ['ABC', 'BCA', 'CAB']\n",
    "samp2 = ['GAT', 'TAG', 'TCG', 'TGC', 'AAT', 'ATA']\n",
    "samp3 = ['CCT', 'CTT', 'TGC', 'TGG', 'GAT', 'ATT']\n",
    "\n",
    "print(scs(samp3))\n",
    "print(len(scs(samp3)))\n",
    "print(scs_list(samp3))\n",
    "print(len(scs_list(samp3)))"
   ]
  },
  {
   "cell_type": "code",
   "execution_count": 54,
   "id": "a99b6bfa",
   "metadata": {
    "execution": {
     "iopub.execute_input": "2025-03-19T22:59:48.815122Z",
     "iopub.status.busy": "2025-03-19T22:59:48.814624Z",
     "iopub.status.idle": "2025-03-19T22:59:48.824193Z",
     "shell.execute_reply": "2025-03-19T22:59:48.822949Z"
    },
    "papermill": {
     "duration": 0.030608,
     "end_time": "2025-03-19T22:59:48.826663",
     "exception": false,
     "start_time": "2025-03-19T22:59:48.796055",
     "status": "completed"
    },
    "tags": []
   },
   "outputs": [],
   "source": [
    "def pick_maximal_overlap(reads, k):\n",
    "    reada, readb = None, None\n",
    "    best_olen = 0\n",
    "    for a,b in itertools.permutations(reads, 2):\n",
    "        olen = overlap(a, b, min_length=k)\n",
    "        if olen > best_olen:\n",
    "            reada, readb = a, b\n",
    "            best_olen = olen\n",
    "    return reada, readb, best_olen\n",
    "\n",
    "\n",
    "def greedy_scs(reads, k):\n",
    "    read_a, read_b, olen = pick_maximal_overlap(reads, k)\n",
    "    while olen > 0:\n",
    "        reads.remove(read_a)\n",
    "        reads.remove(read_b)\n",
    "        reads.append(read_a + read_b[olen:])\n",
    "        read_a, read_b, olen = pick_maximal_overlap(reads, k)\n",
    "    return ''.join(reads)"
   ]
  },
  {
   "cell_type": "code",
   "execution_count": 55,
   "id": "849019f8",
   "metadata": {
    "execution": {
     "iopub.execute_input": "2025-03-19T22:59:48.862602Z",
     "iopub.status.busy": "2025-03-19T22:59:48.862142Z",
     "iopub.status.idle": "2025-03-19T22:59:48.868085Z",
     "shell.execute_reply": "2025-03-19T22:59:48.866883Z"
    },
    "papermill": {
     "duration": 0.02687,
     "end_time": "2025-03-19T22:59:48.870595",
     "exception": false,
     "start_time": "2025-03-19T22:59:48.843725",
     "status": "completed"
    },
    "tags": []
   },
   "outputs": [],
   "source": [
    "def generate_kmer(st, k):\n",
    "    kmers = set()\n",
    "    for i in range(len(st) - k + 1):\n",
    "        kmer = st[i:i+k]\n",
    "        kmers.add(kmer)\n",
    "    return kmers"
   ]
  },
  {
   "cell_type": "code",
   "execution_count": 56,
   "id": "5ba203e1",
   "metadata": {
    "execution": {
     "iopub.execute_input": "2025-03-19T22:59:48.906144Z",
     "iopub.status.busy": "2025-03-19T22:59:48.905665Z",
     "iopub.status.idle": "2025-03-19T22:59:48.912287Z",
     "shell.execute_reply": "2025-03-19T22:59:48.910958Z"
    },
    "papermill": {
     "duration": 0.027448,
     "end_time": "2025-03-19T22:59:48.914849",
     "exception": false,
     "start_time": "2025-03-19T22:59:48.887401",
     "status": "completed"
    },
    "tags": []
   },
   "outputs": [
    {
     "name": "stdout",
     "output_type": "stream",
     "text": [
      "{'GCTG', 'TCGT', 'TACG', 'CGAT', 'CGTA', 'CTGA', 'TCGA', 'GATC', 'ATCG', 'GTAC', 'TGAT'}\n"
     ]
    }
   ],
   "source": [
    "print(generate_kmer('GCTGATCGATCGTACG', 4))"
   ]
  },
  {
   "cell_type": "code",
   "execution_count": 57,
   "id": "79f2b843",
   "metadata": {
    "execution": {
     "iopub.execute_input": "2025-03-19T22:59:48.951871Z",
     "iopub.status.busy": "2025-03-19T22:59:48.951426Z",
     "iopub.status.idle": "2025-03-19T22:59:48.957359Z",
     "shell.execute_reply": "2025-03-19T22:59:48.956316Z"
    },
    "papermill": {
     "duration": 0.027914,
     "end_time": "2025-03-19T22:59:48.960561",
     "exception": false,
     "start_time": "2025-03-19T22:59:48.932647",
     "status": "completed"
    },
    "tags": []
   },
   "outputs": [
    {
     "name": "stdout",
     "output_type": "stream",
     "text": [
      "CCTCTTTGCTGGGATATT\n"
     ]
    }
   ],
   "source": [
    "sample = generate_kmer('a_long_long_long_time', 11)\n",
    "print(greedy_scs(samp3, 30))\n",
    "\n",
    "# print(scs(sample))\n",
    "# experiment failed\n"
   ]
  },
  {
   "cell_type": "code",
   "execution_count": 58,
   "id": "190c0427",
   "metadata": {
    "execution": {
     "iopub.execute_input": "2025-03-19T22:59:48.997361Z",
     "iopub.status.busy": "2025-03-19T22:59:48.996896Z",
     "iopub.status.idle": "2025-03-19T22:59:49.007271Z",
     "shell.execute_reply": "2025-03-19T22:59:49.005858Z"
    },
    "papermill": {
     "duration": 0.032922,
     "end_time": "2025-03-19T22:59:49.010586",
     "exception": false,
     "start_time": "2025-03-19T22:59:48.977664",
     "status": "completed"
    },
    "tags": []
   },
   "outputs": [],
   "source": [
    "def de_bruijn_ize(st, k):\n",
    "    my_edges = []\n",
    "    my_nodes = set()\n",
    "    for i in range(len(st) - k + 1):\n",
    "        my_edges.append((st[i:i+k-1], st[i+1:i+k]))\n",
    "        my_nodes.add(st[i:i+k-1])\n",
    "        my_nodes.add(st[i+1:i+k])\n",
    "    return my_nodes, my_edges"
   ]
  },
  {
   "cell_type": "code",
   "execution_count": 59,
   "id": "0bca4653",
   "metadata": {
    "execution": {
     "iopub.execute_input": "2025-03-19T22:59:49.047549Z",
     "iopub.status.busy": "2025-03-19T22:59:49.046312Z",
     "iopub.status.idle": "2025-03-19T22:59:49.053467Z",
     "shell.execute_reply": "2025-03-19T22:59:49.052227Z"
    },
    "papermill": {
     "duration": 0.028158,
     "end_time": "2025-03-19T22:59:49.055683",
     "exception": false,
     "start_time": "2025-03-19T22:59:49.027525",
     "status": "completed"
    },
    "tags": []
   },
   "outputs": [
    {
     "name": "stdout",
     "output_type": "stream",
     "text": [
      "{'TC', 'AC', 'GC', 'CG', 'GT'}\n",
      "[('AC', 'CG'), ('CG', 'GC'), ('GC', 'CG'), ('CG', 'GT'), ('GT', 'TC'), ('TC', 'CG')]\n"
     ]
    }
   ],
   "source": [
    "nodes, edges = de_bruijn_ize ('ACGCGTCG', 3)\n",
    "print(nodes)\n",
    "print(edges)"
   ]
  },
  {
   "cell_type": "code",
   "execution_count": 60,
   "id": "e5f28cf5",
   "metadata": {
    "execution": {
     "iopub.execute_input": "2025-03-19T22:59:49.092095Z",
     "iopub.status.busy": "2025-03-19T22:59:49.091618Z",
     "iopub.status.idle": "2025-03-19T22:59:49.098049Z",
     "shell.execute_reply": "2025-03-19T22:59:49.096837Z"
    },
    "papermill": {
     "duration": 0.027142,
     "end_time": "2025-03-19T22:59:49.100298",
     "exception": false,
     "start_time": "2025-03-19T22:59:49.073156",
     "status": "completed"
    },
    "tags": []
   },
   "outputs": [],
   "source": [
    "def visualize_de_bruijn(st, k):\n",
    "    \"\"\" Visualize a directed multigraph using graphviz \"\"\"\n",
    "    nodes, edges = de_bruijn_ize(st, k)\n",
    "    dot_str = 'digraph \"DeBruijn graph\" {\\n'\n",
    "    for node in nodes:\n",
    "        dot_str += '  %s [label=\"%s\"] ;\\n' % (node, node)\n",
    "    for src, dst in edges:\n",
    "        dot_str += '  %s -> %s ;\\n' % (src, dst)\n",
    "    return dot_str + '}\\n'"
   ]
  },
  {
   "cell_type": "code",
   "execution_count": 61,
   "id": "0e92f719",
   "metadata": {
    "execution": {
     "iopub.execute_input": "2025-03-19T22:59:49.138039Z",
     "iopub.status.busy": "2025-03-19T22:59:49.137553Z",
     "iopub.status.idle": "2025-03-19T22:59:49.574563Z",
     "shell.execute_reply": "2025-03-19T22:59:49.573403Z"
    },
    "papermill": {
     "duration": 0.459375,
     "end_time": "2025-03-19T22:59:49.577100",
     "exception": false,
     "start_time": "2025-03-19T22:59:49.117725",
     "status": "completed"
    },
    "tags": []
   },
   "outputs": [
    {
     "data": {
      "image/svg+xml": [
       "<?xml version=\"1.0\" encoding=\"UTF-8\" standalone=\"no\"?>\n",
       "<!DOCTYPE svg PUBLIC \"-//W3C//DTD SVG 1.1//EN\"\n",
       " \"http://www.w3.org/Graphics/SVG/1.1/DTD/svg11.dtd\">\n",
       "<!-- Generated by graphviz version 9.0.0 (20231125.0833)\n",
       " -->\n",
       "<!-- Title: DeBruijn graph Pages: 1 -->\n",
       "<svg width=\"309pt\" height=\"332pt\"\n",
       " viewBox=\"0.00 0.00 309.06 332.00\" xmlns=\"http://www.w3.org/2000/svg\" xmlns:xlink=\"http://www.w3.org/1999/xlink\">\n",
       "<g id=\"graph0\" class=\"graph\" transform=\"scale(1 1) rotate(0) translate(4 328)\">\n",
       "<title>DeBruijn graph</title>\n",
       "<polygon fill=\"white\" stroke=\"none\" points=\"-4,4 -4,-328 305.06,-328 305.06,4 -4,4\"/>\n",
       "<!-- _tim -->\n",
       "<g id=\"node1\" class=\"node\">\n",
       "<title>_tim</title>\n",
       "<ellipse fill=\"none\" stroke=\"black\" cx=\"267.22\" cy=\"-90\" rx=\"32.79\" ry=\"18\"/>\n",
       "<text text-anchor=\"middle\" x=\"267.22\" y=\"-85.33\" font-family=\"Times,serif\" font-size=\"14.00\">_tim</text>\n",
       "</g>\n",
       "<!-- time -->\n",
       "<g id=\"node4\" class=\"node\">\n",
       "<title>time</title>\n",
       "<ellipse fill=\"none\" stroke=\"black\" cx=\"267.22\" cy=\"-18\" rx=\"33.85\" ry=\"18\"/>\n",
       "<text text-anchor=\"middle\" x=\"267.22\" y=\"-13.32\" font-family=\"Times,serif\" font-size=\"14.00\">time</text>\n",
       "</g>\n",
       "<!-- _tim&#45;&gt;time -->\n",
       "<g id=\"edge17\" class=\"edge\">\n",
       "<title>_tim&#45;&gt;time</title>\n",
       "<path fill=\"none\" stroke=\"black\" d=\"M267.22,-71.7C267.22,-64.41 267.22,-55.73 267.22,-47.54\"/>\n",
       "<polygon fill=\"black\" stroke=\"black\" points=\"270.72,-47.62 267.22,-37.62 263.72,-47.62 270.72,-47.62\"/>\n",
       "</g>\n",
       "<!-- _lon -->\n",
       "<g id=\"node2\" class=\"node\">\n",
       "<title>_lon</title>\n",
       "<ellipse fill=\"none\" stroke=\"black\" cx=\"111.22\" cy=\"-90\" rx=\"31.22\" ry=\"18\"/>\n",
       "<text text-anchor=\"middle\" x=\"111.22\" y=\"-85.33\" font-family=\"Times,serif\" font-size=\"14.00\">_lon</text>\n",
       "</g>\n",
       "<!-- long -->\n",
       "<g id=\"node6\" class=\"node\">\n",
       "<title>long</title>\n",
       "<ellipse fill=\"none\" stroke=\"black\" cx=\"147.22\" cy=\"-18\" rx=\"32.79\" ry=\"18\"/>\n",
       "<text text-anchor=\"middle\" x=\"147.22\" y=\"-13.32\" font-family=\"Times,serif\" font-size=\"14.00\">long</text>\n",
       "</g>\n",
       "<!-- _lon&#45;&gt;long -->\n",
       "<g id=\"edge2\" class=\"edge\">\n",
       "<title>_lon&#45;&gt;long</title>\n",
       "<path fill=\"none\" stroke=\"black\" d=\"M108.28,-71.7C110.99,-62.92 116.2,-52.13 122.23,-42.61\"/>\n",
       "<polygon fill=\"black\" stroke=\"black\" points=\"125.02,-44.72 127.88,-34.52 119.28,-40.72 125.02,-44.72\"/>\n",
       "</g>\n",
       "<!-- _lon&#45;&gt;long -->\n",
       "<g id=\"edge7\" class=\"edge\">\n",
       "<title>_lon&#45;&gt;long</title>\n",
       "<path fill=\"none\" stroke=\"black\" d=\"M119.75,-72.41C123.87,-64.39 128.92,-54.57 133.57,-45.54\"/>\n",
       "<polygon fill=\"black\" stroke=\"black\" points=\"136.59,-47.31 138.05,-36.82 130.37,-44.11 136.59,-47.31\"/>\n",
       "</g>\n",
       "<!-- _lon&#45;&gt;long -->\n",
       "<g id=\"edge12\" class=\"edge\">\n",
       "<title>_lon&#45;&gt;long</title>\n",
       "<path fill=\"none\" stroke=\"black\" d=\"M129.34,-75.17C135.7,-67.06 141.86,-56.53 146.17,-46.78\"/>\n",
       "<polygon fill=\"black\" stroke=\"black\" points=\"149.34,-48.28 149.62,-37.69 142.8,-45.8 149.34,-48.28\"/>\n",
       "</g>\n",
       "<!-- ong_ -->\n",
       "<g id=\"node3\" class=\"node\">\n",
       "<title>ong_</title>\n",
       "<ellipse fill=\"none\" stroke=\"black\" cx=\"188.22\" cy=\"-306\" rx=\"34.37\" ry=\"18\"/>\n",
       "<text text-anchor=\"middle\" x=\"188.22\" y=\"-301.32\" font-family=\"Times,serif\" font-size=\"14.00\">ong_</text>\n",
       "</g>\n",
       "<!-- ng_l -->\n",
       "<g id=\"node9\" class=\"node\">\n",
       "<title>ng_l</title>\n",
       "<ellipse fill=\"none\" stroke=\"black\" cx=\"71.22\" cy=\"-234\" rx=\"31.74\" ry=\"18\"/>\n",
       "<text text-anchor=\"middle\" x=\"71.22\" y=\"-229.32\" font-family=\"Times,serif\" font-size=\"14.00\">ng_l</text>\n",
       "</g>\n",
       "<!-- ong_&#45;&gt;ng_l -->\n",
       "<g id=\"edge4\" class=\"edge\">\n",
       "<title>ong_&#45;&gt;ng_l</title>\n",
       "<path fill=\"none\" stroke=\"black\" d=\"M163.44,-293.28C144.5,-282.94 118.58,-267.64 98.97,-255.31\"/>\n",
       "<polygon fill=\"black\" stroke=\"black\" points=\"100.94,-252.42 90.63,-249.99 97.18,-258.32 100.94,-252.42\"/>\n",
       "</g>\n",
       "<!-- ong_&#45;&gt;ng_l -->\n",
       "<g id=\"edge9\" class=\"edge\">\n",
       "<title>ong_&#45;&gt;ng_l</title>\n",
       "<path fill=\"none\" stroke=\"black\" d=\"M169.57,-290.5C152.15,-279.21 126.03,-263.53 105.01,-251.71\"/>\n",
       "<polygon fill=\"black\" stroke=\"black\" points=\"106.92,-248.78 96.48,-246.99 103.53,-254.9 106.92,-248.78\"/>\n",
       "</g>\n",
       "<!-- ng_t -->\n",
       "<g id=\"node10\" class=\"node\">\n",
       "<title>ng_t</title>\n",
       "<ellipse fill=\"none\" stroke=\"black\" cx=\"267.22\" cy=\"-234\" rx=\"32.79\" ry=\"18\"/>\n",
       "<text text-anchor=\"middle\" x=\"267.22\" y=\"-229.32\" font-family=\"Times,serif\" font-size=\"14.00\">ng_t</text>\n",
       "</g>\n",
       "<!-- ong_&#45;&gt;ng_t -->\n",
       "<g id=\"edge14\" class=\"edge\">\n",
       "<title>ong_&#45;&gt;ng_t</title>\n",
       "<path fill=\"none\" stroke=\"black\" d=\"M204.97,-290.15C215.76,-280.6 229.98,-267.99 242.11,-257.25\"/>\n",
       "<polygon fill=\"black\" stroke=\"black\" points=\"244.19,-260.08 249.35,-250.83 239.55,-254.84 244.19,-260.08\"/>\n",
       "</g>\n",
       "<!-- g_lo -->\n",
       "<g id=\"node5\" class=\"node\">\n",
       "<title>g_lo</title>\n",
       "<ellipse fill=\"none\" stroke=\"black\" cx=\"31.22\" cy=\"-162\" rx=\"31.22\" ry=\"18\"/>\n",
       "<text text-anchor=\"middle\" x=\"31.22\" y=\"-157.32\" font-family=\"Times,serif\" font-size=\"14.00\">g_lo</text>\n",
       "</g>\n",
       "<!-- g_lo&#45;&gt;_lon -->\n",
       "<g id=\"edge6\" class=\"edge\">\n",
       "<title>g_lo&#45;&gt;_lon</title>\n",
       "<path fill=\"none\" stroke=\"black\" d=\"M43.61,-145.12C53.98,-135.02 68.88,-121.87 82.13,-111.05\"/>\n",
       "<polygon fill=\"black\" stroke=\"black\" points=\"84.14,-113.93 89.77,-104.95 79.77,-108.45 84.14,-113.93\"/>\n",
       "</g>\n",
       "<!-- g_lo&#45;&gt;_lon -->\n",
       "<g id=\"edge11\" class=\"edge\">\n",
       "<title>g_lo&#45;&gt;_lon</title>\n",
       "<path fill=\"none\" stroke=\"black\" d=\"M51.25,-148.16C63.29,-138.82 78.41,-125.91 90.53,-114.72\"/>\n",
       "<polygon fill=\"black\" stroke=\"black\" points=\"92.79,-117.41 97.65,-107.99 87.98,-112.32 92.79,-117.41\"/>\n",
       "</g>\n",
       "<!-- long&#45;&gt;ong_ -->\n",
       "<g id=\"edge3\" class=\"edge\">\n",
       "<title>long&#45;&gt;ong_</title>\n",
       "<path fill=\"none\" stroke=\"black\" d=\"M142.83,-36.02C141.32,-83.7 160.18,-218.91 175.89,-277.44\"/>\n",
       "<polygon fill=\"black\" stroke=\"black\" points=\"172.5,-278.31 178.66,-286.93 179.22,-276.35 172.5,-278.31\"/>\n",
       "</g>\n",
       "<!-- long&#45;&gt;ong_ -->\n",
       "<g id=\"edge8\" class=\"edge\">\n",
       "<title>long&#45;&gt;ong_</title>\n",
       "<path fill=\"none\" stroke=\"black\" d=\"M149.7,-36.31C156.54,-84.01 175.71,-217.76 184.15,-276.6\"/>\n",
       "<polygon fill=\"black\" stroke=\"black\" points=\"180.68,-277.07 185.56,-286.47 187.6,-276.07 180.68,-277.07\"/>\n",
       "</g>\n",
       "<!-- long&#45;&gt;ong_ -->\n",
       "<g id=\"edge13\" class=\"edge\">\n",
       "<title>long&#45;&gt;ong_</title>\n",
       "<path fill=\"none\" stroke=\"black\" d=\"M156.34,-35.59C171.47,-82.64 191.36,-217.37 192.62,-276.54\"/>\n",
       "<polygon fill=\"black\" stroke=\"black\" points=\"189.12,-276.45 192.6,-286.45 196.12,-276.46 189.12,-276.45\"/>\n",
       "</g>\n",
       "<!-- a_lo -->\n",
       "<g id=\"node7\" class=\"node\">\n",
       "<title>a_lo</title>\n",
       "<ellipse fill=\"none\" stroke=\"black\" cx=\"111.22\" cy=\"-162\" rx=\"30.69\" ry=\"18\"/>\n",
       "<text text-anchor=\"middle\" x=\"111.22\" y=\"-157.32\" font-family=\"Times,serif\" font-size=\"14.00\">a_lo</text>\n",
       "</g>\n",
       "<!-- a_lo&#45;&gt;_lon -->\n",
       "<g id=\"edge1\" class=\"edge\">\n",
       "<title>a_lo&#45;&gt;_lon</title>\n",
       "<path fill=\"none\" stroke=\"black\" d=\"M111.22,-143.7C111.22,-136.41 111.22,-127.73 111.22,-119.54\"/>\n",
       "<polygon fill=\"black\" stroke=\"black\" points=\"114.72,-119.62 111.22,-109.62 107.72,-119.62 114.72,-119.62\"/>\n",
       "</g>\n",
       "<!-- g_ti -->\n",
       "<g id=\"node8\" class=\"node\">\n",
       "<title>g_ti</title>\n",
       "<ellipse fill=\"none\" stroke=\"black\" cx=\"267.22\" cy=\"-162\" rx=\"29.64\" ry=\"18\"/>\n",
       "<text text-anchor=\"middle\" x=\"267.22\" y=\"-157.32\" font-family=\"Times,serif\" font-size=\"14.00\">g_ti</text>\n",
       "</g>\n",
       "<!-- g_ti&#45;&gt;_tim -->\n",
       "<g id=\"edge16\" class=\"edge\">\n",
       "<title>g_ti&#45;&gt;_tim</title>\n",
       "<path fill=\"none\" stroke=\"black\" d=\"M267.22,-143.7C267.22,-136.41 267.22,-127.73 267.22,-119.54\"/>\n",
       "<polygon fill=\"black\" stroke=\"black\" points=\"270.72,-119.62 267.22,-109.62 263.72,-119.62 270.72,-119.62\"/>\n",
       "</g>\n",
       "<!-- ng_l&#45;&gt;g_lo -->\n",
       "<g id=\"edge5\" class=\"edge\">\n",
       "<title>ng_l&#45;&gt;g_lo</title>\n",
       "<path fill=\"none\" stroke=\"black\" d=\"M56.86,-217.81C51.27,-209.75 45.16,-199.59 40.17,-190.22\"/>\n",
       "<polygon fill=\"black\" stroke=\"black\" points=\"43.4,-188.85 35.78,-181.48 37.14,-191.99 43.4,-188.85\"/>\n",
       "</g>\n",
       "<!-- ng_l&#45;&gt;g_lo -->\n",
       "<g id=\"edge10\" class=\"edge\">\n",
       "<title>ng_l&#45;&gt;g_lo</title>\n",
       "<path fill=\"none\" stroke=\"black\" d=\"M67.24,-215.7C63.29,-207.25 57.59,-196.94 51.81,-187.69\"/>\n",
       "<polygon fill=\"black\" stroke=\"black\" points=\"54.82,-185.91 46.41,-179.47 48.97,-189.75 54.82,-185.91\"/>\n",
       "</g>\n",
       "<!-- ng_t&#45;&gt;g_ti -->\n",
       "<g id=\"edge15\" class=\"edge\">\n",
       "<title>ng_t&#45;&gt;g_ti</title>\n",
       "<path fill=\"none\" stroke=\"black\" d=\"M267.22,-215.7C267.22,-208.41 267.22,-199.73 267.22,-191.54\"/>\n",
       "<polygon fill=\"black\" stroke=\"black\" points=\"270.72,-191.62 267.22,-181.62 263.72,-191.62 270.72,-191.62\"/>\n",
       "</g>\n",
       "</g>\n",
       "</svg>\n"
      ],
      "text/plain": [
       "<graphviz.sources.Source at 0x7f6e2d6fb070>"
      ]
     },
     "metadata": {},
     "output_type": "display_data"
    }
   ],
   "source": [
    "import graphviz\n",
    "from IPython.display import display\n",
    "\n",
    "display(graphviz.Source(visualize_de_bruijn('a_long_long_long_time', 5)))"
   ]
  }
 ],
 "metadata": {
  "kaggle": {
   "accelerator": "none",
   "dataSources": [
    {
     "datasetId": 4406207,
     "sourceId": 7568431,
     "sourceType": "datasetVersion"
    },
    {
     "datasetId": 4431818,
     "sourceId": 7610961,
     "sourceType": "datasetVersion"
    },
    {
     "datasetId": 4434458,
     "sourceId": 7614684,
     "sourceType": "datasetVersion"
    },
    {
     "datasetId": 4436499,
     "sourceId": 7617420,
     "sourceType": "datasetVersion"
    },
    {
     "datasetId": 4436865,
     "sourceId": 7617914,
     "sourceType": "datasetVersion"
    },
    {
     "datasetId": 4557619,
     "sourceId": 7786764,
     "sourceType": "datasetVersion"
    },
    {
     "datasetId": 6762201,
     "sourceId": 10882594,
     "sourceType": "datasetVersion"
    },
    {
     "datasetId": 6817695,
     "sourceId": 10958918,
     "sourceType": "datasetVersion"
    }
   ],
   "dockerImageVersionId": 30635,
   "isGpuEnabled": false,
   "isInternetEnabled": true,
   "language": "python",
   "sourceType": "notebook"
  },
  "kernelspec": {
   "display_name": "Python 3",
   "language": "python",
   "name": "python3"
  },
  "language_info": {
   "codemirror_mode": {
    "name": "ipython",
    "version": 3
   },
   "file_extension": ".py",
   "mimetype": "text/x-python",
   "name": "python",
   "nbconvert_exporter": "python",
   "pygments_lexer": "ipython3",
   "version": "3.10.12"
  },
  "papermill": {
   "default_parameters": {},
   "duration": 18.104177,
   "end_time": "2025-03-19T22:59:50.118222",
   "environment_variables": {},
   "exception": null,
   "input_path": "__notebook__.ipynb",
   "output_path": "__notebook__.ipynb",
   "parameters": {},
   "start_time": "2025-03-19T22:59:32.014045",
   "version": "2.4.0"
  }
 },
 "nbformat": 4,
 "nbformat_minor": 5
}
