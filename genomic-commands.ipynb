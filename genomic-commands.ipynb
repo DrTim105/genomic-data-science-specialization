{
 "cells": [
  {
   "cell_type": "markdown",
   "id": "2e5ae36e",
   "metadata": {
    "papermill": {
     "duration": 0.003453,
     "end_time": "2025-03-24T15:14:10.638997",
     "exception": false,
     "start_time": "2025-03-24T15:14:10.635544",
     "status": "completed"
    },
    "tags": []
   },
   "source": [
    "# **Genomic Data Science - Command Line Reference**\n",
    "\n",
    "\n",
    "This notebook serves as a quick reference for essential command-line tools in **Genomic Data Science**. It categorizes commonly used commands for **file handling, content querying, and data processing** in **bioinformatics workflows**. 🚀\n"
   ]
  },
  {
   "cell_type": "markdown",
   "id": "ea486277",
   "metadata": {
    "papermill": {
     "duration": 0.002483,
     "end_time": "2025-03-24T15:14:10.644591",
     "exception": false,
     "start_time": "2025-03-24T15:14:10.642108",
     "status": "completed"
    },
    "tags": []
   },
   "source": [
    "---\n",
    "## **1️⃣ Files & Directories**\n"
   ]
  },
  {
   "cell_type": "markdown",
   "id": "cb8b5e25",
   "metadata": {
    "papermill": {
     "duration": 0.002511,
     "end_time": "2025-03-24T15:14:10.650016",
     "exception": false,
     "start_time": "2025-03-24T15:14:10.647505",
     "status": "completed"
    },
    "tags": []
   },
   "source": [
    "### **Navigating Directories**\n",
    "```bash\n",
    "cd /media/sf_file-name  # Change to the specified directory\n",
    "cd /media/sf_Plants     # Change to 'sf_Plants' directory\n",
    "cd ..                   # Move to the parent directory\n",
    "pwd                      # Display full path of the current directory\n",
    "clear                    # Clear terminal output\n",
    "```\n",
    "<br />\n",
    "\n",
    "### **Listing Files**\n",
    "```bash\n",
    "ls                  # List files in the current directory\n",
    "ls -l               # List files with details (size, date modified, etc.)\n",
    "ls -lt              # List files sorted by modification time\n",
    "ls apple.*          # List all files starting with 'apple'\n",
    "```\n",
    "<br />\n",
    "\n",
    "### **Creating & Managing Directories**\n",
    "```bash\n",
    "mkdir dirname       # Create a new directory\n",
    "rmdir Old.stuff     # Remove empty directory\n",
    "rmdir -r Old.stuff  # Remove a directory and its contents recursively\n",
    "```\n",
    "<br />\n",
    "\n",
    "### **Copying & Moving Files**\n",
    "```bash\n",
    "cp apple.genome apple.genes apple.samples apple  # Copy files into 'apple' directory\n",
    "cp apple.* apple  # Copy all files that start with 'apple'\n",
    "\n",
    "mv pear.genome pear  # Move 'pear.genome' to 'pear' directory\n",
    "mv pear.* pear       # Move all 'pear.*' files to 'pear' directory\n",
    "```\n",
    "<br />\n",
    "\n",
    "### **Deleting Files**\n",
    "```bash\n",
    "rm apple.genomes      # Remove a file\n",
    "rm *                  # Remove everything in the current directory (⚠ Use with caution)\n",
    "rm -i apple.genes     # Prompt before removing a file\n",
    "```"
   ]
  },
  {
   "cell_type": "markdown",
   "id": "589e6b70",
   "metadata": {
    "papermill": {
     "duration": 0.002559,
     "end_time": "2025-03-24T15:14:10.655314",
     "exception": false,
     "start_time": "2025-03-24T15:14:10.652755",
     "status": "completed"
    },
    "tags": []
   },
   "source": [
    "---\n",
    "\n",
    "## **2️⃣ Viewing & Editing File Content**\n"
   ]
  },
  {
   "cell_type": "markdown",
   "id": "6d8fc2fe",
   "metadata": {
    "papermill": {
     "duration": 0.002401,
     "end_time": "2025-03-24T15:14:10.660499",
     "exception": false,
     "start_time": "2025-03-24T15:14:10.658098",
     "status": "completed"
    },
    "tags": []
   },
   "source": [
    "### **Viewing File Contents**\n",
    "```bash\n",
    "more apple.genome      # View file content (forward scrolling only)\n",
    "less apple.genome      # View file content (scroll forward & backward)\n",
    "head apple.genome      # Show first 10 lines of a file\n",
    "head -50 apple.genome  # Show first 50 lines of a file\n",
    "tail apple.genome      # Show last 10 lines of a file\n",
    "tail -15 apple.genome  # Show last 15 lines of a file\n",
    "```\n",
    "<br />\n",
    "\n",
    "### **Concatenating Files**\n",
    "```bash\n",
    "cat */*.genes           # Concatenate all '.genes' files\n",
    "cat */*.genome | more   # View concatenated content one page at a time\n",
    "```\n",
    "<br />\n",
    "\n",
    "### **Editing Files**\n",
    "```bash\n",
    "vi months  # Open file in the text editor\n",
    "# In vi editor, use the following commands:\n",
    "# ESC then :wq  -> Save & exit\n",
    "```"
   ]
  },
  {
   "cell_type": "markdown",
   "id": "2b8ecdea",
   "metadata": {
    "papermill": {
     "duration": 0.002525,
     "end_time": "2025-03-24T15:14:10.665742",
     "exception": false,
     "start_time": "2025-03-24T15:14:10.663217",
     "status": "completed"
    },
    "tags": []
   },
   "source": [
    "---\n",
    "\n",
    "## **3️⃣ Working with File Content**\n"
   ]
  },
  {
   "cell_type": "markdown",
   "id": "7a1466a9",
   "metadata": {
    "papermill": {
     "duration": 0.002602,
     "end_time": "2025-03-24T15:14:10.671118",
     "exception": false,
     "start_time": "2025-03-24T15:14:10.668516",
     "status": "completed"
    },
    "tags": []
   },
   "source": [
    "### **Word & Line Counts**\n",
    "```bash\n",
    "wc apple/apple.genome      # Count lines, words, characters\n",
    "wc -l apple/apple.genome   # Count lines only\n",
    "wc -l apple/apple.genome > nlines  # Redirect output to a file\n",
    "wc -l < apple/apple.genes  # Redirect input from terminal\n",
    "ls | wc -l                 # Count number of files in directory\n",
    "```\n",
    "<br />\n",
    "\n",
    "### **Sorting Content**\n",
    "```bash\n",
    "sort months           # Sort alphabetically\n",
    "sort -r months        # Sort in reverse order\n",
    "sort -k2 months       # Sort by the second column\n",
    "sort -k 2n months     # Sort by second column (numeric)\n",
    "sort -k 3 -k 2n months  # Sort by third column, then by second column numerically\n",
    "```\n",
    "<br />\n",
    "\n",
    "### **Unique Entries**\n",
    "```bash\n",
    "sort -u seasons       # Sort uniquely (remove duplicates)\n",
    "uniq seasons          # Show unique occurrences (consecutive duplicates only)\n",
    "uniq -c seasons       # Show unique occurrences with count\n",
    "uniq seasons | sort -u  # Show unique entries in sorted order\n",
    "```\n",
    "<br />\n",
    "\n",
    "### **Cutting Columns from Files**\n",
    "```bash\n",
    "cut -f1 months            # Show first column\n",
    "cut -f1,2 months          # Show first and second column\n",
    "cut -f1-3 months          # Show first three columns\n",
    "cut -d ' ' -f1 months     # Split by space and show first column\n",
    "cut -d ' ' -f3 months > seasons  # Save third column to a new file\n",
    "```"
   ]
  },
  {
   "cell_type": "markdown",
   "id": "c9fd8978",
   "metadata": {
    "papermill": {
     "duration": 0.002486,
     "end_time": "2025-03-24T15:14:10.676318",
     "exception": false,
     "start_time": "2025-03-24T15:14:10.673832",
     "status": "completed"
    },
    "tags": []
   },
   "source": [
    "---\n",
    "\n",
    "## **4️⃣ Searching & Querying Content**"
   ]
  },
  {
   "cell_type": "markdown",
   "id": "65662ac2",
   "metadata": {
    "papermill": {
     "duration": 0.002377,
     "end_time": "2025-03-24T15:14:10.681491",
     "exception": false,
     "start_time": "2025-03-24T15:14:10.679114",
     "status": "completed"
    },
    "tags": []
   },
   "source": [
    "### **Using `grep` for Searching**\n",
    "```bash\n",
    "grep root */*.samples        # Find lines containing 'root' in all .samples files\n",
    "grep \" 12 months\" months     # Search for exact phrase \"12 months\"\n",
    "grep -n \" 12 winter\" months  # Show line numbers of matching results\n",
    "grep -c \"winter\" months      # Count occurrences of 'winter'\n",
    "grep -v \"winter\" months      # Show lines that DO NOT contain 'winter'\n",
    "```\n"
   ]
  },
  {
   "cell_type": "markdown",
   "id": "4f768a5b",
   "metadata": {
    "papermill": {
     "duration": 0.002498,
     "end_time": "2025-03-24T15:14:10.686666",
     "exception": false,
     "start_time": "2025-03-24T15:14:10.684168",
     "status": "completed"
    },
    "tags": []
   },
   "source": [
    "---\n",
    "\n",
    "## **5️⃣ Comparing Files**"
   ]
  },
  {
   "cell_type": "markdown",
   "id": "e9384e9c",
   "metadata": {
    "papermill": {
     "duration": 0.002516,
     "end_time": "2025-03-24T15:14:10.691771",
     "exception": false,
     "start_time": "2025-03-24T15:14:10.689255",
     "status": "completed"
    },
    "tags": []
   },
   "source": [
    "### **Comparing File Differences**\n",
    "```bash\n",
    "diff orchard orchard.1  # Show differences between two files\n",
    "```\n",
    "<br />\n",
    "\n",
    "### **Using `comm` to Compare Files**\n",
    "```bash\n",
    "comm apple/apple.samples pear/pear.samples  # Compare two files (3-column output)\n",
    "comm -1 -2 apple/apple.sample.sorted pear/pear.sample.sorted  # Show common lines only\n",
    "```"
   ]
  },
  {
   "cell_type": "markdown",
   "id": "6a71e4a1",
   "metadata": {
    "papermill": {
     "duration": 0.002521,
     "end_time": "2025-03-24T15:14:10.696954",
     "exception": false,
     "start_time": "2025-03-24T15:14:10.694433",
     "status": "completed"
    },
    "tags": []
   },
   "source": [
    "---\n",
    "\n",
    "## **6️⃣ Archiving & Compressing**"
   ]
  },
  {
   "cell_type": "markdown",
   "id": "24ab7a1b",
   "metadata": {
    "papermill": {
     "duration": 0.002493,
     "end_time": "2025-03-24T15:14:10.702271",
     "exception": false,
     "start_time": "2025-03-24T15:14:10.699778",
     "status": "completed"
    },
    "tags": []
   },
   "source": [
    "### **Compressing & Decompressing Files**\n",
    "```bash\n",
    "gzip apple.genome    # Compress file using gzip\n",
    "gunzip apple.genome.gz  # Decompress gzip file\n",
    "bzip2 apple.genome   # Compress using bzip2\n",
    "bunzip2 apple.genome.bz2  # Decompress bzip2 file\n",
    "```\n",
    "<br />\n",
    "\n",
    "### **Working with TAR Archives**\n",
    "```bash\n",
    "tar -cvf Apple.tar apple.genes apple.genome apple.samples  # Archive multiple files\n",
    "tar -xvf Apple.tar  # Extract archive\n",
    "tar -cvf AppleD.tar apple/  # Archive entire directory\n",
    "```\n",
    "<br />\n",
    "\n",
    "---"
   ]
  }
 ],
 "metadata": {
  "kaggle": {
   "accelerator": "none",
   "dataSources": [],
   "dockerImageVersionId": 30918,
   "isGpuEnabled": false,
   "isInternetEnabled": true,
   "language": "python",
   "sourceType": "notebook"
  },
  "kernelspec": {
   "display_name": "Python 3",
   "language": "python",
   "name": "python3"
  },
  "language_info": {
   "codemirror_mode": {
    "name": "ipython",
    "version": 3
   },
   "file_extension": ".py",
   "mimetype": "text/x-python",
   "name": "python",
   "nbconvert_exporter": "python",
   "pygments_lexer": "ipython3",
   "version": "3.10.12"
  },
  "papermill": {
   "default_parameters": {},
   "duration": 3.479227,
   "end_time": "2025-03-24T15:14:11.225826",
   "environment_variables": {},
   "exception": null,
   "input_path": "__notebook__.ipynb",
   "output_path": "__notebook__.ipynb",
   "parameters": {},
   "start_time": "2025-03-24T15:14:07.746599",
   "version": "2.6.0"
  }
 },
 "nbformat": 4,
 "nbformat_minor": 5
}
