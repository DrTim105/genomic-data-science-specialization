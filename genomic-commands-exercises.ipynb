{
 "cells": [
  {
   "cell_type": "markdown",
   "id": "28bb13bf",
   "metadata": {
    "papermill": {
     "duration": 0.00658,
     "end_time": "2025-03-24T17:14:57.751988",
     "exception": false,
     "start_time": "2025-03-24T17:14:57.745408",
     "status": "completed"
    },
    "tags": []
   },
   "source": [
    "# Genomic Command-Line Exercises\n",
    "\n",
    "This notebook contains exercises on command-line tools for genomic data science. Each exercise includes a question followed by the corresponding command and explanation.\"\n",
    "  "
   ]
  },
  {
   "cell_type": "code",
   "execution_count": 1,
   "id": "075628f7",
   "metadata": {
    "execution": {
     "iopub.execute_input": "2025-03-24T17:14:57.766736Z",
     "iopub.status.busy": "2025-03-24T17:14:57.766255Z",
     "iopub.status.idle": "2025-03-24T17:14:58.111232Z",
     "shell.execute_reply": "2025-03-24T17:14:58.109431Z"
    },
    "papermill": {
     "duration": 0.354899,
     "end_time": "2025-03-24T17:14:58.113318",
     "exception": false,
     "start_time": "2025-03-24T17:14:57.758419",
     "status": "completed"
    },
    "tags": []
   },
   "outputs": [],
   "source": [
    "!cp -r /kaggle/input/plants/Plants /kaggle/working/"
   ]
  },
  {
   "cell_type": "code",
   "execution_count": 2,
   "id": "7ca28ebc",
   "metadata": {
    "execution": {
     "iopub.execute_input": "2025-03-24T17:14:58.128832Z",
     "iopub.status.busy": "2025-03-24T17:14:58.128427Z",
     "iopub.status.idle": "2025-03-24T17:14:58.149118Z",
     "shell.execute_reply": "2025-03-24T17:14:58.147403Z"
    },
    "papermill": {
     "duration": 0.031331,
     "end_time": "2025-03-24T17:14:58.151603",
     "exception": false,
     "start_time": "2025-03-24T17:14:58.120272",
     "status": "completed"
    },
    "tags": []
   },
   "outputs": [
    {
     "name": "stdout",
     "output_type": "stream",
     "text": [
      "total 52\n",
      "drwxr-xr-x 3 root root 4096 Mar 24 17:14 apple\n",
      "-rw-r--r-- 1 root root   60 Mar 24 17:14 applegenes\n",
      "-rw-r--r-- 1 root root  191 Mar 24 17:14 months\n",
      "-rw-r--r-- 1 root root  191 Mar 24 17:14 months.test\n",
      "-rw-r--r-- 1 root root  139 Mar 24 17:14 orchard\n",
      "-rw-r--r-- 1 root root   98 Mar 24 17:14 orchard.1\n",
      "drwxr-xr-x 2 root root 4096 Mar 24 17:14 peach\n",
      "-rw-r--r-- 1 root root   39 Mar 24 17:14 peachgenes\n",
      "drwxr-xr-x 2 root root 4096 Mar 24 17:14 pear\n",
      "-rw-r--r-- 1 root root   43 Mar 24 17:14 peargenes\n",
      "drwxr-xr-x 2 root root 4096 Mar 24 17:14 sample\n",
      "drwxr-xr-x 4 root root 4096 Mar 24 17:14 sandbox\n",
      "-rw-r--r-- 1 root root   78 Mar 24 17:14 seasons\n"
     ]
    }
   ],
   "source": [
    "%%bash\n",
    "cd /kaggle/working/Plants\n",
    "ls -l"
   ]
  },
  {
   "cell_type": "markdown",
   "id": "14fbd92a",
   "metadata": {
    "papermill": {
     "duration": 0.008471,
     "end_time": "2025-03-24T17:14:58.167715",
     "exception": false,
     "start_time": "2025-03-24T17:14:58.159244",
     "status": "completed"
    },
    "tags": []
   },
   "source": [
    "## **Exercises**  \n",
    "\n"
   ]
  },
  {
   "cell_type": "markdown",
   "id": "b6cd8fab",
   "metadata": {
    "papermill": {
     "duration": 0.006128,
     "end_time": "2025-03-24T17:14:58.180748",
     "exception": false,
     "start_time": "2025-03-24T17:14:58.174620",
     "status": "completed"
    },
    "tags": []
   },
   "source": [
    "### 1. How many chromosomes are there in the Apple genome?  "
   ]
  },
  {
   "cell_type": "code",
   "execution_count": 3,
   "id": "026244e2",
   "metadata": {
    "execution": {
     "iopub.execute_input": "2025-03-24T17:14:58.196888Z",
     "iopub.status.busy": "2025-03-24T17:14:58.196565Z",
     "iopub.status.idle": "2025-03-24T17:14:58.218844Z",
     "shell.execute_reply": "2025-03-24T17:14:58.217651Z"
    },
    "papermill": {
     "duration": 0.031554,
     "end_time": "2025-03-24T17:14:58.220787",
     "exception": false,
     "start_time": "2025-03-24T17:14:58.189233",
     "status": "completed"
    },
    "tags": []
   },
   "outputs": [
    {
     "name": "stdout",
     "output_type": "stream",
     "text": [
      ">chr1\n",
      ">chr2\n",
      ">chr3\n",
      ">chr4\n",
      ">chr5\n",
      "\n",
      "5\n",
      "\n",
      "5\n"
     ]
    }
   ],
   "source": [
    "%%bash\n",
    "\n",
    "cd /kaggle/working/Plants/apple\n",
    "\n",
    "grep \">\" apple.genome\n",
    "\n",
    "echo \"\"\n",
    "\n",
    "grep \">\" apple.genome | wc -l\n",
    "\n",
    "# or\n",
    "\n",
    "echo \"\"\n",
    "\n",
    "grep -c \">\" apple.genome"
   ]
  },
  {
   "cell_type": "markdown",
   "id": "e1dfa5af",
   "metadata": {
    "papermill": {
     "duration": 0.007737,
     "end_time": "2025-03-24T17:14:58.235317",
     "exception": false,
     "start_time": "2025-03-24T17:14:58.227580",
     "status": "completed"
    },
    "tags": []
   },
   "source": [
    "### 2a. How many genes are there in Apple?  \n",
    " "
   ]
  },
  {
   "cell_type": "code",
   "execution_count": 4,
   "id": "1a6a6598",
   "metadata": {
    "execution": {
     "iopub.execute_input": "2025-03-24T17:14:58.253205Z",
     "iopub.status.busy": "2025-03-24T17:14:58.252797Z",
     "iopub.status.idle": "2025-03-24T17:14:58.271909Z",
     "shell.execute_reply": "2025-03-24T17:14:58.270014Z"
    },
    "papermill": {
     "duration": 0.031957,
     "end_time": "2025-03-24T17:14:58.274230",
     "exception": false,
     "start_time": "2025-03-24T17:14:58.242273",
     "status": "completed"
    },
    "tags": []
   },
   "outputs": [
    {
     "name": "stdout",
     "output_type": "stream",
     "text": [
      "::::::::::::::\n",
      "apple.genes\n",
      "::::::::::::::\n",
      "Smell\tSmell-1\tchr1\t100\t1000\t+\t(100-150,400-500,900-1000)\n",
      "Smell\tSmell-2\tchr1\t100\t1000\t+\t(100-150,900-1000)\n",
      "Size\tSize-1\tchr1\t1500\t2000\t+\t(1500-1750,1800-1850,\t1900-2000)\n",
      "Size\tSize-2\tchr1\t1500\t2000\t+\t(1500-2000)\n",
      "Color\tColor-1\tchr2\t3400\t4200\t-\t(3400-3600,4000-4200)\n",
      "Color\tColor-2\tchr2\t3400\t4200\t-\t(3400-3550,3800-3900,4000-4200)\n",
      "Color\tColor-3\tchr2\t3400\t4200\t-\t(3400-3600,3800-3900,4100-4200)\n",
      "appl4\tappl4-1\tchr3\t50\t800\t+\t(50-400,700-80)\n",
      "appl5\tappl5-1\tchr3\t1100\t1500\t+\t(1100-1200,1450-1500)\n",
      "Taste\tTaste-1\tchr3\t2000\t2600\t-\t(2000-2300,2500-2600)\n",
      "Taste\tTaste-2\tchr3\t2000\t2600\t-\t(2000-2050,2200-2300,2500-2600)\n",
      "Shape\tShape-1\tchr4\t3100\t3700\t-\t(3100-3500,3600-3700)\n",
      "Shape\tShape-2\tchr4\t3100\t3700\t-\t(3100-3200,3400-3500,3600-3700)\n",
      "appl8\tappl8-1\tchr4\t4500\t4800\t+\t(4500-4800)\n",
      "appl9\tappl9-1\tchr5\t200\t1000\t-\t(200-450,550-650,800-1000)\n",
      "appl10\tappl10-1\tchr5\t1100\t1700\t+\t(1100-1400,1500-1700)\n"
     ]
    }
   ],
   "source": [
    "%%bash \n",
    "\n",
    "cd /kaggle/working/Plants/apple\n",
    "more apple.genes"
   ]
  },
  {
   "cell_type": "code",
   "execution_count": 5,
   "id": "0c7b8f7f",
   "metadata": {
    "execution": {
     "iopub.execute_input": "2025-03-24T17:14:58.290948Z",
     "iopub.status.busy": "2025-03-24T17:14:58.290548Z",
     "iopub.status.idle": "2025-03-24T17:14:58.325269Z",
     "shell.execute_reply": "2025-03-24T17:14:58.321735Z"
    },
    "papermill": {
     "duration": 0.045676,
     "end_time": "2025-03-24T17:14:58.327550",
     "exception": false,
     "start_time": "2025-03-24T17:14:58.281874",
     "status": "completed"
    },
    "tags": []
   },
   "outputs": [
    {
     "name": "stdout",
     "output_type": "stream",
     "text": [
      "Smell\n",
      "Size\n",
      "Color\n",
      "appl4\n",
      "appl5\n",
      "Taste\n",
      "Shape\n",
      "appl8\n",
      "appl9\n",
      "appl10\n",
      "\n",
      "10\n",
      "\n",
      "10\n"
     ]
    }
   ],
   "source": [
    "%%bash\n",
    "\n",
    "cd /kaggle/working/Plants/apple\n",
    "\n",
    "cut -f1 apple.genes | uniq | more\n",
    "\n",
    "echo \"\"\n",
    "\n",
    "cut -f1 apple.genes | uniq | wc -l\n",
    "\n",
    "# or \n",
    "\n",
    "echo \"\"\n",
    "\n",
    "cut -f1 apple.genes | sort -u | wc -l"
   ]
  },
  {
   "cell_type": "markdown",
   "id": "77eb1c3d",
   "metadata": {
    "papermill": {
     "duration": 0.007481,
     "end_time": "2025-03-24T17:14:58.342807",
     "exception": false,
     "start_time": "2025-03-24T17:14:58.335326",
     "status": "completed"
    },
    "tags": []
   },
   "source": [
    "### 2b. How many transcripts are there in Apple?  \n"
   ]
  },
  {
   "cell_type": "code",
   "execution_count": 6,
   "id": "e7b14548",
   "metadata": {
    "execution": {
     "iopub.execute_input": "2025-03-24T17:14:58.362795Z",
     "iopub.status.busy": "2025-03-24T17:14:58.362430Z",
     "iopub.status.idle": "2025-03-24T17:14:58.383755Z",
     "shell.execute_reply": "2025-03-24T17:14:58.378770Z"
    },
    "papermill": {
     "duration": 0.032556,
     "end_time": "2025-03-24T17:14:58.386339",
     "exception": false,
     "start_time": "2025-03-24T17:14:58.353783",
     "status": "completed"
    },
    "tags": []
   },
   "outputs": [
    {
     "name": "stdout",
     "output_type": "stream",
     "text": [
      "Smell-1\n",
      "Smell-2\n",
      "Size-1\n",
      "Size-2\n",
      "Color-1\n",
      "Color-2\n",
      "Color-3\n",
      "appl4-1\n",
      "appl5-1\n",
      "Taste-1\n",
      "Taste-2\n",
      "Shape-1\n",
      "Shape-2\n",
      "appl8-1\n",
      "appl9-1\n",
      "appl10-1\n",
      "\n",
      "16\n"
     ]
    }
   ],
   "source": [
    "%%bash\n",
    "\n",
    "cd /kaggle/working/Plants/apple\n",
    "\n",
    "cut -f2 apple.genes | more\n",
    "\n",
    "echo \"\"\n",
    "\n",
    "cut -f2 apple.genes | sort -u | wc -l"
   ]
  },
  {
   "cell_type": "markdown",
   "id": "a22cc8c5",
   "metadata": {
    "papermill": {
     "duration": 0.006906,
     "end_time": "2025-03-24T17:14:58.400710",
     "exception": false,
     "start_time": "2025-03-24T17:14:58.393804",
     "status": "completed"
    },
    "tags": []
   },
   "source": [
    "### 3a. How many genes have a single variant?  \n"
   ]
  },
  {
   "cell_type": "code",
   "execution_count": 7,
   "id": "3b9185d0",
   "metadata": {
    "execution": {
     "iopub.execute_input": "2025-03-24T17:14:58.420286Z",
     "iopub.status.busy": "2025-03-24T17:14:58.419846Z",
     "iopub.status.idle": "2025-03-24T17:14:58.435047Z",
     "shell.execute_reply": "2025-03-24T17:14:58.433572Z"
    },
    "papermill": {
     "duration": 0.028697,
     "end_time": "2025-03-24T17:14:58.437103",
     "exception": false,
     "start_time": "2025-03-24T17:14:58.408406",
     "status": "completed"
    },
    "tags": []
   },
   "outputs": [
    {
     "name": "stdout",
     "output_type": "stream",
     "text": [
      "      2 Smell\n",
      "      2 Size\n",
      "      3 Color\n",
      "      1 appl4\n",
      "      1 appl5\n",
      "      2 Taste\n",
      "      2 Shape\n",
      "      1 appl8\n",
      "      1 appl9\n",
      "      1 appl10\n"
     ]
    }
   ],
   "source": [
    "%%bash\n",
    "\n",
    "cd /kaggle/working/Plants/apple\n",
    "\n",
    "cut -f1 apple.genes | uniq -c\n"
   ]
  },
  {
   "cell_type": "code",
   "execution_count": 8,
   "id": "8e8010af",
   "metadata": {
    "execution": {
     "iopub.execute_input": "2025-03-24T17:14:58.454342Z",
     "iopub.status.busy": "2025-03-24T17:14:58.453939Z",
     "iopub.status.idle": "2025-03-24T17:14:58.485329Z",
     "shell.execute_reply": "2025-03-24T17:14:58.480423Z"
    },
    "papermill": {
     "duration": 0.042299,
     "end_time": "2025-03-24T17:14:58.487994",
     "exception": false,
     "start_time": "2025-03-24T17:14:58.445695",
     "status": "completed"
    },
    "tags": []
   },
   "outputs": [
    {
     "name": "stdout",
     "output_type": "stream",
     "text": [
      "      1 appl4\n",
      "      1 appl5\n",
      "      1 appl8\n",
      "      1 appl9\n",
      "      1 appl10\n",
      "\n",
      "5\n",
      "\n",
      "5\n"
     ]
    }
   ],
   "source": [
    "%%bash \n",
    "\n",
    "cd /kaggle/working/Plants/apple\n",
    "\n",
    "cut -f1 apple.genes | uniq -c | grep \"1\"\n",
    "\n",
    "echo \"\"\n",
    "\n",
    "cut -f1 apple.genes | uniq -c | grep \"1\" | wc -l\n",
    "\n",
    "#or \n",
    "\n",
    "echo \"\"\n",
    "\n",
    "cut -f1 apple.genes | uniq -c | grep -c \"1\""
   ]
  },
  {
   "cell_type": "markdown",
   "id": "bb951bb4",
   "metadata": {
    "papermill": {
     "duration": 0.008799,
     "end_time": "2025-03-24T17:14:58.505551",
     "exception": false,
     "start_time": "2025-03-24T17:14:58.496752",
     "status": "completed"
    },
    "tags": []
   },
   "source": [
    "### 3b. How many genes have multiple variants?"
   ]
  },
  {
   "cell_type": "code",
   "execution_count": 9,
   "id": "80160934",
   "metadata": {
    "execution": {
     "iopub.execute_input": "2025-03-24T17:14:58.522125Z",
     "iopub.status.busy": "2025-03-24T17:14:58.521725Z",
     "iopub.status.idle": "2025-03-24T17:14:58.542104Z",
     "shell.execute_reply": "2025-03-24T17:14:58.540668Z"
    },
    "papermill": {
     "duration": 0.032,
     "end_time": "2025-03-24T17:14:58.544716",
     "exception": false,
     "start_time": "2025-03-24T17:14:58.512716",
     "status": "completed"
    },
    "tags": []
   },
   "outputs": [
    {
     "name": "stdout",
     "output_type": "stream",
     "text": [
      "      2 Smell\n",
      "      2 Size\n",
      "      3 Color\n",
      "      2 Taste\n",
      "      2 Shape\n",
      "\n",
      "5\n"
     ]
    }
   ],
   "source": [
    "%%bash\n",
    "\n",
    "cd /kaggle/working/Plants/apple\n",
    "\n",
    "cut -f1 apple.genes | uniq -c | grep -v \"1\"\n",
    "\n",
    "echo \"\"\n",
    "\n",
    "cut -f1 apple.genes | uniq -c | grep -v \"1\" | wc -l"
   ]
  },
  {
   "cell_type": "markdown",
   "id": "efb1fda1",
   "metadata": {
    "papermill": {
     "duration": 0.010679,
     "end_time": "2025-03-24T17:14:58.564996",
     "exception": false,
     "start_time": "2025-03-24T17:14:58.554317",
     "status": "completed"
    },
    "tags": []
   },
   "source": [
    "### 4. How many genes are there on each of the ‘+’ and ‘-’ strands?\n"
   ]
  },
  {
   "cell_type": "code",
   "execution_count": 10,
   "id": "830af842",
   "metadata": {
    "execution": {
     "iopub.execute_input": "2025-03-24T17:14:58.583523Z",
     "iopub.status.busy": "2025-03-24T17:14:58.583164Z",
     "iopub.status.idle": "2025-03-24T17:14:58.606966Z",
     "shell.execute_reply": "2025-03-24T17:14:58.605805Z"
    },
    "papermill": {
     "duration": 0.036721,
     "end_time": "2025-03-24T17:14:58.610401",
     "exception": false,
     "start_time": "2025-03-24T17:14:58.573680",
     "status": "completed"
    },
    "tags": []
   },
   "outputs": [
    {
     "name": "stdout",
     "output_type": "stream",
     "text": [
      "+\n",
      "+\n",
      "+\n",
      "+\n",
      "-\n",
      "-\n",
      "-\n",
      "+\n",
      "+\n",
      "-\n",
      "-\n",
      "-\n",
      "-\n",
      "+\n",
      "-\n",
      "+\n",
      "\n",
      "8\n",
      "\n",
      "8\n"
     ]
    }
   ],
   "source": [
    "%%bash\n",
    "\n",
    "cd /kaggle/working/Plants/apple\n",
    "\n",
    "cut -f6 apple.genes\n",
    "\n",
    "echo \"\"\n",
    "\n",
    "cut -f1,6 apple.genes |  grep \"+\" | wc -l\n",
    "\n",
    "echo \"\"\n",
    "\n",
    "cut -f1,6 apple.genes |  grep \"-\" | wc -l"
   ]
  },
  {
   "cell_type": "markdown",
   "id": "6f219e61",
   "metadata": {
    "papermill": {
     "duration": 0.010398,
     "end_time": "2025-03-24T17:14:58.628131",
     "exception": false,
     "start_time": "2025-03-24T17:14:58.617733",
     "status": "completed"
    },
    "tags": []
   },
   "source": [
    "### 5. How many transcripts are there on each chromosome?\n"
   ]
  },
  {
   "cell_type": "code",
   "execution_count": 11,
   "id": "b22dd3a5",
   "metadata": {
    "execution": {
     "iopub.execute_input": "2025-03-24T17:14:58.649335Z",
     "iopub.status.busy": "2025-03-24T17:14:58.647845Z",
     "iopub.status.idle": "2025-03-24T17:14:58.662969Z",
     "shell.execute_reply": "2025-03-24T17:14:58.661553Z"
    },
    "papermill": {
     "duration": 0.027408,
     "end_time": "2025-03-24T17:14:58.665035",
     "exception": false,
     "start_time": "2025-03-24T17:14:58.637627",
     "status": "completed"
    },
    "tags": []
   },
   "outputs": [
    {
     "name": "stdout",
     "output_type": "stream",
     "text": [
      "      4 chr1\n",
      "      3 chr2\n",
      "      4 chr3\n",
      "      3 chr4\n",
      "      2 chr5\n"
     ]
    }
   ],
   "source": [
    "%%bash\n",
    "\n",
    "cd /kaggle/working/Plants/apple\n",
    "\n",
    "cut -f3 apple.genes | uniq -c"
   ]
  },
  {
   "cell_type": "markdown",
   "id": "2127f0f7",
   "metadata": {
    "papermill": {
     "duration": 0.008129,
     "end_time": "2025-03-24T17:14:58.683696",
     "exception": false,
     "start_time": "2025-03-24T17:14:58.675567",
     "status": "completed"
    },
    "tags": []
   },
   "source": [
    "### 6. How many genes are there on each chromosome\n"
   ]
  },
  {
   "cell_type": "code",
   "execution_count": 12,
   "id": "1dc8e081",
   "metadata": {
    "execution": {
     "iopub.execute_input": "2025-03-24T17:14:58.700470Z",
     "iopub.status.busy": "2025-03-24T17:14:58.700117Z",
     "iopub.status.idle": "2025-03-24T17:14:58.715434Z",
     "shell.execute_reply": "2025-03-24T17:14:58.714310Z"
    },
    "papermill": {
     "duration": 0.026526,
     "end_time": "2025-03-24T17:14:58.717575",
     "exception": false,
     "start_time": "2025-03-24T17:14:58.691049",
     "status": "completed"
    },
    "tags": []
   },
   "outputs": [
    {
     "name": "stdout",
     "output_type": "stream",
     "text": [
      "      2 chr1\n",
      "      1 chr2\n",
      "      3 chr3\n",
      "      2 chr4\n",
      "      2 chr5\n"
     ]
    }
   ],
   "source": [
    "%%bash\n",
    "\n",
    "cd /kaggle/working/Plants/apple\n",
    "\n",
    "cut -f1,3 apple.genes |sort -u | cut  -f2 | sort | uniq -c"
   ]
  },
  {
   "cell_type": "markdown",
   "id": "b1e1c091",
   "metadata": {
    "papermill": {
     "duration": 0.007665,
     "end_time": "2025-03-24T17:14:58.732303",
     "exception": false,
     "start_time": "2025-03-24T17:14:58.724638",
     "status": "completed"
    },
    "tags": []
   },
   "source": [
    "### 7. What plant systems contain a Smell gene?\n"
   ]
  },
  {
   "cell_type": "code",
   "execution_count": 13,
   "id": "35292561",
   "metadata": {
    "execution": {
     "iopub.execute_input": "2025-03-24T17:14:58.747732Z",
     "iopub.status.busy": "2025-03-24T17:14:58.747387Z",
     "iopub.status.idle": "2025-03-24T17:14:58.760016Z",
     "shell.execute_reply": "2025-03-24T17:14:58.758625Z"
    },
    "papermill": {
     "duration": 0.02248,
     "end_time": "2025-03-24T17:14:58.762156",
     "exception": false,
     "start_time": "2025-03-24T17:14:58.739676",
     "status": "completed"
    },
    "tags": []
   },
   "outputs": [
    {
     "name": "stdout",
     "output_type": "stream",
     "text": [
      "apple/apple.genes:Smell\tSmell-1\tchr1\t100\t1000\t+\t(100-150,400-500,900-1000)\n",
      "apple/apple.genes:Smell\tSmell-2\tchr1\t100\t1000\t+\t(100-150,900-1000)\n",
      "peach/peach.genes:Shape\tSmell-1\tscaffold_1\t200\t1500\t+\t(200-350,1300-1500)\n",
      "peach/peach.genes:Smell\tSmell-1\tscaffold_2\t3000\t4000\t-\t(300-3100,3300-3400,3800-4000)\n",
      "peach/peach.genes:Smell\tSmell-2\tscaffold_2\t3000\t4000\t-\t(300-3100,3800-4000)\n",
      "peach/peach.genes:Smell\tSmell-3\tscaffold_2\t3000\t4000\t-\t(300-3100,3300-3400,3600-3700,3900-4000)\n"
     ]
    }
   ],
   "source": [
    "%%bash\n",
    "\n",
    "cd /kaggle/working/Plants\n",
    "\n",
    "grep Smell */*.genes"
   ]
  },
  {
   "cell_type": "markdown",
   "id": "7b327352",
   "metadata": {
    "papermill": {
     "duration": 0.008044,
     "end_time": "2025-03-24T17:14:58.777628",
     "exception": false,
     "start_time": "2025-03-24T17:14:58.769584",
     "status": "completed"
    },
    "tags": []
   },
   "source": [
    "### 8. What plant systems contain a Color gene?\n"
   ]
  },
  {
   "cell_type": "code",
   "execution_count": 14,
   "id": "7021d3ee",
   "metadata": {
    "execution": {
     "iopub.execute_input": "2025-03-24T17:14:58.793761Z",
     "iopub.status.busy": "2025-03-24T17:14:58.793413Z",
     "iopub.status.idle": "2025-03-24T17:14:58.806298Z",
     "shell.execute_reply": "2025-03-24T17:14:58.805175Z"
    },
    "papermill": {
     "duration": 0.022982,
     "end_time": "2025-03-24T17:14:58.808313",
     "exception": false,
     "start_time": "2025-03-24T17:14:58.785331",
     "status": "completed"
    },
    "tags": []
   },
   "outputs": [
    {
     "name": "stdout",
     "output_type": "stream",
     "text": [
      "apple/apple.genes:Color\tColor-1\tchr2\t3400\t4200\t-\t(3400-3600,4000-4200)\n",
      "apple/apple.genes:Color\tColor-2\tchr2\t3400\t4200\t-\t(3400-3550,3800-3900,4000-4200)\n",
      "apple/apple.genes:Color\tColor-3\tchr2\t3400\t4200\t-\t(3400-3600,3800-3900,4100-4200)\n",
      "peach/peach.genes:Color\tColor-1\tscaffold_5\t2500\t3000\t+\t(2500-2700,2800-3000)\n",
      "peach/peach.genes:Color\tColor-2\tscaffold_5\t2500\t3000\t+\t(2500-2700,2900-3000)\n",
      "pear/pear.genes:Color\tColor-1\tscaffold00001\t+\t1000\t2500\t(1000-1200,2000-2500)\n",
      "pear/pear.genes:Color\tColor-1\tscaffold00001\t+\t1000\t2500\t(1000-1200,1400-1600,2000-2500)\n"
     ]
    }
   ],
   "source": [
    "%%bash\n",
    "\n",
    "cd /kaggle/working/Plants\n",
    "\n",
    "grep Color */*.genes"
   ]
  },
  {
   "cell_type": "markdown",
   "id": "78aa75ca",
   "metadata": {
    "papermill": {
     "duration": 0.006778,
     "end_time": "2025-03-24T17:14:58.822237",
     "exception": false,
     "start_time": "2025-03-24T17:14:58.815459",
     "status": "completed"
    },
    "tags": []
   },
   "source": [
    "### 9. What genes are in common between Apple and Pear? \n"
   ]
  },
  {
   "cell_type": "code",
   "execution_count": 15,
   "id": "ef93825d",
   "metadata": {
    "execution": {
     "iopub.execute_input": "2025-03-24T17:14:58.837347Z",
     "iopub.status.busy": "2025-03-24T17:14:58.836972Z",
     "iopub.status.idle": "2025-03-24T17:14:58.859769Z",
     "shell.execute_reply": "2025-03-24T17:14:58.858228Z"
    },
    "papermill": {
     "duration": 0.032721,
     "end_time": "2025-03-24T17:14:58.861912",
     "exception": false,
     "start_time": "2025-03-24T17:14:58.829191",
     "status": "completed"
    },
    "tags": []
   },
   "outputs": [
    {
     "name": "stdout",
     "output_type": "stream",
     "text": [
      "Color\n",
      "Shape\n",
      "Size\n",
      "Taste\n",
      "\n",
      "4\n"
     ]
    }
   ],
   "source": [
    "%%bash\n",
    "\n",
    "cd /kaggle/working/Plants\n",
    "\n",
    "cut -f1 apple/apple.genes | sort -u > applegenes\n",
    "\n",
    "cut -f1 pear/pear.genes | sort -u > peargenes\n",
    "\n",
    "comm -1 -2 applegenes peargenes\n",
    "\n",
    "echo \"\"\n",
    "\n",
    "comm -1 -2 applegenes peargenes | wc -l\n"
   ]
  },
  {
   "cell_type": "code",
   "execution_count": 16,
   "id": "2347bd03",
   "metadata": {
    "execution": {
     "iopub.execute_input": "2025-03-24T17:14:58.880991Z",
     "iopub.status.busy": "2025-03-24T17:14:58.880643Z",
     "iopub.status.idle": "2025-03-24T17:14:58.902295Z",
     "shell.execute_reply": "2025-03-24T17:14:58.900922Z"
    },
    "papermill": {
     "duration": 0.034878,
     "end_time": "2025-03-24T17:14:58.904434",
     "exception": false,
     "start_time": "2025-03-24T17:14:58.869556",
     "status": "completed"
    },
    "tags": []
   },
   "outputs": [
    {
     "name": "stdout",
     "output_type": "stream",
     "text": [
      "      2 Color\n",
      "      2 Shape\n",
      "      2 Size\n",
      "      2 Taste\n",
      "\n",
      "4\n"
     ]
    }
   ],
   "source": [
    "%%bash\n",
    "\n",
    "cd /kaggle/working/Plants\n",
    "\n",
    "cat applegenes peargenes | sort | uniq -c | grep \" 2 \"\n",
    "\n",
    "echo \"\"\n",
    "\n",
    "cat applegenes peargenes | sort | uniq -c | grep \" 2 \" | wc -l\n"
   ]
  },
  {
   "cell_type": "markdown",
   "id": "7d9475f2",
   "metadata": {
    "papermill": {
     "duration": 0.008231,
     "end_time": "2025-03-24T17:14:58.920570",
     "exception": false,
     "start_time": "2025-03-24T17:14:58.912339",
     "status": "completed"
    },
    "tags": []
   },
   "source": [
    "### 10. What genes are specific to each?"
   ]
  },
  {
   "cell_type": "code",
   "execution_count": 17,
   "id": "9a38170e",
   "metadata": {
    "execution": {
     "iopub.execute_input": "2025-03-24T17:14:58.937694Z",
     "iopub.status.busy": "2025-03-24T17:14:58.937299Z",
     "iopub.status.idle": "2025-03-24T17:14:58.949676Z",
     "shell.execute_reply": "2025-03-24T17:14:58.948635Z"
    },
    "papermill": {
     "duration": 0.023579,
     "end_time": "2025-03-24T17:14:58.951517",
     "exception": false,
     "start_time": "2025-03-24T17:14:58.927938",
     "status": "completed"
    },
    "tags": []
   },
   "outputs": [
    {
     "name": "stdout",
     "output_type": "stream",
     "text": [
      "appl10\n",
      "appl4\n",
      "appl5\n",
      "appl8\n",
      "appl9\n",
      "Smell\n",
      "\n",
      "pyr1\n",
      "pyr2\n",
      "pyr3\n",
      "pyr4\n"
     ]
    }
   ],
   "source": [
    "%%bash\n",
    "\n",
    "cd /kaggle/working/Plants\n",
    "\n",
    "comm -2 -3 applegenes peargenes\n",
    "\n",
    "echo \"\"\n",
    "\n",
    "comm -1 -3 applegenes peargenes"
   ]
  },
  {
   "cell_type": "markdown",
   "id": "95bd2745",
   "metadata": {
    "papermill": {
     "duration": 0.007477,
     "end_time": "2025-03-24T17:14:58.968334",
     "exception": false,
     "start_time": "2025-03-24T17:14:58.960857",
     "status": "completed"
    },
    "tags": []
   },
   "source": [
    "### 11. How many genes are in common to all three plant systems?\n"
   ]
  },
  {
   "cell_type": "code",
   "execution_count": 18,
   "id": "d740cc7c",
   "metadata": {
    "execution": {
     "iopub.execute_input": "2025-03-24T17:14:58.984765Z",
     "iopub.status.busy": "2025-03-24T17:14:58.984420Z",
     "iopub.status.idle": "2025-03-24T17:14:58.999718Z",
     "shell.execute_reply": "2025-03-24T17:14:58.998517Z"
    },
    "papermill": {
     "duration": 0.026196,
     "end_time": "2025-03-24T17:14:59.002022",
     "exception": false,
     "start_time": "2025-03-24T17:14:58.975826",
     "status": "completed"
    },
    "tags": []
   },
   "outputs": [
    {
     "name": "stdout",
     "output_type": "stream",
     "text": [
      "      3 Color\n",
      "      3 Shape\n",
      "      3 Size\n",
      "      3 Taste\n"
     ]
    }
   ],
   "source": [
    "%%bash\n",
    "\n",
    "cd /kaggle/working/Plants\n",
    "\n",
    "cut -f1 peach/peach.genes | sort -u > peachgenes\n",
    "\n",
    "cat applegenes peargenes peachgenes | sort | uniq -c | grep \" 3 \""
   ]
  },
  {
   "cell_type": "code",
   "execution_count": null,
   "id": "c5437357",
   "metadata": {
    "papermill": {
     "duration": 0.007028,
     "end_time": "2025-03-24T17:14:59.017723",
     "exception": false,
     "start_time": "2025-03-24T17:14:59.010695",
     "status": "completed"
    },
    "tags": []
   },
   "outputs": [],
   "source": []
  }
 ],
 "metadata": {
  "kaggle": {
   "accelerator": "none",
   "dataSources": [
    {
     "datasetId": 6956764,
     "sourceId": 11150650,
     "sourceType": "datasetVersion"
    }
   ],
   "dockerImageVersionId": 30918,
   "isGpuEnabled": false,
   "isInternetEnabled": true,
   "language": "python",
   "sourceType": "notebook"
  },
  "kernelspec": {
   "display_name": "Python 3",
   "language": "python",
   "name": "python3"
  },
  "language_info": {
   "codemirror_mode": {
    "name": "ipython",
    "version": 3
   },
   "file_extension": ".py",
   "mimetype": "text/x-python",
   "name": "python",
   "nbconvert_exporter": "python",
   "pygments_lexer": "ipython3",
   "version": "3.10.12"
  },
  "papermill": {
   "default_parameters": {},
   "duration": 4.951668,
   "end_time": "2025-03-24T17:14:59.545417",
   "environment_variables": {},
   "exception": null,
   "input_path": "__notebook__.ipynb",
   "output_path": "__notebook__.ipynb",
   "parameters": {},
   "start_time": "2025-03-24T17:14:54.593749",
   "version": "2.6.0"
  }
 },
 "nbformat": 4,
 "nbformat_minor": 5
}
