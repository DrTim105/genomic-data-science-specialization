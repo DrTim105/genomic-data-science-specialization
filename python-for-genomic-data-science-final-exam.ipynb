{
 "cells": [
  {
   "cell_type": "markdown",
   "id": "833c5c13",
   "metadata": {
    "papermill": {
     "duration": 0.005749,
     "end_time": "2025-03-08T14:30:51.734965",
     "exception": false,
     "start_time": "2025-03-08T14:30:51.729216",
     "status": "completed"
    },
    "tags": []
   },
   "source": [
    "# Final Exam Instructions\n",
    "\n",
    "**Please thoroughly read the instructions below before you take the Final Exam.**\n",
    "\n",
    "Write a Python program that takes as input a file containing DNA sequences in multi-FASTA format, and computes the answers to the following questions. You can choose to write one program with multiple functions to answer these questions, or you can write several programs to address them. We will provide a multi-FASTA file for you, and you will run your program to answer the exam questions. \n",
    "\n",
    "While developing your program(s), please use the following example file to test your work: dna.example.fasta\n",
    "\n",
    "You'll be given a different input file to launch the exam itself.\n",
    "\n",
    "Here are the questions your program needs to answer. The quiz itself contains the specific multiple-choice questions you need to answer for the file you will be provided.\n",
    "\n",
    "(1) How many records are in the file? A record in a FASTA file is defined as a single-line header, followed by lines of sequence data. The header line is distinguished from the sequence data by a greater-than (\">\") symbol in the first column. The word following the \">\" symbol is the identifier of the sequence, and the rest of the line is an optional description of the entry. There should be no space between the \">\" and the first letter of the identifier. \n",
    "\n",
    "(2) What are the lengths of the sequences in the file? What is the longest sequence and what is the shortest sequence? Is there more than one longest or shortest sequence? What are their identifiers? \n",
    "\n",
    "(3) In molecular biology, a reading frame is a way of dividing the DNA sequence of nucleotides into a set of consecutive, non-overlapping triplets (or codons). Depending on where we start, there are six possible reading frames: three in the forward (5' to 3') direction and three in the reverse (3' to 5'). For instance, the three possible forward reading frames for the sequence AGGTGACACCGCAAGCCTTATATTAGC are: \n",
    "\n",
    "AGG TGA CAC CGC AAG CCT TAT ATT AGC\n",
    "\n",
    "A GGT GAC ACC GCA AGC CTT ATA TTA GC\n",
    "\n",
    "AG GTG ACA CCG CAA GCC TTA TAT TAG C \n",
    "\n",
    "These are called reading frames 1, 2, and 3 respectively. An open reading frame (ORF) is the part of a reading frame that has the potential to encode a protein. It starts with a start codon (ATG), and ends with a stop codon (TAA, TAG or TGA). For instance, ATGAAATAG is an ORF of length 9.\n",
    "\n",
    "Given an input reading frame on the forward strand (1, 2, or 3) your program should be able to identify all ORFs present in each sequence of the FASTA file, and answer the following questions: what is the length of the longest ORF in the file? What is the identifier of the sequence containing the longest ORF? For a given sequence identifier, what is the longest ORF contained in the sequence represented by that identifier? What is the starting position of the longest ORF in the sequence that contains it? The position should indicate the character number in the sequence. For instance, the following ORF in reading frame 1:\n",
    "\n",
    ">sequence1\n",
    "\n",
    "ATGCCCTAG\n",
    "\n",
    "starts at position 1.\n",
    "\n",
    "Note that because the following sequence:\n",
    "\n",
    ">sequence2\n",
    "\n",
    "ATGAAAAAA\n",
    "\n",
    "does not have any stop codon in reading frame 1, we do not consider it to be an ORF in reading frame 1. \n",
    "\n",
    "(4) A repeat is a substring of a DNA sequence that occurs in multiple copies (more than one) somewhere in the sequence. Although repeats can occur on both the forward and reverse strands of the DNA sequence, we will only consider repeats on the forward strand here. Also we will allow repeats to overlap themselves. For example, the sequence ACACA contains two copies of the sequence ACA - once at position 1 (index 0 in Python), and once at position 3. Given a length n, your program should be able to identify all repeats of length n in all sequences in the FASTA file. Your program should also determine how many times each repeat occurs in the file, and which is the most frequent repeat of a given length."
   ]
  },
  {
   "cell_type": "markdown",
   "id": "2daf08a2",
   "metadata": {
    "papermill": {
     "duration": 0.003847,
     "end_time": "2025-03-08T14:30:51.743234",
     "exception": false,
     "start_time": "2025-03-08T14:30:51.739387",
     "status": "completed"
    },
    "tags": []
   },
   "source": [
    "* ### Read the file and parse it into a dictionary"
   ]
  },
  {
   "cell_type": "code",
   "execution_count": 1,
   "id": "8c4cc4dd",
   "metadata": {
    "execution": {
     "iopub.execute_input": "2025-03-08T14:30:51.754188Z",
     "iopub.status.busy": "2025-03-08T14:30:51.753707Z",
     "iopub.status.idle": "2025-03-08T14:30:51.780136Z",
     "shell.execute_reply": "2025-03-08T14:30:51.778662Z"
    },
    "papermill": {
     "duration": 0.036252,
     "end_time": "2025-03-08T14:30:51.783737",
     "exception": false,
     "start_time": "2025-03-08T14:30:51.747485",
     "status": "completed"
    },
    "tags": []
   },
   "outputs": [],
   "source": [
    "\n",
    "try:\n",
    "    f = open(\"/kaggle/input/dnafasta-real/dna2.fasta\")\n",
    "except IOError:\n",
    "    print(\"File dna2.fasta does not exist!\")\n",
    "    \n",
    "seqs = {}\n",
    "for line in f: # reads every line entry  in the file\n",
    "    line = line.rstrip() # removes any newline at the end\n",
    "    if line[0] == '>': # every line starts with the > identifier so we check to distinguish header from sequence\n",
    "        words = line.split() # tokenise the strings into separate  words\n",
    "        name = words[0][1:] # ignore the > identifier in the first string to select the name of the sequence\n",
    "        seqs[name] = '' # i.e. if we're in a header line, create a new sequence with the name\n",
    "    else:\n",
    "        seqs[name] = seqs[name]+  line #  else append the dna sequence in the current line to the dict\n",
    "        \n",
    "# print(seqs)"
   ]
  },
  {
   "cell_type": "markdown",
   "id": "87e2e46a",
   "metadata": {
    "papermill": {
     "duration": 0.004309,
     "end_time": "2025-03-08T14:30:51.792902",
     "exception": false,
     "start_time": "2025-03-08T14:30:51.788593",
     "status": "completed"
    },
    "tags": []
   },
   "source": [
    "* ### How many records are in the FASTA file?"
   ]
  },
  {
   "cell_type": "code",
   "execution_count": 2,
   "id": "debd0cbe",
   "metadata": {
    "execution": {
     "iopub.execute_input": "2025-03-08T14:30:51.804711Z",
     "iopub.status.busy": "2025-03-08T14:30:51.803923Z",
     "iopub.status.idle": "2025-03-08T14:30:51.812310Z",
     "shell.execute_reply": "2025-03-08T14:30:51.810691Z"
    },
    "papermill": {
     "duration": 0.018682,
     "end_time": "2025-03-08T14:30:51.816212",
     "exception": false,
     "start_time": "2025-03-08T14:30:51.797530",
     "status": "completed"
    },
    "tags": []
   },
   "outputs": [
    {
     "name": "stdout",
     "output_type": "stream",
     "text": [
      "18\n"
     ]
    }
   ],
   "source": [
    "print(len(seqs))"
   ]
  },
  {
   "cell_type": "markdown",
   "id": "014d2e18",
   "metadata": {
    "papermill": {
     "duration": 0.004571,
     "end_time": "2025-03-08T14:30:51.826893",
     "exception": false,
     "start_time": "2025-03-08T14:30:51.822322",
     "status": "completed"
    },
    "tags": []
   },
   "source": [
    "* ### What are the lengths of the  sequences in the file?\n"
   ]
  },
  {
   "cell_type": "code",
   "execution_count": 3,
   "id": "fb7f18dd",
   "metadata": {
    "execution": {
     "iopub.execute_input": "2025-03-08T14:30:51.840519Z",
     "iopub.status.busy": "2025-03-08T14:30:51.838924Z",
     "iopub.status.idle": "2025-03-08T14:30:51.847949Z",
     "shell.execute_reply": "2025-03-08T14:30:51.845968Z"
    },
    "papermill": {
     "duration": 0.019011,
     "end_time": "2025-03-08T14:30:51.850803",
     "exception": false,
     "start_time": "2025-03-08T14:30:51.831792",
     "status": "completed"
    },
    "tags": []
   },
   "outputs": [
    {
     "name": "stdout",
     "output_type": "stream",
     "text": [
      "4635\n",
      "1151\n",
      "4894\n",
      "3511\n",
      "4076\n",
      "2867\n",
      "442\n",
      "890\n",
      "967\n",
      "4338\n",
      "1352\n",
      "4564\n",
      "4804\n",
      "964\n",
      "2095\n",
      "1432\n",
      "115\n",
      "2646\n"
     ]
    }
   ],
   "source": [
    "for id, seq in seqs.items():\n",
    "    print(len(seq))"
   ]
  },
  {
   "cell_type": "markdown",
   "id": "40c93bfe",
   "metadata": {
    "papermill": {
     "duration": 0.004022,
     "end_time": "2025-03-08T14:30:51.859483",
     "exception": false,
     "start_time": "2025-03-08T14:30:51.855461",
     "status": "completed"
    },
    "tags": []
   },
   "source": [
    "* ### What is the longest sequence?\n"
   ]
  },
  {
   "cell_type": "code",
   "execution_count": 4,
   "id": "527aadd6",
   "metadata": {
    "execution": {
     "iopub.execute_input": "2025-03-08T14:30:51.870321Z",
     "iopub.status.busy": "2025-03-08T14:30:51.869820Z",
     "iopub.status.idle": "2025-03-08T14:30:51.878303Z",
     "shell.execute_reply": "2025-03-08T14:30:51.876614Z"
    },
    "papermill": {
     "duration": 0.017692,
     "end_time": "2025-03-08T14:30:51.881569",
     "exception": false,
     "start_time": "2025-03-08T14:30:51.863877",
     "status": "completed"
    },
    "tags": []
   },
   "outputs": [
    {
     "name": "stdout",
     "output_type": "stream",
     "text": [
      "Max sequence length: 4894\n",
      "\n",
      "Longest sequences\n",
      "\n",
      "id: gi|142022655|gb|EQ086233.1|255\n",
      "\n",
      "sequence: CTCGACGCGCTCCGCGTCGAGGTCGCCCGACGTCTCGCGCAGCAACTGATTCAAAAACAGGCCGCCGCTCATGCCGATCTTGCGGTGGATGCGCCACACCGACAGTTCGATGCCTTCGGCATCGAGCGCTTCCTTCCACGCAAGCACGTGCTGGTAGACGCTGTCGACGAGCGTGCCGTCGAGATCGAACAGAAAAGACGTTTCAATGCGCATGTGTATCTCCTGGCTCGAAAGGGGGCGAGCGAACGGGTCGTGAAGCGTGTCCGCACATTATCGGCGCGCGGCGATGTCATGACCATGTCCCGCGGCCCGCCGACGCGACGCCACCCCGTGCCGCGCCGTGTCATGTGCCGCTGGTACAATCGCGGCGATCGCCGGGCCGGGCTCTCCGCGCCGCGCGCCCCCAACCCTCGTCTCGCCGATTCCAGGTATGGCTACACCGGACGCCGTCAGTTCCAAGCACTCGTGGTGGGGTGTCCTGGCCCTGGCACTCACCGCCTTCATCTTCAATACCACCGAATTCGTGCCCGTCGCGCTGCTCAGCGCGATCGGCGACAGCCTGCACATGCAGCCGACCGACGTCGGCCTGATGCTGACGATCTACGCGTGGGCCGTGGCCGTCGTGTCCTTGCCGCTGACGCTGGCCACGCGCCACGTCGAGCGCCGCAAGCTGCTGACGGGGGCATTGCTGGTATTCATCGCGAGCCACGTCGTGACCGGTGTCGCGTGGAATTTCGCGGTGCTGATGGTCGGCCGGCTGGGCATCGCATGTGCGCATGCGGTGTTCTGGTCGATTTCCGTGCCGCTGGCCGTGCGGCTCGCGCCGAGCGACCGGAAAAGCCGCGCGCTCAGCCTGCTGGCGATGGGCACGGCGATCGCGATGGTGGCCGGCATTCCGCTCGGGCGCGTGGTCGGCGAGACGTTCGGCTGGCGCGTCACGTTCCTGATCATTGCCGGCGCGGCCGGCGTCGCGTTGCTGCTGCTGCGCGCGACGTTGCCGGTATCGCCGAGCCAGGGCGCCGGGTCGCTCGGCAGCATCGGCGTGTTCCTGCGCAAGCCCGCGCTGGTGGCGTTGTACGCGATCACCGTGCTCGTCGTGTCCGCGCACTTCACGTCGTACACGTACATCGAGCCTTTCGTCCAGAGCGTCAACCACGCGAGCAGCAGCCGGATCACGTATGTGCTGATCCTGTTCGGCGTCGCCGGCATACCGGCCGCGATCTGCTTCAACCGCATCTATCCGCACCGGCCGGACGACTTCCTGCTCGGGTCGATCGTCGCGCTGGCGGGATGCCTGCTGATCCTGTTCCCGTGCGCGCTGAACATCGTCACGCTGTCCGTGCATACGCTGGTGTGGGGCGGGGCGATCGTCTGCTTCGGGCTGGCGATGCAGGCATGGGTGCTGAAGCTGGCGCCGGAGGGGACCGACCTCGCGGTGTCGATCTTCTCCGGGCTGTACAACGTCGGGATCGGCGCGGGCGCGCTGATCGGCAACCATATCGCCGGCGACTTCGGGCTGCCGTGGATCGGCACGTTCGGCGGCGTGGTCGGCGCGGTGGCCGTCGGGATCGCGTGGCTGGCGTTGCGGCTGCACGCGAGGCAGGCGGCGGCCTAGCCAGCGCCGGCTGGCGGCGTCCGGCATGGGGCGCAGGTCGCCACGGCCCGGCCTCGCGCTTCGCGCTTCGCGGGTCATGCCACCGAGTAGCCGCCGTCGGCCACGAGCGCATGACCTGACACATAGCTGGAGTCATCCGATGCGAGGAACGCGACGATCGTCGCCATCTCCTCGGCAGAGCCCCAGCGTCCGGCCGGTGTCGATGCGGCAAACGCTTGCTGCGCTTCTTCCGACGGCCAGATGCCGCGATGATGGAACGGCGTTTCGATCAGCCCCGGGCACAGCGCGTTCACCCGCACGCCGCGCTTGAACCATTCGATCGAAGCGGTCTTCGTCATCCCGATCACCGCGTGCTTGCTCGCGATATAGACCGACGCATTCTCGAAGCCGATCAGCCCGCCCATCGATGCGTTGTTGATGATGCTGCCCGAACCCTGCCGCAGCATGATTTCAGCGGCGTACTTCATCGAGTTGAATACACCGCGCACGTTCGGCTCGAACACCATGTCGAACCGCTCGGCATCCTGCTCGAGCAGCGGCGCGAACACGCCTTCCGTGCCCGCATTGTTGAACGCGACGTCGAGGCGGCCGTAGGTCGATACCGTGAAATCGAACAGCTTGCGCAGATCGTCTTCGTTCGCGACGTCCGCGACGAAGGCCTTCGCTTCGCCGCCGGCGGTCACGATTTCGTCGACCAGTTGATCGAGCTCGGGCTTGCGCCGCGCGGAGACGACGACCTTTGCGCCGCGACGCGCGAGTTCGATGGCCGACGCGCGGCCGATGCCGGAGCTGGCGCCCGTTACCAGGGCGATGCGGCCGTCGAGTTGGGCCGGTTTCGTGATTGCGTTCATGATGAAGTTCTCCAGAGTGATGTTTGAAAGCGACGCATGTGGCTGAGTCGAATCGGTTGCGATGCACGCTTTACGAGCATTGTGGTCGCTCGCGCGTCGTAAAAAAATGGAACAATGGCGCATTCAGAATTCCCGTTTCGGGAATGAAGCGCGAAGCCGCATGCGCGCGCCAGGAGGGTTCTCCATGCTCAATCGACTCGACATCCTGAAGATCTTTGCCGCGGCCGCCGCGGCGCCCACGTTCCGCGAGGCGGCCGCGCGCCTCGGCGTGTCGCCGCAGGTGGTGACACGCGCGGTGCGCGACCTGGAGGAGATGCTCGGCGAAACGCTGTTTCACCGGACGACCCGGAGCATCCGGATCACCGCGTTCGGGCAAGCCTTCGCGCGCGACGCGCAGACGGCGCTGGCTGCCGTCGACGGGCTGTTCGGCCCCGCGACCGGCCAGGCCGACGAGCCGGTGGGCGTCGTGCGGATCACGGCGCCGTCGGGCATGGGGCGTCGTTACGTCCAGCCGATCCTGGGCGATCTCATGCAGCGGTACCCGGGGCTCGTGCCCGACTTGCGGCTGTCGGACGTGCCGTCGCCGGTGGTCGACGAGCAGATCGACATCGGCGTGCGCGTCGGGGCCATCGGCGACAACCGCTTCGTCGCGCGCATGGTCGGGCCGTTGCCGATGTGGATCGTCGGCGCGCCGTCGCTGATCCGGCGGCTGGGTGAGCCCAAAAACCGCAAGGACCTCGAATCGATGCCGGTGACGTGCCTGATCGATCGCGCGAGCGGCCGCGCGTGGCCGTGGATGTTTCGGGGGGAGCAGCAGTTCGTCCCGTCGTCGCCGGCGTACCTGACGGACGATACCGAGGTGGAGATCGAGGCCATCTGTGCGGGGGTGGGGCTGGGGCAGTGCTCGGAGTACCTCGTCCGGCCGTACGTCGACAACGGGCGCCTCGTGCGGCTGCTGCCCGGCCTCGAGCCCGAGCCGTGGAAGCTGCACGTCTATCGGCCGCGGCGCGGGCCGATGCCCCGGCGCATCCGGGTCGTGTACGACGAGCTGGTGGCGAAGCTCGCGGACGCGACGTGGCGGGGGTAGGCGGTGCGGCCCGGCCGCGGGTCGCGTTGGCGCGAAGCGGTGTCAGCCACGGCTCGACGACGTCGGCGCACCTGCGAACCAGTAACGTGCGTCGCGCACGGCTATCCGGCCTGGCGTGGTACGCGGCAAACCGACATATTGCGGCATCATCATGGACGCTGACGCACCCGCATTCGGTGCCCGATATTCGACTGGAGACGTTACATGCCGATACCCCGGATTGAAACCCGCGACGCGATGGGCGACCCCGATGTGGTCTATCTCAACCCGGATCACGTGCTGTGGATGTCACAGCCGACCGCTGCGCAGCGGCGGCCGGGCGGCACGGCGATTCGCGTGGACGACCGCGTGAAGGGCGGTTCGTTGCTGATGGCCGACCATCCGCCGGCCGCCCAACTGCTGCAGGATCTCGGGCCGTTCGTGACGGTGACGCTGGCGAACCCGTCGTCCGACTATCCGGACGGTCTCGTCCATGTGCGTGCGCAGGCGATCGTCAAGATCGCGACGGACGACCACGACAAGCCGCTCGCCGAGCGCACGCTCGGCTGGGTCCACGTCAAGGACGGCTCCGCGTTCAAGGTCAGCGATTACGCCGGCGTGGCCGCGCAATGGCAGGCGTCGGTGGCGGGTGCCGGCCGCTGAACGGGGCTTCACGCCTGCGTAATGGCGCTGCGGCCCGTCGTGCCGCAGTCGGCCGGCCGTGGTTCTCCGCGGCAAAACGGATGCCGTGCCTCGTGCACCGCGGCGAACGGCTCAGGTGCCGCCTGGCCGGGCGAACCATGCGCCCACCCGGTGCCGCATTCGATACGCATTGCACCGATCCCCCGAGTAACATGGCGCATCGCGACGAACCGGCGCCCGTTCGGGCCTTCGCCGCGAACGCGCCCGTCGAAGCGCCCGATGCAGGTGTTCTCCACCGGCTTGCCGAGGAACCATCCGTCATGAACCTTTCCGCGTCCGATATCACACCGGAGGAACTCCGGCTGTTCGGCGACATCATCGCCCGCCTGGAAGAACTGGGGCCGGTCGTCGACGTGAGGACGGTCGTGCTGCCCGCGATCGCGCAACTGCTCCGCGCCGATTTCGCCGCGTCGTTCGATTGCGACGAACACACCGGCCTGTGGCGCAACGGCTTCTCGTACAACATCGATCCGTTGCAGATCGCCCGGTACGAAGCGTGGTTCCAGCATATCGATCCGGTCACATCGCAACTGCGCGCGCGCCGCGTGGCGACCTGCGTCGACGAGGTGGTGAGCCGGTGCGAACTGGAACGGACCGAGTTCTACAACGACTTCCTGTGCCGCGACGGCATGCATCACGGCATCAACGTCTATGCGTTCG\n"
     ]
    }
   ],
   "source": [
    "max_seq_len = len(max(seqs.values(), key=len))\n",
    "print(\"Max sequence length: \" + str(max_seq_len))\n",
    "for id, seq in seqs.items():\n",
    "    if len(seq) == max_seq_len:\n",
    "        print(\"\\nLongest sequences\\n\\nid: \" + str(id) + \"\\n\\nsequence: \" + seq)\n"
   ]
  },
  {
   "cell_type": "markdown",
   "id": "2218b676",
   "metadata": {
    "papermill": {
     "duration": 0.004356,
     "end_time": "2025-03-08T14:30:51.890577",
     "exception": false,
     "start_time": "2025-03-08T14:30:51.886221",
     "status": "completed"
    },
    "tags": []
   },
   "source": [
    "* ### What is the shortest sequence?"
   ]
  },
  {
   "cell_type": "code",
   "execution_count": 5,
   "id": "ebf22318",
   "metadata": {
    "execution": {
     "iopub.execute_input": "2025-03-08T14:30:51.901942Z",
     "iopub.status.busy": "2025-03-08T14:30:51.901422Z",
     "iopub.status.idle": "2025-03-08T14:30:51.909833Z",
     "shell.execute_reply": "2025-03-08T14:30:51.908114Z"
    },
    "papermill": {
     "duration": 0.01766,
     "end_time": "2025-03-08T14:30:51.912723",
     "exception": false,
     "start_time": "2025-03-08T14:30:51.895063",
     "status": "completed"
    },
    "tags": []
   },
   "outputs": [
    {
     "name": "stdout",
     "output_type": "stream",
     "text": [
      "Min sequence length: 115\n",
      "\n",
      "Shortest sequences\n",
      "\n",
      "id: gi|142022655|gb|EQ086233.1|346\n",
      "\n",
      "sequence: GCGGTCCCGGCGCCGCAGGCCGTCCGGCTCCTGCAGCGCGCCGAACCGGGTCTCGCGGTGATTGCCCAGCGTACCGAGATGCGCCCGGCCTGGGCCGTGATGGCGCAGTGCGGCC\n"
     ]
    }
   ],
   "source": [
    "min_seq_len = len(min(seqs.values(), key=len))\n",
    "print(\"Min sequence length: \" + str(min_seq_len))\n",
    "\n",
    "for id, seq in seqs.items():\n",
    "    if len(seq) == min_seq_len:\n",
    "        print(\"\\nShortest sequences\\n\\nid: \" + str(id) + \"\\n\\nsequence: \" + seq)\n"
   ]
  },
  {
   "cell_type": "markdown",
   "id": "56a14647",
   "metadata": {
    "papermill": {
     "duration": 0.004952,
     "end_time": "2025-03-08T14:30:51.922547",
     "exception": false,
     "start_time": "2025-03-08T14:30:51.917595",
     "status": "completed"
    },
    "tags": []
   },
   "source": [
    "* ### What is the longest Open Reading Frame (ORF) in all sequences in the file?"
   ]
  },
  {
   "cell_type": "code",
   "execution_count": 6,
   "id": "fd6ae160",
   "metadata": {
    "execution": {
     "iopub.execute_input": "2025-03-08T14:30:51.934583Z",
     "iopub.status.busy": "2025-03-08T14:30:51.934073Z",
     "iopub.status.idle": "2025-03-08T14:30:51.956959Z",
     "shell.execute_reply": "2025-03-08T14:30:51.955447Z"
    },
    "papermill": {
     "duration": 0.03309,
     "end_time": "2025-03-08T14:30:51.960461",
     "exception": false,
     "start_time": "2025-03-08T14:30:51.927371",
     "status": "completed"
    },
    "tags": []
   },
   "outputs": [
    {
     "name": "stdout",
     "output_type": "stream",
     "text": [
      "\n",
      "\n",
      "Length of sequence: 4635\n",
      "Longest ORF in id: gi|142022655|gb|EQ086233.1|91 is ATGCAATGGCCTGGTTGTCCATTTGACTTGTCTTCCTTTGAAACGACATTGCGACAGGCGGGATGCCGATCGTCGACTTCGGCGTCCCGCGGCGATCTACGTCGAACCGAGGCCGGATCGCGATACGCACGGACCTTCGACGAAAAGCCCGTGCGTCGGGCTGTTTCGCGCGGTCAGGCGATCGCGCGCGAATCCGCGCAGCACTCCTGCAACGCCTCGCGCAGTGTCACGGCCATGAAGTCGGCTTCGCCAGGCTGCAGCGTGAGCGGCGGCGAGATCACCACCTTGTTCGCGATCGCCCGCACCAGCACGCCGCGCCGACGCGCGGCATCGGCCACGCGGGCGGCGAACCCCTGGCCCGGATCGAGCGGCGTGCGGCTGGCCTTGTCGGTCACCAGATCGAGCGCCAGCATCAGCCCCTTGCCGCGGACGTCGCCGACCGTCTCGAAGTCGGCCTTCAGCGGCAGCAATTGCTCGAGCAGGCGCTGTCCGACCCGCGCCGCGTTGCCCGGCAGATCCTCGGCCTCGACGATGTCGAGCACCGCGAGCGACGCGGCGCACGCGAGCGGATGGCCGCTGTACGTATAG\n",
      "starting position: 2856\n",
      "length: 588\n",
      "\n",
      "\n",
      "Length of sequence: 1151\n",
      "Longest ORF in id: gi|142022655|gb|EQ086233.1|304 is ATGATGATCTTGTTCTTCGGTGTCGTCGTGGACAGCGACGCGATCTGCTGTCCGTTCAGCGACGGCTTCCCGTTCGATCCGTTCGCCACGTGCGTGACCGACGTCGTATTCAGGTTCACGCCGAAATCCCAGTCCACCTGGCCGTAG\n",
      "starting position: 621\n",
      "length: 147\n",
      "\n",
      "\n",
      "Length of sequence: 4894\n",
      "Longest ORF in id: gi|142022655|gb|EQ086233.1|255 is ATGGGGCGCAGGTCGCCACGGCCCGGCCTCGCGCTTCGCGCTTCGCGGGTCATGCCACCGAGTAGCCGCCGTCGGCCACGAGCGCATGACCTGACACATAGCTGGAGTCATCCGATGCGAGGAACGCGACGATCGTCGCCATCTCCTCGGCAGAGCCCCAGCGTCCGGCCGGTGTCGATGCGGCAAACGCTTGCTGCGCTTCTTCCGACGGCCAGATGCCGCGATGATGGAACGGCGTTTCGATCAGCCCCGGGCACAGCGCGTTCACCCGCACGCCGCGCTTGA\n",
      "starting position: 1641\n",
      "length: 285\n",
      "\n",
      "\n",
      "Length of sequence: 3511\n",
      "Longest ORF in id: gi|142022655|gb|EQ086233.1|45 is ATGGAGAATGCGCATGCCCGCGACGCACCGGCGACGCCTCGCCGGACGGCGGGCGTCGCATTCGCCATTCGCCATTCGCCATTCGCCATTCGCCATTCGCCATTCGCCATTCGCCATTCGCCATTCGCCATTCGCCGAGCGCTCCATCGACGACGGTGGCGGCCACGCCCCGGAATTCGACATGCCTGCATCCTCCGATACGGCGAACCGGCGGGCGTCATCAATCGCGCGCATCCAGCGCGGGCTGAAGCGCGGGCTCGGCCGGCGCTGCCGGTTCATGGCCGCCGTGGCGCGCGGCGGTGGAATGGCCGGGCCGGATCCTGA\n",
      "starting position: 699\n",
      "length: 324\n",
      "\n",
      "\n",
      "Length of sequence: 4076\n",
      "Longest ORF in id: gi|142022655|gb|EQ086233.1|396 is ATGAAGATGCTCGTACCCGATCGACCAGACCGGCGAGATCGTCGCGCCGCAACAGTACATCGCGGCCGGCATCTCGGGGACGATCCAGCACTTGGCCGGCATGAAGGGTTCAACGGCAGTCGTCTCGATCGACAAGCATTCCGAAGCACTGATCTTCAGCGTGGCCGACTACAGCCTCGAAACGGACCTGCTCCGGCCGTACCCGACCAGGTCAACGCACGCTGA\n",
      "starting position: 429\n",
      "length: 225\n",
      "\n",
      "\n",
      "Length of sequence: 2867\n",
      "Longest ORF in id: gi|142022655|gb|EQ086233.1|250 is ATGCGCCGCGCACGTGGGTCTCGTAGATCACCGTATTGCGCCACGACACGCGCGGGCGCCGGTCGGTGCTCCAGTCGAACGCTTCGTCGACCACCACGCACTTCGGCATCGCGGGCGCCGAGTCGCGTCGGTCCATCGACAGGTCCGCGCGGTTCGAATGCAGGCGATAGCCGAACAGCGCGTCCGACCAGCGGAACTGGCCGACCAGCTTGCGCGCATACGGGTCGAGCAGCAGCTTGGTCGGGTTGA\n",
      "starting position: 1374\n",
      "length: 249\n",
      "\n",
      "\n",
      "Length of sequence: 442\n",
      "Longest ORF in id: gi|142022655|gb|EQ086233.1|322 is ATGCGTACGACGCAGCCGTGCTGCAGTACAAGGCGACGGTGCTGTCCGCATTCGGCGACGTTGCCGATTCGCTTGCCGCGCTGGAAAACGACGCCGAGGCGCTGGCCGCGAACGAACTCGCGGCGCGCGCGGCCGGCGAAGGCTTCGACGAAACGGTGCAGCGCCGCGCGCTCGGTGCCGTGCCGATGA\n",
      "starting position: 90\n",
      "length: 189\n",
      "\n",
      "\n",
      "Length of sequence: 890\n",
      "Longest ORF in id: gi|142022655|gb|EQ086233.1|88 is None\n",
      "starting position: -1\n",
      "length: 4\n",
      "\n",
      "\n",
      "Length of sequence: 967\n",
      "Longest ORF in id: gi|142022655|gb|EQ086233.1|594 is ATGATCGGCGAAATCGACATCTTCGGCGTATTCGTGCCGGCCCCGCTCGTGCTGATGCTGATCGCCTACCTGATCAACATCGTCGTGCGCGCCGTGCTCGAGCGCGTCGGCTTCTACCGCCTCGTCTGGCACCGTTCGATCTTCGACCTCGGCATCTACGTATTCGTGTTGGCCGCCGTCGTCATCGTTTCCCACCATCTCGTGGCTACCTAA\n",
      "starting position: 66\n",
      "length: 213\n",
      "\n",
      "\n",
      "Length of sequence: 4338\n",
      "Longest ORF in id: gi|142022655|gb|EQ086233.1|293 is ATGCCGGTTGCGCTGATCCCAGTTGCCGAACAGCGATTCGAATGCAACCGCGGCGACCGCGTCGTGCACCTTCGGCAAGATCTCGAAGCCGCGGTTCAGGATCAGTTGCACAGTCGGGTAGCGCGATTTCACGGCGCGGATCACCGCGACCAGGCCTGCCTCCTGCTTCGCGCGTGCCGCTTCCGTCTTCGCGACGAGCTGGTACGAATCCAGCGTATCGAAAAAGAAGCCGCGGTAACCGTGCGCCCACAGCGGCGCGATCACCTGTTCGACGAAAAACGACGGCCACCCCGGCGCCGACTGATCGACGACCGCCGACGCCCATGTCGTATTACGCCCGAACAACCACTGTTTCGGCATCCTGCGCGCATAGTCACGCTCTTGCGTGACTTCGCCGACGCTCACATAGGCGAACCACGCAGGGCGTCGCACGTCTTGCGCACGTGGATCGAAGCCGCTGTCGGGTTCGACGACCGCGATATCGAACTTTTCCAGCTGGCGAACCGGCACGTCGTTGCCGTAGAAAAACGCGACGGAGTGCGGACGCATCGCGTCGGCCGGATCGCACGCGTCAGGCGACGATACGGGCTGTGCGGGCTGCGCATAACCTGCCCGCCCGCCCAGCGCGCCGATGATGACGAATGCGATGACAGCCACGGACGATGCGGTCGCCATCATCGACGGCCTGCGCGACGGACGAATGCGGAGTGA\n",
      "starting position: 2334\n",
      "length: 711\n",
      "\n",
      "\n",
      "Length of sequence: 1352\n",
      "Longest ORF in id: gi|142022655|gb|EQ086233.1|75 is ATGCGTGCCCAGCGCGGTTCGGTTGCCAGATCGGCTTGCGGTGAAAGCGCCACGGTGATGCCGACGGCGCGATACTCCTGGCGCGCGATGTCGCCGAATTTTCGCGTGAGCGCCGTATCGCCGATCGCGGCGAAGCCGAGCGTTTCCGGCCACTGCGAGAAACCGCTGCTGCCCGCGCTTGCGCCAAGCGTGTACTGGAAATGA\n",
      "starting position: 57\n",
      "length: 204\n",
      "\n",
      "\n",
      "Length of sequence: 4564\n",
      "Longest ORF in id: gi|142022655|gb|EQ086233.1|454 is ATGGCCGATCAGTTCGCGGATCTCCTTCGCCGCCGACGCGCAGCGCTGCGCGAGGCCGCGCACTTCCGTCGCGACGACCGCGAAGCCGCGCCCCTGCTCGCCGGCGCGCGCGGCTTCGACGGCAGCGTTCAACGCAAGGATGTTGGTCTGGAATGCGATGCTTTCGATCACGCCGACGATCCCGGAGATCCGCGTGGAACTGAGCGAAATCGCCGACATCGTCTCGACCACGCGCTGCATCGCCTCGCCGCCGCGCGACGCGATGCCGGACGCGCCTTCGACATAGGTGCGTGCATCGCGTGCGTTGTCAGCGTTCTGGCGCACGGCCGCCGTCAGTTGCTCGACGCTCGCCGCCGCCTGTTGCAGCGAGACGGCCTGCTGCTCGGTGCGCGCCGACAGGTCGACGTTGCCGCTCGCAATCGTGCGGACGTCGCCGACGATCGTCTCCGTGCTCGCGCGCACCTGGTTCACGGTGACGACGAGGCCGTCCTGCATCCGCTTCAGCGCATGCAGCAGATAGGCCATCTCGTTCTCGCCGGGCACGACGACCGTTCCGGTCAGGTCGCCTTTCGAGATCTTCTCGAACTGGCCGACCGCGAGCTTGATCGGCTCGATGATCGCCTTCGCGAGCACGCGCTGCGCCAAGAAGCCGACGACGAGTGCGAAGGCCGCGACCGCCGCCATCCCCCACACGATCCGGTGGAACTGCACGCCGGCCGCGTCGTAGCGCGCCTTTTCGCGCGCGACCTGGAACGCCTCGAGCGCATCGATCGCCTCCTGATAGGCGGCGAACAGCGCGGGCGGCGCGGTACGCTGCGTGTCGAGGAAGCCGAAACCGTCGTCGGCGTCGAGTTGCGAGAGGGCCTTCAGGAACACGCCGTCGAGCAACGCCCGACGGCGATTTTGGAGCGTGTCGAAGAGCGCCTGCTCGTCGGCGTTGCGCGCGTGCAGGCCCGCATAGGCATCCAGTTCGTCGTTGCTCTGCTTGAGAAGCGTGCGGAGTTTCGCGATCTCTTCCTTGCCCGAGTGGCCGGCGCTGATGATCTGCGCGACGTCGCTCATGCGTTCGCGCATCACGAGCATGCGCTCGGAGCTGGTCTTCAGGTGCAGCAGCGACGCGGTGTCGTCGCGGTACATCGCCTCGAGCGAACTGTTGCCCATATAGAGGGCCGCGATGCTTGCGCCGACCACCAGCACGAGCAGCACGGTATAGCCGGCGATGGTCGCGACGAGACCACCACGGATAGTGAGTTGTTTTCGCATGACGTTCCCTTGCGCCGGCCGGGCGCGGCCAGCGGCGGATGTGGATTCCGGATCACGAAAGACGCGCGCAGTGTCGCAACACGGGGCGCATGGGCTGCGAACGGGTTAACGGCGGCGGGAACGGGGAGGTTTTACTGA\n",
      "starting position: 3096\n",
      "length: 1401\n",
      "\n",
      "\n",
      "Length of sequence: 4804\n",
      "Longest ORF in id: gi|142022655|gb|EQ086233.1|16 is ATGCGGGCCATCCTGCATCGCCGCCTTTCGTTCCACCCGGGCCGGCATCGAGTGATGCCGGCGTTGACGTTTTCGTGGAGTGAGTCAGATGAATCACGCAGCGAATCCCGCCGATCCCGATCGCGCCGCGGCGCAGGGCGGCAGCCTGTACAACGACGATCTCGCGCCGACGACGCCGGCGCAGCGCACGTGGAAGTGGTATCACTTCGCGGCGCTGTGGGTCGGGATGGTGATGAACATCGCGTCGTACATGCTCGCGGCCGGGCTGATCCAGGAAGGCATGTCGCCGTGGCAGGCGGTGACGACGGTGCTGCTCGGCAACCTGATCGTGCTCGTGCCGATGCTGCTGATCGGCCATGCGGGCGCGAAGCACGGGATTCCGTACGCGGTGCTCGTGCGCGCGTCGTTCGGCACGCAGGGGGCGAAGCTGCCGGCGCTGCTGCGCGCGATCGTCGCGTGCGGCTGGTACGGGATCCAGACCTGGCTCGGCGGCAGCGCGATCTATACGCTGCTGAACATCCTGACCGGCAACGCGCTGCATGGCGCCGCGCTGCCGGTCATCGGCATCGGGTTCGGGCAGCTCGCATGCTTCCTCGTGTTCTGGGCGCTGCAGCTCTACTTCATCTGGCATGGCACCGATTCGATCCGCTGGCTCGAAAGCTGGTCGGCGCCGATCAAGGTCGTGATGTGCGTGGCGCTGGTGTGGTGGGCAACGTCGAAGGCGGGCGGCTTCGGCACGATGCTGTCGGCGCCGTCGCAGTTTGCCGCAGGCGGCAAGAAAGCCGGGCTGTTCTGGGCGACCTTCTGGCCGGGGCTGACCGCGATGGTCGGCTTCTGGGCGACGCTCGCGCTGAACATCCCCGACTTCACGCGCTTCGCGCATTCGCAGCGCGACCAGGTGATCGGCCAGTCGATCGGGCTGCCGTTGCCGATGGCGCTGCTGTCGGTGGTGTCGGTCGTCGTGACGTCGGCGACCGTCGTGATCTACGGCAACGCGATCTGGGATCCGATCGACCTGACGAGCCGGATGACGGGCATCGGCGTGGGCATCGCGCTCGTGATCCTCACGCTCGACACGATGTGCTGCAACCTCGCCGCGAATCTCGTCGGCCCGGCGTACGACTTCTCGAGCCTGTGGCCGAAGGCGATCTCGTACCGCACCGGCGGGATGATCACCGCGACGCTCGCGATCGTGATGATGCCGTGGAAGATCCTCGCGACGACGGACGGCTACATCTTCACCTGGCTCGTCGGCTACTCGGCGCTGCTCGGGCCCGTGGCGGGGATCCTGATGGTCGACTACTTCCTGATTCGCGGCACGCGGCTCGACACGCGCGCGCTGTTCGACGAGCGCGGCGGCTTCAGCTACGCGCGCGGCTGGAACCCGGCCGCGCTGGCCGCGCTCGCGGTCGGCGTGCTGCCGAACCTGCCCGGCTTCCTGCACACGGCGTTTCCGGCGTCGTTTCCGAACGTGCCGGCGTTCTTCAACACGCTTTACACGTACGCGTGGTTCGTCGGCCTCGTGCTGGCGTCATGCGTGTACGGCACCTGGATGAAGTGGCGCGCCGGACAGCACGCGCAGATCGCGAGCGCCTGATTCGGCACCCGACAGTCAACGAGGAGGCAACCCCATGGCAATCCTGA\n",
      "starting position: 1440\n",
      "length: 1644\n",
      "\n",
      "\n",
      "Length of sequence: 964\n",
      "Longest ORF in id: gi|142022655|gb|EQ086233.1|584 is ATGCTCCAGACTTCCAGGCAAAATGGTGCAATGTGCGTACCACGCTTGACCAACTCGTCAAACGCGATATCTGCGATGACATCTAGTCGCGCCTCCGGCGATAGATCATCGTCGTCGACCACATTTTCATAG\n",
      "starting position: 348\n",
      "length: 132\n",
      "\n",
      "\n",
      "Length of sequence: 2095\n",
      "Longest ORF in id: gi|142022655|gb|EQ086233.1|4 is ATGCGTTCAATCTGTTCGCCGAAAAGATCAGTACGATCCTGCTGCAGATTCGCGAGTTCAGCGAATCCGTCAATCTCGCGAGCGCCGAGATCGCGCAGGGCAACCAGGATCTGTCCGGCCGGACCGAGCATGCCGCATCGAGCTTGCAGGAAACGGCCGCCGCGCTCGAGGAAATCGCCGGCACGGCCCGCAACTCGGCCGATGCCGCGAGCCAGGTGA\n",
      "starting position: 1278\n",
      "length: 219\n",
      "\n",
      "\n",
      "Length of sequence: 1432\n",
      "Longest ORF in id: gi|142022655|gb|EQ086233.1|277 is ATGTTCGATCAGCGCAGCGAAGACTACGCGCTGCTGCCGGTGACGCCCGACGTGGTGGCGCAGCATCAGCAGGTCGCGGATGTGTTCGCGCGGATCGGTGTGCTGGACGGGCCGGCCAATGTTGCGCCGCTGTGGGATACGTCGTTCAATGCGCTGGTCGCGGCGACGTGA\n",
      "starting position: 759\n",
      "length: 171\n",
      "\n",
      "\n",
      "Length of sequence: 115\n",
      "Longest ORF in id: gi|142022655|gb|EQ086233.1|346 is None\n",
      "starting position: -1\n",
      "length: 4\n",
      "\n",
      "\n",
      "Length of sequence: 2646\n",
      "Longest ORF in id: gi|142022655|gb|EQ086233.1|527 is ATGAACAGCGGGGCGAGCAAGCCGCCGGCCGTCACGGGGTCCATCACGAGGGACAGCAGCGGAATGCCGATGATCGCGAATCCACCACCGAACGCGCCGCGCATGAACGCGATCACGAACACGCCGGCAAACGCGATCAGGATCGTGGCCAGCGTCAATTGCAGGCCCATCGCAGCAGGGGTCGCCATCACGACCTCCATGCCGGTTCGAATCGCGGCGTGGCGGACAGCCACGGAGCGGGTCGCACGCGCGGCATCGCCGCACGATGGATCCGGGTTGAACGCGTTGCACCCATGCTGCTTCTCCAATGAGGTACCGGGGCGATGCGGTACACCAACGCACCGCAGGCCGCATGGGCCGCACAAGCATTTCAGCCCCGGTACAATCGACTTGACGAAAGCAGAATGCACCGCCGTCTATCTCAGTGCAATTAAAACATTGACCTCGGTGCAATATTCATTGTTATCGGTGCAATCCATGTCGAATTCCGAATACCTGCAGTTGGCCGACGCGATCGCCGCCCAAATTGCCGACGGCACGCTCAGGCCGGGCGACCGCCTGCCTCCGCAGCGTCATTTCGCCGACCAGCATGCGATCGCCGCATCGACGGCGGGACGGGTTTACGCGGAACTGTTACGGCGCGGCCTTGTGGTCGGCGAAGTCGGCCGAGGCACTTTCGTGTCGGGTGAGACGCGACGCGGGGCCGCTGCGCCGGGCGAGCCGCGCGGCGTTCGGATCGATTTCGAGTTCAACTACCCGACCGTCCCGGCCCAGACCGCGTTGATCACCAGAAGCCTGCGCGGATTGCACCGACCTGCGGAGCTCGACGCCGCGTTACGCGAGGCGACGAGTACCGGGACCCCGGTCATCCGAAGCGTTGCCGCCGCGTATCTGGCGCAGCATGAATGGGCCCCATCGCCCGACCAGCTCGTGTTTACCGGCAACGGGCGGCAAAGCATCGCCGCGGCCGTTGCCGCGGTCGTGCCGACCGGCGGACGCTGTGGCGTGGAGGCATTGACCTACCCGTTCATCAAGGGCATCGCGGCCAAGCTGGGGATCTCGCTGGTGCCACTGGCGATGGACGACGACGGCGTGCGGCCCGACGCCGTGCAAAAGGCCCACCGCGAGGCCAGGCTGTCGGCGATCTACGTTCAGCCAGCCATCCAGAATCCGCTCGGCACGACGATGAGCGCCGCTCGCCGCGCCGATCTGCTGCGTGTCGTCGACAAACTCGACATACCGGTCATCGAAGACAACGTGTACGGCTTTCTCGGCGACGAGCCGCCGCTGGCCGCACTCGCCCCGGACGCCTGCATCGTGATCGACAGCCTGTCCAAGCGGGTCACGCCAGGCCTGACCCTCGGCTTCATCGTGCCGCCGCCGCGGCTGCGCGAAAGCGTGATGGCGTCGGTACGCTCGGGGGGATGGACCGCTTCCGGGTTCGCGTTTGCAGCCGCTCAGCGCTTGATGCGTGACGGCACCGTGGCCGAACTCGCGAGATTGAAACGCATCGACGCAATTGCACGTCAGGCGCTGGCGATCGAGCGTCTGGCGGGTTTCGATGTCCGGACCAACGGCAAGTGCTATCACCTGTGGCTGACGTTGCCGGCGCACTGGCGTTCGCAGGCCCTCGTCGCAGCCGCGGCCCGGCGCGACATCGGGCTGACGCCGTCGACCACCTTCGCCGTTTCGTCCGGCCATGCGCCGAACGCGATCAGGCTCGCGCTGGCCGCGCCGAGCATGGATCAGCTCGACGCCGGCCTGCGCACGCTGACCGCGATGCTGAACGGCCGCGAGGGCGATTTCGACGCGACCGAGTGA\n",
      "starting position: 636\n",
      "length: 1821\n",
      "\n",
      "\n",
      "Longest ORF in file: ATGAACAGCGGGGCGAGCAAGCCGCCGGCCGTCACGGGGTCCATCACGAGGGACAGCAGCGGAATGCCGATGATCGCGAATCCACCACCGAACGCGCCGCGCATGAACGCGATCACGAACACGCCGGCAAACGCGATCAGGATCGTGGCCAGCGTCAATTGCAGGCCCATCGCAGCAGGGGTCGCCATCACGACCTCCATGCCGGTTCGAATCGCGGCGTGGCGGACAGCCACGGAGCGGGTCGCACGCGCGGCATCGCCGCACGATGGATCCGGGTTGAACGCGTTGCACCCATGCTGCTTCTCCAATGAGGTACCGGGGCGATGCGGTACACCAACGCACCGCAGGCCGCATGGGCCGCACAAGCATTTCAGCCCCGGTACAATCGACTTGACGAAAGCAGAATGCACCGCCGTCTATCTCAGTGCAATTAAAACATTGACCTCGGTGCAATATTCATTGTTATCGGTGCAATCCATGTCGAATTCCGAATACCTGCAGTTGGCCGACGCGATCGCCGCCCAAATTGCCGACGGCACGCTCAGGCCGGGCGACCGCCTGCCTCCGCAGCGTCATTTCGCCGACCAGCATGCGATCGCCGCATCGACGGCGGGACGGGTTTACGCGGAACTGTTACGGCGCGGCCTTGTGGTCGGCGAAGTCGGCCGAGGCACTTTCGTGTCGGGTGAGACGCGACGCGGGGCCGCTGCGCCGGGCGAGCCGCGCGGCGTTCGGATCGATTTCGAGTTCAACTACCCGACCGTCCCGGCCCAGACCGCGTTGATCACCAGAAGCCTGCGCGGATTGCACCGACCTGCGGAGCTCGACGCCGCGTTACGCGAGGCGACGAGTACCGGGACCCCGGTCATCCGAAGCGTTGCCGCCGCGTATCTGGCGCAGCATGAATGGGCCCCATCGCCCGACCAGCTCGTGTTTACCGGCAACGGGCGGCAAAGCATCGCCGCGGCCGTTGCCGCGGTCGTGCCGACCGGCGGACGCTGTGGCGTGGAGGCATTGACCTACCCGTTCATCAAGGGCATCGCGGCCAAGCTGGGGATCTCGCTGGTGCCACTGGCGATGGACGACGACGGCGTGCGGCCCGACGCCGTGCAAAAGGCCCACCGCGAGGCCAGGCTGTCGGCGATCTACGTTCAGCCAGCCATCCAGAATCCGCTCGGCACGACGATGAGCGCCGCTCGCCGCGCCGATCTGCTGCGTGTCGTCGACAAACTCGACATACCGGTCATCGAAGACAACGTGTACGGCTTTCTCGGCGACGAGCCGCCGCTGGCCGCACTCGCCCCGGACGCCTGCATCGTGATCGACAGCCTGTCCAAGCGGGTCACGCCAGGCCTGACCCTCGGCTTCATCGTGCCGCCGCCGCGGCTGCGCGAAAGCGTGATGGCGTCGGTACGCTCGGGGGGATGGACCGCTTCCGGGTTCGCGTTTGCAGCCGCTCAGCGCTTGATGCGTGACGGCACCGTGGCCGAACTCGCGAGATTGAAACGCATCGACGCAATTGCACGTCAGGCGCTGGCGATCGAGCGTCTGGCGGGTTTCGATGTCCGGACCAACGGCAAGTGCTATCACCTGTGGCTGACGTTGCCGGCGCACTGGCGTTCGCAGGCCCTCGTCGCAGCCGCGGCCCGGCGCGACATCGGGCTGACGCCGTCGACCACCTTCGCCGTTTCGTCCGGCCATGCGCCGAACGCGATCAGGCTCGCGCTGGCCGCGCCGAGCATGGATCAGCTCGACGCCGGCCTGCGCACGCTGACCGCGATGCTGAACGGCCGCGAGGGCGATTTCGACGCGACCGAGTGA\n",
      "\n",
      "Identifier: gi|142022655|gb|EQ086233.1|527\n",
      "\n",
      "Length: 1821\n"
     ]
    }
   ],
   "source": [
    "def find_orf(seq, rf):\n",
    "    \n",
    "    start_codon = False\n",
    "    orfs = []\n",
    "    max_orf = [-1, \"None\"]\n",
    "    stop_codons = ['TAA', 'TAG', 'TGA']\n",
    "    start = []\n",
    "    for i in range(rf-1, len(seq), 3): #loop through the seq 3 codons at a time starting from reading frame \n",
    "        codon = seq[i:i+3]\n",
    "        if codon == 'ATG':\n",
    "            orf = codon\n",
    "            start.append(i)\n",
    "        \n",
    "            # Continue reading until a stop codon is reached\n",
    "            for j in range(i+3, len(seq), 3):\n",
    "                codon = seq[j:j+3]\n",
    "                orf += codon\n",
    "                if codon in stop_codons:\n",
    "                    orfs.append(orf)\n",
    "                    break\n",
    "    \n",
    "    if orfs:\n",
    "        m_orf = max(orfs, key=len)\n",
    "        pos = start[orfs.index(m_orf)] + 1\n",
    "        max_orf = [pos, m_orf]\n",
    "    \n",
    "    return max_orf\n",
    "\n",
    "\n",
    "            \n",
    "# get the longest ORF in each sequence and the longest ORF in the entire file\n",
    "temp = ''\n",
    "for id, seq in seqs.items():\n",
    "    seq_orf = find_orf(seq, 3)\n",
    "    pos, max_orf = seq_orf\n",
    "    \n",
    "    print(\"\\n\\nLength of sequence: \" + str(len(seq)))\n",
    "    print(\"Longest ORF in id: \" + str(id) + \" is \" + max_orf + \"\\nstarting position: \" + str(pos) + \"\\nlength: \" + str(len(max_orf)))\n",
    "\n",
    "    if len(max_orf) > len(temp):\n",
    "        temp = max_orf\n",
    "        orfs = {id: max_orf}\n",
    "\n",
    "for id, orf in orfs.items():\n",
    "    print(\"\\n\\nLongest ORF in file: \" + orf)\n",
    "    print(\"\\nIdentifier: \" + str(id))\n",
    "    print(\"\\nLength: \" + str(len(orf)))\n"
   ]
  },
  {
   "cell_type": "code",
   "execution_count": 7,
   "id": "81eb4416",
   "metadata": {
    "execution": {
     "iopub.execute_input": "2025-03-08T14:30:51.973694Z",
     "iopub.status.busy": "2025-03-08T14:30:51.972102Z",
     "iopub.status.idle": "2025-03-08T14:30:52.001296Z",
     "shell.execute_reply": "2025-03-08T14:30:51.999311Z"
    },
    "papermill": {
     "duration": 0.0401,
     "end_time": "2025-03-08T14:30:52.005527",
     "exception": false,
     "start_time": "2025-03-08T14:30:51.965427",
     "status": "completed"
    },
    "tags": []
   },
   "outputs": [
    {
     "name": "stdout",
     "output_type": "stream",
     "text": [
      "1458\n"
     ]
    }
   ],
   "source": [
    "# Alternative code for finding longest sequence length\n",
    "def find_long_orf(rna):\n",
    "    stop_codons = ['TAA', 'TAG', 'TGA']\n",
    "    start_codon = 'ATG'\n",
    "    # initialize variables\n",
    "    longest_orf = 0\n",
    "    current_orf = 0\n",
    "    in_orf = False\n",
    "    \n",
    "    # iterate over the RNA sequence\n",
    "    for i in range(0, len(rna), 3):\n",
    "        codon = rna[i:i+3]\n",
    "        \n",
    "        # check if the current codon is a start codon\n",
    "        if codon == start_codon:\n",
    "            current_orf = 3\n",
    "            in_orf = True\n",
    "        \n",
    "        # check if the current codon is a stop codon\n",
    "        elif codon in stop_codons:\n",
    "            if in_orf and current_orf > longest_orf:\n",
    "                longest_orf = current_orf\n",
    "            current_orf = 0\n",
    "            in_orf = False\n",
    "        \n",
    "        # if we're in an ORF, increment the length\n",
    "        if in_orf:\n",
    "            current_orf += 3\n",
    "    \n",
    "    return longest_orf\n",
    "\n",
    "def find_index(sequence,n):\n",
    "    start_position = n-1\n",
    "    start_indexs = []\n",
    "    stop_indexs = []\n",
    "    for i in range(n-1, len(sequence), 3):\n",
    "        if sequence[i:i+3] == \"ATG\":\n",
    "            start_indexs.append(i)\n",
    "\n",
    "\n",
    "    # Find all stop codon indexs\n",
    "    for i in range(n-1, len(sequence), 3):\n",
    "        stops =[\"TAA\", \"TGA\", \"TAG\"]\n",
    "        if sequence[i:i+3] in stops:\n",
    "            stop_indexs.append(i)\n",
    "    ind=[start_position,start_indexs,stop_indexs]\n",
    "    #print ind\n",
    "    return ind\n",
    "    \n",
    "def find_orf2(sequence,n):\n",
    "    ind=find_index(sequence,n)\n",
    "    start_position = ind[0]\n",
    "    start_indexs = ind[1]\n",
    "    stop_indexs = ind[2]\n",
    "    orf = []\n",
    "    mark = 0\n",
    "    for i in range(0,len(start_indexs)):\n",
    "        for j in range(0, len(stop_indexs)):\n",
    "            if start_indexs[i] < stop_indexs[j] and start_indexs[i] > mark:\n",
    "                orf.append(sequence[start_indexs[i]:stop_indexs[j]+3])\n",
    "                mark = stop_indexs[j]+3\n",
    "                break\n",
    "    print(orf)\n",
    "    return orf\n",
    "\n",
    "# **************************************************************************************\n",
    "\n",
    "# Find orf 2\n",
    "def find_orf_2(sequence):\n",
    "    # Find all ATG indexs\n",
    "    start_position = 1\n",
    "    start_indexs = []\n",
    "    stop_indexs = []\n",
    "    for i in range(1, len(sequence), 3):\n",
    "        if sequence[i:i+3] == \"ATG\":\n",
    "            start_indexs.append(i)\n",
    "\n",
    "    # Find all stop codon indexs\n",
    "    for i in range(1, len(sequence), 3):\n",
    "        stops =[\"TAA\", \"TGA\", \"TAG\"]\n",
    "        if sequence[i:i+3] in stops:\n",
    "            stop_indexs.append(i)\n",
    "\n",
    "    orf = []\n",
    "    mark = 0\n",
    "    for i in range(0,len(start_indexs)):\n",
    "        for j in range(0, len(stop_indexs)):\n",
    "            if start_indexs[i] < stop_indexs[j] and start_indexs[i] > mark:\n",
    "                orf.append(sequence[start_indexs[i]:stop_indexs[j]+3])\n",
    "                mark = stop_indexs[j]+3\n",
    "                break\n",
    "    return orf\n",
    "\n",
    "\n",
    "#  [len(i) for i in sequences]\n",
    "\n",
    "n = 1\n",
    "lengths = []\n",
    "for id, seq in seqs.items():\n",
    "    orfs = find_orf_2(seq)\n",
    "    for j in orfs:\n",
    "        lengths.append(len(j))\n",
    "\n",
    "# orf_lengths = [len(i) for i in orf_2 if i]\n",
    "print(max(lengths))\n",
    "\n",
    "\n",
    "# print(find_orf_2(\"ATGGCCGATCTTCGCGAGCGTGCGATCGAGCGTCGGCAGCGTGGAGGGCAGCGGCGGCAACGGCTTCATCGCGCGAATCGCCAGTTGCGTGACGACCACCAGCAGCGTGAGCACGCCGAACTCCTTGTGCGTCGGGTAGTACCAGTCGAACTTGGCCGGCAGGTTGTCGTCGAGCCGGACCATCGTCCAGCCGGTCCACAGCTGCGCGCCGATCAGGATCGCCCTGACCCAGTGCAGCAACCGAAGCGCGAGCGGGTATTTCTCCGCGGGGAATGCAATGGCCTGGTTGTCCATTTGACTTGTCTTCCTTTGAAACGACATTGCGACAGGCGGGATGCCGATCGTCGACTTCGGCGTCCCGCGGCGATCTACGTCGAACCGAGGCCGGATCGCGATACGCACGGACCTTCGACGAAAAGCCCGTGCGTCGGGCTGTTTCGCGCGGTCAGGCGATCGCGCGCGAATCCGCGCAGCACTCCTGCAACGCCTCGCGCAGTGTCACGGCCATGAAGTCGGCTTCGCCAGGCTGCAGCGTGAGCGGCGGCGAGATCACCACCTTGTTCGCGATCGCCCGCACCAGCACGCCGCGCCGACGCGCGGCATCGGCCACGCGGGCGGCGAACCCCTGGCCCGGATCGAGCGGCGTGCGGCTGGCCTTGTCGGTCACCAGATCGAGCGCCAGCATCAGCCCCTTGCCGCGGACGTCGCCGACCGTCTCGAAGTCGGCCTTCAGCGGCAGCAATTGCTCGAGCAGGCGCTGTCCGACCCGCGCCGCGTTGCCCGGCAGATCCTCGGCCTCGACGATGTCGAGCACCGCGAGCGACGCGGCGCACGCGAGCGGATGGCCGCTGTACGTATAGCCGTGCATGACCACGTGCGAGAAGCCCGCGCCATGTTCGATCGCGTCGGCGATCCGCCCGTTGTACAGCGTCGCGCCGAGCGGCACGTAGCCGGCGGAGATGCCCTTGGCGACGCACAGGATGTCGGCGGCGACGCCCCAGCCGCGGCTGCCGAGCAGGCTGCCGGTGCGGCCGAAGCCGGTGA\"))\n"
   ]
  },
  {
   "cell_type": "markdown",
   "id": "dbcd800c",
   "metadata": {
    "papermill": {
     "duration": 0.004983,
     "end_time": "2025-03-08T14:30:52.015943",
     "exception": false,
     "start_time": "2025-03-08T14:30:52.010960",
     "status": "completed"
    },
    "tags": []
   },
   "source": [
    "* ### What are the repeats of length n in all sequences in the FASTA file?"
   ]
  },
  {
   "cell_type": "code",
   "execution_count": 8,
   "id": "25e5aeae",
   "metadata": {
    "execution": {
     "iopub.execute_input": "2025-03-08T14:30:52.030165Z",
     "iopub.status.busy": "2025-03-08T14:30:52.029720Z",
     "iopub.status.idle": "2025-03-08T14:30:52.067771Z",
     "shell.execute_reply": "2025-03-08T14:30:52.066037Z"
    },
    "papermill": {
     "duration": 0.051691,
     "end_time": "2025-03-08T14:30:52.072980",
     "exception": false,
     "start_time": "2025-03-08T14:30:52.021289",
     "status": "completed"
    },
    "tags": []
   },
   "outputs": [
    {
     "name": "stdout",
     "output_type": "stream",
     "text": [
      "All repeats in the file: \n",
      "\n",
      "\n",
      "{'GAACCGG': 8, 'ACCGGGA': 2, 'AACCGGA': 2, 'GGAACCA': 2, 'GACAGCC': 3, 'ACAGCCC': 2, 'CAGCCCC': 5, 'AGCCCCG': 3, 'GCCCCGC': 2, 'CCGCGCC': 22, 'CGCGCCG': 59, 'GCGCCGG': 23, 'GCCGGTT': 6, 'TTTACGC': 2, 'TTACGCG': 3, 'TACGCGA': 9, 'ACGCGAG': 6, 'CGCGAGA': 2, 'GCGAGAT': 4, 'GCCGGAA': 4, 'CCGGAAA': 2, 'CGGAAAC': 2, 'GAAACGC': 2, 'ACGCCGT': 10, 'CGCCGTC': 20, 'CCGTCCC': 2, 'CAATGCG': 2, 'ATGCGGT': 9, 'CACCGCC': 6, 'ACCGCCA': 3, 'CCGCCAG': 7, 'CGCCAGC': 15, 'GCCAGCA': 9, 'CCAGCAA': 2, 'CAGCAAT': 2, 'GCAATCC': 2, 'GATCAGG': 8, 'ATCAGGC': 6, 'TCAGGCG': 2, 'CAGGCGC': 4, 'AGGCGCT': 6, 'GGCGCTG': 21, 'GCGCTGG': 19, 'CGCTGGT': 5, 'CAGCCTG': 8, 'AGCCTGC': 4, 'GCCTGCC': 11, 'AAGCCGC': 14, 'AGCCGCC': 7, 'GCCAGCC': 2, 'GCCGAAC': 24, 'CGAACAC': 13, 'CACGCCG': 26, 'ACGCCGG': 5, 'CGCCGGC': 37, 'GCCGGCC': 37, 'CCGGCCG': 37, 'CGGAATG': 4, 'CCGCCAT': 2, 'CGCCATC': 12, 'GCCATCA': 5, 'CCATCAA': 2, 'GCCCAGA': 2, 'CCCAGAC': 2, 'CGTTCGC': 8, 'GTTCGCG': 11, 'CGCGGTC': 21, 'GCGGTCG': 25, 'GGTCGGC': 15, 'GTCGGCT': 4, 'CGGCTGC': 10, 'GCACGAT': 9, 'CGATCAG': 21, 'GATCAGC': 18, 'CAGCAGC': 21, 'GCAGCCA': 4, 'CAGCCAC': 3, 'AGCCACG': 7, 'GCCACGG': 6, 'ACGGCAC': 6, 'ACTGCCT': 2, 'CTGCCTT': 2, 'TGATCGC': 14, 'GAACAGG': 6, 'CAGGCTC': 2, 'AGGCTCG': 2, 'CTCGTCG': 20, 'TCGTCGT': 12, 'CCGCGTA': 2, 'CGTACAT': 2, 'GTACATC': 2, 'GAGGCCA': 4, 'GGCCAAG': 2, 'GCCAAGC': 2, 'CCAAGCG': 2, 'CAAGCGG': 2, 'CGGCAGC': 18, 'GCAGCAG': 12, 'CATCGCG': 23, 'ATCGCGA': 19, 'TCGCGAG': 17, 'GCGGCCC': 6, 'CGGCCCG': 26, 'CCCGCCC': 5, 'CGCCCGA': 15, 'CCGAGTG': 2, 'TGCGCGA': 24, 'GCGCGAC': 27, 'CGCGACC': 25, 'CGACCAT': 9, 'CGTGACG': 8, 'TGACGCC': 4, 'GCCCGAT': 4, 'AGGCCGG': 8, 'CGGCCGA': 26, 'GGCCGAG': 14, 'TCGGCGA': 32, 'CGGCGAC': 28, 'GGCGACG': 25, 'GCGACGA': 29, 'CGACGAA': 18, 'GACGAAC': 5, 'CGAACGC': 11, 'GAACGCG': 22, 'ACGCGGA': 4, 'GCGGACG': 10, 'CCGCCCC': 2, 'CGCCCCG': 2, 'AGCCCGA': 6, 'GCCCGAC': 14, 'CCCGACG': 12, 'CGAAGAC': 4, 'GACCAGC': 8, 'CCAGCGT': 9, 'AGCGTGA': 16, 'GCGTGAC': 4, 'GACCACC': 7, 'ACCACCG': 2, 'CCACCGC': 2, 'AGCTCGA': 7, 'GATGGCG': 7, 'GGCGCGA': 15, 'CGCGATG': 28, 'GCGATGG': 12, 'AGCGGAA': 4, 'ACCGAAC': 2, 'ACCGACC': 4, 'CCGACCA': 12, 'CGACCAC': 7, 'GCCCCGG': 5, 'GCAGCAC': 9, 'CACGAGG': 2, 'TCGGGCT': 11, 'TCGACCA': 10, 'CCATGTC': 6, 'CATGTCG': 14, 'ATGTCGA': 5, 'TCGACGG': 11, 'CGACGGC': 36, 'ACGGCTT': 2, 'CGGCTTC': 17, 'AGTACCG': 2, 'ACCGCAG': 2, 'CCGCAGC': 9, 'CGCAGCG': 19, 'GCGCGAA': 23, 'GGTCCAT': 2, 'GTCCATC': 2, 'CCATCGC': 8, 'GCGGGGC': 4, 'CGGGGCG': 6, 'GGGGCGA': 6, 'GGGCGAG': 4, 'GGCGAGC': 11, 'CAAGCCG': 2, 'GCCGCCG': 49, 'CGGCCGT': 10, 'GCCGTCA': 2, 'CCGTCAC': 6, 'CCATCAC': 6, 'CATCACG': 14, 'ATCACGA': 12, 'GGACAGC': 2, 'CCGAACG': 6, 'GCGCCGC': 45, 'CGCCGCG': 58, 'GCCGCGC': 58, 'GCATGAA': 2, 'TGAACGC': 6, 'AACGCGA': 12, 'ACGCGAT': 14, 'CGCGATC': 33, 'GCGATCA': 13, 'ACGAACA': 2, 'CCGGCAA': 6, 'CGGCAAA': 5, 'CGTGGCC': 10, 'CAGCGTC': 14, 'AGCGTCA': 4, 'CAATTGC': 2, 'AATTGCA': 2, 'GCAGGCC': 10, 'CAGGCCC': 2, 'AGGCCCA': 2, 'CCCATCG': 2, 'TCGCAGC': 2, 'CGCAGCA': 10, 'GGGTCGC': 6, 'ATCGCGG': 17, 'TCGCGGC': 29, 'CGCGGCG': 55, 'GCGGCGT': 13, 'CGGCGTG': 29, 'GGCGTGG': 8, 'GGCGGAC': 4, 'AGCGGGT': 2, 'GCGGGTC': 4, 'CGCACGC': 19, 'CGCGCGG': 42, 'GCGCGGC': 56, 'GGCATCG': 14, 'GCATCGC': 17, 'CATCGCC': 8, 'ATCGCCG': 13, 'TCGCCGC': 25, 'CGCCGCA': 13, 'GCCGCAC': 5, 'CGATGGA': 2, 'ATGGATC': 2, 'TCCGGGT': 2, 'CCGGGTT': 2, 'CGCGTTG': 11, 'GCGTTGC': 13, 'TTGCACC': 2, 'GTACCGG': 4, 'TACCGGG': 2, 'GGGCGAT': 9, 'GGCGATG': 12, 'GCGATGC': 17, 'CGGTACA': 2, 'ACCAACG': 2, 'GCACCGC': 10, 'CGCAGGC': 6, 'CAGGCCG': 15, 'GGCCGCA': 8, 'GCCGCAT': 11, 'ATGGGCC': 2, 'GGGCCGC': 6, 'TTCAGCC': 2, 'CCCCGGT': 2, 'CGAAAGC': 4, 'TGCACCG': 8, 'GTGCAAT': 3, 'CATTGAC': 2, 'ATTGACC': 2, 'TTGACCT': 4, 'TCGGTGC': 10, 'CGGTGCA': 4, 'GGTGCAA': 2, 'TGGCCGA': 17, 'GCCGACG': 34, 'CCGACGC': 19, 'CGACGCG': 34, 'GACGCGA': 10, 'GCGATCG': 34, 'CGATCGC': 33, 'GATCGCC': 15, 'CGCCGCC': 23, 'TGCCGAC': 12, 'GACGGCA': 8, 'CGGCACG': 32, 'GCACGCT': 6, 'CGCTCAG': 2, 'GCCGGGC': 25, 'CCGGGCG': 8, 'CGGGCGA': 4, 'GCGACCG': 14, 'CCGCCTG': 12, 'CGCCTGC': 10, 'TTCGCCG': 11, 'GCCGACC': 22, 'CGACCAG': 17, 'CAGCATG': 2, 'CGCATCG': 18, 'GCATCGA': 14, 'CATCGAC': 5, 'ATCGACG': 16, 'GACGGCG': 21, 'CGGGTTT': 2, 'CGGCGCG': 49, 'CGCGGCC': 41, 'GTCGGCG': 27, 'CGTGTCG': 22, 'ACGCGAC': 14, 'GCCGCTG': 16, 'GCTGCGC': 27, 'TGCGCCG': 11, 'CGAGCCG': 16, 'GAGCCGC': 11, 'AGCCGCG': 14, 'GGCGTTC': 4, 'GCGTTCG': 8, 'CGATTTC': 11, 'GATTTCG': 7, 'ATTTCGA': 2, 'CTACCCG': 2, 'CCCGACC': 2, 'CCGACCG': 7, 'GACCGCG': 17, 'CCGCGTT': 6, 'GCCTGCG': 6, 'CCTGCGC': 6, 'CTGCGCG': 30, 'GCGCGGA': 10, 'CGCGGAT': 5, 'ATTGCAC': 2, 'GCTCGAC': 23, 'CTCGACG': 21, 'TCGACGC': 16, 'CGACGCC': 25, 'GACGCCG': 13, 'GCCGCGT': 23, 'CGCGAGG': 9, 'GCGAGGC': 4, 'CGACGAG': 26, 'CCGGTCA': 7, 'CGGTCAT': 2, 'GGTCATC': 2, 'CGTTGCC': 11, 'GTTGCCG': 17, 'TTGCCGC': 12, 'TGCCGCC': 16, 'CCGCCGC': 27, 'TCTGGCG': 2, 'GCGCAGC': 23, 'CCAGCTC': 6, 'CAGCTCG': 11, 'AGCATCG': 6, 'GCCGCGG': 18, 'CCGCGGC': 23, 'TCGTGCC': 10, 'CGTGCCG': 28, 'CGGACGC': 5, 'CTGTGGC': 5, 'CACTGGC': 2, 'ACTGGCG': 4, 'CTGGCGA': 5, 'TGGCGAT': 4, 'GATGGAC': 4, 'GACGACG': 18, 'ACGACGA': 17, 'ACCGCGA': 17, 'CCGCGAG': 7, 'GCCAGGC': 2, 'GGCGATC': 30, 'CCGCTCG': 9, 'CGCTCGG': 14, 'CGCCGCT': 9, 'GCCGCTC': 7, 'GCGCCGA': 36, 'GTGTCGT': 7, 'TGTCGTC': 8, 'GTCGTCG': 25, 'CGTCGAC': 21, 'CGCTGGC': 18, 'GCTGGCC': 10, 'CTGGCCG': 21, 'TGGCCGC': 8, 'CCGGACG': 10, 'CATCGTG': 8, 'GCAGCCG': 10, 'CAGCCGC': 2, 'GGCTGAC': 2, 'GCTGACG': 8, 'CCGGCGC': 32, 'GCTCGCG': 33, 'CTCGCGC': 23, 'GGCCGCG': 37, 'CGCGAAG': 14, 'CGAAGGC': 9, 'GAAGGCC': 4, 'ACGCCCG': 8, 'AACAGCG': 4, 'ACAGCGA': 2, 'GCGATCT': 13, 'CGATCTC': 12, 'GATCTCG': 11, 'GCGTGTC': 15, 'GGCTGGC': 8, 'CTGGCGC': 9, 'TGGCGCG': 20, 'GGCGCGC': 40, 'GCGCGCG': 58, 'CGCGCGC': 53, 'CGCGCTG': 33, 'GCGCTGC': 33, 'CGCTGCT': 12, 'GCTGCTG': 22, 'CTGCTGC': 25, 'TGCTGCA': 4, 'ACCGGAT': 4, 'CCGGATC': 14, 'CGGATCG': 17, 'CTGAACA': 5, 'TGAACAA': 2, 'GAACAAC': 4, 'ACAACGG': 2, 'CAACGGC': 5, 'AACGGCG': 4, 'CGTGCTG': 19, 'GCGGATG': 5, 'GGATGCG': 6, 'GATGCGC': 25, 'ATGCGCT': 12, 'TGCGCTC': 2, 'GCGCTCG': 28, 'CGCTCGA': 17, 'CGACATC': 14, 'GACATCG': 9, 'AGCGAAA': 4, 'AATTCCG': 2, 'ATTCCGG': 4, 'TTCCGGC': 2, 'GGCCGTA': 4, 'CCGCGCG': 28, 'CGCGGCA': 14, 'AGAAGGC': 6, 'ACGTGCG': 6, 'ACCCGCG': 5, 'CGCGTGC': 15, 'GCGTGCG': 23, 'GCGAAGA': 2, 'AGACCTG': 2, 'GACCTGA': 4, 'ACCTGAA': 6, 'CACGCTC': 7, 'ACGCTCG': 16, 'CGCTCGC': 27, 'TCGCGCG': 24, 'GCGCGCA': 25, 'CGCGCAA': 12, 'ACGCCGA': 21, 'CGCCGAT': 26, 'GCCGATC': 30, 'TCCGCAG': 2, 'GCAGCAT': 6, 'GAAGGGC': 4, 'GGCAAGC': 6, 'GCAAGCG': 2, 'TGTCGGG': 4, 'TGCGACG': 2, 'CGACGAC': 21, 'ATCGCCA': 6, 'TCGCCAG': 6, 'GCCAGCT': 2, 'GGCCGGC': 28, 'TCGACGA': 25, 'GCGACGG': 13, 'ACGATCG': 14, 'GATCGCG': 39, 'GCGGCGA': 25, 'TGGGCGA': 9, 'GACGGGG': 2, 'CTATGCG': 6, 'GCGAACC': 9, 'CGAACCC': 4, 'GAACCCG': 2, 'CGCGCAC': 23, 'CGATGCG': 27, 'ATGCGCG': 5, 'TGCGCGC': 33, 'CGTCGCG': 37, 'GCGGCAA': 12, 'AACGGGC': 2, 'CGCGCGT': 15, 'GGCGAAC': 13, 'GCGAACG': 12, 'CGAACGG': 4, 'TGCCGGT': 15, 'CCGGTCG': 12, 'TCTCGTC': 6, 'TCGTCGC': 26, 'GTCGCGA': 17, 'TCGCGAT': 16, 'CAGCGAA': 6, 'GGTGACG': 8, 'GTGACGC': 2, 'CGACGTG': 11, 'ATCAGCA': 5, 'TCAGCAG': 5, 'CAGCAGG': 6, 'GGTCGCG': 19, 'GTCGCGG': 15, 'GATCGGT': 2, 'ACGTCGT': 12, 'CGAGCGT': 15, 'GAAGGCG': 10, 'AAGGCGC': 5, 'GGCGCCC': 7, 'GCGCCCG': 16, 'AGTGAGT': 2, 'GAACACG': 10, 'GACGCAC': 4, 'CGCGCGA': 25, 'GCTGCCG': 38, 'CTGCCGA': 11, 'CCTCCTC': 2, 'GCAGTCG': 5, 'GCACGGT': 7, 'GTCGGAC': 2, 'CGGACCG': 4, 'GACCGGC': 5, 'ACCGGCC': 8, 'GCCCGTC': 7, 'CCCGTCG': 7, 'CGTCGGT': 5, 'GTCGGTC': 2, 'CCACCAA': 2, 'AATCGGC': 4, 'ATCGGCG': 23, 'CGACGAT': 15, 'ACGATCC': 10, 'TCCCTCG': 2, 'CTGGTCT': 2, 'GTCTGGC': 2, 'TGGCCAG': 2, 'CAGTCAG': 2, 'CCCAGCC': 2, 'CCAGCCG': 6, 'CGCTGTC': 8, 'GCTGTCG': 9, 'GACGTTG': 2, 'ACGTTGC': 2, 'GCCTGTT': 2, 'GGCGACC': 6, 'AACGCGG': 4, 'GGTAACG': 2, 'GTAACGG': 2, 'GAGATCG': 14, 'AGATCGA': 9, 'CGAAGTC': 6, 'CTCGCGA': 4, 'TCGCGAC': 11, 'GCGACCT': 4, 'CGACCTG': 6, 'TGCGTCG': 10, 'CGTCGCC': 21, 'TCGCCAT': 17, 'GCCATCG': 4, 'ATCGTGG': 2, 'CGTGGTA': 2, 'ACGGCGC': 9, 'CGGCGCT': 17, 'TGGCCGT': 8, 'GGCCGTG': 10, 'GCCGTGA': 4, 'GGCGGCC': 14, 'CGGCCTG': 10, 'GCCTGGT': 5, 'CCTGGTC': 4, 'GTCGTCA': 4, 'TCAAGCA': 2, 'CAACGAC': 2, 'CGATCCT': 7, 'TCGCCGG': 21, 'GGCACGC': 10, 'ACGCGCT': 9, 'GCTGGCG': 18, 'CAGCAGA': 2, 'AGCAGAG': 2, 'GAGGCCG': 13, 'GGCCGGG': 11, 'GGCACTC': 4, 'GCACTCG': 4, 'CGCAGAC': 4, 'GGGGATC': 2, 'TCCCCTG': 2, 'CCCCTGC': 2, 'CCTGCCG': 13, 'CTGCCGG': 16, 'GCGCTGA': 8, 'GCTCGGG': 10, 'CTCGGGA': 2, 'GAAGTCG': 7, 'CTCGGCC': 9, 'GCCGGAC': 8, 'GGACAAG': 2, 'GACAAGA': 2, 'CGCGTTC': 16, 'ACCCGAC': 2, 'CCGACGG': 14, 'CAAGCAG': 2, 'AGCAGGC': 4, 'CGTCAGC': 9, 'GTCAGCG': 3, 'AGCGCCG': 21, 'GCCGGCA': 20, 'CCGGCAG': 6, 'GCAGCCT': 2, 'TCGTGAC': 4, 'GTGACGG': 2, 'TGACGGC': 5, 'ATCGTGA': 2, 'CGACCGG': 6, 'ACCGGCA': 6, 'AAGCCGG': 4, 'AGCCGGC': 14, 'TGCGTTC': 4, 'TCGCGGT': 12, 'CGCGGTG': 25, 'GCGGTGC': 15, 'TGGTGCG': 2, 'GGTGCGC': 7, 'GTGCGCG': 29, 'CGCGACG': 55, 'GGCACGG': 8, 'GGCCGCC': 21, 'GCCGCCA': 8, 'GAGCGTG': 14, 'GATCGTG': 8, 'ACCTCGG': 4, 'ACACCCG': 2, 'CGCGAGC': 33, 'CGAGCTT': 2, 'GCGGGCG': 21, 'GCGTGAT': 13, 'CGTGATT': 2, 'GTGATTG': 2, 'TGATTGC': 2, 'GATTGCG': 4, 'GCGTCGG': 18, 'CGTCGGC': 29, 'CCTGATC': 6, 'GAAGCCG': 24, 'GGCAACC': 5, 'ACTCGAC': 2, 'GCTGCAG': 10, 'CCGTCGC': 16, 'TGTCGAC': 2, 'GCCGGTA': 2, 'CCGGTAC': 2, 'CGCGCTC': 18, 'CTCGACA': 10, 'TCGACAA': 4, 'CGGACGT': 4, 'GACGGCC': 14, 'ACGGCCG': 16, 'CGGCCGG': 27, 'GCATGCG': 6, 'CTGGCGG': 4, 'GGCGGCG': 28, 'GATCCTG': 8, 'CGTGATC': 14, 'GTGATCG': 7, 'GCGGCCG': 46, 'CGGCCGC': 43, 'CCGCGCT': 18, 'CGCTCGT': 8, 'GCTCGTC': 11, 'TCGTCGG': 11, 'CGGTGCG': 11, 'GCGATGA': 7, 'CGATGAC': 4, 'GATGACG': 9, 'TGACGAA': 4, 'ACGCAGC': 2, 'TTCAAGC': 2, 'ATCCTGC': 9, 'TCCTGCT': 6, 'CCTGCTG': 11, 'CCGCGAC': 27, 'GCGACGC': 32, 'TGTGTCG': 2, 'CGCGCAG': 23, 'GCGCAGA': 6, 'AGATCGC': 11, 'ATCGCGC': 22, 'TCGCGCA': 19, 'TCAATCT': 2, 'GCGAGTT': 2, 'CGAGTTC': 6, 'GAGTTCA': 2, 'TCAGCGA': 2, 'TCTCGCG': 7, 'CGAGATC': 14, 'GCGCAGG': 12, 'ATGCCGC': 2, 'CATCGAG': 7, 'ATCGAGC': 9, 'GCTCGAG': 2, 'CTCGAGG': 2, 'TCGAGGA': 6, 'AGGAAAT': 2, 'GGAAATC': 2, 'GAAATCG': 5, 'GCACGGC': 15, 'CACGGCC': 8, 'CGCAACT': 8, 'GCAACTC': 6, 'CAACTCG': 5, 'GCCGCGA': 31, 'CAGGTGA': 4, 'TCGGCGT': 14, 'TGCGCGG': 10, 'GCGGCGG': 29, 'CGGCGGC': 39, 'ACGGTCG': 7, 'CGGTCGT': 8, 'GGTCGTC': 4, 'GACGATG': 6, 'ACGATGA': 6, 'CGATGAA': 6, 'GATGAAC': 5, 'ATGAACG': 2, 'TGAACGA': 4, 'GAACGAG': 4, 'CCAACAT': 4, 'ATCGTCG': 19, 'CGGCATC': 23, 'TCGCGTT': 8, 'TCCAGAC': 4, 'CGTCGAG': 21, 'GTCGAGG': 9, 'AGGCCGC': 11, 'GAGCACG': 9, 'AGCACGG': 2, 'CGTGCGC': 26, 'GCAGCGC': 19, 'CCGCCAA': 2, 'CGCCAAG': 2, 'GCCAAGG': 2, 'CCAAGGA': 2, 'ACTCGTC': 2, 'GATCGAG': 12, 'TCGAGGG': 4, 'CAGACGG': 2, 'TCGTCGA': 20, 'TCGAGCA': 13, 'CGAGCAG': 21, 'GAGCAGG': 4, 'CAGGTGG': 2, 'CTCGCAA': 2, 'GCAAGGT': 2, 'TGCCGCG': 17, 'CTCCAGA': 2, 'TTCATCG': 6, 'TCATCGT': 4, 'CATCGTC': 11, 'GTCGGCC': 12, 'CACGATT': 2, 'CGGCCAA': 2, 'AAGCGAT': 2, 'AGCGATC': 5, 'ATTGATC': 2, 'CCTGCCA': 2, 'TGCCACC': 2, 'GCCACCA': 2, 'TCGGCCA': 10, 'CCAACTC': 2, 'GCGATAT': 2, 'CGCCTCC': 2, 'TGTTGCC': 4, 'GCCTCCA': 2, 'GCTCGCC': 13, 'GCGGCGC': 27, 'AAAGCGA': 2, 'GCGCTTC': 13, 'CGCTTCG': 16, 'CAGTTCA': 2, 'TCAATCG': 2, 'ACCAGTC': 2, 'GTCGATC': 16, 'TCGATCG': 17, 'CGATCGA': 15, 'GATCGAC': 15, 'TCGACAC': 9, 'CGACACG': 8, 'GACACGA': 2, 'ACACGAC': 2, 'CACGACG': 5, 'ACGACGC': 11, 'CGACGCT': 7, 'GACGCTC': 7, 'CAGCGCG': 29, 'AGCGCGA': 18, 'ACGCGAA': 5, 'GCGAAGG': 5, 'TGAGCGC': 8, 'AGCGCAC': 2, 'GCGCACG': 20, 'CGCACGA': 5, 'GCACGAC': 9, 'ACGCGCG': 26, 'GCGCGTC': 10, 'ACGAGCA': 10, 'CGAGCAC': 12, 'ACAACGA': 2, 'AACACGA': 5, 'CACGACC': 11, 'CCATGGC': 2, 'CATGGCC': 3, 'ATGGCCG': 10, 'GGCCGAC': 18, 'CCGACCT': 6, 'CGACCTT': 4, 'GACCTTC': 4, 'CGCTGCA': 9, 'TCGCGGG': 7, 'CGCGGGC': 21, 'CGGGCAT': 7, 'GGGCATC': 6, 'GGCATCA': 4, 'GCATCAC': 13, 'ATCACTT': 2, 'TCACTTC': 2, 'CACTTCG': 2, 'ACTTCGC': 6, 'CGCCGAA': 12, 'CCGAACC': 3, 'TTCTGGC': 4, 'CTGGCGT': 4, 'TGGCGTC': 2, 'GGCGTCC': 5, 'GCGTCCG': 5, 'CGTCCGC': 2, 'GTCCGCG': 6, 'TCCGCGC': 9, 'CCGCCGA': 11, 'CGCCGAC': 29, 'GACCGAC': 7, 'ACAAGGC': 2, 'TACAACG': 4, 'CAACGTG': 4, 'AACGTGA': 2, 'ACGTGAA': 2, 'CGTGAAC': 6, 'GTGAACC': 2, 'GAACCGC': 2, 'ACCGCGC': 9, 'GCGCGTT': 2, 'GTTCGAG': 2, 'TTCGAGG': 2, 'CGAGGCG': 4, 'GAGGCGG': 5, 'AGGCGGG': 3, 'GGCGGGC': 13, 'GCGGGCT': 9, 'CGGGCTG': 19, 'GGCTGGG': 6, 'GGCGGGG': 5, 'GGGGTCG': 4, 'TGGAAGA': 2, 'GAAGACG': 2, 'AAGACGC': 2, 'CTCGGGC': 14, 'CGGGCTC': 9, 'GGGCTCG': 6, 'GGCTCGA': 12, 'CTCGATC': 6, 'TCGATCC': 9, 'CGATCCG': 11, 'GATCCGC': 4, 'ATCCGCA': 3, 'TCCGCAT': 4, 'CGCATGT': 6, 'GCATGTC': 7, 'GTCAACG': 2, 'TCAACGT': 2, 'CAACGTC': 4, 'TTCGCGC': 14, 'TCGCGCT': 14, 'TATGGCG': 2, 'ATGGCGC': 15, 'GGCGCGG': 22, 'GCGCGGT': 20, 'GAACGGC': 9, 'CGGCCAG': 15, 'CAGCGCA': 4, 'GCGCATC': 16, 'CGCGGGG': 2, 'CGGGGCT': 4, 'GGGGCTG': 2, 'GGGCTGA': 3, 'GCTGAAC': 6, 'AACATCG': 6, 'TCGAGCT': 7, 'CGAGCTG': 9, 'GAGCTGA': 2, 'GCTGATC': 21, 'CTGATCA': 2, 'TGATCAC': 2, 'GATCACC': 13, 'ATCACCG': 12, 'CACCGAC': 4, 'CGACCGT': 6, 'GACCGTC': 5, 'TCCGCTC': 2, 'TCGACGT': 9, 'TGAACCT': 2, 'GAACCTG': 4, 'AACCTGA': 3, 'CGCAGGT': 6, 'GCAGGTG': 9, 'GGTGAAG': 5, 'GTGAAGC': 2, 'TGAAGCG': 4, 'GAAGCGC': 13, 'CGCGACT': 2, 'GCGACTG': 2, 'CGACTGG': 3, 'TGGCCGG': 13, 'GGCCGGA': 6, 'GGACCGC': 2, 'GCGCGCT': 10, 'CGCTGAT': 15, 'CTGATCG': 15, 'TGATCGT': 2, 'ATCGTGT': 2, 'TCGTGTC': 4, 'GTGTCGC': 6, 'TGTCGCT': 2, 'GTCGCTG': 4, 'TCGCTGA': 2, 'GCTGATG': 8, 'CTGATGG': 5, 'TGATGGT': 2, 'GATGGTG': 2, 'ATGGTGC': 2, 'GGTGCCG': 12, 'GTGCCGT': 6, 'TGCCGTG': 10, 'GCCGTGC': 16, 'CCGTGCA': 6, 'CAACGAG': 2, 'ACGAGCG': 12, 'CGAGCGC': 35, 'GAGCGCG': 21, 'GACTGGA': 3, 'ACTGGAA': 2, 'CTGGAAA': 2, 'TGGAAAT': 2, 'GGATCCT': 2, 'CGAGGAT': 3, 'CGGGCGC': 23, 'GGGCGCC': 9, 'GGCGCCG': 27, 'GACGCGG': 11, 'ACGCGGT': 13, 'CGGTCGA': 11, 'GGTCGAG': 6, 'GTCGAGC': 25, 'TGTCCGC': 4, 'CGCACGG': 5, 'GCACGGG': 2, 'CACGGGA': 2, 'ACGGGAT': 3, 'CGGGATG': 7, 'GGGATGA': 5, 'GATGAGC': 2, 'GCGAGCG': 24, 'AGCGCGG': 22, 'GCGCGGG': 16, 'CGCGGGA': 2, 'GCGGGAT': 3, 'GGGATGG': 2, 'GGATGGG': 2, 'GATGGGC': 4, 'TGGGCGC': 5, 'GGGCGCG': 11, 'CGGCGGT': 7, 'GGCGGTC': 2, 'CGGTCGG': 10, 'GGTCGGG': 2, 'TCGGGCA': 7, 'CGGGCAG': 11, 'CAGGTGC': 2, 'GCCCGAA': 6, 'GATGGTC': 3, 'TCACGCG': 5, 'CACGCGC': 23, 'AGGAAGG': 2, 'GGAAGGC': 2, 'GAAGGCA': 2, 'GGCACGA': 7, 'CACGAAG': 3, 'CGAAGCT': 2, 'GAAGCTG': 4, 'AAGCTGC': 4, 'AGCTGCC': 2, 'CTGCCGT': 8, 'GCCTCGT': 4, 'CCTCGTG': 5, 'CTCGTGA': 3, 'TCGTGAA': 2, 'GCTCACG': 4, 'CTCACGC': 3, 'TCACGCC': 11, 'CCGAACA': 8, 'GAACATC': 9, 'GCGACAT': 4, 'CATCCGG': 4, 'ATCCGGA': 4, 'TCCGGAT': 10, 'CCGGATG': 6, 'GTCGCGC': 22, 'GCGCGCC': 40, 'GCGTACA': 2, 'CGTACAA': 3, 'GTACAAG': 3, 'TACAAGG': 2, 'CAAGGGC': 5, 'AAGGGCG': 2, 'AGGGCGG': 2, 'GGGCGGC': 11, 'CGCGGAC': 4, 'CGGACGG': 4, 'GGACGGC': 8, 'ACGGCGT': 7, 'GGCGTGT': 9, 'GATCAAC': 4, 'TCAACAC': 2, 'CAACACG': 2, 'ACACGAT': 2, 'CACGATC': 13, 'CGATCAA': 2, 'CGATCGT': 20, 'GATCGTC': 22, 'GGTCGAT': 11, 'TGGCGCC': 4, 'GCCGATG': 14, 'CCGATGC': 11, 'CGATGCC': 15, 'GATGCCG': 23, 'ATGCCGA': 12, 'CGACGGT': 7, 'GGTCGAC': 2, 'GTCGACG': 12, 'ACGGCAA': 5, 'CGGCAAG': 13, 'GCAAGGG': 4, 'GGGCACG': 5, 'GCACGCA': 4, 'CACGGCG': 13, 'ACGGCGG': 12, 'GGCGGCT': 8, 'TGCGGCC': 16, 'GGCCCGG': 4, 'GCCCGGC': 24, 'CCCGGCG': 13, 'CCGGCGG': 10, 'CCGATCG': 10, 'GATCGCA': 9, 'ATCGCAT': 4, 'CGCATTG': 4, 'TGAACAT': 4, 'ATGGTCG': 7, 'CGCGGAG': 2, 'GCGGAGA': 4, 'CGCACGT': 8, 'GCACGTG': 5, 'CACGTGA': 2, 'ACGTGAC': 2, 'CGTGACC': 4, 'GACCCGG': 2, 'AACGCCG': 4, 'CGAACCT': 2, 'AACCTGC': 4, 'ACCTGCC': 2, 'TGCCGAT': 9, 'CCGATCT': 2, 'ATCTCGG': 4, 'GCATCGG': 7, 'CATCGGC': 14, 'TCGGCGG': 10, 'GGCGGCA': 11, 'GCGGCAT': 5, 'ATCTCGT': 8, 'CGTCATG': 4, 'TCATGGC': 4, 'CATGGCG': 5, 'ACGCGGC': 9, 'GTTCATG': 2, 'TTCATGG': 3, 'GGTGCTC': 4, 'GTGCTCG': 9, 'TGCTCGG': 9, 'GCTCGGC': 24, 'CTCGGCG': 16, 'TCGGCGC': 18, 'CGGCGCC': 22, 'GGCAGCG': 8, 'AGCGTGC': 10, 'CGTGCAG': 4, 'GTGCAGG': 3, 'TGCAGGT': 2, 'GTGTGCA': 2, 'TGTGCAC': 2, 'GTGCACC': 4, 'CCGCGAT': 12, 'ACGGATT': 2, 'GGATTCC': 2, 'GATTCCG': 6, 'GTGTCGG': 3, 'GACCTGG': 2, 'ACCTGGC': 3, 'CGACGGA': 6, 'TTGTCGA': 4, 'TCGAACT': 4, 'CGAACTG': 8, 'GAACTGG': 4, 'AACTGGA': 4, 'CTGGATG': 4, 'ATGGACG': 2, 'GGACGAG': 5, 'GACGAGA': 7, 'CGAGAAG': 3, 'GAGAAGG': 2, 'AAGGGCT': 2, 'GCTACGC': 2, 'CTACGCG': 7, 'ACGACAT': 2, 'CATTCGC': 13, 'ATTCGCG': 2, 'TTCGCGG': 7, 'GTGCCGA': 6, 'TGCCGAA': 5, 'CGAACGT': 6, 'GAACGTG': 4, 'GAAATAC': 2, 'ATACGAC': 2, 'ATCAAGG': 2, 'CAAGGCG': 2, 'AGGCGCG': 5, 'GGCGCGT': 6, 'GCGTATC': 4, 'CGTATCG': 4, 'ATCGACC': 2, 'GACCAGG': 5, 'ACCAGGA': 4, 'CCAGGAC': 2, 'GCTGCAT': 5, 'CTGCATC': 5, 'TATCGCG': 3, 'ATCGCGT': 8, 'TCGCGTG': 12, 'CGTGCGA': 5, 'GCGAGGA': 2, 'GGACACG': 2, 'GACACGT': 2, 'CACGTCG': 9, 'CGTCGCA': 10, 'AGGCGAT': 5, 'CGATCAC': 14, 'TCACCGC': 10, 'CACCGCG': 13, 'ACGAAGG': 2, 'CGAAGGA': 4, 'GAAGGAC': 2, 'AAGGACG': 2, 'AGGACGG': 4, 'GGCGTGC': 6, 'CGTGCGG': 19, 'GTGCGGC': 10, 'GAAGTGG': 3, 'AAGTGGT': 2, 'GTGGTCG': 11, 'TGGTCGA': 5, 'GTCGATT': 3, 'TCGATTC': 4, 'CGATTCG': 9, 'GATTCGG': 3, 'ATTCGGC': 2, 'TTCGGCG': 12, 'CGTGCGT': 6, 'TGCATGC': 3, 'TGCATGT': 2, 'GCATGTG': 7, 'CATGTGT': 2, 'TGTGTCC': 2, 'GTGTCCG': 4, 'TCCGGTC': 2, 'CACGATG': 6, 'GTGTCGA': 8, 'TTCGGGC': 6, 'GGGCGAC': 5, 'CGACTAC': 3, 'GACTACG': 4, 'CGCGAAC': 15, 'ACTGGAC': 4, 'ACGCATC': 5, 'CGCATCC': 3, 'GCATCCG': 5, 'TCCGAAC': 4, 'TCCGGCG': 8, 'CCGGCGA': 13, 'CGGCGAG': 9, 'CGGAGGC': 2, 'GGAGGCG': 2, 'GGGGGCG': 2, 'GGCGAGT': 2, 'TGCAGGC': 8, 'GCAGGCG': 12, 'GCGGCAC': 9, 'CGGCACC': 7, 'GGCACCC': 2, 'GCACCCG': 5, 'CACCCGA': 2, 'CCGAGAA': 2, 'GAAGCAC': 5, 'AAGCACG': 2, 'AGCACGC': 9, 'GCACGCG': 22, 'CACGCGA': 9, 'CGGCGTC': 19, 'CGGCGAT': 21, 'GATGCGG': 6, 'ATGCGGG': 2, 'TGCGGGC': 9, 'GCGGGCC': 7, 'CGGGCCA': 4, 'GGGCCAT': 2, 'GGCCATC': 8, 'CCATCCT': 2, 'CATCCTG': 4, 'TCCTGCA': 5, 'GCCGCCT': 2, 'CGTTCCA': 2, 'CCGGGCC': 5, 'CGGGCCG': 12, 'GGGCCGG': 5, 'GTGATGC': 7, 'TGATGCC': 3, 'ATGCCGG': 13, 'TGCCGGC': 20, 'GCCGGCG': 39, 'CCGGCGT': 16, 'CGGCGTT': 8, 'TTCGTGG': 2, 'GATGAAT': 2, 'TGAATCA': 2, 'ATCACGC': 9, 'CACGCAG': 7, 'GCAGCGA': 9, 'GCGAATC': 5, 'CCCGCCG': 10, 'GATCCCG': 7, 'ATCCCGA': 3, 'TCGCGCC': 18, 'CGGCGCA': 6, 'GGCGCAG': 2, 'CGCAGGG': 2, 'GCAGGGC': 4, 'GCGGCAG': 9, 'GGCAGCC': 2, 'AGCCTGT': 2, 'GACGATC': 16, 'ACGATCT': 2, 'CCGACGA': 10, 'CACGTGG': 2, 'CGTGGAA': 4, 'GTGGAAG': 2, 'CTTCGCG': 13, 'GCGCTGT': 6, 'CGCTGTG': 2, 'GCTGTGG': 3, 'TGGTGAT': 2, 'GTGATGA': 5, 'CGCGTCG': 27, 'GCGTCGT': 12, 'TGCTCGC': 7, 'CTCGCGG': 9, 'CCGGGCT': 5, 'GATCCAG': 7, 'ATGTCGC': 4, 'CGCCGTG': 9, 'GCCGTGG': 7, 'CCGTGGC': 2, 'CAGGCGG': 4, 'GGCGGTG': 7, 'ACGACGG': 5, 'CGGTGCT': 7, 'GGTGCTG': 9, 'GTGCTGC': 14, 'TGCTGCT': 13, 'GCTGCTC': 8, 'CTGCTCG': 15, 'CGGCAAC': 8, 'GCAACCT': 6, 'CAACCTG': 4, 'ATCGTGC': 5, 'TCGTGCT': 4, 'CGTGCTC': 4, 'TGCTCGT': 3, 'GCTCGTG': 7, 'CTCGTGC': 8, 'CGATGCT': 7, 'GATGCTG': 7, 'CTGCTGA': 7, 'TGATCGG': 4, 'GATCGGC': 15, 'ATCGGCC': 4, 'CATGCGG': 2, 'GCGAAGC': 8, 'CGAAGCA': 5, 'CGTACGC': 2, 'GTACGCG': 13, 'TCGTGCG': 15, 'CGTCGTT': 6, 'GTTCGGC': 20, 'TTCGGCA': 15, 'TCGGCAC': 9, 'GCGCGAT': 19, 'GCGGCTG': 11, 'CGGCTGG': 12, 'GGTACGG': 2, 'GGGATCC': 3, 'CCTGGCT': 2, 'CTGGCTC': 3, 'TGGCTCG': 5, 'AACATCC': 2, 'ATCCTGA': 3, 'CTGACCG': 2, 'GGCAACG': 5, 'GCAACGC': 4, 'CAACGCG': 2, 'GCATGGC': 2, 'GGGCAGC': 7, 'GGCAGCT': 2, 'GCAGCTC': 6, 'TCGCATG': 2, 'GCTTCCT': 8, 'CTCGTGT': 2, 'TCGTGTT': 2, 'CGTGTTC': 5, 'GTGTTCT': 4, 'TGTTCTG': 5, 'GTTCTGG': 4, 'TTCTGGG': 3, 'TCTGGGC': 3, 'CTGGGCG': 5, 'CTACTTC': 2, 'ACTTCAT': 2, 'CATCTGG': 2, 'CATGGCA': 2, 'GGCACCG': 3, 'ATCCGCT': 2, 'TCCGCTG': 2, 'GCTCGAA': 7, 'TGGTCGG': 6, 'GTCGTGA': 7, 'TCGTGAT': 9, 'CGTGATG': 12, 'GATGTGC': 2, 'CGTGGCG': 9, 'GTGGCGC': 3, 'TGGCGCT': 4, 'GTGGTGG': 2, 'TGGTGGG': 2, 'GGTGGGC': 4, 'GTGGGCA': 2, 'ACGTCGA': 15, 'AAGGCGG': 2, 'CGGGCGG': 12, 'GCGGCTT': 8, 'TGCTGTC': 2, 'CTGTCGG': 2, 'GCGCCGT': 12, 'GTCGCAG': 2, 'AGGCGGC': 8, 'GCTGTTC': 9, 'CTTCTGG': 2, 'CGACTTC': 6, 'CGCGCAT': 14, 'GCGACCA': 5, 'GGTGATC': 4, 'AGTCGAT': 4, 'GGGCTGC': 6, 'TGCCGTT': 2, 'TTGCCGA': 7, 'TGTCGGT': 4, 'GTCGGTG': 4, 'GGTGTCG': 5, 'CGTCGTG': 21, 'GTGACGT': 2, 'ACCGTCG': 4, 'CCGTCGT': 11, 'CTACGGC': 2, 'TACGGCA': 2, 'CGATCTG': 4, 'GACGAGC': 17, 'GGATGAC': 3, 'ATGACGG': 4, 'TGACGGG': 2, 'GCGTGGG': 9, 'CGTGGGC': 5, 'GTGATCC': 2, 'GATCCTC': 7, 'CCGCGAA': 12, 'GGCGTAC': 4, 'CTTCTCG': 2, 'GTGGCCG': 13, 'AAGGCGA': 2, 'GAAGATC': 4, 'AAGATCC': 2, 'CGGCTAC': 4, 'ATCTTCA': 4, 'CACCTGG': 4, 'CTACTCG': 2, 'TACTCGG': 2, 'ACTCGGC': 6, 'GTGGCGG': 10, 'TCCTGAT': 3, 'CTTCCTG': 7, 'CCTGATT': 3, 'CTGATTC': 3, 'TGATTCG': 3, 'CGCGGCT': 7, 'GACACGC': 4, 'ACACGCG': 2, 'TGTTCGA': 6, 'CAGCTAC': 2, 'ACCCGGC': 5, 'CCCGGCC': 7, 'TGCTGCC': 12, 'GGCTTCC': 4, 'ACACGGC': 2, 'CGTTTCC': 2, 'GTTTCCG': 2, 'GGCGTCG': 18, 'GTGCCGG': 5, 'TCTTCAA': 2, 'CTTCAAC': 4, 'AACACGC': 4, 'ACACGCT': 4, 'CGCGTGG': 20, 'TGCGTGT': 2, 'GTACGGC': 4, 'GGATGAA': 2, 'CGCCGGA': 8, 'CGCAGAT': 2, 'GCAGATC': 7, 'CAGATCG': 11, 'GCAACCC': 2, 'GTCGATG': 6, 'TCGATGC': 22, 'ATGCGGA': 2, 'CCGTTCC': 2, 'GACGTGC': 7, 'TCTGCGC': 2, 'TGCGCAG': 8, 'CCGGAGG': 5, 'CGCCGGG': 9, 'ACGTGAT': 2, 'TGCCGGG': 5, 'GCATACG': 2, 'GCCGTTC': 5, 'CATGGGC': 2, 'ATGGGCA': 2, 'TGGGCAC': 2, 'CCGCCGG': 13, 'GAGCCCG': 8, 'GGACGCG': 2, 'TGGGCCG': 5, 'GGGCCGA': 4, 'GTGGGAC': 2, 'TGTCGAG': 8, 'ATCATGG': 2, 'GACGAGG': 4, 'CGAGGTG': 4, 'GAGGTGC': 2, 'AGGTGCT': 3, 'CTCGCGT': 12, 'CGTGCAT': 5, 'GTGCATG': 3, 'ACGGCGA': 9, 'GCAGAAG': 2, 'CAGAAGG': 2, 'GCCGGAG': 4, 'GAGGCGC': 2, 'TGTCGCG': 7, 'AGGTCGA': 2, 'TGCGATC': 2, 'GCGATCC': 4, 'GCGTGCC': 7, 'GATCACG': 14, 'TCACGAA': 4, 'GGCTGCG': 8, 'TGCGCGT': 6, 'GCGTGTT': 4, 'GTGTTCG': 4, 'ACGAGGC': 4, 'CGAGGCC': 9, 'CCGCGCA': 19, 'GCCCGCC': 14, 'CTGCGTG': 6, 'GCGTCGC': 22, 'GATTTCA': 4, 'GGATCGC': 6, 'CCGCATC': 7, 'CGCATCA': 9, 'CGAACGA': 5, 'GTTCGTG': 2, 'TTCGTGC': 4, 'GCGGATC': 9, 'CGAACCG': 12, 'TTGAGCG': 5, 'TGAGCGT': 2, 'CACGCCC': 2, 'GGCCTCG': 9, 'GCCTCGC': 5, 'CCTCGCG': 8, 'CGCTGCC': 15, 'CCGTTCG': 8, 'GGCGCTC': 6, 'CGTTGCT': 5, 'GTTGCTG': 5, 'TGCTGGA': 2, 'GGTGGTC': 2, 'TGCGGCA': 8, 'CCATCTC': 2, 'CATCTCG': 4, 'CGTCCCG': 2, 'CGCCGAG': 20, 'GCCGAGC': 34, 'CCGAGCG': 18, 'CGAGCGA': 8, 'GAGCGAA': 3, 'GCGAAAT': 3, 'TTCTCGA': 2, 'TCTCGAC': 3, 'TCGCCCG': 10, 'CGCCCGC': 14, 'CGCCTGG': 6, 'GCGCGTG': 15, 'GTCATGT': 2, 'TCATGTC': 2, 'ATGTCGG': 2, 'GCGCGAG': 14, 'CGCGAGT': 2, 'GTACGCT': 2, 'TACGCTG': 2, 'ACGCTGC': 6, 'CGCTGCG': 15, 'GCTGCGG': 10, 'CGGCGGG': 9, 'GCGGGGT': 2, 'TTTGCGG': 2, 'TTGCGGC': 7, 'CCGGCTT': 6, 'CGGCTTG': 4, 'CGTCGTC': 13, 'GGCCTGA': 4, 'GACGCGC': 17, 'CGCTGTT': 2, 'CTGTTCG': 8, 'ACCGACG': 7, 'CCGACGT': 7, 'CGACGTT': 4, 'GACGTTC': 4, 'ACGTTCC': 4, 'TTCCAGG': 2, 'CCAGGCG': 2, 'CGATTCC': 2, 'TTGCTGC': 7, 'GGCTCGG': 7, 'CTCGGCA': 12, 'TCGGCAT': 10, 'GACGAAG': 8, 'ACGAAGC': 7, 'AGCACCG': 4, 'TCACGCT': 6, 'CACGCTG': 8, 'GCGCCTT': 3, 'CGCCTTC': 8, 'CCGGTGC': 6, 'GGTGCAC': 2, 'CACCTCG': 2, 'TGGTCGC': 4, 'GGTCGCC': 13, 'GTCGCCG': 25, 'CCGGCAT': 8, 'CGGCATT': 2, 'TTCGCGA': 11, 'GCGACGT': 10, 'CGACGTC': 20, 'GACGTCG': 18, 'TCGACCG': 2, 'CGACCGC': 21, 'CCGCAAG': 4, 'CGCAAGC': 5, 'GCAAGCT': 6, 'GCGGTGT': 5, 'TACCGGC': 2, 'ACCGGCT': 2, 'CGGCTCG': 16, 'TCGGCCC': 5, 'TTCCGTC': 3, 'TCCGTCG': 2, 'GTCGCAT': 3, 'TCGCATC': 5, 'TGCCGCA': 9, 'AGATCGT': 4, 'ATCGTCA': 6, 'TCGTCAC': 5, 'TCACCGG': 2, 'CACCGGC': 11, 'GCTTGCG': 8, 'CTTGCGC': 9, 'TTGCGCA': 6, 'GCGCACC': 9, 'CGCACCG': 10, 'GCACCGG': 11, 'GCGTGGA': 6, 'GTGGATG': 5, 'GGATGTT': 2, 'CGGAGCT': 2, 'GGAGCTG': 2, 'GCGGCCA': 10, 'CGGCCAC': 11, 'GGCCACG': 10, 'GCCACGC': 8, 'CCACGCG': 14, 'CTCGGCT': 2, 'TCGGCTT': 2, 'CCTGTTG': 2, 'TGAGCGA': 2, 'GAGCGAC': 4, 'AGCGACG': 4, 'CGCGAAA': 7, 'CGAAACC': 6, 'GAAACCG': 4, 'CGCCCGG': 4, 'CCCGGAT': 4, 'CGGATCT': 3, 'GGATCTC': 3, 'TGTTCGG': 5, 'GTTCGGG': 4, 'CTGCTGG': 2, 'GGCGTTG': 6, 'GTTGCTC': 3, 'TTGCTCG': 4, 'ATCGAGT': 2, 'TCGAGTC': 2, 'CGAGTCG': 2, 'AGTCGCA': 3, 'GTCGCAC': 4, 'GACGCCT': 2, 'CCACACG': 2, 'ACACGCC': 2, 'CCACGCA': 2, 'GTCGGCA': 7, 'CGGCATG': 8, 'GGCATGA': 2, 'CACGCGT': 2, 'ACGCGTT': 2, 'GCGTTCT': 2, 'GCGAGCA': 6, 'CGACACC': 7, 'GACACCG': 3, 'CCGCTGC': 11, 'TGCTCGA': 9, 'CTCGACC': 6, 'TCGACCT': 6, 'GACCTGC': 4, 'ATCACCC': 2, 'TCACCCG': 2, 'CCTCGCC': 2, 'CTCGCCG': 15, 'TCGCCGA': 19, 'TCCCGCT': 2, 'GCAGGTT': 2, 'CAGGTTG': 4, 'GGTTGCG': 6, 'GTTGCGC': 4, 'TTGCGCG': 8, 'GGCGAGA': 2, 'ATCGTCT': 7, 'TCGTCTG': 3, 'CGTCTGC': 3, 'GTCTGCG': 2, 'GGCCCGA': 2, 'GCCCGAG': 5, 'CGAGCGG': 10, 'GCGGTTG': 4, 'CGGTTGC': 5, 'TGCTGCG': 10, 'TGCGGAT': 4, 'GGATCGT': 2, 'CCGGCCT': 8, 'CGGCCTC': 8, 'GCCTCGA': 9, 'CCTCGAC': 4, 'ACACCGA': 2, 'CACCGAT': 2, 'CCGATTT': 2, 'ATTTCCG': 2, 'TTCCGCG': 11, 'TCCGCGG': 4, 'GCAGCGT': 10, 'CAGCGTG': 16, 'CCGCGTG': 14, 'GGGCGTG': 2, 'GGCGTGA': 5, 'GATCTTC': 4, 'CGACTGC': 2, 'GGCTGTC': 2, 'TCGCGGA': 2, 'AACGTCG': 2, 'ACGTCGG': 9, 'CCGGCCC': 7, 'GGCCCGC': 8, 'GCCCGCG': 14, 'GCGAGCC': 11, 'GAGCCGG': 12, 'GGCCGTC': 14, 'GCCGTCG': 28, 'GTCGCCC': 5, 'GGCTGCT': 2, 'ACGAAGT': 2, 'GCCTGGC': 4, 'CCTGGCC': 4, 'CGGGGTC': 2, 'CCGGCCA': 6, 'CGTTGTC': 6, 'GTCGGGC': 9, 'TCGGGCG': 9, 'GGGCGGG': 5, 'GGCGGGA': 4, 'TGGCGCA': 5, 'AGCGCGC': 15, 'GGGCTGT': 6, 'ACCTGCT': 4, 'ACCGTTC': 2, 'CGTTCAG': 6, 'GTTCAGC': 8, 'TTCAGCG': 11, 'TCAGCGC': 11, 'ATGCGAT': 8, 'GTTGCAG': 4, 'CAGTCGC': 3, 'GCTCGAT': 7, 'CTCGATG': 5, 'GATGTCG': 7, 'TCGAGCG': 14, 'CACCGGA': 6, 'CGTCACG': 15, 'GTCACGC': 11, 'TCACGCA': 5, 'CACGCAC': 4, 'ACGCACG': 5, 'CGAAGCG': 16, 'AGCGCTG': 2, 'CTGATGC': 4, 'ATGCTCG': 5, 'CGCGCCC': 13, 'AACCCGG': 2, 'GAGATCC': 2, 'CCGTGCT': 6, 'TCCAGCA': 2, 'AGCTTCA': 2, 'GCTTCAG': 2, 'CTTCAGG': 4, 'TTCAGGA': 4, 'AGGATCG': 2, 'ACGAGAC': 2, 'CGAGACG': 5, 'GAGACGA': 4, 'CCTTCAG': 4, 'TTCAGGC': 2, 'TCAGGCC': 8, 'GGCCTCC': 2, 'CGAAGCC': 12, 'GGCCGAT': 10, 'ACGACCG': 12, 'ACCGGCG': 9, 'CTCGACT': 2, 'GCGTTCA': 8, 'CAGCGCC': 8, 'GCATGAC': 2, 'CATGACG': 2, 'CTTCCGT': 4, 'GATACGG': 2, 'CGACAGG': 8, 'TCGCAGT': 2, 'ACCGGAA': 2, 'ATCGATC': 8, 'CGCGGAA': 2, 'AAATCGC': 3, 'AATCGCG': 5, 'CCCGCTC': 2, 'CGTAGCG': 5, 'GTAGCGG': 2, 'AGCGGCG': 11, 'GGCGCAC': 2, 'GCGCACT': 2, 'CGCACTT': 2, 'GCACTTC': 2, 'CCGTCGA': 9, 'CTGCGGC': 4, 'CGGCAGT': 4, 'GGCAGTC': 2, 'ATCGGGC': 6, 'ACGGCCT': 2, 'GGTTCGG': 4, 'GCGAGAC': 2, 'GGAGGTT': 2, 'GCGGGAA': 3, 'CGGGAAC': 2, 'GGAACAC': 2, 'CGAGTGG': 2, 'GCTGGTC': 2, 'CTTCGAC': 11, 'ACCTCGA': 2, 'CGATTTT': 3, 'GATTTTC': 2, 'CGCTCCG': 2, 'GCGGCCT': 4, 'TCAGCGT': 10, 'GTGATGT': 2, 'GCCCAGC': 7, 'CCAGCAC': 10, 'CAGCACG': 12, 'GCACGCC': 9, 'GCTCCGG': 4, 'CTCCGGC': 8, 'CGAAATC': 2, 'AATCGGG': 2, 'TCACCTG': 4, 'ACCTGGA': 2, 'CCTGGAA': 2, 'GAATGCG': 10, 'GATCTCC': 2, 'CCAGCGC': 8, 'CGGTCGC': 12, 'GTTCCGG': 2, 'TTCCGGA': 2, 'CTTCCTT': 2, 'TTTTCGC': 4, 'TTTCGCG': 7, 'TTCGAGA': 2, 'TCGAGAT': 8, 'GTCGTTC': 6, 'TCGTTCA': 2, 'CAGTGTC': 2, 'AGTGTCG': 2, 'GTCGCAA': 2, 'TCGCAAT': 2, 'ACTGGCC': 2, 'TTCCCTT': 2, 'GACCGCC': 7, 'TGTCGCA': 2, 'GCATTGC': 4, 'CATTGCG': 5, 'CCTCGAG': 8, 'TCGAGTT': 6, 'TCCGTGC': 5, 'TTGCCCG': 2, 'CCCGTCC': 4, 'CGCCTTT': 3, 'GCAAGGA': 2, 'CAAGGAT': 2, 'CTGCACG': 12, 'TGCACGC': 8, 'ACGCAGA': 2, 'GACAGCG': 6, 'GGCGCAT': 5, 'CATCGAT': 5, 'CGATGCA': 7, 'CCGTCCT': 2, 'CGTCCTG': 5, 'GTCCTGC': 6, 'TGCCCGA': 6, 'CGATCCC': 2, 'GCCGACA': 7, 'CCGACAT': 2, 'GAGCGCC': 6, 'AGCGCCT': 2, 'CGCCTCG': 10, 'ATTGCGC': 6, 'ACCGCCG': 6, 'GTTCGTC': 2, 'TTCGTCG': 10, 'GCGACAG': 8, 'ACAGCGC': 2, 'GCCTCCT': 2, 'CTCCTCG': 2, 'TCCTCGA': 6, 'TGCATCG': 3, 'CTGCTCC': 2, 'CCTGCTC': 6, 'ACGCCTG': 2, 'GCCTGCT': 7, 'CTCGAAC': 2, 'GAACGCC': 6, 'AACGCCT': 4, 'GTTTCGC': 2, 'TCGCTCA': 2, 'CGCTCAT': 2, 'GCTCATG': 2, 'GACGAGT': 2, 'AGTGCGA': 2, 'TTCGACA': 4, 'CAGTTCG': 9, 'CCTTCGC': 5, 'GACGACC': 11, 'CAGCGTT': 2, 'AGCGTTC': 2, 'GATGCTT': 2, 'CTTTCGA': 2, 'GTGGAAC': 2, 'TGGAACT': 2, 'GGAACTG': 4, 'TCGTCTC': 2, 'ATCGCCT': 6, 'TCGCCTC': 3, 'CGCGCCT': 6, 'GCCTTCG': 10, 'GCGTGCA': 6, 'CTGTTGC': 2, 'CAGGTCG': 14, 'GTGCGGA': 4, 'ACGTCGC': 2, 'AGCGCAT': 6, 'GCGCATG': 13, 'TGCAGCA': 4, 'GATAGGC': 2, 'TCGCCTT': 2, 'GATGATC': 9, 'AAGCCGA': 6, 'CTCGAGC': 7, 'CGCGGTA': 2, 'GCGGTAC': 2, 'AGAGGGC': 2, 'GAGGGCC': 2, 'CACGAGC': 9, 'TTGCGCC': 4, 'ACCACCA': 2, 'GAACGGG': 4, 'TGCGTGC': 5, 'AGATCGG': 4, 'GCGTCTT': 2, 'GTCTTCG': 4, 'GCCGAAG': 7, 'TGATGCG': 4, 'GATGCGT': 2, 'CCCAGCG': 4, 'CGGTTCG': 4, 'GGCTTGC': 6, 'GCGATGT': 4, 'CGCGTGA': 8, 'GCGTGAG': 7, 'CGTGAGC': 8, 'GTGAGCG': 6, 'CGGCGAA': 13, 'TTTCCGG': 2, 'GGCCACT': 2, 'TGCCCGC': 8, 'CCCGCGC': 8, 'TGATCGA': 9, 'GCCAGCG': 6, 'AGCGTCT': 2, 'CTGAATC': 2, 'GGCCATG': 4, 'CGGCACT': 2, 'GCACTCA': 2, 'TGTTGAC': 2, 'CCAGGTC': 5, 'TCGTACG': 2, 'GGAGCCG': 4, 'CGGTGCC': 8, 'GCCGGCT': 8, 'GCCAGTC': 2, 'CCGGGTG': 3, 'TTCAACG': 5, 'CGGATTT': 4, 'GGATTTT': 2, 'TTTTGCC': 2, 'CCGCCCG': 10, 'GTCCGGA': 4, 'CCGCTCA': 2, 'CTGCCGC': 13, 'GCGAGAA': 4, 'CGAGAAT': 4, 'GAGAATG': 2, 'GAATGTT': 2, 'AATGTTC': 2, 'AATCCCT': 2, 'ATTACCG': 2, 'CCGTAAT': 2, 'CGTAATG': 2, 'ATGATTT': 2, 'TGATTTC': 2, 'ATTTCGG': 2, 'TTTCGGC': 4, 'TCGGCAA': 4, 'CTTGCCC': 2, 'CCCGAAC': 2, 'CCGAACT': 4, 'GAACTGC': 7, 'AACTGCT': 6, 'ACTGCTC': 3, 'CGCATGG': 3, 'CATGGAG': 2, 'GTCGACC': 4, 'ACCTGGT': 2, 'GGTTCAC': 2, 'GTTCACC': 2, 'CTTCGCC': 6, 'CAACCTC': 2, 'ACCTCGC': 2, 'CCTCGCA': 3, 'CTCGCAG': 2, 'TCGCAGG': 3, 'CTGCCTG': 2, 'TGCCTGC': 6, 'AGCGCGT': 3, 'GTTCGCC': 2, 'TTCGCCT': 2, 'TCGCCTG': 2, 'CCTGCCT': 2, 'CGTTCTC': 2, 'GTTCTCC': 6, 'TGACGCA': 2, 'CGGTCAA': 2, 'GGTCAAC': 2, 'GTCAACT': 2, 'CTCCATG': 2, 'CCATGCT': 3, 'CATGCTG': 2, 'ATGCTGG': 2, 'CGCCGTT': 10, 'GAGTGAA': 2, 'TGAAGCC': 6, 'TGCTCTT': 2, 'GCTCTTC': 2, 'CTCTTCC': 2, 'CCGTGCG': 6, 'TGCGCTG': 10, 'ACAGATC': 2, 'TCCAGGT': 4, 'CCAGGTT': 3, 'GGTTGCC': 2, 'TTGCCCT': 2, 'TGCCCTG': 3, 'GCCCTGC': 3, 'CGCGATT': 4, 'GCGATTT': 2, 'ATTTCGC': 4, 'ATCGATT': 2, 'ATTCCGC': 2, 'CCGCGGT': 8, 'GATTGAA': 2, 'CCGACAC': 2, 'ACGATGC': 6, 'TGCCGCT': 5, 'TCAGTTG': 2, 'CAGTTGC': 8, 'AGTTGCC': 4, 'GATTCGA': 6, 'ATTCGAG': 4, 'GACGCCA': 2, 'CCATCAG': 2, 'CATCAGG': 2, 'TCAGGCT': 2, 'CAGGCTG': 5, 'AGGCTGC': 6, 'TCGTTCG': 4, 'CCGGCAC': 5, 'CACGGGT': 2, 'TGCTTCG': 4, 'CGAGATT': 2, 'GAGATTG': 2, 'CCTTCGG': 2, 'CTTCGGC': 8, 'CGGCAAT': 4, 'ATACGCC': 2, 'TACGCCC': 3, 'GCCACGA': 4, 'CCACGAC': 4, 'ACCGCGG': 5, 'CGGCAGG': 4, 'CAGGTTC': 2, 'CCGCCCA': 6, 'CGCCCAG': 5, 'CAGCGAC': 4, 'CCGCATG': 2, 'TGATGAC': 3, 'TGACGGT': 2, 'AGCACGA': 6, 'ATCGACA': 6, 'TCGACAG': 7, 'GACGGTG': 2, 'ATGACGC': 3, 'GCGTCAA': 2, 'CGTCAAC': 2, 'ACGCAGT': 2, 'CGCAGTC': 2, 'CGCCACG': 6, 'GCCACGT': 4, 'GAGCAGC': 11, 'AGCAGCG': 9, 'TTCAGCT': 2, 'TCGGCCG': 11, 'CCGCCAC': 2, 'CACGGCT': 6, 'ACGGCTC': 5, 'CGATCCA': 3, 'CATGAAC': 4, 'ATGAACT': 3, 'ACTGCTT': 3, 'CTGCTTG': 3, 'GCTTGTC': 2, 'CTTGTCG': 5, 'TTGTCGT': 7, 'CCTGCTT': 2, 'TGCTTGA': 2, 'TAGTCGA': 4, 'TCGATCA': 2, 'TCAGCAC': 3, 'GCACATT': 2, 'GCCTGCA': 4, 'CTGCATT': 2, 'TGCATTG': 3, 'ATTGACG': 2, 'TCAGCTT': 2, 'CGACCTC': 5, 'ACCTCCG': 2, 'CCTCCGC': 2, 'CTCCGCC': 2, 'CGCCACC': 2, 'CACCTTC': 4, 'ACCTTCC': 2, 'TGTCTCG': 2, 'GTCTCGA': 5, 'TCTCGAG': 2, 'CTCGAGA': 2, 'TTGCGCT': 2, 'TGCGGAC': 2, 'CGGACGA': 7, 'ACGAGAT': 3, 'GATCGAA': 6, 'ATCGAAC': 6, 'TCGAACG': 5, 'GAACGAC': 3, 'AACGACG': 2, 'TGGCGAA': 4, 'CTCCAGG': 2, 'CCAGGAA': 3, 'ACCGGTC': 2, 'GTCATCC': 4, 'AGGCCAC': 2, 'CGTAGCC': 4, 'GTAGCCG': 2, 'CTGTCTC': 2, 'GGTCAGC': 2, 'GTCAGCA': 5, 'TCAGCAT': 2, 'AGCATGT': 2, 'ATGTCGT': 5, 'CGCAGGA': 2, 'GCAGGAC': 3, 'TTCCAGC': 2, 'CAGCCGT': 2, 'CGCCTGA': 2, 'GATTCAG': 2, 'CAGCTTC': 2, 'TGACGAT': 2, 'ATCGAGA': 2, 'CCGATCA': 7, 'GACGATA': 2, 'ACGATAC': 2, 'GATACCG': 4, 'ACCGAAT': 2, 'CCGAATG': 2, 'CGAATGC': 7, 'ACGCCCA': 3, 'GCCGACT': 4, 'CCGACTG': 4, 'ATGGAGC': 2, 'TGGAGCC': 2, 'GCCCATG': 5, 'CCCATGC': 2, 'GTATTGC': 3, 'TATTGCT': 2, 'ATTGCTG': 2, 'CACGCAA': 2, 'GCAAGCA': 2, 'AGCAAAC': 2, 'GTAATGC': 2, 'TTCGCAG': 2, 'CAGGACG': 3, 'TTTATCG': 2, 'TTATCGG': 2, 'TATCGGT': 2, 'GCATCAG': 6, 'ATCAGGT': 2, 'TTCGTCC': 4, 'CGCAAAC': 3, 'GCAAACG': 2, 'CAAACGA': 2, 'GGCGGAT': 4, 'GCGGATT': 2, 'CCGCAAA': 2, 'AGAACAT': 2, 'TGCGCAT': 10, 'GAATCCC': 2, 'ACGCAGG': 2, 'TGCGATG': 4, 'CGCGAAT': 4, 'GAATACG': 2, 'GTCGTGC': 12, 'CGTACGG': 2, 'GTACGGA': 2, 'GGATTTC': 2, 'CCGTTGA': 2, 'ACACGGG': 2, 'TTGCAGC': 2, 'CTGCCCG': 7, 'GCAAACC': 2, 'CAAACCC': 2, 'AGCGGAC': 2, 'GCGGACC': 2, 'TATTGCG': 2, 'ATTGCGT': 2, 'TTGCGTG': 2, 'GCCGGTC': 8, 'CAGGGCG': 4, 'AGGGCGT': 2, 'GTTCAAT': 2, 'AATACCG': 2, 'ATACCGG': 2, 'GACAAAA': 2, 'ATCCCGG': 2, 'AACGACA': 2, 'ACCACGC': 6, 'AAGCGCC': 2, 'GTTCGAC': 6, 'TTCGACG': 6, 'GACGCCC': 6, 'CTGGACG': 5, 'TGGACGA': 2, 'GGACGAA': 2, 'AAGCGCG': 8, 'GATACAG': 2, 'GGTCAAA': 2, 'CTCATCA': 2, 'TCATCAC': 2, 'AGCCGCA': 2, 'CGCTGGA': 2, 'GCTGGAC': 2, 'ACGAATC': 3, 'CGAATCC': 5, 'ATCCGGC': 4, 'AGGACGA': 2, 'GAGCAGT': 2, 'TGCTTGC': 2, 'TCGCGTC': 9, 'CGCGTCA': 2, 'GCGTCAG': 5, 'TACGCCG': 2, 'CCGATGA': 3, 'GGCAATC': 2, 'CGAGATG': 2, 'GAGATGC': 2, 'CGACAGC': 12, 'GACAGCA': 2, 'ACAGCAG': 6, 'AGCAGGA': 2, 'CGCCATG': 4, 'GCCATGA': 4, 'CCATGAC': 2, 'GCTTCGT': 5, 'TCGTCCG': 4, 'ACGTACG': 2, 'GAATGAG': 2, 'TCTTCGC': 2, 'CAGCGAT': 2, 'GTGCCGC': 12, 'GCATCGT': 4, 'AGATCAC': 2, 'GTAGCGC': 5, 'TAGCGCG': 4, 'CGCGCTT': 5, 'AGCAGCC': 5, 'CAGCCAG': 2, 'AGCCAGT': 4, 'CGAACAG': 8, 'GAACAGC': 6, 'ATGCAAC': 2, 'TGCACCT': 2, 'GCACCTT': 2, 'TCTCGAA': 2, 'TCGAAGC': 7, 'CGGTTCA': 4, 'GGTTCAG': 4, 'GTCGGGT': 2, 'GGCCTGC': 2, 'CTGCTTC': 7, 'TATCGAA': 2, 'CGAAAAA': 2, 'ACCGTGC': 4, 'CAGCGGC': 9, 'ATCACCT': 2, 'GACGAAA': 2, 'GAAAAAC': 2, 'AAAAACG': 2, 'TGTCGTA': 2, 'TCGTATT': 2, 'GTTTCGG': 4, 'GCGCATA': 3, 'TCTTGCG': 2, 'ACGCTCA': 2, 'TCGCACG': 4, 'GCACGTC': 2, 'TGCGCAC': 3, 'CGAACTT': 2, 'GTCGTTG': 2, 'GCCGTAG': 2, 'AAAACGC': 2, 'CGGAGTG': 2, 'GACGCAT': 4, 'CTGCGCA': 4, 'CGATGAT': 4, 'ATGACGA': 2, 'GACGAAT': 3, 'ACGAATG': 2, 'AATGCGA': 2, 'ACGGACG': 4, 'GGACGAT': 2, 'TGCGGTC': 8, 'GTCGCCA': 4, 'CCATCAT': 4, 'AACATAT': 2, 'GAACTTG': 4, 'AGCAGCA': 5, 'CAGCACC': 6, 'GTCGAGA': 6, 'AGCCGTA': 3, 'GCCGTAT': 2, 'AGCGCCA': 3, 'CAGCCGG': 7, 'GCGTCGA': 11, 'CGAGATA': 2, 'TTCAGCA': 2, 'AACAGCA': 2, 'CACCTGC': 2, 'AGCGTCG': 12, 'GCACCAG': 2, 'ATACAGC': 2, 'AGCCCGG': 2, 'GACCATC': 4, 'ACCATCA': 4, 'GCCGCAG': 9, 'ACCAGAA': 2, 'CATCCCG': 2, 'GTAGATC': 2, 'TAGATCA': 2, 'TCACCGA': 2, 'TTTCGGT': 2, 'TTCGGTA': 2, 'GCCCGGT': 2, 'AGATGCC': 2, 'GATGCCC': 2, 'CATCAGC': 6, 'ATCAGCG': 10, 'AAGAATC': 2, 'GCAGCGG': 7, 'GATGAAG': 2, 'ATGAAGC': 2, 'AATCAGC': 2, 'CATGATC': 4, 'TTTCCCA': 2, 'GACCGCA': 2, 'ACCGCAA': 2, 'CCGCAAC': 6, 'CGCAACC': 2, 'TCGACAT': 4, 'ATCTTCG': 4, 'CGTATTC': 2, 'GTATTCG': 2, 'TATTCGT': 2, 'ATTCGTG': 2, 'TGCTGAT': 9, 'CTACCTG': 2, 'TACCTGA': 2, 'CCGCCGT': 7, 'TCGTGGC': 6, 'CGTGGCT': 2, 'GGCTACC': 2, 'GCTACCT': 2, 'AACCTGG': 2, 'GTGCTGT': 3, 'AGGTCGC': 10, 'GGCGAAG': 2, 'ACCTGCA': 2, 'CCTGCAG': 4, 'CTGCAGC': 4, 'CGAGGAA': 4, 'GAGGAAA': 2, 'GACGGCT': 4, 'ACGGCTA': 2, 'CGTCGAA': 6, 'ATATGCG': 2, 'TATGCGC': 2, 'ACTACGT': 2, 'CTACGTG': 2, 'CGCAGCC': 6, 'GCAGCCC': 5, 'CAGCCCG': 7, 'ACGCACC': 2, 'GCCGCCC': 8, 'CGAATCG': 6, 'CTATACG': 2, 'TATACGC': 2, 'GCGTGGC': 8, 'ACGCCGC': 9, 'GCCTGAA': 2, 'ATCTCGC': 2, 'ATGATCG': 5, 'GCGTTTC': 2, 'GCAGTAC': 2, 'ACGGTGC': 2, 'GATGACC': 2, 'ATGACCG': 2, 'CCGTGCC': 8, 'TCGTGGT': 2, 'GGTCCTG': 2, 'TCCTGCC': 4, 'CACGCGG': 7, 'ACGCGGG': 4, 'GCGGGCA': 3, 'CGGGCAC': 2, 'TCGCCGT': 3, 'GTCGAAC': 4, 'GCCATGC': 4, 'TGCCCGG': 8, 'CCGCGTC': 9, 'CGGATAG': 2, 'GGATAGC': 2, 'GATAGCC': 3, 'CGTGGAC': 2, 'CATCACC': 2, 'CATGCGC': 4, 'ATGCGCC': 4, 'CTTCGTC': 5, 'CGTCGCT': 4, 'TCGCTGC': 2, 'CGCGCCA': 14, 'GCGCCAG': 11, 'CGCCAGA': 2, 'GCCAGAT': 2, 'CCAGATC': 4, 'AGATCCC': 2, 'GATCCCA': 2, 'TCCCAGT': 2, 'CCAGTCG': 2, 'CAGTCGA': 3, 'AGTCGAG': 2, 'TCGAGCC': 9, 'AGCTCGT': 2, 'GCTCGTT': 2, 'CTCGTTG': 2, 'TCGTTGT': 2, 'GTTGTCC': 3, 'TTGTCCT': 2, 'TGGCAGT': 2, 'AGTACGC': 2, 'GCGTTGT': 4, 'GTTGTTG': 2, 'TTGCCGT': 2, 'CGAACTC': 5, 'GAACTCG': 4, 'GCGGTGA': 9, 'TGAACAG': 3, 'ACAGCGT': 6, 'ACGCGTG': 2, 'TCGCTCG': 4, 'GCCCCAG': 4, 'CCCCAGT': 2, 'AGTTCGC': 2, 'GTTGTCG': 7, 'CGCGGTT': 5, 'CGGTTGT': 2, 'GGTTGTC': 4, 'TCCTCGC': 6, 'GGCTTCG': 4, 'TTGGTCG': 2, 'GGTCGAA': 2, 'GAAGCGA': 2, 'GCGTGAA': 6, 'CGTGAAG': 4, 'AAGCCGT': 2, 'AGCCGTC': 2, 'CGGTGAT': 2, 'CCCAGGT': 2, 'GGTTGAA': 2, 'GTTGAAC': 2, 'ACAGGTC': 2, 'CCGAGCC': 6, 'CGAGCCC': 8, 'AGCCCGC': 5, 'CGCAAGG': 4, 'CGAGCTC': 2, 'GCCCGGG': 2, 'CCCGGGT': 2, 'CCGGGTC': 4, 'CGGGTCG': 7, 'CCGCACG': 2, 'CACGGTG': 4, 'GAAAGCG': 6, 'AAAGCGG': 2, 'GTTCCAC': 2, 'TTCCACT': 2, 'GCGAAAC': 4, 'CGGGTGG': 3, 'CCGAGCT': 4, 'TGATAGC': 2, 'ATAGCCG': 4, 'CAGCTTG': 3, 'AGCTTGC': 2, 'AACGCGT': 3, 'AAACCCG': 2, 'GGATCGA': 2, 'GTGCTCC': 2, 'GTCGAAG': 6, 'CCCAGTA': 4, 'CCAGTAG': 2, 'TGCACGA': 4, 'CGGATGC': 3, 'ATGCGAC': 2, 'TGCGACA': 4, 'GACAGGT': 2, 'AGCGTGT': 5, 'ACATGAA': 2, 'ATCAGCC': 4, 'GCGCCAC': 4, 'CACGACA': 2, 'TCGTTGC': 2, 'CGCATGC': 4, 'GCATGCA': 2, 'CATGCAG': 4, 'ATGCAGC': 4, 'CAGCTGG': 2, 'ATGCGCA': 5, 'AGATACG': 2, 'GATACGC': 2, 'ATACGCG': 2, 'AGAACGC': 2, 'CCGTGTC': 2, 'GCGGTTC': 5, 'GCAGGAA': 4, 'GGCAGCA': 7, 'AGCAGCT': 3, 'AGCAGGT': 2, 'ATCGATG': 4, 'GCCGGAT': 9, 'GGCGCAA': 2, 'CGCCGGT': 3, 'AGTCGAA': 4, 'ACGCTTC': 2, 'GTCGCGT': 7, 'CAGGTCC': 3, 'AGCCGAA': 2, 'GCAGCTT': 2, 'GCCGTCC': 2, 'CGTACAC': 2, 'GTACACG': 2, 'GCGTTGG': 2, 'TGGGCAG': 2, 'GGGCAGG': 3, 'GGCAGGT': 2, 'GCAGGTC': 4, 'GCGCAAG': 4, 'GAAGTTG': 2, 'GTCCCAG': 2, 'GGGTGGG': 2, 'CGGGCGT': 4, 'TCAGCCA': 2, 'TTCGGCC': 2, 'CGGCCCA': 2, 'GGCCCAC': 2, 'GCCCACA': 2, 'AGGTGCG': 2, 'ACGAGCC': 6, 'AGCCGCT': 2, 'CGTGCAC': 2, 'GTGCACG': 2, 'TCGTGCA': 2, 'CGGTGAC': 8, 'AGAAAGC': 2, 'GCGCAAC': 8, 'ACTACGC': 3, 'GAGCGAG': 2, 'AGCGAGC': 2, 'GAGCGCA': 4, 'AGCGCAA': 2, 'CAAGGTG': 2, 'GGTGTTC': 4, 'GCCAGAA': 2, 'CAGAACC': 2, 'GAACCAG': 2, 'CAGTTCC': 4, 'GCCGAAT': 2, 'CCGAATC': 2, 'GAGCTGG': 7, 'GCTGGAG': 2, 'CTGGAGG': 2, 'GCGCCTG': 3, 'CCTGCGA': 4, 'AGAAGAT': 2, 'AAGATCG': 2, 'CAACATG': 2, 'GGGAAGC': 2, 'AGCGGCC': 2, 'TTGCCTG': 2, 'CTGCAGA': 2, 'GCAGACG': 2, 'CAGACGC': 2, 'TTCGGTT': 2, 'TCGGTTT': 2, 'CGGTTTC': 2, 'GGTTTCG': 2, 'TACGACG': 3, 'ACGTGGA': 2, 'TCCGCGA': 4, 'CGAAACG': 3, 'AACGCGC': 2, 'CGCCTGT': 2, 'ACCAGGT': 2, 'GATTTCC': 2, 'ATTTCCA': 2, 'ATGATCC': 2, 'TGATCCT': 4, 'ATCCTCG': 6, 'GGGCATG': 2, 'GGCATGT': 2, 'CATGTGG': 2, 'CCGAGCA': 4, 'ACGTGCT': 4, 'CCTCTCC': 2, 'CCATGAA': 2, 'CATGAAG': 2, 'GAAGATG': 2, 'AAGATGC': 2, 'GATGCTC': 3, 'TCGTACC': 2, 'CGTACCC': 2, 'GTACCCG': 2, 'TACCCGA': 2, 'CCCGATC': 2, 'ACATCGC': 3, 'GGCATCT': 2, 'TCTCGGG': 2, 'TCAACGG': 3, 'AACGGCA': 2, 'ACGGCAG': 2, 'CGACAAG': 2, 'GCATTCC': 2, 'TTCCGAA': 3, 'CCGAAGC': 4, 'ACGGACC': 2, 'GGACCTG': 2, 'TCCGGCC': 9, 'CCGTACC': 2, 'CTGACGG': 5, 'GCACCTG': 2, 'CACCTGA': 2, 'CGTCGAT': 5, 'CGATTGC': 2, 'GATTGCC': 2, 'TCCATCA': 2, 'AAGCACC': 2, 'TCCTTCG': 2, 'CCTTCGA': 4, 'GGCCATA': 2, 'GCCATAC': 2, 'CCATACG': 2, 'ACTCGGG': 3, 'CGCCCGT': 6, 'GGCAACT': 2, 'CTCTGGA': 2, 'TCTGGAC': 2, 'GCGACCC': 3, 'CGACCCC': 2, 'CCATCCG': 4, 'GCCACTG': 2, 'GTGGCAC': 2, 'TTCCTGC': 6, 'TCGAACA': 7, 'CGAACAT': 5, 'GACGGTC': 6, 'GTCACCC': 2, 'CACCCGC': 5, 'ACCCGCA': 4, 'CCCGCAG': 2, 'TGTGGGC': 2, 'GTGGGCC': 2, 'AGTTCCT': 2, 'GCCCGCT': 4, 'CCCGCTG': 4, 'TGCAGCG': 6, 'ATCCTCA': 2, 'TCCTCAG': 2, 'CCTCAGC': 2, 'CTCAGCG': 2, 'GTGCAGA': 2, 'GCTGGTG': 5, 'TGTTCGT': 2, 'CGTCACC': 2, 'GCTGCAC': 6, 'GCACGAA': 2, 'AACGAGC': 2, 'TGGCCAT': 2, 'GCCATCC': 2, 'CATCCGC': 2, 'AGGACAT': 2, 'GGACATC': 2, 'ACATCGT': 2, 'CTGAGCC': 2, 'TGAGCCA': 2, 'CGACCGA': 2, 'GCGCTTT': 3, 'CGCTCAC': 2, 'GCTCACC': 2, 'ACCTTCA': 2, 'CCTTCAA': 2, 'ACGGCCA': 2, 'CTACGAC': 3, 'TACGACC': 2, 'GATGCAG': 4, 'ATGCAGG': 4, 'TCCGGGC': 2, 'CTCGTGG': 3, 'TGGTGCA': 2, 'ACGGCCC': 4, 'CCGCTGA': 6, 'ATGCTGC': 2, 'AACTGCG': 3, 'ACTGCGC': 2, 'CTGCGCC': 2, 'GGCAAGA': 2, 'GCTTCGA': 3, 'GTTCAAG': 2, 'TTCAAGG': 2, 'TCAAGGC': 2, 'CCGTTCA': 2, 'GTGAACG': 3, 'TGAACGG': 2, 'CAAGCTC': 2, 'AAGCTCG': 2, 'CTCGAAG': 4, 'TCGAAGG': 2, 'GTGGGCG': 3, 'GCCCGCA': 6, 'CCCGCAA': 3, 'CCATGCA': 2, 'GGCCAGC': 3, 'CGTTCCG': 2, 'GTTCCGA': 2, 'AGCTCGC': 2, 'GCTCGCA': 2, 'CGTTCTG': 2, 'GTTCTGC': 4, 'GACCTCG': 5, 'CCTCGGC': 4, 'GCGTACG': 2, 'CGTACGA': 2, 'ACGATCA': 2, 'CCCGCGG': 5, 'CAACCGG': 2, 'GGAAAGC': 2, 'GAAAGCC': 2, 'AAAGCCT': 2, 'GTGCTGG': 2, 'GCTGGGC': 2, 'GCGAACT': 2, 'AACTCGT': 2, 'ACTCGTG': 2, 'TGCAGAA': 2, 'GCAGAAC': 2, 'CCTGTCG': 2, 'CTGTCGT': 2, 'CGTTCGA': 4, 'TTCGATG': 4, 'TCTGCGA': 2, 'GGGCTAT': 2, 'GGCCCGT': 2, 'CCCGTAC': 2, 'CTGATCC': 5, 'GGCATTC': 2, 'TCACGGG': 2, 'CACGGGC': 2, 'ACGGGCA': 2, 'AGACGAG': 2, 'CAAGGCC': 2, 'AAGGCCG': 3, 'AACTCGA': 2, 'TACGCGT': 2, 'ACGCGTA': 3, 'CGCGTAC': 2, 'GGCTCGC': 4, 'CGCAACG': 5, 'TGATGCT': 4, 'GACTGCA': 2, 'CGAATGG': 2, 'AAAGCGT': 2, 'CGACCCG': 3, 'GACCCGC': 2, 'CAACTGC': 5, 'AGCGCTT': 5, 'TCGACTC': 2, 'CGACTCG': 2, 'ACTCGCC': 2, 'CTGCGGG': 4, 'GCACCGA': 2, 'CTCGCCC': 4, 'TCGCCCC': 2, 'GCCCCGA': 2, 'GAGCGCT': 4, 'CTTTGCG': 2, 'CGGTCAG': 2, 'AGCACCT': 2, 'GCCGTTG': 11, 'ACGCGCA': 2, 'TCCACCC': 2, 'GGCCGAA': 5, 'TACGCGG': 4, 'CCTGGTA': 2, 'TCCTGCG': 2, 'AGCCCGT': 5, 'CGGATCA': 8, 'GGATCAG': 5, 'GATCAGT': 2, 'CAGTTTC': 2, 'TTCGATA': 2, 'CGATACC': 5, 'ATGGGCG': 2, 'AACGTAA': 2, 'CGTAATC': 2, 'GTAATCG': 2, 'TTCTTCA': 2, 'TGCTGAC': 4, 'TGACCGC': 4, 'GACCGCT': 2, 'CCTCCAT': 2, 'CATCACA': 2, 'TGGCGGG': 5, 'ACGTCCT': 2, 'GTTCGCA': 2, 'GCATCAT': 4, 'CATCATC': 8, 'ATCATCG': 2, 'TCATCGG': 2, 'TGCTGGC': 2, 'CGCTTCC': 2, 'CGATGGC': 2, 'ATGGAGA': 2, 'TGGAGAA': 2, 'GACTGGT': 2, 'ACTGGTC': 2, 'GTCATGA': 4, 'GTTCGTT': 2, 'TTCGTTC': 2, 'AGCGCTC': 2, 'TGGAGCG': 2, 'GGAGCGC': 2, 'CGTCATC': 2, 'GTCATCA': 2, 'TCATCAA': 2, 'CATCAAT': 2, 'GGATCAC': 6, 'TGATGAT': 2, 'GATGATG': 4, 'ATGCTGA': 2, 'GAGGACC': 2, 'AGGACCG': 2, 'TGCGTGG': 2, 'CCGGAAT': 2, 'GATGGAG': 2, 'ACGCCTC': 4, 'GGGCGTC': 4, 'ATTCGCC': 12, 'TTCGCCA': 10, 'CGCCATT': 10, 'GCCATTC': 10, 'CCATTCG': 10, 'GCGCTCC': 2, 'CTCCATC': 2, 'TGGCGGC': 4, 'CCACGCC': 3, 'TACGGCG': 2, 'AACCGGC': 2, 'GGCGTCA': 2, 'TCCAGCG': 2, 'GGCTGAA': 3, 'GCTGAAG': 3, 'CTGAAGC': 3, 'GCGGTGG': 4, 'CGGTGGA': 2, 'CAGGAAC': 3, 'ACACGAG': 2, 'ACGTGCC': 6, 'CGTGCCC': 7, 'GTGCCCC': 2, 'TGCCCCA': 2, 'CCAGAAC': 2, 'CAGAACA': 2, 'GAACACC': 2, 'GAATGAA': 2, 'CACCGGG': 2, 'TCGCTTC': 2, 'GGAACGG': 4, 'ACGGATC': 3, 'GTGGATC': 4, 'TCTGGCC': 2, 'ATCAGGA': 3, 'TCAGGAT': 2, 'CAGGATC': 3, 'AGGATCA': 3, 'ACCAGCG': 2, 'GCATTGA': 2, 'GGCTGCC': 7, 'GCTGCCC': 5, 'AGCCGAG': 2, 'CACCATC': 2, 'TCACCAT': 2, 'CGGAGAT': 2, 'GGAGATC': 2, 'TCACGAG': 2, 'CCAGCAT': 2, 'GCATGAT': 2, 'GATCGGG': 6, 'ATCGGGA': 2, 'TCGGGAA': 2, 'GAGCGGC': 5, 'AGCGGCA': 6, 'CAGCATC': 5, 'CTTCGTG': 2, 'CCTTGCC': 2, 'CTTGCCG': 7, 'TTGCCGG': 7, 'TGCCGGA': 2, 'TTCCTCG': 4, 'CCTCGAT': 3, 'CTTCCTC': 2, 'TAGCCGC': 2, 'TCGGCAG': 6, 'CGATCGG': 6, 'ATCGGCT': 2, 'ACACGTC': 2, 'CACGTCC': 2, 'CTGCAGG': 2, 'AGGCCGT': 2, 'CCGTCGG': 5, 'CGATGTC': 4, 'GAGCGTC': 2, 'GACCTTG': 2, 'GCCCGTT': 4, 'CCCGTTC': 2, 'CCCGAGC': 3, 'TACCGCG': 2, 'GCAGTTG': 2, 'GCGGTCC': 2, 'GGATCGG': 4, 'TCGGGGC': 2, 'GCTTCGC': 5, 'TCACGAT': 2, 'TCGCGAA': 2, 'GACGGAT': 2, 'CCTTCTG': 2, 'CTTCTGC': 3, 'CGAGCCA': 6, 'TCTTCAC': 3, 'CTTCACG': 5, 'TTCACGA': 2, 'CATGCCG': 4, 'TGCCGAG': 4, 'GTCGTAG': 2, 'CGTAGAT': 2, 'CATCTTC': 2, 'ACGACCC': 2, 'GGTGACC': 2, 'TCGTAGC': 2, 'TCACGAC': 4, 'ACGCGCC': 6, 'GCTCCGC': 3, 'CTCCGCG': 5, 'TCCGCGT': 5, 'CGTCTCG': 2, 'GTCTCGC': 2, 'GCAACTG': 3, 'CAAAAAC': 2, 'CTCATGC': 2, 'TCATGCC': 2, 'CGATCTT': 2, 'CTTGCGG': 2, 'TGCGGTG': 5, 'CACACCG': 3, 'ACCGACA': 2, 'AGTTCGA': 2, 'GTTCGAT': 7, 'GATGCCT': 2, 'CAAGCAC': 2, 'CACGTGC': 4, 'TGCTGGT': 2, 'GCTGGTA': 3, 'GACGCTG': 4, 'ACGCTGT': 3, 'TGCCGTC': 3, 'AGACGTT': 3, 'ATCTCCT': 2, 'TCCTGGC': 2, 'GGGTCGT': 2, 'GGTCGTG': 3, 'GAAGCGT': 2, 'AAGCGTG': 2, 'CGTGTCC': 3, 'TCCGCAC': 2, 'TATCGGC': 2, 'GATGTCA': 2, 'TGTCATG': 2, 'CATGACC': 2, 'ACCATGT': 2, 'CCCGTGC': 2, 'CATGTGC': 3, 'TGTGCCG': 2, 'CCGCTGG': 2, 'TCTCCGC': 2, 'CCTCGTC': 2, 'GCCGATT': 2, 'TACACCG': 2, 'ACACCGG': 3, 'ACCGGAC': 2, 'GGTGGGG': 2, 'GTGTCCT': 2, 'CTTCATC': 4, 'CCACCGA': 2, 'GTGCCCG': 6, 'GCTCAGC': 2, 'GGCGACA': 5, 'CAGCCGA': 3, 'AGCCGAC': 2, 'GCCTGAT': 2, 'GGGCCGT': 5, 'GTCGTGT': 3, 'CGCTGAC': 4, 'CTGACGC': 2, 'TGACGCT': 5, 'ACGCTGG': 3, 'CCACGTC': 3, 'TCATCGC': 2, 'CCGGTGT': 2, 'CGGTGTC': 4, 'GTGCTGA': 3, 'CCGGCTG': 3, 'CATCGCA': 2, 'ATGTGCG': 2, 'GTGCGCA': 2, 'TTCCGTG': 2, 'TGCGGCT': 4, 'CGATGGG': 2, 'TGGTGGC': 3, 'GGTGGCC': 2, 'GCGTGGT': 4, 'CGTGGTC': 2, 'GAGACGT': 2, 'ACGTTCG': 3, 'CGTTCGG': 7, 'TTCGGCT': 2, 'TCGGCTG': 2, 'CACGTTC': 4, 'GTTCCTG': 2, 'TATCGCC': 2, 'CCAGGGC': 2, 'GGTCGCT': 2, 'GTCGCTC': 4, 'GCAAGCC': 2, 'CTGGTGG': 2, 'GGTGGCG': 3, 'TGGCGTT': 2, 'CGTCGTA': 4, 'TCGTACA': 2, 'ACATCGA': 2, 'TTTCGTC': 2, 'TCGTCCA': 4, 'CGTCCAG': 4, 'TCCAGAG': 2, 'ATCACGT': 2, 'ATCCTGT': 2, 'TCCTGTT': 2, 'CCTGTTC': 2, 'TCTGCTT': 2, 'CAACCGC': 2, 'AACCGCA': 2, 'CTATCCG': 3, 'GGACGAC': 4, 'ACGACTT': 2, 'GACTTCC': 2, 'ACTTCCT': 2, 'GGATGCC': 4, 'TTCCCGT': 4, 'CGCTGAA': 4, 'GTGGGGC': 6, 'TGGGGCG': 3, 'CTTCGGG': 2, 'GGGCTGG': 2, 'GGCATGG': 3, 'GCATGGG': 3, 'AGCTGGC': 2, 'GGACCGA': 2, 'TGTCGAT': 2, 'TTCTCCG': 2, 'GTACAAC': 2, 'CGTCGGG': 8, 'GTCGGGA': 2, 'TCGGGAT': 2, 'CGGGATC': 2, 'GGGATCG': 2, 'ATCGGCA': 2, 'CATATCG': 2, 'CCGTGGA': 3, 'CGTGGAT': 2, 'TGGATCG': 2, 'GCACGTT': 2, 'CGGTGGC': 5, 'GTGGCTG': 2, 'GGCAGGC': 2, 'CGTCCGG': 3, 'GTCCGGC': 6, 'CATGGGG': 2, 'ATGGGGC': 2, 'CCACGGC': 4, 'CGCGGGT': 2, 'ACCGAGT': 2, 'CCGAGTA': 2, 'ACCTGAC': 2, 'GAGGAAC': 3, 'GCCATCT': 2, 'GGCCGGT': 5, 'GCCGGTG': 10, 'ATGCGGC': 2, 'GGCAAAC': 2, 'AAACGCT': 2, 'GCTTGCT': 2, 'ATGGAAC': 2, 'TGGAACG': 2, 'CGTTTCG': 2, 'TTCGATC': 4, 'TCAGCCC': 4, 'GAACCAT': 3, 'CATTCGA': 2, 'ATTCGAT': 2, 'GAAGCGG': 2, 'AAGCGGT': 2, 'TCTTCGT': 2, 'ACCGCGT': 3, 'CGACGCA': 5, 'ACGCATT': 2, 'CGCATTC': 4, 'AGCCGAT': 2, 'ATGCGTT': 2, 'TTGTTGA': 2, 'CGGCGTA': 2, 'CGAGTTG': 2, 'AACCGCT': 2, 'CACGCCT': 2, 'CCCGCAT': 2, 'CCGCATT': 3, 'GCATTGT': 2, 'TCGAGGC': 4, 'TCGATAC': 2, 'GGCCTTC': 5, 'CGGTCAC': 4, 'GGAGACG': 2, 'GATGGCC': 2, 'CCGGAGC': 2, 'TTCGTGA': 2, 'TTCTCCA': 3, 'GATGTTT': 2, 'TCGAATC': 2, 'TGTGGTC': 2, 'CAATGGC': 2, 'AATGGCG': 2, 'TTTCGGG': 2, 'GGTTCTC': 2, 'GCGCCCA': 2, 'CGCCCAC': 4, 'GCGCCTC': 2, 'AGGTGGT': 2, 'GGTGGTG': 2, 'GTGGTGA': 2, 'ACCCGGA': 2, 'GGCTGTT': 2, 'CCCGCGA': 3, 'AGCCGGT': 4, 'CCGGTGG': 4, 'ATCACGG': 2, 'TCACGGC': 2, 'CCGATCC': 2, 'CGGCTGT': 2, 'CGACAAC': 4, 'TCGGGCC': 3, 'GGCCGTT': 2, 'CCGTTGC': 5, 'CCGATGT': 2, 'CGATGTG': 2, 'GATGTGG': 2, 'TGTGGAT': 2, 'GATCCGG': 2, 'GCTGGGT': 2, 'GGTGAGC': 2, 'GTGAGCC': 2, 'CAAGGAC': 2, 'CGTGCCT': 2, 'TGGATGT': 2, 'GACGGAC': 2, 'GAGGTGG': 2, 'GCGGGGG': 2, 'CGGGGGT': 2, 'CTGGGGC': 2, 'CTCGTCC': 2, 'ACGTCTA': 2, 'CGTCTAT': 2, 'GTCTATC': 2, 'GTGGCGA': 2, 'ACCTGCG': 2, 'TGCGAAC': 2, 'CGAACCA': 2, 'TATCCGG': 2, 'GCATTCG': 2, 'CCGATAT': 2, 'CCCGATG': 2, 'ACCATCC': 2, 'CGTCCGA': 2, 'GGACGGT': 2, 'CGTCAAG': 2, 'CCTGCGT': 2, 'CGTGGTT': 2, 'GTGGTTC': 2, 'AACGGCT': 2, 'ATCGCCC': 5, 'ACGGCAT': 2, 'TTGTAGC': 2, 'CGCCCCT': 2, 'GCCCCTT': 2, 'CCCCTTC': 2, 'TCGAGAA': 2, 'TCGAAAG': 2, 'CGAAAGG': 2, 'GCTGACC': 4, 'CCCGTTA': 2, 'ACGTCCC': 2, 'TCCCGTT': 2, 'CTTCCAG': 2, 'GATCTGG': 2, 'GGTCACG': 5, 'GTCACGT': 4, 'CGAGGTC': 2, 'CTTCCCG': 2, 'CCGTAGC': 2, 'GTGACCG': 2, 'AGGTGCC': 2, 'TCCGTTC': 2, 'CGTTGCA': 2, 'CGTGTGG': 2, 'GTGTGGG': 3, 'TGTGGGG': 3, 'GGCGCCA': 2, 'GCGCCAA': 2, 'TATGCGG': 2, 'GCGGTCT': 2, 'TCGGCTC': 2, 'GCCAGTT': 5, 'CCAGTTC': 3, 'TCCGACG': 2, 'GACCGTG': 2, 'CCGGCTC': 3, 'TCAGTTC': 2, 'CTACGTC': 2, 'TACGTCG': 3, 'CGCCAGT': 2, 'ATTTCGT': 2, 'GCGAACA': 2, 'CGTGGGG': 2, 'TGGGGCT': 2, 'GGGGCTT': 2, 'GCTTGCC': 2, 'GGGCGGT': 2, 'AACCGCG': 2, 'CCAGGTG': 2, 'AATGCGG': 2, 'CGGTGAA': 2, 'GAAGTAC': 2, 'ACGTGAG': 2, 'CGGCGGA': 4, 'CGGATTG': 2, 'TGTCGTT': 3, 'GCAACGT': 2, 'CCCGGCA': 2, 'GCTGTCC': 2, 'ACGATGT': 2, 'CGCAATT': 2, 'ATTTCTC': 2, 'GCAGGCT': 2, 'GTTCCGC': 3, 'TCTTCGG': 2, 'CATGGTG': 2, 'ATGGTGT': 2, 'TGGTGTC': 2, 'GACCTAT': 2, 'ACCTATG': 2, 'GCGGTCA': 2, 'AGCTCGG': 2, 'CCAGTAC': 2, 'AGTACCA': 2, 'GTACCAG': 2, 'ACCAGCA': 3, 'CCAGCAG': 2, 'ACGTTGA': 2, 'TATTCGC': 2, 'TGTCGAA': 2, 'CGGCCTT': 3, 'ACGACAG': 2, 'TGCGTAT': 2, 'GTATGGC': 2, 'GGGGCGG': 2, 'TCCGGCT': 2, 'GGTCCGG': 2, 'GCCCGTG': 2, 'TTTTCCG': 2, 'TCCGCCG': 2, 'AGAACCG': 2, 'GAACCGA': 2, 'CAACGCC': 2, 'AGCTGGT': 2, 'GCTGGTT': 2, 'CTGGTTG': 2, 'GTTGCGG': 3, 'AGCACGT': 2, 'CGTAGTC': 2, 'GTAGTCG': 2, 'CCGGTTG': 2, 'CTGGTAC': 2, 'GGTACGC': 3, 'GCGCCCT': 2, 'CGCCCTG': 3, 'TGTACGT': 2, 'TCGAGGT': 2, 'GGTTCGC': 3, 'GATCGTA': 2, 'ATCGTAG': 2, 'CGAGCAT': 2, 'AGCATCA': 2, 'CTGGTGC': 2, 'TGGTGCC': 2, 'GGTGCCA': 2, 'GTGCCAG': 2, 'TATAGGC': 2, 'ATAGGCG': 2, 'GAGCCAG': 2, 'GAAGAAA': 2, 'TACTGGC': 3, 'CGTTGAC': 2, 'CCTCGAA': 2, 'TCGAAGT': 2, 'GAATTTC': 2, 'TTCCACG': 2, 'TCCACGC': 2, 'CTGGTTC': 2, 'TGGTTCG': 2, 'GGCCGCT': 2, 'CCGTTGT': 2, 'TGGCCTT': 2, 'GCCTTCA': 2, 'AGGTACG': 2, 'GGCGGAG': 2, 'CCCGCCT': 2, 'TAGACGC': 3, 'AGACGCG': 2, 'CGGTTCC': 2, 'GGTTCCG': 2, 'GAAGCCC': 2, 'AGCCCCC': 2, 'CCTGGTT': 2, 'TCGCCCT': 2, 'GCCCTTG': 2, 'TTGAAGC': 2, 'GGAGGGC': 2, 'GAGGGCG': 2, 'ACACGTA': 2, 'TTGACGC': 3, 'GTCGTAC': 3, 'CGGGTGC': 2, 'CCAGTTG': 3, 'AGCGTGG': 2, 'GTACTGG': 2, 'AACCGGT': 2, 'GAATCGA': 2, 'AATCGAG': 2, 'ATCGAGG': 2, 'AGGCCGA': 2, 'ATCCGCG': 2, 'AGCCGTT': 2, 'CGCTCTG': 2, 'ATCCCGC': 2, 'AGATCCT': 2, 'TCCTCGG': 2, 'TTTCAGC': 2, 'CCATCTG': 2, 'TCTGGTA': 2, 'GTACAGC': 2, 'TACAGCG': 2, 'GTCACGG': 2, 'TCACGGT': 2, 'GCTTTGC': 2, 'GTCAGGC': 2, 'CGATACG': 2, 'GGTGCGG': 3, 'GTGCAGC': 3, 'TTACGAA': 2, 'TACGAAG': 2, 'CGAAGAA': 2, 'TACAGCA': 2, 'TCGTTTT': 2, 'TTGCGGT': 2, 'GAAGAAC': 2, 'ACGTATA': 2, 'CGTATAG': 2, 'TGAAACG': 2, 'TCGAACC': 2, 'CAATGGT': 2, 'AATGGTC': 2, 'TCGGGTA': 2, 'TCAGCGG': 2, 'GTAATGG': 2, 'AATGGCC': 2, 'CACCAGC': 2, 'GTGCGTC': 3, 'GGTAGTA': 2, 'GTAGTAC': 2, 'TCCACAG': 2, 'GACCCAG': 2, 'ACCCAGT': 2, 'GCAGCAA': 2, 'GCAATGG': 2, 'TGTCTTC': 2, 'GTCTTCC': 2, 'TCTTCCT': 2, 'ATTGCGA': 2, 'ACAGGCG': 2, 'AAGCCCG': 2, 'AAGTCGG': 2, 'AGTCGGC': 2, 'ACCACCT': 2, 'CCCGCAC': 2, 'TCGGCCT': 2, 'CGGATGG': 2, 'TAGCCGT': 2, 'TGACCAC': 2, 'GCGCCAT': 2, 'CACGTAG': 2, 'CGCACAG': 2, 'GCACAGG': 2, 'CAGGATG': 2, 'CGCCCCA': 2, 'CGTTGCG': 2, 'ATCGTTT': 2, 'TTTCCTC': 2, 'GTAGACG': 2, 'CGCTTTT': 2, 'GTCTCTC': 2}\n",
      "\n",
      "\n",
      "Most frequent repeat: CGCGCCG: 59\n"
     ]
    }
   ],
   "source": [
    "def find_repeat(seq, n):\n",
    "    repeats = {}\n",
    "    for i in range(len(seq)):\n",
    "        frame = seq[i:i+n]\n",
    "        if frame in repeats:\n",
    "            repeats[frame] += 1\n",
    "        else:\n",
    "            repeats[frame] = 1\n",
    "    final_repeat = {k:v for k, v in repeats.items() if v > 1}\n",
    "    return final_repeat\n",
    "\n",
    "old_repeats = {}\n",
    "for id, seq in seqs.items():\n",
    "    repeats = find_repeat(seq, 7)\n",
    "    new_repeats = {**repeats, **old_repeats}\n",
    "    for key, val in new_repeats.items():\n",
    "        if key in repeats and key in old_repeats:\n",
    "            new_repeats[key] = val + repeats[key]\n",
    "    old_repeats = new_repeats\n",
    "    \n",
    "\n",
    "\n",
    "print(\"All repeats in the file: \\n\\n\")\n",
    "print(new_repeats)\n",
    "    \n",
    "max_rep_len = max(new_repeats.values())\n",
    "for rep, freq in new_repeats.items():\n",
    "    if freq == max_rep_len :\n",
    "        print(\"\\n\\nMost frequent repeat: \" + rep + \": \" + str(freq))\n",
    "        "
   ]
  },
  {
   "cell_type": "code",
   "execution_count": 9,
   "id": "b3c01ea6",
   "metadata": {
    "execution": {
     "iopub.execute_input": "2025-03-08T14:30:52.090497Z",
     "iopub.status.busy": "2025-03-08T14:30:52.088643Z",
     "iopub.status.idle": "2025-03-08T14:30:52.097284Z",
     "shell.execute_reply": "2025-03-08T14:30:52.095283Z"
    },
    "papermill": {
     "duration": 0.021625,
     "end_time": "2025-03-08T14:30:52.101959",
     "exception": false,
     "start_time": "2025-03-08T14:30:52.080334",
     "status": "completed"
    },
    "tags": []
   },
   "outputs": [
    {
     "name": "stdout",
     "output_type": "stream",
     "text": [
      "396\n"
     ]
    }
   ],
   "source": [
    "print(len(\"ATGGATCCTGCCGCTCGTCGAGGATACGGGCGCCGACGCGGTCGAGCTGAACTTCGGTTGTCCGCACGGGATGAGCGAGCGCGGGATGGGCGCGGCGGTCGGGCAGGTGCCCGAATATGTGGAGATGGTCACGCGCTGGGTGAAGGAAGGCACGAAGCTGCCGTGCCTCGTGAAGCTCACGCCGAACATCAGCGACATCCGGATGGGGTCGCGCGCCGCGTACAAGGGCGGCGCGGACGGCGTGTCGCTGATCAACACGATCAACTCGATCGTCGCGGTCGATCTCGACCATATGGCGCCGATGCCGACGGTCGACGGCAAGGGCACGCACGGCGGCTATTGCGGCCCGGCGGTCAAGCCGATCGCATTGAACATGGTCGCGGAGATCGCACGTGA\"))\n"
   ]
  },
  {
   "cell_type": "code",
   "execution_count": null,
   "id": "97d045ef",
   "metadata": {
    "papermill": {
     "duration": 0.00713,
     "end_time": "2025-03-08T14:30:52.115950",
     "exception": false,
     "start_time": "2025-03-08T14:30:52.108820",
     "status": "completed"
    },
    "tags": []
   },
   "outputs": [],
   "source": [
    "\n"
   ]
  }
 ],
 "metadata": {
  "kaggle": {
   "accelerator": "none",
   "dataSources": [
    {
     "datasetId": 3102139,
     "sourceId": 5342392,
     "sourceType": "datasetVersion"
    },
    {
     "datasetId": 3105511,
     "sourceId": 5348732,
     "sourceType": "datasetVersion"
    }
   ],
   "dockerImageVersionId": 30458,
   "isGpuEnabled": false,
   "isInternetEnabled": false,
   "language": "python",
   "sourceType": "notebook"
  },
  "kernelspec": {
   "display_name": "Python 3",
   "language": "python",
   "name": "python3"
  },
  "language_info": {
   "codemirror_mode": {
    "name": "ipython",
    "version": 3
   },
   "file_extension": ".py",
   "mimetype": "text/x-python",
   "name": "python",
   "nbconvert_exporter": "python",
   "pygments_lexer": "ipython3",
   "version": "3.7.12"
  },
  "papermill": {
   "default_parameters": {},
   "duration": 13.576119,
   "end_time": "2025-03-08T14:30:53.051269",
   "environment_variables": {},
   "exception": null,
   "input_path": "__notebook__.ipynb",
   "output_path": "__notebook__.ipynb",
   "parameters": {},
   "start_time": "2025-03-08T14:30:39.475150",
   "version": "2.4.0"
  }
 },
 "nbformat": 4,
 "nbformat_minor": 5
}
